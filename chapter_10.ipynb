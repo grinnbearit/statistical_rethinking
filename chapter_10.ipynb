{
 "cells": [
  {
   "cell_type": "markdown",
   "metadata": {},
   "source": [
    "# Counting and Classification"
   ]
  },
  {
   "cell_type": "code",
   "execution_count": 1,
   "metadata": {},
   "outputs": [],
   "source": [
    "import warnings\n",
    "warnings.filterwarnings(\"ignore\")"
   ]
  },
  {
   "cell_type": "code",
   "execution_count": 2,
   "metadata": {},
   "outputs": [],
   "source": [
    "import theano\n",
    "import numpy as np\n",
    "import pymc3 as pm\n",
    "import pandas as pd\n",
    "import seaborn as sns\n",
    "import scipy.stats as stats\n",
    "from scipy.special import expit\n",
    "import matplotlib.pyplot as plt\n",
    "%matplotlib inline"
   ]
  },
  {
   "cell_type": "code",
   "execution_count": 3,
   "metadata": {},
   "outputs": [],
   "source": [
    "sns.set()"
   ]
  },
  {
   "cell_type": "markdown",
   "metadata": {},
   "source": [
    "## Binomial Regression"
   ]
  },
  {
   "cell_type": "markdown",
   "metadata": {},
   "source": [
    "### 10.1"
   ]
  },
  {
   "cell_type": "code",
   "execution_count": 4,
   "metadata": {},
   "outputs": [],
   "source": [
    "d = pd.read_csv(\"data/chimpanzees.csv\", delimiter=\";\")"
   ]
  },
  {
   "cell_type": "markdown",
   "metadata": {},
   "source": [
    "### 10.2"
   ]
  },
  {
   "cell_type": "code",
   "execution_count": 5,
   "metadata": {},
   "outputs": [],
   "source": [
    "shared_prosoc_left = theano.shared(d[\"prosoc_left\"].values)\n",
    "shared_condition = theano.shared(d[\"condition\"].values)"
   ]
  },
  {
   "cell_type": "code",
   "execution_count": 6,
   "metadata": {},
   "outputs": [
    {
     "name": "stderr",
     "output_type": "stream",
     "text": [
      "Auto-assigning NUTS sampler...\n",
      "Initializing NUTS using jitter+adapt_diag...\n",
      "Multiprocess sampling (4 chains in 4 jobs)\n",
      "NUTS: [a]\n",
      "Sampling 4 chains: 100%|██████████| 8000/8000 [00:01<00:00, 5471.55draws/s]\n"
     ]
    },
    {
     "data": {
      "text/html": [
       "<div>\n",
       "<style scoped>\n",
       "    .dataframe tbody tr th:only-of-type {\n",
       "        vertical-align: middle;\n",
       "    }\n",
       "\n",
       "    .dataframe tbody tr th {\n",
       "        vertical-align: top;\n",
       "    }\n",
       "\n",
       "    .dataframe thead th {\n",
       "        text-align: right;\n",
       "    }\n",
       "</style>\n",
       "<table border=\"1\" class=\"dataframe\">\n",
       "  <thead>\n",
       "    <tr style=\"text-align: right;\">\n",
       "      <th></th>\n",
       "      <th>mean</th>\n",
       "      <th>sd</th>\n",
       "      <th>mc_error</th>\n",
       "      <th>hpd_5.5</th>\n",
       "      <th>hpd_94.5</th>\n",
       "      <th>n_eff</th>\n",
       "      <th>Rhat</th>\n",
       "    </tr>\n",
       "  </thead>\n",
       "  <tbody>\n",
       "    <tr>\n",
       "      <th>a</th>\n",
       "      <td>0.32</td>\n",
       "      <td>0.09</td>\n",
       "      <td>0.0</td>\n",
       "      <td>0.18</td>\n",
       "      <td>0.46</td>\n",
       "      <td>1814.45</td>\n",
       "      <td>1.0</td>\n",
       "    </tr>\n",
       "  </tbody>\n",
       "</table>\n",
       "</div>"
      ],
      "text/plain": [
       "   mean    sd  mc_error  hpd_5.5  hpd_94.5    n_eff  Rhat\n",
       "a  0.32  0.09       0.0     0.18      0.46  1814.45   1.0"
      ]
     },
     "execution_count": 6,
     "metadata": {},
     "output_type": "execute_result"
    }
   ],
   "source": [
    "with pm.Model() as m10_1:\n",
    "    a = pm.Normal(\"a\", 0, 10)\n",
    "    p = pm.math.invlogit(a + 0*shared_prosoc_left) # for shared value sampling\n",
    "    pulled_left = pm.Binomial(\"pulled_left\", 1, p, observed=d[\"pulled_left\"])\n",
    "    trace10_1 = pm.sample(1000, tune=1000)\n",
    "\n",
    "(pm.summary(trace10_1, alpha=0.11)\n",
    " .round(2))"
   ]
  },
  {
   "cell_type": "markdown",
   "metadata": {},
   "source": [
    "### 10.3"
   ]
  },
  {
   "cell_type": "code",
   "execution_count": 7,
   "metadata": {},
   "outputs": [
    {
     "data": {
      "text/plain": [
       "array([0.54487889, 0.61301418])"
      ]
     },
     "execution_count": 7,
     "metadata": {},
     "output_type": "execute_result"
    }
   ],
   "source": [
    "expit([0.18, 0.46])"
   ]
  },
  {
   "cell_type": "markdown",
   "metadata": {},
   "source": [
    "### 10.4"
   ]
  },
  {
   "cell_type": "code",
   "execution_count": 8,
   "metadata": {},
   "outputs": [
    {
     "name": "stderr",
     "output_type": "stream",
     "text": [
      "Auto-assigning NUTS sampler...\n",
      "Initializing NUTS using jitter+adapt_diag...\n",
      "Multiprocess sampling (4 chains in 4 jobs)\n",
      "NUTS: [bp, a]\n",
      "Sampling 4 chains: 100%|██████████| 8000/8000 [00:02<00:00, 3610.26draws/s]\n",
      "Auto-assigning NUTS sampler...\n",
      "Initializing NUTS using jitter+adapt_diag...\n",
      "Multiprocess sampling (4 chains in 4 jobs)\n",
      "NUTS: [bpC, bp, a]\n",
      "Sampling 4 chains: 100%|██████████| 8000/8000 [00:03<00:00, 2647.65draws/s]\n"
     ]
    }
   ],
   "source": [
    "with pm.Model() as m10_2:\n",
    "    a = pm.Normal(\"a\", 0, 10)\n",
    "    bp = pm.Normal(\"bp\", 0, 10)\n",
    "    p = pm.math.invlogit(a + bp*shared_prosoc_left)\n",
    "    pulled_left = pm.Binomial(\"pulled_left\", 1, p, observed=d[\"pulled_left\"])\n",
    "    trace10_2 = pm.sample(1000, tune=1000)\n",
    "    \n",
    "with pm.Model() as m10_3:\n",
    "    a = pm.Normal(\"a\", 0, 10)\n",
    "    bp = pm.Normal(\"bp\", 0, 10)\n",
    "    bpC = pm.Normal(\"bpC\", 0, 10)\n",
    "    p = pm.math.invlogit(a + (bp + bpC*shared_condition)*shared_prosoc_left)\n",
    "    pulled_left = pm.Binomial(\"pulled_left\", 1, p, observed=d[\"pulled_left\"])\n",
    "    trace10_3 = pm.sample(1000, tune=1000)"
   ]
  },
  {
   "cell_type": "markdown",
   "metadata": {},
   "source": [
    "### 10.5"
   ]
  },
  {
   "cell_type": "code",
   "execution_count": 9,
   "metadata": {},
   "outputs": [],
   "source": [
    "models = pd.DataFrame([[m10_1, trace10_1],\n",
    "                       [m10_2, trace10_2],\n",
    "                       [m10_3, trace10_3]],\n",
    "                      columns=[\"model\", \"trace\"],\n",
    "                      index=[\"m10_1\", \"m10_2\", \"m10_3\"])"
   ]
  },
  {
   "cell_type": "code",
   "execution_count": 10,
   "metadata": {},
   "outputs": [
    {
     "data": {
      "text/html": [
       "<div>\n",
       "<style scoped>\n",
       "    .dataframe tbody tr th:only-of-type {\n",
       "        vertical-align: middle;\n",
       "    }\n",
       "\n",
       "    .dataframe tbody tr th {\n",
       "        vertical-align: top;\n",
       "    }\n",
       "\n",
       "    .dataframe thead th {\n",
       "        text-align: right;\n",
       "    }\n",
       "</style>\n",
       "<table border=\"1\" class=\"dataframe\">\n",
       "  <thead>\n",
       "    <tr style=\"text-align: right;\">\n",
       "      <th></th>\n",
       "      <th>WAIC</th>\n",
       "      <th>pWAIC</th>\n",
       "      <th>dWAIC</th>\n",
       "      <th>weight</th>\n",
       "      <th>SE</th>\n",
       "      <th>dSE</th>\n",
       "      <th>var_warn</th>\n",
       "    </tr>\n",
       "    <tr>\n",
       "      <th>name</th>\n",
       "      <th></th>\n",
       "      <th></th>\n",
       "      <th></th>\n",
       "      <th></th>\n",
       "      <th></th>\n",
       "      <th></th>\n",
       "      <th></th>\n",
       "    </tr>\n",
       "  </thead>\n",
       "  <tbody>\n",
       "    <tr>\n",
       "      <th>m10_2</th>\n",
       "      <td>680.43</td>\n",
       "      <td>1.97</td>\n",
       "      <td>0</td>\n",
       "      <td>0.73</td>\n",
       "      <td>9.34</td>\n",
       "      <td>0</td>\n",
       "      <td>0</td>\n",
       "    </tr>\n",
       "    <tr>\n",
       "      <th>m10_3</th>\n",
       "      <td>682.5</td>\n",
       "      <td>3.08</td>\n",
       "      <td>2.07</td>\n",
       "      <td>0.26</td>\n",
       "      <td>9.41</td>\n",
       "      <td>0.82</td>\n",
       "      <td>0</td>\n",
       "    </tr>\n",
       "    <tr>\n",
       "      <th>m10_1</th>\n",
       "      <td>687.94</td>\n",
       "      <td>1</td>\n",
       "      <td>7.51</td>\n",
       "      <td>0.02</td>\n",
       "      <td>7.15</td>\n",
       "      <td>6.16</td>\n",
       "      <td>0</td>\n",
       "    </tr>\n",
       "  </tbody>\n",
       "</table>\n",
       "</div>"
      ],
      "text/plain": [
       "         WAIC pWAIC dWAIC weight    SE   dSE var_warn\n",
       "name                                                 \n",
       "m10_2  680.43  1.97     0   0.73  9.34     0        0\n",
       "m10_3   682.5  3.08  2.07   0.26  9.41  0.82        0\n",
       "m10_1  687.94     1  7.51   0.02  7.15  6.16        0"
      ]
     },
     "execution_count": 10,
     "metadata": {},
     "output_type": "execute_result"
    }
   ],
   "source": [
    "model_comparison = (pm.compare(dict(zip(models[\"model\"], models[\"trace\"])),\n",
    "                               method='pseudo-BMA')\n",
    "                    .join(pd.Series(models.index, name=\"name\"))\n",
    "                    .set_index(\"name\")\n",
    "                    .sort_values(\"WAIC\"))\n",
    "model_comparison"
   ]
  },
  {
   "cell_type": "markdown",
   "metadata": {},
   "source": [
    "### 10.6"
   ]
  },
  {
   "cell_type": "code",
   "execution_count": 11,
   "metadata": {},
   "outputs": [
    {
     "data": {
      "text/html": [
       "<div>\n",
       "<style scoped>\n",
       "    .dataframe tbody tr th:only-of-type {\n",
       "        vertical-align: middle;\n",
       "    }\n",
       "\n",
       "    .dataframe tbody tr th {\n",
       "        vertical-align: top;\n",
       "    }\n",
       "\n",
       "    .dataframe thead th {\n",
       "        text-align: right;\n",
       "    }\n",
       "</style>\n",
       "<table border=\"1\" class=\"dataframe\">\n",
       "  <thead>\n",
       "    <tr style=\"text-align: right;\">\n",
       "      <th></th>\n",
       "      <th>mean</th>\n",
       "      <th>sd</th>\n",
       "      <th>mc_error</th>\n",
       "      <th>hpd_2.5</th>\n",
       "      <th>hpd_97.5</th>\n",
       "      <th>n_eff</th>\n",
       "      <th>Rhat</th>\n",
       "    </tr>\n",
       "  </thead>\n",
       "  <tbody>\n",
       "    <tr>\n",
       "      <th>a</th>\n",
       "      <td>0.05</td>\n",
       "      <td>0.13</td>\n",
       "      <td>0.00</td>\n",
       "      <td>-0.18</td>\n",
       "      <td>0.32</td>\n",
       "      <td>2428.62</td>\n",
       "      <td>1.0</td>\n",
       "    </tr>\n",
       "    <tr>\n",
       "      <th>bp</th>\n",
       "      <td>0.61</td>\n",
       "      <td>0.23</td>\n",
       "      <td>0.00</td>\n",
       "      <td>0.18</td>\n",
       "      <td>1.06</td>\n",
       "      <td>2166.26</td>\n",
       "      <td>1.0</td>\n",
       "    </tr>\n",
       "    <tr>\n",
       "      <th>bpC</th>\n",
       "      <td>-0.11</td>\n",
       "      <td>0.27</td>\n",
       "      <td>0.01</td>\n",
       "      <td>-0.64</td>\n",
       "      <td>0.41</td>\n",
       "      <td>1999.20</td>\n",
       "      <td>1.0</td>\n",
       "    </tr>\n",
       "  </tbody>\n",
       "</table>\n",
       "</div>"
      ],
      "text/plain": [
       "     mean    sd  mc_error  hpd_2.5  hpd_97.5    n_eff  Rhat\n",
       "a    0.05  0.13      0.00    -0.18      0.32  2428.62   1.0\n",
       "bp   0.61  0.23      0.00     0.18      1.06  2166.26   1.0\n",
       "bpC -0.11  0.27      0.01    -0.64      0.41  1999.20   1.0"
      ]
     },
     "execution_count": 11,
     "metadata": {},
     "output_type": "execute_result"
    }
   ],
   "source": [
    "(pm.summary(trace10_3)\n",
    " .round(2))"
   ]
  },
  {
   "cell_type": "markdown",
   "metadata": {},
   "source": [
    "### 10.7"
   ]
  },
  {
   "cell_type": "code",
   "execution_count": 12,
   "metadata": {},
   "outputs": [
    {
     "data": {
      "text/plain": [
       "1.8404313987816374"
      ]
     },
     "execution_count": 12,
     "metadata": {},
     "output_type": "execute_result"
    }
   ],
   "source": [
    "np.exp(0.61)"
   ]
  },
  {
   "cell_type": "markdown",
   "metadata": {},
   "source": [
    "### 10.8"
   ]
  },
  {
   "cell_type": "code",
   "execution_count": 13,
   "metadata": {},
   "outputs": [
    {
     "data": {
      "text/plain": [
       "0.9820137900379085"
      ]
     },
     "execution_count": 13,
     "metadata": {},
     "output_type": "execute_result"
    }
   ],
   "source": [
    "expit(4)"
   ]
  },
  {
   "cell_type": "markdown",
   "metadata": {},
   "source": [
    "### 10.9"
   ]
  },
  {
   "cell_type": "code",
   "execution_count": 14,
   "metadata": {},
   "outputs": [
    {
     "data": {
      "text/plain": [
       "0.9901462444767687"
      ]
     },
     "execution_count": 14,
     "metadata": {},
     "output_type": "execute_result"
    }
   ],
   "source": [
    "expit(4 + 0.61)"
   ]
  },
  {
   "cell_type": "markdown",
   "metadata": {},
   "source": [
    "### 10.10"
   ]
  },
  {
   "cell_type": "code",
   "execution_count": 15,
   "metadata": {},
   "outputs": [
    {
     "name": "stderr",
     "output_type": "stream",
     "text": [
      "100%|██████████| 200/200 [00:00<00:00, 259.75it/s]\n",
      "100%|██████████| 7300/7300 [00:04<00:00, 1621.36it/s]\n",
      "100%|██████████| 2600/2600 [00:02<00:00, 1257.47it/s]\n"
     ]
    }
   ],
   "source": [
    "# dummy data for predictions across treatments\n",
    "shared_prosoc_left.set_value([0, 1, 0, 1])\n",
    "shared_condition.set_value([0, 0, 1, 1])\n",
    "\n",
    "# build prediction ensemble\n",
    "num_samples = 10000\n",
    "acc = []\n",
    "for (_, item) in models.join(model_comparison).iterrows():\n",
    "    pred = pm.sample_ppc(item[\"trace\"], \n",
    "                         samples=int(np.round(item[\"weight\"]*num_samples)),\n",
    "                         model=item[\"model\"],\n",
    "                         vars=[item[\"model\"][\"pulled_left\"]])\n",
    "    acc.append(pred[\"pulled_left\"])\n",
    "wp = np.vstack(acc)\n",
    "wp_groups = np.reshape(wp[:num_samples], (100, 100, 4)).mean(0)\n",
    "\n",
    "# summarize\n",
    "wp_mean = wp_groups.mean(0)\n",
    "wp_pi = pm.hpd(wp_groups, alpha=0.11)"
   ]
  },
  {
   "cell_type": "markdown",
   "metadata": {},
   "source": [
    "### 10.11"
   ]
  },
  {
   "cell_type": "code",
   "execution_count": 16,
   "metadata": {},
   "outputs": [
    {
     "data": {
      "image/png": "[encoded data removed]",
      "text/plain": [
       "<Figure size 972x648 with 1 Axes>"
      ]
     },
     "metadata": {},
     "output_type": "display_data"
    }
   ],
   "source": [
    "f, ax = plt.subplots(1, 1)\n",
    "f.set_size_inches(13.5, 9)\n",
    "\n",
    "p = (d.groupby([\"actor\", \"prosoc_left\", \"condition\"])\n",
    "     [\"pulled_left\"]\n",
    "     .mean())\n",
    "\n",
    "ax.plot(range(4), wp_mean)\n",
    "ax.fill_between(range(4), wp_pi[:,0], wp_pi[:,1], alpha=0.25);\n",
    "\n",
    "for i in range(1, 8):\n",
    "    ax.plot(range(4), [p[i, 0, 0], p[i, 1, 0], p[i, 0, 1], p[i, 1, 1]],\n",
    "            color=\"C1\", alpha=0.5)\n",
    "\n",
    "ax.set_ylim(0, 1.1)\n",
    "ax.set_xticks(range(4))\n",
    "ax.set_xticklabels([\"0/0\", \"1/0\", \"0/1\", \"1/1\"])\n",
    "ax.set_xlabel(\"prosoc_left/condition\")\n",
    "ax.set_ylabel(\"proportion pulled left\");"
   ]
  },
  {
   "cell_type": "markdown",
   "metadata": {},
   "source": [
    "### 10.12 - 10.13"
   ]
  },
  {
   "cell_type": "markdown",
   "metadata": {},
   "source": [
    "These don't apply since I'm already using MCMC"
   ]
  },
  {
   "cell_type": "markdown",
   "metadata": {},
   "source": [
    "### 10.14"
   ]
  },
  {
   "cell_type": "code",
   "execution_count": 17,
   "metadata": {},
   "outputs": [],
   "source": [
    "shared_actor = theano.shared(d[\"actor\"].values)"
   ]
  },
  {
   "cell_type": "code",
   "execution_count": 18,
   "metadata": {},
   "outputs": [],
   "source": [
    "shared_condition.set_value(d[\"condition\"].values)\n",
    "shared_prosoc_left.set_value(d[\"prosoc_left\"].values)"
   ]
  },
  {
   "cell_type": "code",
   "execution_count": 19,
   "metadata": {},
   "outputs": [
    {
     "name": "stderr",
     "output_type": "stream",
     "text": [
      "Auto-assigning NUTS sampler...\n",
      "Initializing NUTS using jitter+adapt_diag...\n",
      "Multiprocess sampling (4 chains in 4 jobs)\n",
      "NUTS: [bpC, bp, a]\n",
      "Sampling 4 chains: 100%|██████████| 8000/8000 [00:04<00:00, 1616.24draws/s]\n",
      "There were 14 divergences after tuning. Increase `target_accept` or reparameterize.\n",
      "There were 10 divergences after tuning. Increase `target_accept` or reparameterize.\n",
      "There were 3 divergences after tuning. Increase `target_accept` or reparameterize.\n",
      "There were 4 divergences after tuning. Increase `target_accept` or reparameterize.\n"
     ]
    }
   ],
   "source": [
    "with pm.Model() as m10_4:\n",
    "    a = pm.Normal(\"a\", 0, 10, shape=len(d[\"actor\"].unique()))\n",
    "    bp = pm.Normal(\"bp\", 0, 10)\n",
    "    bpC = pm.Normal(\"bpC\", 0, 10)\n",
    "    p = pm.math.invlogit(a[shared_actor - 1] + (bp + bpC * shared_condition)*shared_prosoc_left)\n",
    "    pulled_left = pm.Binomial(\"pulled_left\", 1, p, observed=d[\"pulled_left\"])\n",
    "    trace10_4 = pm.sample(1000, tune=1000)"
   ]
  },
  {
   "cell_type": "markdown",
   "metadata": {},
   "source": [
    "### 10.15"
   ]
  },
  {
   "cell_type": "code",
   "execution_count": 20,
   "metadata": {},
   "outputs": [
    {
     "data": {
      "text/plain": [
       "array([1, 2, 3, 4, 5, 6, 7])"
      ]
     },
     "execution_count": 20,
     "metadata": {},
     "output_type": "execute_result"
    }
   ],
   "source": [
    "d[\"actor\"].unique()"
   ]
  },
  {
   "cell_type": "markdown",
   "metadata": {},
   "source": [
    "### 10.16"
   ]
  },
  {
   "cell_type": "code",
   "execution_count": 21,
   "metadata": {},
   "outputs": [
    {
     "data": {
      "text/html": [
       "<div>\n",
       "<style scoped>\n",
       "    .dataframe tbody tr th:only-of-type {\n",
       "        vertical-align: middle;\n",
       "    }\n",
       "\n",
       "    .dataframe tbody tr th {\n",
       "        vertical-align: top;\n",
       "    }\n",
       "\n",
       "    .dataframe thead th {\n",
       "        text-align: right;\n",
       "    }\n",
       "</style>\n",
       "<table border=\"1\" class=\"dataframe\">\n",
       "  <thead>\n",
       "    <tr style=\"text-align: right;\">\n",
       "      <th></th>\n",
       "      <th>mean</th>\n",
       "      <th>sd</th>\n",
       "      <th>mc_error</th>\n",
       "      <th>hpd_5.5</th>\n",
       "      <th>hpd_94.5</th>\n",
       "      <th>n_eff</th>\n",
       "      <th>Rhat</th>\n",
       "    </tr>\n",
       "  </thead>\n",
       "  <tbody>\n",
       "    <tr>\n",
       "      <th>a__0</th>\n",
       "      <td>-0.74</td>\n",
       "      <td>0.27</td>\n",
       "      <td>0.01</td>\n",
       "      <td>-1.16</td>\n",
       "      <td>-0.30</td>\n",
       "      <td>2767.56</td>\n",
       "      <td>1.0</td>\n",
       "    </tr>\n",
       "    <tr>\n",
       "      <th>a__1</th>\n",
       "      <td>10.85</td>\n",
       "      <td>5.34</td>\n",
       "      <td>0.15</td>\n",
       "      <td>3.77</td>\n",
       "      <td>18.64</td>\n",
       "      <td>1478.63</td>\n",
       "      <td>1.0</td>\n",
       "    </tr>\n",
       "    <tr>\n",
       "      <th>a__2</th>\n",
       "      <td>-1.05</td>\n",
       "      <td>0.28</td>\n",
       "      <td>0.01</td>\n",
       "      <td>-1.52</td>\n",
       "      <td>-0.62</td>\n",
       "      <td>2246.92</td>\n",
       "      <td>1.0</td>\n",
       "    </tr>\n",
       "    <tr>\n",
       "      <th>a__3</th>\n",
       "      <td>-1.06</td>\n",
       "      <td>0.29</td>\n",
       "      <td>0.01</td>\n",
       "      <td>-1.53</td>\n",
       "      <td>-0.62</td>\n",
       "      <td>2489.22</td>\n",
       "      <td>1.0</td>\n",
       "    </tr>\n",
       "    <tr>\n",
       "      <th>a__4</th>\n",
       "      <td>-0.75</td>\n",
       "      <td>0.27</td>\n",
       "      <td>0.01</td>\n",
       "      <td>-1.16</td>\n",
       "      <td>-0.30</td>\n",
       "      <td>2584.68</td>\n",
       "      <td>1.0</td>\n",
       "    </tr>\n",
       "    <tr>\n",
       "      <th>a__5</th>\n",
       "      <td>0.22</td>\n",
       "      <td>0.28</td>\n",
       "      <td>0.01</td>\n",
       "      <td>-0.22</td>\n",
       "      <td>0.66</td>\n",
       "      <td>2451.27</td>\n",
       "      <td>1.0</td>\n",
       "    </tr>\n",
       "    <tr>\n",
       "      <th>a__6</th>\n",
       "      <td>1.81</td>\n",
       "      <td>0.42</td>\n",
       "      <td>0.01</td>\n",
       "      <td>1.17</td>\n",
       "      <td>2.48</td>\n",
       "      <td>2703.53</td>\n",
       "      <td>1.0</td>\n",
       "    </tr>\n",
       "    <tr>\n",
       "      <th>bp</th>\n",
       "      <td>0.84</td>\n",
       "      <td>0.27</td>\n",
       "      <td>0.01</td>\n",
       "      <td>0.44</td>\n",
       "      <td>1.29</td>\n",
       "      <td>1635.69</td>\n",
       "      <td>1.0</td>\n",
       "    </tr>\n",
       "    <tr>\n",
       "      <th>bpC</th>\n",
       "      <td>-0.13</td>\n",
       "      <td>0.29</td>\n",
       "      <td>0.00</td>\n",
       "      <td>-0.61</td>\n",
       "      <td>0.31</td>\n",
       "      <td>2976.83</td>\n",
       "      <td>1.0</td>\n",
       "    </tr>\n",
       "  </tbody>\n",
       "</table>\n",
       "</div>"
      ],
      "text/plain": [
       "       mean    sd  mc_error  hpd_5.5  hpd_94.5    n_eff  Rhat\n",
       "a__0  -0.74  0.27      0.01    -1.16     -0.30  2767.56   1.0\n",
       "a__1  10.85  5.34      0.15     3.77     18.64  1478.63   1.0\n",
       "a__2  -1.05  0.28      0.01    -1.52     -0.62  2246.92   1.0\n",
       "a__3  -1.06  0.29      0.01    -1.53     -0.62  2489.22   1.0\n",
       "a__4  -0.75  0.27      0.01    -1.16     -0.30  2584.68   1.0\n",
       "a__5   0.22  0.28      0.01    -0.22      0.66  2451.27   1.0\n",
       "a__6   1.81  0.42      0.01     1.17      2.48  2703.53   1.0\n",
       "bp     0.84  0.27      0.01     0.44      1.29  1635.69   1.0\n",
       "bpC   -0.13  0.29      0.00    -0.61      0.31  2976.83   1.0"
      ]
     },
     "execution_count": 21,
     "metadata": {},
     "output_type": "execute_result"
    }
   ],
   "source": [
    "(pm.summary(trace10_4, alpha=0.11)\n",
    " .round(2))"
   ]
  },
  {
   "cell_type": "markdown",
   "metadata": {},
   "source": [
    "### 10.17"
   ]
  },
  {
   "cell_type": "code",
   "execution_count": 22,
   "metadata": {},
   "outputs": [
    {
     "data": {
      "text/html": [
       "<div>\n",
       "<style scoped>\n",
       "    .dataframe tbody tr th:only-of-type {\n",
       "        vertical-align: middle;\n",
       "    }\n",
       "\n",
       "    .dataframe tbody tr th {\n",
       "        vertical-align: top;\n",
       "    }\n",
       "\n",
       "    .dataframe thead th {\n",
       "        text-align: right;\n",
       "    }\n",
       "</style>\n",
       "<table border=\"1\" class=\"dataframe\">\n",
       "  <thead>\n",
       "    <tr style=\"text-align: right;\">\n",
       "      <th></th>\n",
       "      <th>a__0</th>\n",
       "      <th>a__1</th>\n",
       "      <th>a__2</th>\n",
       "      <th>a__3</th>\n",
       "      <th>a__4</th>\n",
       "      <th>a__5</th>\n",
       "      <th>a__6</th>\n",
       "      <th>bp</th>\n",
       "      <th>bpC</th>\n",
       "    </tr>\n",
       "  </thead>\n",
       "  <tbody>\n",
       "    <tr>\n",
       "      <th>0</th>\n",
       "      <td>-0.729433</td>\n",
       "      <td>7.220535</td>\n",
       "      <td>-0.716755</td>\n",
       "      <td>-1.295691</td>\n",
       "      <td>-1.208059</td>\n",
       "      <td>0.069147</td>\n",
       "      <td>2.093667</td>\n",
       "      <td>0.826060</td>\n",
       "      <td>-0.024236</td>\n",
       "    </tr>\n",
       "    <tr>\n",
       "      <th>1</th>\n",
       "      <td>-0.677134</td>\n",
       "      <td>4.737594</td>\n",
       "      <td>-0.970011</td>\n",
       "      <td>-1.424916</td>\n",
       "      <td>-1.123295</td>\n",
       "      <td>0.003384</td>\n",
       "      <td>2.448610</td>\n",
       "      <td>1.023017</td>\n",
       "      <td>-0.121126</td>\n",
       "    </tr>\n",
       "    <tr>\n",
       "      <th>2</th>\n",
       "      <td>-0.879583</td>\n",
       "      <td>18.812837</td>\n",
       "      <td>-1.055764</td>\n",
       "      <td>-1.331795</td>\n",
       "      <td>-1.127559</td>\n",
       "      <td>0.549005</td>\n",
       "      <td>1.420214</td>\n",
       "      <td>0.699445</td>\n",
       "      <td>0.009630</td>\n",
       "    </tr>\n",
       "    <tr>\n",
       "      <th>3</th>\n",
       "      <td>-0.786170</td>\n",
       "      <td>12.829385</td>\n",
       "      <td>-1.782561</td>\n",
       "      <td>-1.356508</td>\n",
       "      <td>-1.063614</td>\n",
       "      <td>0.501868</td>\n",
       "      <td>1.925503</td>\n",
       "      <td>1.267583</td>\n",
       "      <td>-0.023645</td>\n",
       "    </tr>\n",
       "    <tr>\n",
       "      <th>4</th>\n",
       "      <td>-0.740312</td>\n",
       "      <td>8.866140</td>\n",
       "      <td>-1.363370</td>\n",
       "      <td>-1.519641</td>\n",
       "      <td>-1.060766</td>\n",
       "      <td>0.117299</td>\n",
       "      <td>1.560245</td>\n",
       "      <td>0.989681</td>\n",
       "      <td>0.002599</td>\n",
       "    </tr>\n",
       "  </tbody>\n",
       "</table>\n",
       "</div>"
      ],
      "text/plain": [
       "       a__0       a__1      a__2      a__3      a__4      a__5      a__6  \\\n",
       "0 -0.729433   7.220535 -0.716755 -1.295691 -1.208059  0.069147  2.093667   \n",
       "1 -0.677134   4.737594 -0.970011 -1.424916 -1.123295  0.003384  2.448610   \n",
       "2 -0.879583  18.812837 -1.055764 -1.331795 -1.127559  0.549005  1.420214   \n",
       "3 -0.786170  12.829385 -1.782561 -1.356508 -1.063614  0.501868  1.925503   \n",
       "4 -0.740312   8.866140 -1.363370 -1.519641 -1.060766  0.117299  1.560245   \n",
       "\n",
       "         bp       bpC  \n",
       "0  0.826060 -0.024236  \n",
       "1  1.023017 -0.121126  \n",
       "2  0.699445  0.009630  \n",
       "3  1.267583 -0.023645  \n",
       "4  0.989681  0.002599  "
      ]
     },
     "execution_count": 22,
     "metadata": {},
     "output_type": "execute_result"
    }
   ],
   "source": [
    "post = pm.trace_to_dataframe(trace10_4)\n",
    "post.head()"
   ]
  },
  {
   "cell_type": "markdown",
   "metadata": {},
   "source": [
    "### 10.18"
   ]
  },
  {
   "cell_type": "code",
   "execution_count": 23,
   "metadata": {},
   "outputs": [
    {
     "data": {
      "image/png": "[encoded data removed]",
      "text/plain": [
       "<Figure size 972x648 with 1 Axes>"
      ]
     },
     "metadata": {},
     "output_type": "display_data"
    }
   ],
   "source": [
    "f, ax = plt.subplots(1, 1)\n",
    "f.set_size_inches(13.5, 9)\n",
    "sns.distplot(post[\"a__1\"], hist=False, ax=ax)\n",
    "ax.set_ylabel(\"density\");"
   ]
  },
  {
   "cell_type": "markdown",
   "metadata": {},
   "source": [
    "### 10.19"
   ]
  },
  {
   "cell_type": "code",
   "execution_count": 24,
   "metadata": {},
   "outputs": [],
   "source": [
    "# dummy data for predictions across treatments\n",
    "num_chimps = len(d[\"actor\"].unique())\n",
    "prosoc_left_seq = np.tile([0, 1, 0, 1], num_chimps)\n",
    "condition_seq = np.tile([0, 0, 1, 1], num_chimps)\n",
    "actor_seq = np.repeat(d[\"actor\"].unique(), 4)\n",
    "\n",
    "shared_prosoc_left.set_value(prosoc_left_seq)\n",
    "shared_condition.set_value(condition_seq)\n",
    "shared_actor.set_value(actor_seq)"
   ]
  },
  {
   "cell_type": "code",
   "execution_count": 25,
   "metadata": {},
   "outputs": [
    {
     "name": "stderr",
     "output_type": "stream",
     "text": [
      "100%|██████████| 10000/10000 [00:06<00:00, 1598.66it/s]\n"
     ]
    }
   ],
   "source": [
    "predictions = pm.sample_ppc(trace10_4, samples=10000, model=m10_4)[\"pulled_left\"]"
   ]
  },
  {
   "cell_type": "code",
   "execution_count": 26,
   "metadata": {},
   "outputs": [],
   "source": [
    "pred_p_groups = predictions.reshape(100, 100, 28).mean(0)\n",
    "pred_p = predictions.mean(0)\n",
    "pred_p_pi = pm.hpd(pred_p_groups, alpha=0.11)\n",
    "pred_df = (pd.DataFrame({\"p\": pred_p,\n",
    "                         \"lower\": pred_p_pi[:, 0],\n",
    "                         \"upper\": pred_p_pi[:, 1],\n",
    "                         \"prosoc_left\": prosoc_left_seq,\n",
    "                         \"condition\": condition_seq,\n",
    "                         \"actor\": actor_seq})\n",
    "           .set_index([\"actor\", \"prosoc_left\", \"condition\"]))"
   ]
  },
  {
   "cell_type": "code",
   "execution_count": 27,
   "metadata": {},
   "outputs": [
    {
     "data": {
      "image/png": "[encoded data removed]",
      "text/plain": [
       "<Figure size 1440x1296 with 4 Axes>"
      ]
     },
     "metadata": {},
     "output_type": "display_data"
    }
   ],
   "source": [
    "f, axs = plt.subplots(2, 2)\n",
    "f.set_size_inches(20, 18)\n",
    "\n",
    "p = (d.groupby([\"actor\", \"prosoc_left\", \"condition\"])\n",
    "     [\"pulled_left\"]\n",
    "     .mean())\n",
    "\n",
    "for (chimp, (x, y)) in zip([3, 4, 6, 7], [(x, y) for x in range(2) for y in range(2)]):\n",
    "    ax = axs[x][y]\n",
    "    ax.plot(range(4), pred_df.loc[chimp][\"p\"])\n",
    "    ax.fill_between(range(4), \n",
    "                    pred_df.loc[chimp][\"lower\"], \n",
    "                    pred_df.loc[chimp][\"upper\"], \n",
    "                    alpha=0.25)\n",
    "    ax.plot()\n",
    "    ax.plot(range(4), [p[chimp, 0, 0], p[chimp, 1, 0], p[chimp, 0, 1], p[chimp, 1, 1]], \n",
    "            color=\"C1\")\n",
    "    ax.set_ylim(0, 1.1)\n",
    "    ax.set_xticks(range(4))\n",
    "    ax.set_xticklabels([\"0/0\", \"1/0\", \"0/1\", \"1/1\"])\n",
    "    ax.set_xlabel(\"prosoc_left/condition\")\n",
    "    ax.set_ylabel(\"proportion pulled left\")\n",
    "    ax.set_title(\"Chimp {}\".format(chimp));"
   ]
  },
  {
   "cell_type": "markdown",
   "metadata": {},
   "source": [
    "### 10.20"
   ]
  },
  {
   "cell_type": "code",
   "execution_count": 28,
   "metadata": {},
   "outputs": [
    {
     "data": {
      "text/html": [
       "<div>\n",
       "<style scoped>\n",
       "    .dataframe tbody tr th:only-of-type {\n",
       "        vertical-align: middle;\n",
       "    }\n",
       "\n",
       "    .dataframe tbody tr th {\n",
       "        vertical-align: top;\n",
       "    }\n",
       "\n",
       "    .dataframe thead th {\n",
       "        text-align: right;\n",
       "    }\n",
       "</style>\n",
       "<table border=\"1\" class=\"dataframe\">\n",
       "  <thead>\n",
       "    <tr style=\"text-align: right;\">\n",
       "      <th></th>\n",
       "      <th>actor</th>\n",
       "      <th>prosoc_left</th>\n",
       "      <th>condition</th>\n",
       "      <th>pulled_left</th>\n",
       "    </tr>\n",
       "  </thead>\n",
       "  <tbody>\n",
       "    <tr>\n",
       "      <th>0</th>\n",
       "      <td>1</td>\n",
       "      <td>0</td>\n",
       "      <td>0</td>\n",
       "      <td>6</td>\n",
       "    </tr>\n",
       "    <tr>\n",
       "      <th>1</th>\n",
       "      <td>1</td>\n",
       "      <td>0</td>\n",
       "      <td>1</td>\n",
       "      <td>5</td>\n",
       "    </tr>\n",
       "    <tr>\n",
       "      <th>2</th>\n",
       "      <td>1</td>\n",
       "      <td>1</td>\n",
       "      <td>0</td>\n",
       "      <td>9</td>\n",
       "    </tr>\n",
       "    <tr>\n",
       "      <th>3</th>\n",
       "      <td>1</td>\n",
       "      <td>1</td>\n",
       "      <td>1</td>\n",
       "      <td>10</td>\n",
       "    </tr>\n",
       "    <tr>\n",
       "      <th>4</th>\n",
       "      <td>2</td>\n",
       "      <td>0</td>\n",
       "      <td>0</td>\n",
       "      <td>18</td>\n",
       "    </tr>\n",
       "    <tr>\n",
       "      <th>5</th>\n",
       "      <td>2</td>\n",
       "      <td>0</td>\n",
       "      <td>1</td>\n",
       "      <td>18</td>\n",
       "    </tr>\n",
       "    <tr>\n",
       "      <th>6</th>\n",
       "      <td>2</td>\n",
       "      <td>1</td>\n",
       "      <td>0</td>\n",
       "      <td>18</td>\n",
       "    </tr>\n",
       "    <tr>\n",
       "      <th>7</th>\n",
       "      <td>2</td>\n",
       "      <td>1</td>\n",
       "      <td>1</td>\n",
       "      <td>18</td>\n",
       "    </tr>\n",
       "  </tbody>\n",
       "</table>\n",
       "</div>"
      ],
      "text/plain": [
       "   actor  prosoc_left  condition  pulled_left\n",
       "0      1            0          0            6\n",
       "1      1            0          1            5\n",
       "2      1            1          0            9\n",
       "3      1            1          1           10\n",
       "4      2            0          0           18\n",
       "5      2            0          1           18\n",
       "6      2            1          0           18\n",
       "7      2            1          1           18"
      ]
     },
     "execution_count": 28,
     "metadata": {},
     "output_type": "execute_result"
    }
   ],
   "source": [
    "d = pd.read_csv(\"data/chimpanzees.csv\", delimiter=\";\")\n",
    "d_aggregated = (d.groupby([\"actor\", \"prosoc_left\", \"condition\"])\n",
    "                [[\"pulled_left\"]]\n",
    "                .sum()\n",
    "                .reset_index())\n",
    "d_aggregated.head(8)"
   ]
  },
  {
   "cell_type": "markdown",
   "metadata": {},
   "source": [
    "### 10.21"
   ]
  },
  {
   "cell_type": "code",
   "execution_count": 29,
   "metadata": {},
   "outputs": [
    {
     "name": "stderr",
     "output_type": "stream",
     "text": [
      "Auto-assigning NUTS sampler...\n",
      "Initializing NUTS using jitter+adapt_diag...\n",
      "Multiprocess sampling (4 chains in 4 jobs)\n",
      "NUTS: [bpC, bp, a]\n",
      "Sampling 4 chains: 100%|██████████| 8000/8000 [00:02<00:00, 3515.94draws/s]\n"
     ]
    }
   ],
   "source": [
    "with pm.Model() as m10_5:\n",
    "    a = pm.Normal(\"a\", 0, 10)\n",
    "    bp = pm.Normal(\"bp\", 0, 10)\n",
    "    bpC = pm.Normal(\"bpC\", 0, 10)\n",
    "    p = pm.math.invlogit(a + (bp + bpC*d_aggregated[\"condition\"])*d_aggregated[\"prosoc_left\"])\n",
    "    pulled_left = pm.Binomial(\"pulled_left\", 18, p, observed=d_aggregated[\"pulled_left\"])\n",
    "    trace10_5 = pm.sample(1000, tune=1000)"
   ]
  },
  {
   "cell_type": "markdown",
   "metadata": {},
   "source": [
    "### 10.22"
   ]
  },
  {
   "cell_type": "code",
   "execution_count": 30,
   "metadata": {},
   "outputs": [],
   "source": [
    "d = pd.read_csv(\"data/UCBadmit.csv\", delimiter=\";\")"
   ]
  },
  {
   "cell_type": "markdown",
   "metadata": {},
   "source": [
    "### 10.23"
   ]
  },
  {
   "cell_type": "code",
   "execution_count": 31,
   "metadata": {},
   "outputs": [
    {
     "name": "stderr",
     "output_type": "stream",
     "text": [
      "Auto-assigning NUTS sampler...\n",
      "Initializing NUTS using jitter+adapt_diag...\n",
      "Multiprocess sampling (4 chains in 4 jobs)\n",
      "NUTS: [bm, a]\n",
      "Sampling 4 chains: 100%|██████████| 8000/8000 [00:01<00:00, 4227.78draws/s]\n",
      "Auto-assigning NUTS sampler...\n",
      "Initializing NUTS using jitter+adapt_diag...\n",
      "Multiprocess sampling (4 chains in 4 jobs)\n",
      "NUTS: [a]\n",
      "Sampling 4 chains: 100%|██████████| 8000/8000 [00:01<00:00, 5642.67draws/s]\n"
     ]
    }
   ],
   "source": [
    "d[\"male\"] = np.where(d[\"applicant.gender\"] == \"male\", 1, 0)\n",
    "\n",
    "with pm.Model() as m10_6:\n",
    "    a = pm.Normal(\"a\", 0, 10)\n",
    "    bm = pm.Normal(\"bm\", 0, 10)\n",
    "    p = pm.math.invlogit(a + bm*d[\"male\"])\n",
    "    admit = pm.Binomial(\"admit\", d[\"applications\"], p, observed=d[\"admit\"])\n",
    "    trace10_6 = pm.sample(1000, tune=1000)\n",
    "\n",
    "with pm.Model() as m10_7:\n",
    "    a = pm.Normal(\"a\", 0, 10)\n",
    "    p = pm.math.invlogit(a)\n",
    "    admit = pm.Binomial(\"admit\", d[\"applications\"], p, observed=d[\"admit\"])\n",
    "    trace10_7 = pm.sample(1000, tune=1000)"
   ]
  },
  {
   "cell_type": "markdown",
   "metadata": {},
   "source": [
    "### 10.24"
   ]
  },
  {
   "cell_type": "code",
   "execution_count": 32,
   "metadata": {},
   "outputs": [],
   "source": [
    "models = pd.DataFrame([[m10_6, trace10_6],\n",
    "                       [m10_7, trace10_7]],\n",
    "                      columns=[\"model\", \"trace\"],\n",
    "                      index=[\"m10_6\", \"m10_7\"])"
   ]
  },
  {
   "cell_type": "code",
   "execution_count": 33,
   "metadata": {},
   "outputs": [
    {
     "name": "stderr",
     "output_type": "stream",
     "text": [
      "/Users/sgodiwala/.local/share/virtualenvs/statistical_rethinking-WrzGHEO4/lib/python3.7/site-packages/pymc3/stats.py:218: UserWarning: For one or more samples the posterior variance of the\n",
      "        log predictive densities exceeds 0.4. This could be indication of\n",
      "        WAIC starting to fail see http://arxiv.org/abs/1507.04544 for details\n",
      "        \n",
      "  \"\"\")\n",
      "/Users/sgodiwala/.local/share/virtualenvs/statistical_rethinking-WrzGHEO4/lib/python3.7/site-packages/pymc3/stats.py:218: UserWarning: For one or more samples the posterior variance of the\n",
      "        log predictive densities exceeds 0.4. This could be indication of\n",
      "        WAIC starting to fail see http://arxiv.org/abs/1507.04544 for details\n",
      "        \n",
      "  \"\"\")\n"
     ]
    },
    {
     "data": {
      "text/html": [
       "<div>\n",
       "<style scoped>\n",
       "    .dataframe tbody tr th:only-of-type {\n",
       "        vertical-align: middle;\n",
       "    }\n",
       "\n",
       "    .dataframe tbody tr th {\n",
       "        vertical-align: top;\n",
       "    }\n",
       "\n",
       "    .dataframe thead th {\n",
       "        text-align: right;\n",
       "    }\n",
       "</style>\n",
       "<table border=\"1\" class=\"dataframe\">\n",
       "  <thead>\n",
       "    <tr style=\"text-align: right;\">\n",
       "      <th></th>\n",
       "      <th>WAIC</th>\n",
       "      <th>pWAIC</th>\n",
       "      <th>dWAIC</th>\n",
       "      <th>weight</th>\n",
       "      <th>SE</th>\n",
       "      <th>dSE</th>\n",
       "      <th>var_warn</th>\n",
       "    </tr>\n",
       "    <tr>\n",
       "      <th>name</th>\n",
       "      <th></th>\n",
       "      <th></th>\n",
       "      <th></th>\n",
       "      <th></th>\n",
       "      <th></th>\n",
       "      <th></th>\n",
       "      <th></th>\n",
       "    </tr>\n",
       "  </thead>\n",
       "  <tbody>\n",
       "    <tr>\n",
       "      <th>m10_6</th>\n",
       "      <td>988.62</td>\n",
       "      <td>112.09</td>\n",
       "      <td>0</td>\n",
       "      <td>1</td>\n",
       "      <td>309.51</td>\n",
       "      <td>0</td>\n",
       "      <td>1</td>\n",
       "    </tr>\n",
       "    <tr>\n",
       "      <th>m10_7</th>\n",
       "      <td>1042.7</td>\n",
       "      <td>80.96</td>\n",
       "      <td>54.08</td>\n",
       "      <td>0</td>\n",
       "      <td>312.43</td>\n",
       "      <td>150.31</td>\n",
       "      <td>1</td>\n",
       "    </tr>\n",
       "  </tbody>\n",
       "</table>\n",
       "</div>"
      ],
      "text/plain": [
       "         WAIC   pWAIC  dWAIC weight      SE     dSE var_warn\n",
       "name                                                        \n",
       "m10_6  988.62  112.09      0      1  309.51       0        1\n",
       "m10_7  1042.7   80.96  54.08      0  312.43  150.31        1"
      ]
     },
     "execution_count": 33,
     "metadata": {},
     "output_type": "execute_result"
    }
   ],
   "source": [
    "model_comparison = (pm.compare(dict(zip(models[\"model\"], models[\"trace\"])),\n",
    "                               method='pseudo-BMA')\n",
    "                    .join(pd.Series(models.index, name=\"name\"))\n",
    "                    .set_index(\"name\")\n",
    "                    .sort_values(\"WAIC\"))\n",
    "model_comparison"
   ]
  },
  {
   "cell_type": "markdown",
   "metadata": {},
   "source": [
    "### 10.25"
   ]
  },
  {
   "cell_type": "code",
   "execution_count": 34,
   "metadata": {},
   "outputs": [
    {
     "data": {
      "text/html": [
       "<div>\n",
       "<style scoped>\n",
       "    .dataframe tbody tr th:only-of-type {\n",
       "        vertical-align: middle;\n",
       "    }\n",
       "\n",
       "    .dataframe tbody tr th {\n",
       "        vertical-align: top;\n",
       "    }\n",
       "\n",
       "    .dataframe thead th {\n",
       "        text-align: right;\n",
       "    }\n",
       "</style>\n",
       "<table border=\"1\" class=\"dataframe\">\n",
       "  <thead>\n",
       "    <tr style=\"text-align: right;\">\n",
       "      <th></th>\n",
       "      <th>mean</th>\n",
       "      <th>sd</th>\n",
       "      <th>mc_error</th>\n",
       "      <th>hpd_5.5</th>\n",
       "      <th>hpd_94.5</th>\n",
       "      <th>n_eff</th>\n",
       "      <th>Rhat</th>\n",
       "    </tr>\n",
       "  </thead>\n",
       "  <tbody>\n",
       "    <tr>\n",
       "      <th>a</th>\n",
       "      <td>-0.83</td>\n",
       "      <td>0.05</td>\n",
       "      <td>0.0</td>\n",
       "      <td>-0.91</td>\n",
       "      <td>-0.75</td>\n",
       "      <td>1165.34</td>\n",
       "      <td>1.0</td>\n",
       "    </tr>\n",
       "    <tr>\n",
       "      <th>bm</th>\n",
       "      <td>0.61</td>\n",
       "      <td>0.06</td>\n",
       "      <td>0.0</td>\n",
       "      <td>0.51</td>\n",
       "      <td>0.71</td>\n",
       "      <td>1135.95</td>\n",
       "      <td>1.0</td>\n",
       "    </tr>\n",
       "  </tbody>\n",
       "</table>\n",
       "</div>"
      ],
      "text/plain": [
       "    mean    sd  mc_error  hpd_5.5  hpd_94.5    n_eff  Rhat\n",
       "a  -0.83  0.05       0.0    -0.91     -0.75  1165.34   1.0\n",
       "bm  0.61  0.06       0.0     0.51      0.71  1135.95   1.0"
      ]
     },
     "execution_count": 34,
     "metadata": {},
     "output_type": "execute_result"
    }
   ],
   "source": [
    "(pm.summary(trace10_6, alpha=0.11)\n",
    " .round(2))"
   ]
  },
  {
   "cell_type": "markdown",
   "metadata": {},
   "source": [
    "### 10.26"
   ]
  },
  {
   "cell_type": "code",
   "execution_count": 35,
   "metadata": {},
   "outputs": [
    {
     "data": {
      "text/plain": [
       "array([0.13233869, 0.14215695, 0.16789717])"
      ]
     },
     "execution_count": 35,
     "metadata": {},
     "output_type": "execute_result"
    }
   ],
   "source": [
    "post = pm.trace_to_dataframe(trace10_6)\n",
    "p_admit_male = expit(post[\"a\"] + post[\"bm\"])\n",
    "p_admit_female = expit(post[\"a\"])\n",
    "diff_admit = p_admit_male - p_admit_female\n",
    "np.percentile(diff_admit, [25, 50, 97.5])"
   ]
  },
  {
   "cell_type": "markdown",
   "metadata": {},
   "source": [
    "### 10.27"
   ]
  },
  {
   "cell_type": "code",
   "execution_count": 36,
   "metadata": {},
   "outputs": [
    {
     "data": {
      "image/png": "[encoded data removed]",
      "text/plain": [
       "<Figure size 972x648 with 1 Axes>"
      ]
     },
     "metadata": {},
     "output_type": "display_data"
    }
   ],
   "source": [
    "# Ignoring the Postcheck function\n",
    "\n",
    "f, ax = plt.subplots(1, 1)\n",
    "f.set_size_inches(13.5, 9)\n",
    "\n",
    "for i in range(6):\n",
    "    x = 1 + 2 * i\n",
    "    y1 = d[\"admit\"][x]/d[\"applications\"][x]\n",
    "    y2 = d[\"admit\"][x+1]/d[\"applications\"][x+1]\n",
    "    ax.plot([x, x+1], [y1, y2], '-C0o', lw=2)\n",
    "    ax.text(x + 0.25, (y1+y2)/2 + 0.05, d[\"dept\"][x])\n",
    "ax.set_ylim(0, 1);"
   ]
  },
  {
   "cell_type": "markdown",
   "metadata": {},
   "source": [
    "### 10.28"
   ]
  },
  {
   "cell_type": "code",
   "execution_count": 37,
   "metadata": {},
   "outputs": [],
   "source": [
    "d[\"dept_id\"] = pd.Categorical(d[\"dept\"]).codes"
   ]
  },
  {
   "cell_type": "code",
   "execution_count": 38,
   "metadata": {},
   "outputs": [
    {
     "name": "stderr",
     "output_type": "stream",
     "text": [
      "Auto-assigning NUTS sampler...\n",
      "Initializing NUTS using jitter+adapt_diag...\n",
      "Multiprocess sampling (4 chains in 4 jobs)\n",
      "NUTS: [a]\n",
      "Sampling 4 chains: 100%|██████████| 8000/8000 [00:01<00:00, 4124.12draws/s]\n",
      "Auto-assigning NUTS sampler...\n",
      "Initializing NUTS using jitter+adapt_diag...\n",
      "Multiprocess sampling (4 chains in 4 jobs)\n",
      "NUTS: [bm, a]\n",
      "Sampling 4 chains: 100%|██████████| 8000/8000 [00:02<00:00, 3100.18draws/s]\n"
     ]
    }
   ],
   "source": [
    "# Model with unique intercept for each department\n",
    "with pm.Model() as m10_8:\n",
    "    a = pm.Normal(\"a\", 0, 10, shape=len(d[\"dept_id\"].unique()))\n",
    "    p = pm.math.invlogit(a[d[\"dept_id\"].values])\n",
    "    admit = pm.Binomial(\"admit\", d[\"applications\"], p, observed=d[\"admit\"])\n",
    "    trace10_8 = pm.sample(1000, tune=1000)\n",
    "\n",
    "# Model with male difference as well\n",
    "with pm.Model() as m10_9:\n",
    "    a = pm.Normal(\"a\", 0, 10, shape=len(d[\"dept_id\"].unique()))\n",
    "    bm = pm.Normal(\"bm\", 0, 10)\n",
    "    p = pm.math.invlogit(a[d[\"dept_id\"].values] + bm*d[\"male\"])\n",
    "    admit = pm.Binomial(\"admit\", d[\"applications\"], p, observed=d[\"admit\"])\n",
    "    trace10_9 = pm.sample(1000, tune=1000)"
   ]
  },
  {
   "cell_type": "markdown",
   "metadata": {},
   "source": [
    "### 10.29"
   ]
  },
  {
   "cell_type": "code",
   "execution_count": 39,
   "metadata": {},
   "outputs": [],
   "source": [
    "models = pd.DataFrame([[m10_6, trace10_6],\n",
    "                       [m10_7, trace10_7],\n",
    "                       [m10_8, trace10_8],\n",
    "                       [m10_9, trace10_9]],\n",
    "                      columns=[\"model\", \"trace\"],\n",
    "                      index=[\"m10_6\", \"m10_7\", \"m10_8\", \"m10_9\"])"
   ]
  },
  {
   "cell_type": "code",
   "execution_count": 40,
   "metadata": {},
   "outputs": [
    {
     "name": "stderr",
     "output_type": "stream",
     "text": [
      "/Users/sgodiwala/.local/share/virtualenvs/statistical_rethinking-WrzGHEO4/lib/python3.7/site-packages/pymc3/stats.py:218: UserWarning: For one or more samples the posterior variance of the\n",
      "        log predictive densities exceeds 0.4. This could be indication of\n",
      "        WAIC starting to fail see http://arxiv.org/abs/1507.04544 for details\n",
      "        \n",
      "  \"\"\")\n",
      "/Users/sgodiwala/.local/share/virtualenvs/statistical_rethinking-WrzGHEO4/lib/python3.7/site-packages/pymc3/stats.py:218: UserWarning: For one or more samples the posterior variance of the\n",
      "        log predictive densities exceeds 0.4. This could be indication of\n",
      "        WAIC starting to fail see http://arxiv.org/abs/1507.04544 for details\n",
      "        \n",
      "  \"\"\")\n",
      "/Users/sgodiwala/.local/share/virtualenvs/statistical_rethinking-WrzGHEO4/lib/python3.7/site-packages/pymc3/stats.py:218: UserWarning: For one or more samples the posterior variance of the\n",
      "        log predictive densities exceeds 0.4. This could be indication of\n",
      "        WAIC starting to fail see http://arxiv.org/abs/1507.04544 for details\n",
      "        \n",
      "  \"\"\")\n",
      "/Users/sgodiwala/.local/share/virtualenvs/statistical_rethinking-WrzGHEO4/lib/python3.7/site-packages/pymc3/stats.py:218: UserWarning: For one or more samples the posterior variance of the\n",
      "        log predictive densities exceeds 0.4. This could be indication of\n",
      "        WAIC starting to fail see http://arxiv.org/abs/1507.04544 for details\n",
      "        \n",
      "  \"\"\")\n"
     ]
    },
    {
     "data": {
      "text/html": [
       "<div>\n",
       "<style scoped>\n",
       "    .dataframe tbody tr th:only-of-type {\n",
       "        vertical-align: middle;\n",
       "    }\n",
       "\n",
       "    .dataframe tbody tr th {\n",
       "        vertical-align: top;\n",
       "    }\n",
       "\n",
       "    .dataframe thead th {\n",
       "        text-align: right;\n",
       "    }\n",
       "</style>\n",
       "<table border=\"1\" class=\"dataframe\">\n",
       "  <thead>\n",
       "    <tr style=\"text-align: right;\">\n",
       "      <th></th>\n",
       "      <th>WAIC</th>\n",
       "      <th>pWAIC</th>\n",
       "      <th>dWAIC</th>\n",
       "      <th>weight</th>\n",
       "      <th>SE</th>\n",
       "      <th>dSE</th>\n",
       "      <th>var_warn</th>\n",
       "    </tr>\n",
       "    <tr>\n",
       "      <th>name</th>\n",
       "      <th></th>\n",
       "      <th></th>\n",
       "      <th></th>\n",
       "      <th></th>\n",
       "      <th></th>\n",
       "      <th></th>\n",
       "      <th></th>\n",
       "    </tr>\n",
       "  </thead>\n",
       "  <tbody>\n",
       "    <tr>\n",
       "      <th>m10_8</th>\n",
       "      <td>105.21</td>\n",
       "      <td>6.61</td>\n",
       "      <td>0</td>\n",
       "      <td>0.86</td>\n",
       "      <td>17.36</td>\n",
       "      <td>0</td>\n",
       "      <td>1</td>\n",
       "    </tr>\n",
       "    <tr>\n",
       "      <th>m10_9</th>\n",
       "      <td>108.76</td>\n",
       "      <td>9.53</td>\n",
       "      <td>3.55</td>\n",
       "      <td>0.14</td>\n",
       "      <td>15.59</td>\n",
       "      <td>3.61</td>\n",
       "      <td>1</td>\n",
       "    </tr>\n",
       "    <tr>\n",
       "      <th>m10_6</th>\n",
       "      <td>988.62</td>\n",
       "      <td>112.09</td>\n",
       "      <td>883.41</td>\n",
       "      <td>0</td>\n",
       "      <td>309.51</td>\n",
       "      <td>306.47</td>\n",
       "      <td>1</td>\n",
       "    </tr>\n",
       "    <tr>\n",
       "      <th>m10_7</th>\n",
       "      <td>1042.7</td>\n",
       "      <td>80.96</td>\n",
       "      <td>937.49</td>\n",
       "      <td>0</td>\n",
       "      <td>312.43</td>\n",
       "      <td>310.13</td>\n",
       "      <td>1</td>\n",
       "    </tr>\n",
       "  </tbody>\n",
       "</table>\n",
       "</div>"
      ],
      "text/plain": [
       "         WAIC   pWAIC   dWAIC weight      SE     dSE var_warn\n",
       "name                                                         \n",
       "m10_8  105.21    6.61       0   0.86   17.36       0        1\n",
       "m10_9  108.76    9.53    3.55   0.14   15.59    3.61        1\n",
       "m10_6  988.62  112.09  883.41      0  309.51  306.47        1\n",
       "m10_7  1042.7   80.96  937.49      0  312.43  310.13        1"
      ]
     },
     "execution_count": 40,
     "metadata": {},
     "output_type": "execute_result"
    }
   ],
   "source": [
    "model_comparison = (pm.compare(dict(zip(models[\"model\"], models[\"trace\"])),\n",
    "                               method='pseudo-BMA')\n",
    "                    .join(pd.Series(models.index, name=\"name\"))\n",
    "                    .set_index(\"name\")\n",
    "                    .sort_values(\"WAIC\"))\n",
    "model_comparison"
   ]
  },
  {
   "cell_type": "markdown",
   "metadata": {},
   "source": [
    "These numbers, and the numbers for WAIC in general look different from the book, this is possibly why \n",
    "\n",
    "> The WAIC function in rethinking detects aggregated binomial models and automatically splits them apart into 0/1 Bernoulli trials, for the pur- pose of calculating WAIC.\n",
    "\n",
    "Check the __overthinking:WAIC and aggregated binomial models__ box for more detail, "
   ]
  },
  {
   "cell_type": "markdown",
   "metadata": {},
   "source": [
    "### 10.30"
   ]
  },
  {
   "cell_type": "code",
   "execution_count": 41,
   "metadata": {},
   "outputs": [
    {
     "data": {
      "text/html": [
       "<div>\n",
       "<style scoped>\n",
       "    .dataframe tbody tr th:only-of-type {\n",
       "        vertical-align: middle;\n",
       "    }\n",
       "\n",
       "    .dataframe tbody tr th {\n",
       "        vertical-align: top;\n",
       "    }\n",
       "\n",
       "    .dataframe thead th {\n",
       "        text-align: right;\n",
       "    }\n",
       "</style>\n",
       "<table border=\"1\" class=\"dataframe\">\n",
       "  <thead>\n",
       "    <tr style=\"text-align: right;\">\n",
       "      <th></th>\n",
       "      <th>mean</th>\n",
       "      <th>sd</th>\n",
       "      <th>mc_error</th>\n",
       "      <th>hpd_2.5</th>\n",
       "      <th>hpd_97.5</th>\n",
       "      <th>n_eff</th>\n",
       "      <th>Rhat</th>\n",
       "    </tr>\n",
       "  </thead>\n",
       "  <tbody>\n",
       "    <tr>\n",
       "      <th>a__0</th>\n",
       "      <td>0.68</td>\n",
       "      <td>0.10</td>\n",
       "      <td>0.0</td>\n",
       "      <td>0.48</td>\n",
       "      <td>0.87</td>\n",
       "      <td>2641.93</td>\n",
       "      <td>1.0</td>\n",
       "    </tr>\n",
       "    <tr>\n",
       "      <th>a__1</th>\n",
       "      <td>0.64</td>\n",
       "      <td>0.12</td>\n",
       "      <td>0.0</td>\n",
       "      <td>0.42</td>\n",
       "      <td>0.86</td>\n",
       "      <td>3113.07</td>\n",
       "      <td>1.0</td>\n",
       "    </tr>\n",
       "    <tr>\n",
       "      <th>a__2</th>\n",
       "      <td>-0.58</td>\n",
       "      <td>0.07</td>\n",
       "      <td>0.0</td>\n",
       "      <td>-0.73</td>\n",
       "      <td>-0.45</td>\n",
       "      <td>4118.00</td>\n",
       "      <td>1.0</td>\n",
       "    </tr>\n",
       "    <tr>\n",
       "      <th>a__3</th>\n",
       "      <td>-0.61</td>\n",
       "      <td>0.09</td>\n",
       "      <td>0.0</td>\n",
       "      <td>-0.79</td>\n",
       "      <td>-0.44</td>\n",
       "      <td>3749.08</td>\n",
       "      <td>1.0</td>\n",
       "    </tr>\n",
       "    <tr>\n",
       "      <th>a__4</th>\n",
       "      <td>-1.06</td>\n",
       "      <td>0.10</td>\n",
       "      <td>0.0</td>\n",
       "      <td>-1.25</td>\n",
       "      <td>-0.87</td>\n",
       "      <td>5200.68</td>\n",
       "      <td>1.0</td>\n",
       "    </tr>\n",
       "    <tr>\n",
       "      <th>a__5</th>\n",
       "      <td>-2.64</td>\n",
       "      <td>0.17</td>\n",
       "      <td>0.0</td>\n",
       "      <td>-2.96</td>\n",
       "      <td>-2.32</td>\n",
       "      <td>4775.87</td>\n",
       "      <td>1.0</td>\n",
       "    </tr>\n",
       "    <tr>\n",
       "      <th>bm</th>\n",
       "      <td>-0.10</td>\n",
       "      <td>0.08</td>\n",
       "      <td>0.0</td>\n",
       "      <td>-0.25</td>\n",
       "      <td>0.06</td>\n",
       "      <td>2290.31</td>\n",
       "      <td>1.0</td>\n",
       "    </tr>\n",
       "  </tbody>\n",
       "</table>\n",
       "</div>"
      ],
      "text/plain": [
       "      mean    sd  mc_error  hpd_2.5  hpd_97.5    n_eff  Rhat\n",
       "a__0  0.68  0.10       0.0     0.48      0.87  2641.93   1.0\n",
       "a__1  0.64  0.12       0.0     0.42      0.86  3113.07   1.0\n",
       "a__2 -0.58  0.07       0.0    -0.73     -0.45  4118.00   1.0\n",
       "a__3 -0.61  0.09       0.0    -0.79     -0.44  3749.08   1.0\n",
       "a__4 -1.06  0.10       0.0    -1.25     -0.87  5200.68   1.0\n",
       "a__5 -2.64  0.17       0.0    -2.96     -2.32  4775.87   1.0\n",
       "bm   -0.10  0.08       0.0    -0.25      0.06  2290.31   1.0"
      ]
     },
     "execution_count": 41,
     "metadata": {},
     "output_type": "execute_result"
    }
   ],
   "source": [
    "(pm.summary(trace10_9)\n",
    " .round(2))"
   ]
  },
  {
   "cell_type": "markdown",
   "metadata": {},
   "source": [
    "### 10.31"
   ]
  },
  {
   "cell_type": "markdown",
   "metadata": {},
   "source": [
    "All these models are fit with MCMC"
   ]
  },
  {
   "cell_type": "markdown",
   "metadata": {},
   "source": [
    "### 10.32"
   ]
  },
  {
   "cell_type": "code",
   "execution_count": 42,
   "metadata": {},
   "outputs": [],
   "source": [
    "import statsmodels.api as sm\n",
    "from patsy import dmatrix\n",
    "\n",
    "endog = d.loc[:, [\"admit\", \"reject\"]].values\n",
    "\n",
    "m10_7glm = sm.GLM(endog, dmatrix('~ 1', data=d), family=sm.families.Binomial())\n",
    "m10_6glm = sm.GLM(endog, dmatrix('~ male', data=d), family=sm.families.Binomial())\n",
    "m10_8glm = sm.GLM(endog, dmatrix('~ dept_id', data=d), family=sm.families.Binomial())\n",
    "m10_9glm = sm.GLM(endog, dmatrix('~ male + dept_id', data=d), family=sm.families.Binomial())"
   ]
  },
  {
   "cell_type": "markdown",
   "metadata": {},
   "source": [
    "### 10.33"
   ]
  },
  {
   "cell_type": "code",
   "execution_count": 43,
   "metadata": {},
   "outputs": [],
   "source": [
    "import statsmodels.formula.api as smf\n",
    "chimpanzees = pd.read_csv(\"data/chimpanzees.csv\", delimiter=\";\")\n",
    "m10_4glm = smf.glm(\"pulled_left ~ C(actor) + prosoc_left*condition - condition\", data=chimpanzees, \n",
    "                   family=sm.families.Binomial())"
   ]
  },
  {
   "cell_type": "markdown",
   "metadata": {},
   "source": [
    "### 10.34"
   ]
  },
  {
   "cell_type": "code",
   "execution_count": 44,
   "metadata": {},
   "outputs": [
    {
     "data": {
      "text/latex": [
       "$$\n",
       "            \\begin{array}{rcl}\n",
       "            \\text{Intercept} &\\sim & \\text{Flat}()\\\\\\text{prosoc_left} &\\sim & \\text{Normal}(\\mathit{mu}=0,~\\mathit{sd}=1000.0)\\\\\\text{prosoc_left:condition} &\\sim & \\text{Normal}(\\mathit{mu}=0,~\\mathit{sd}=1000.0)\\\\\\text{y} &\\sim & \\text{Binomial}(\\mathit{n}=1,~\\mathit{p}=f(f(f(array,~f(\\text{Intercept},~\\text{prosoc_left},~\\text{prosoc_left:condition})),~f())))\n",
       "            \\end{array}\n",
       "            $$"
      ],
      "text/plain": [
       "<pymc3.glm.linear.GLM at 0x12e5154a8>"
      ]
     },
     "execution_count": 44,
     "metadata": {},
     "output_type": "execute_result"
    }
   ],
   "source": [
    "pm.GLM.from_formula(\"pulled_left ~ prosoc_left*condition - condition\", data=chimpanzees,\n",
    "                    family=\"binomial\")"
   ]
  },
  {
   "cell_type": "markdown",
   "metadata": {},
   "source": [
    "### 10.35"
   ]
  },
  {
   "cell_type": "code",
   "execution_count": 45,
   "metadata": {},
   "outputs": [
    {
     "data": {
      "text/html": [
       "<table class=\"simpletable\">\n",
       "<caption>Generalized Linear Model Regression Results</caption>\n",
       "<tr>\n",
       "  <th>Dep. Variable:</th>          <td>y</td>        <th>  No. Observations:  </th>  <td>    20</td>  \n",
       "</tr>\n",
       "<tr>\n",
       "  <th>Model:</th>                 <td>GLM</td>       <th>  Df Residuals:      </th>  <td>    18</td>  \n",
       "</tr>\n",
       "<tr>\n",
       "  <th>Model Family:</th>       <td>Binomial</td>     <th>  Df Model:          </th>  <td>     1</td>  \n",
       "</tr>\n",
       "<tr>\n",
       "  <th>Link Function:</th>        <td>logit</td>      <th>  Scale:             </th> <td>  1.0000</td> \n",
       "</tr>\n",
       "<tr>\n",
       "  <th>Method:</th>               <td>IRLS</td>       <th>  Log-Likelihood:    </th> <td> -3.3510</td> \n",
       "</tr>\n",
       "<tr>\n",
       "  <th>Date:</th>           <td>Wed, 08 May 2019</td> <th>  Deviance:          </th> <td>  6.7020</td> \n",
       "</tr>\n",
       "<tr>\n",
       "  <th>Time:</th>               <td>13:18:42</td>     <th>  Pearson chi2:      </th>  <td>  11.0</td>  \n",
       "</tr>\n",
       "<tr>\n",
       "  <th>No. Iterations:</th>        <td>21</td>        <th>  Covariance Type:   </th> <td>nonrobust</td>\n",
       "</tr>\n",
       "</table>\n",
       "<table class=\"simpletable\">\n",
       "<tr>\n",
       "      <td></td>         <th>coef</th>     <th>std err</th>      <th>z</th>      <th>P>|z|</th>  <th>[0.055</th>    <th>0.945]</th>  \n",
       "</tr>\n",
       "<tr>\n",
       "  <th>Intercept</th> <td>  -10.1317</td> <td> 8032.690</td> <td>   -0.001</td> <td> 0.999</td> <td>-1.28e+04</td> <td> 1.28e+04</td>\n",
       "</tr>\n",
       "<tr>\n",
       "  <th>x</th>         <td>   12.4343</td> <td> 8032.690</td> <td>    0.002</td> <td> 0.999</td> <td>-1.28e+04</td> <td> 1.29e+04</td>\n",
       "</tr>\n",
       "</table>"
      ],
      "text/plain": [
       "<class 'statsmodels.iolib.summary.Summary'>\n",
       "\"\"\"\n",
       "                 Generalized Linear Model Regression Results                  \n",
       "==============================================================================\n",
       "Dep. Variable:                      y   No. Observations:                   20\n",
       "Model:                            GLM   Df Residuals:                       18\n",
       "Model Family:                Binomial   Df Model:                            1\n",
       "Link Function:                  logit   Scale:                          1.0000\n",
       "Method:                          IRLS   Log-Likelihood:                -3.3510\n",
       "Date:                Wed, 08 May 2019   Deviance:                       6.7020\n",
       "Time:                        13:18:42   Pearson chi2:                     11.0\n",
       "No. Iterations:                    21   Covariance Type:             nonrobust\n",
       "==============================================================================\n",
       "                 coef    std err          z      P>|z|      [0.055      0.945]\n",
       "------------------------------------------------------------------------------\n",
       "Intercept    -10.1317   8032.690     -0.001      0.999   -1.28e+04    1.28e+04\n",
       "x             12.4343   8032.690      0.002      0.999   -1.28e+04    1.29e+04\n",
       "==============================================================================\n",
       "\"\"\""
      ]
     },
     "execution_count": 45,
     "metadata": {},
     "output_type": "execute_result"
    }
   ],
   "source": [
    "y = np.hstack([np.zeros(10), np.ones(10)])\n",
    "x = np.hstack([np.zeros(9)-1, np.ones(11)])\n",
    "m_bad = smf.glm(\"y ~ x\", \n",
    "                data=pd.DataFrame({\"x\": x, \"y\": y}), \n",
    "                family=sm.families.Binomial()).fit()\n",
    "m_bad.summary(alpha=0.11)"
   ]
  },
  {
   "cell_type": "markdown",
   "metadata": {},
   "source": [
    "### 10.36"
   ]
  },
  {
   "cell_type": "code",
   "execution_count": 46,
   "metadata": {},
   "outputs": [
    {
     "name": "stderr",
     "output_type": "stream",
     "text": [
      "/Users/sgodiwala/.local/share/virtualenvs/statistical_rethinking-WrzGHEO4/lib/python3.7/site-packages/pymc3/tuning/starting.py:61: UserWarning: find_MAP should not be used to initialize the NUTS sampler, simply call pymc3.sample() and it will automatically initialize NUTS in a better way.\n",
      "  warnings.warn('find_MAP should not be used to initialize the NUTS sampler, simply call pymc3.sample() and it will automatically initialize NUTS in a better way.')\n",
      "logp = -9.9185, ||grad|| = 7.2889e-05: 100%|██████████| 13/13 [00:00<00:00, 2844.04it/s]  \n"
     ]
    },
    {
     "data": {
      "text/plain": [
       "{'ab': array([-1.72704484,  4.01710522])}"
      ]
     },
     "execution_count": 46,
     "metadata": {},
     "output_type": "execute_result"
    }
   ],
   "source": [
    "with pm.Model() as m_good:\n",
    "    ab = pm.Normal(\"ab\", 0, 10, shape=2)\n",
    "    p = pm.math.invlogit(ab[0] + ab[1]*x)\n",
    "    y_out = pm.Binomial(\"y_out\", 1, p, observed=y)\n",
    "    MAP = pm.find_MAP()\n",
    "\n",
    "MAP"
   ]
  },
  {
   "cell_type": "markdown",
   "metadata": {},
   "source": [
    "### 10.37"
   ]
  },
  {
   "cell_type": "code",
   "execution_count": 47,
   "metadata": {},
   "outputs": [
    {
     "name": "stderr",
     "output_type": "stream",
     "text": [
      "Auto-assigning NUTS sampler...\n",
      "Initializing NUTS using jitter+adapt_diag...\n",
      "Multiprocess sampling (4 chains in 4 jobs)\n",
      "NUTS: [ab]\n",
      "Sampling 4 chains: 100%|██████████| 8000/8000 [00:03<00:00, 2573.74draws/s]\n",
      "There was 1 divergence after tuning. Increase `target_accept` or reparameterize.\n",
      "The acceptance probability does not match the target. It is 0.9327904801667884, but should be close to 0.8. Try to increase the number of tuning steps.\n",
      "The acceptance probability does not match the target. It is 0.8812826299975474, but should be close to 0.8. Try to increase the number of tuning steps.\n",
      "The acceptance probability does not match the target. It is 0.8887354279840465, but should be close to 0.8. Try to increase the number of tuning steps.\n",
      "The number of effective samples is smaller than 25% for some parameters.\n"
     ]
    },
    {
     "data": {
      "image/png": "[encoded data removed]",
      "text/plain": [
       "<Figure size 360x360 with 6 Axes>"
      ]
     },
     "metadata": {},
     "output_type": "display_data"
    }
   ],
   "source": [
    "tracem_good = pm.sample(1000, tune=1000, model=m_good)\n",
    "m_good_df = pm.trace_to_dataframe(tracem_good)\n",
    "(sns.PairGrid(m_good_df, diag_sharey=False)\n",
    " .map_diag(sns.kdeplot)\n",
    " .map_upper(plt.scatter, alpha=0.11));"
   ]
  },
  {
   "cell_type": "markdown",
   "metadata": {},
   "source": [
    "### 10.38"
   ]
  },
  {
   "cell_type": "code",
   "execution_count": 48,
   "metadata": {},
   "outputs": [
    {
     "data": {
      "text/plain": [
       "(0.99938, 0.9966596156000002)"
      ]
     },
     "execution_count": 48,
     "metadata": {},
     "output_type": "execute_result"
    }
   ],
   "source": [
    "y = stats.binom.rvs(1000, 1/1000, size=int(1e5))\n",
    "(y.mean(), y.var())"
   ]
  },
  {
   "cell_type": "markdown",
   "metadata": {},
   "source": [
    "### 10.39"
   ]
  },
  {
   "cell_type": "code",
   "execution_count": 49,
   "metadata": {},
   "outputs": [
    {
     "data": {
      "text/html": [
       "<div>\n",
       "<style scoped>\n",
       "    .dataframe tbody tr th:only-of-type {\n",
       "        vertical-align: middle;\n",
       "    }\n",
       "\n",
       "    .dataframe tbody tr th {\n",
       "        vertical-align: top;\n",
       "    }\n",
       "\n",
       "    .dataframe thead th {\n",
       "        text-align: right;\n",
       "    }\n",
       "</style>\n",
       "<table border=\"1\" class=\"dataframe\">\n",
       "  <thead>\n",
       "    <tr style=\"text-align: right;\">\n",
       "      <th></th>\n",
       "      <th>culture</th>\n",
       "      <th>population</th>\n",
       "      <th>contact</th>\n",
       "      <th>total_tools</th>\n",
       "      <th>mean_TU</th>\n",
       "    </tr>\n",
       "  </thead>\n",
       "  <tbody>\n",
       "    <tr>\n",
       "      <th>0</th>\n",
       "      <td>Malekula</td>\n",
       "      <td>1100</td>\n",
       "      <td>low</td>\n",
       "      <td>13</td>\n",
       "      <td>3.2</td>\n",
       "    </tr>\n",
       "    <tr>\n",
       "      <th>1</th>\n",
       "      <td>Tikopia</td>\n",
       "      <td>1500</td>\n",
       "      <td>low</td>\n",
       "      <td>22</td>\n",
       "      <td>4.7</td>\n",
       "    </tr>\n",
       "    <tr>\n",
       "      <th>2</th>\n",
       "      <td>Santa Cruz</td>\n",
       "      <td>3600</td>\n",
       "      <td>low</td>\n",
       "      <td>24</td>\n",
       "      <td>4.0</td>\n",
       "    </tr>\n",
       "    <tr>\n",
       "      <th>3</th>\n",
       "      <td>Yap</td>\n",
       "      <td>4791</td>\n",
       "      <td>high</td>\n",
       "      <td>43</td>\n",
       "      <td>5.0</td>\n",
       "    </tr>\n",
       "    <tr>\n",
       "      <th>4</th>\n",
       "      <td>Lau Fiji</td>\n",
       "      <td>7400</td>\n",
       "      <td>high</td>\n",
       "      <td>33</td>\n",
       "      <td>5.0</td>\n",
       "    </tr>\n",
       "  </tbody>\n",
       "</table>\n",
       "</div>"
      ],
      "text/plain": [
       "      culture  population contact  total_tools  mean_TU\n",
       "0    Malekula        1100     low           13      3.2\n",
       "1     Tikopia        1500     low           22      4.7\n",
       "2  Santa Cruz        3600     low           24      4.0\n",
       "3         Yap        4791    high           43      5.0\n",
       "4    Lau Fiji        7400    high           33      5.0"
      ]
     },
     "execution_count": 49,
     "metadata": {},
     "output_type": "execute_result"
    }
   ],
   "source": [
    "d = pd.read_csv(\"data/Kline.csv\", delimiter=\";\")\n",
    "d.head()"
   ]
  },
  {
   "cell_type": "markdown",
   "metadata": {},
   "source": [
    "### 10.40"
   ]
  },
  {
   "cell_type": "code",
   "execution_count": 50,
   "metadata": {},
   "outputs": [],
   "source": [
    "d[\"log_pop\"] = np.log(d[\"population\"])\n",
    "d[\"contact_high\"] = np.where(d[\"contact\"] == \"high\", 1, 0)"
   ]
  },
  {
   "cell_type": "markdown",
   "metadata": {},
   "source": [
    "### 10.41"
   ]
  },
  {
   "cell_type": "code",
   "execution_count": 51,
   "metadata": {},
   "outputs": [],
   "source": [
    "shared_log_pop = theano.shared(d[\"log_pop\"].values)\n",
    "shared_contact_high = theano.shared(d[\"contact_high\"].values)"
   ]
  },
  {
   "cell_type": "code",
   "execution_count": 52,
   "metadata": {},
   "outputs": [
    {
     "name": "stderr",
     "output_type": "stream",
     "text": [
      "Auto-assigning NUTS sampler...\n",
      "Initializing NUTS using jitter+adapt_diag...\n",
      "Multiprocess sampling (4 chains in 4 jobs)\n",
      "NUTS: [a, b]\n",
      "Sampling 4 chains: 100%|██████████| 8000/8000 [00:09<00:00, 807.31draws/s]\n"
     ]
    }
   ],
   "source": [
    "with pm.Model() as m10_10:\n",
    "    b = pm.Normal(\"b\", 0, 1, shape=3)\n",
    "    a = pm.Normal(\"a\", 0, 100)\n",
    "    lam = pm.math.exp(a +\\\n",
    "                      b[0]*shared_log_pop +\\\n",
    "                      b[1]*shared_contact_high +\\\n",
    "                      b[2]*shared_log_pop*shared_contact_high)\n",
    "    total_tools = pm.Poisson(\"total_tools\", lam, observed=d[\"total_tools\"])\n",
    "    trace10_10 = pm.sample(1000, tune=1000)"
   ]
  },
  {
   "cell_type": "markdown",
   "metadata": {},
   "source": [
    "### 10.42"
   ]
  },
  {
   "cell_type": "code",
   "execution_count": 53,
   "metadata": {},
   "outputs": [
    {
     "name": "stdout",
     "output_type": "stream",
     "text": [
      "      mean    sd  mc_error  hpd_5.5  hpd_94.5    n_eff  Rhat\n",
      "b__0  0.26  0.03      0.00     0.21      0.32  1556.74   1.0\n",
      "b__1 -0.07  0.85      0.02    -1.44      1.31  1473.58   1.0\n",
      "b__2  0.04  0.09      0.00    -0.10      0.20  1470.96   1.0\n",
      "a     0.93  0.36      0.01     0.35      1.51  1551.18   1.0\n"
     ]
    },
    {
     "data": {
      "image/png": "[encoded data removed]",
      "text/plain": [
       "<Figure size 972x648 with 1 Axes>"
      ]
     },
     "metadata": {},
     "output_type": "display_data"
    }
   ],
   "source": [
    "print(pm.summary(trace10_10, alpha=0.11)\n",
    "      .round(2))\n",
    "\n",
    "f, ax = plt.subplots(1, 1)\n",
    "f.set_size_inches(13.5, 9)\n",
    "data = pm.summary(trace10_10, alpha=0.11)\n",
    "ax.errorbar(data[\"mean\"], data.index, fmt=\"o\", xerr=data[\"hpd_94.5\"] - data[\"hpd_5.5\"], \n",
    "            mew=1, mfc=\"None\")\n",
    "ax.vlines(0, ymin=-1, ymax=4, alpha=0.2);\n",
    "ax.set_ylim(-0.5, 3.5)\n",
    "ax.invert_yaxis()\n",
    "ax.set_title(\"89% Credible Intervals\");"
   ]
  },
  {
   "cell_type": "markdown",
   "metadata": {},
   "source": [
    "### 10.43"
   ]
  },
  {
   "cell_type": "code",
   "execution_count": 54,
   "metadata": {},
   "outputs": [],
   "source": [
    "lambda_high = np.exp(trace10_10[\"a\"] + trace10_10[\"b\"][:, 1] + (trace10_10[\"b\"][:, 0] + trace10_10[\"b\"][:, 2])*8)\n",
    "lambda_low = np.exp(trace10_10[\"a\"] + trace10_10[\"b\"][:, 0]*8)"
   ]
  },
  {
   "cell_type": "markdown",
   "metadata": {},
   "source": [
    "### 10.44"
   ]
  },
  {
   "cell_type": "code",
   "execution_count": 55,
   "metadata": {},
   "outputs": [
    {
     "data": {
      "text/plain": [
       "0.9585"
      ]
     },
     "execution_count": 55,
     "metadata": {},
     "output_type": "execute_result"
    }
   ],
   "source": [
    "diff = lambda_high - lambda_low\n",
    "sum(diff > 0)/len(diff)"
   ]
  },
  {
   "cell_type": "markdown",
   "metadata": {},
   "source": [
    "### 10.45"
   ]
  },
  {
   "cell_type": "code",
   "execution_count": 56,
   "metadata": {},
   "outputs": [
    {
     "name": "stderr",
     "output_type": "stream",
     "text": [
      "Auto-assigning NUTS sampler...\n",
      "Initializing NUTS using jitter+adapt_diag...\n",
      "Multiprocess sampling (4 chains in 4 jobs)\n",
      "NUTS: [a, b]\n",
      "Sampling 4 chains: 100%|██████████| 8000/8000 [00:07<00:00, 1070.83draws/s]\n"
     ]
    }
   ],
   "source": [
    "# No Interaction\n",
    "with pm.Model() as m10_11:\n",
    "    b = pm.Normal(\"b\", 0, 1, shape=3)\n",
    "    a = pm.Normal(\"a\", 0, 100)\n",
    "    lam = pm.math.exp(a +\\\n",
    "                      b[0]*shared_log_pop +\\\n",
    "                      b[1]*shared_contact_high)\n",
    "    total_tools = pm.Poisson(\"total_tools\", lam, observed=d[\"total_tools\"])\n",
    "    trace10_11 = pm.sample(1000, tune=1000)"
   ]
  },
  {
   "cell_type": "markdown",
   "metadata": {},
   "source": [
    "### 10.46"
   ]
  },
  {
   "cell_type": "code",
   "execution_count": 57,
   "metadata": {},
   "outputs": [
    {
     "name": "stderr",
     "output_type": "stream",
     "text": [
      "Auto-assigning NUTS sampler...\n",
      "Initializing NUTS using jitter+adapt_diag...\n",
      "Multiprocess sampling (4 chains in 4 jobs)\n",
      "NUTS: [a, b]\n",
      "Sampling 4 chains: 100%|██████████| 8000/8000 [00:07<00:00, 1031.30draws/s]\n",
      "Auto-assigning NUTS sampler...\n",
      "Initializing NUTS using jitter+adapt_diag...\n",
      "Multiprocess sampling (4 chains in 4 jobs)\n",
      "NUTS: [a, b]\n",
      "Sampling 4 chains: 100%|██████████| 8000/8000 [00:02<00:00, 2690.06draws/s]\n"
     ]
    }
   ],
   "source": [
    "# No Contact Rate\n",
    "with pm.Model() as m10_12:\n",
    "    b = pm.Normal(\"b\", 0, 1, shape=3)\n",
    "    a = pm.Normal(\"a\", 0, 100)\n",
    "    lam = pm.math.exp(a +\\\n",
    "                      b[0]*shared_log_pop)\n",
    "    total_tools = pm.Poisson(\"total_tools\", lam, observed=d[\"total_tools\"])\n",
    "    trace10_12 = pm.sample(1000, tune=1000)\n",
    "    \n",
    "# No Log Population\n",
    "with pm.Model() as m10_13:\n",
    "    b = pm.Normal(\"b\", 0, 1, shape=3)\n",
    "    a = pm.Normal(\"a\", 0, 100)\n",
    "    lam = pm.math.exp(a +\\\n",
    "                      b[1]*shared_contact_high)\n",
    "    total_tools = pm.Poisson(\"total_tools\", lam, observed=d[\"total_tools\"])\n",
    "    trace10_13 = pm.sample(1000, tune=1000)"
   ]
  },
  {
   "cell_type": "markdown",
   "metadata": {},
   "source": [
    "### 10.47"
   ]
  },
  {
   "cell_type": "code",
   "execution_count": 58,
   "metadata": {},
   "outputs": [
    {
     "name": "stderr",
     "output_type": "stream",
     "text": [
      "Auto-assigning NUTS sampler...\n",
      "Initializing NUTS using jitter+adapt_diag...\n",
      "Multiprocess sampling (4 chains in 4 jobs)\n",
      "NUTS: [a]\n",
      "Sampling 4 chains: 100%|██████████| 8000/8000 [00:01<00:00, 5043.42draws/s]\n"
     ]
    }
   ],
   "source": [
    "# Intercept Only\n",
    "with pm.Model() as m10_14:\n",
    "    a = pm.Normal(\"a\", 0, 100)\n",
    "    lam = pm.math.exp(a)\n",
    "    total_tools = pm.Poisson(\"lam\", lam, observed=d[\"total_tools\"])\n",
    "    trace10_14 = pm.sample(1000, tune=1000)"
   ]
  },
  {
   "cell_type": "code",
   "execution_count": 59,
   "metadata": {},
   "outputs": [],
   "source": [
    "models = pd.DataFrame([[m10_10, trace10_10],\n",
    "                       [m10_11, trace10_11],\n",
    "                       [m10_12, trace10_12],\n",
    "                       [m10_13, trace10_13],\n",
    "                       [m10_14, trace10_14]],\n",
    "                      columns=[\"model\", \"trace\"],\n",
    "                      index=pd.Series([\"m10_10\", \"m10_11\", \"m10_12\", \"m10_13\", \"m10_14\"], name=\"name\"))"
   ]
  },
  {
   "cell_type": "code",
   "execution_count": 60,
   "metadata": {},
   "outputs": [
    {
     "name": "stderr",
     "output_type": "stream",
     "text": [
      "/Users/sgodiwala/.local/share/virtualenvs/statistical_rethinking-WrzGHEO4/lib/python3.7/site-packages/pymc3/stats.py:218: UserWarning: For one or more samples the posterior variance of the\n",
      "        log predictive densities exceeds 0.4. This could be indication of\n",
      "        WAIC starting to fail see http://arxiv.org/abs/1507.04544 for details\n",
      "        \n",
      "  \"\"\")\n",
      "/Users/sgodiwala/.local/share/virtualenvs/statistical_rethinking-WrzGHEO4/lib/python3.7/site-packages/pymc3/stats.py:218: UserWarning: For one or more samples the posterior variance of the\n",
      "        log predictive densities exceeds 0.4. This could be indication of\n",
      "        WAIC starting to fail see http://arxiv.org/abs/1507.04544 for details\n",
      "        \n",
      "  \"\"\")\n",
      "/Users/sgodiwala/.local/share/virtualenvs/statistical_rethinking-WrzGHEO4/lib/python3.7/site-packages/pymc3/stats.py:218: UserWarning: For one or more samples the posterior variance of the\n",
      "        log predictive densities exceeds 0.4. This could be indication of\n",
      "        WAIC starting to fail see http://arxiv.org/abs/1507.04544 for details\n",
      "        \n",
      "  \"\"\")\n",
      "/Users/sgodiwala/.local/share/virtualenvs/statistical_rethinking-WrzGHEO4/lib/python3.7/site-packages/pymc3/stats.py:218: UserWarning: For one or more samples the posterior variance of the\n",
      "        log predictive densities exceeds 0.4. This could be indication of\n",
      "        WAIC starting to fail see http://arxiv.org/abs/1507.04544 for details\n",
      "        \n",
      "  \"\"\")\n",
      "/Users/sgodiwala/.local/share/virtualenvs/statistical_rethinking-WrzGHEO4/lib/python3.7/site-packages/pymc3/stats.py:218: UserWarning: For one or more samples the posterior variance of the\n",
      "        log predictive densities exceeds 0.4. This could be indication of\n",
      "        WAIC starting to fail see http://arxiv.org/abs/1507.04544 for details\n",
      "        \n",
      "  \"\"\")\n"
     ]
    },
    {
     "data": {
      "text/html": [
       "<div>\n",
       "<style scoped>\n",
       "    .dataframe tbody tr th:only-of-type {\n",
       "        vertical-align: middle;\n",
       "    }\n",
       "\n",
       "    .dataframe tbody tr th {\n",
       "        vertical-align: top;\n",
       "    }\n",
       "\n",
       "    .dataframe thead th {\n",
       "        text-align: right;\n",
       "    }\n",
       "</style>\n",
       "<table border=\"1\" class=\"dataframe\">\n",
       "  <thead>\n",
       "    <tr style=\"text-align: right;\">\n",
       "      <th></th>\n",
       "      <th>WAIC</th>\n",
       "      <th>pWAIC</th>\n",
       "      <th>dWAIC</th>\n",
       "      <th>weight</th>\n",
       "      <th>SE</th>\n",
       "      <th>dSE</th>\n",
       "      <th>var_warn</th>\n",
       "    </tr>\n",
       "    <tr>\n",
       "      <th>name</th>\n",
       "      <th></th>\n",
       "      <th></th>\n",
       "      <th></th>\n",
       "      <th></th>\n",
       "      <th></th>\n",
       "      <th></th>\n",
       "      <th></th>\n",
       "    </tr>\n",
       "  </thead>\n",
       "  <tbody>\n",
       "    <tr>\n",
       "      <th>m10_11</th>\n",
       "      <td>79.16</td>\n",
       "      <td>4.31</td>\n",
       "      <td>0</td>\n",
       "      <td>0.57</td>\n",
       "      <td>11.14</td>\n",
       "      <td>0</td>\n",
       "      <td>1</td>\n",
       "    </tr>\n",
       "    <tr>\n",
       "      <th>m10_10</th>\n",
       "      <td>79.97</td>\n",
       "      <td>4.79</td>\n",
       "      <td>0.81</td>\n",
       "      <td>0.38</td>\n",
       "      <td>11.26</td>\n",
       "      <td>1.17</td>\n",
       "      <td>1</td>\n",
       "    </tr>\n",
       "    <tr>\n",
       "      <th>m10_12</th>\n",
       "      <td>84.38</td>\n",
       "      <td>3.76</td>\n",
       "      <td>5.22</td>\n",
       "      <td>0.04</td>\n",
       "      <td>8.96</td>\n",
       "      <td>7.93</td>\n",
       "      <td>1</td>\n",
       "    </tr>\n",
       "    <tr>\n",
       "      <th>m10_14</th>\n",
       "      <td>141.64</td>\n",
       "      <td>8.43</td>\n",
       "      <td>62.48</td>\n",
       "      <td>0</td>\n",
       "      <td>31.58</td>\n",
       "      <td>32.78</td>\n",
       "      <td>1</td>\n",
       "    </tr>\n",
       "    <tr>\n",
       "      <th>m10_13</th>\n",
       "      <td>150.45</td>\n",
       "      <td>16.83</td>\n",
       "      <td>71.28</td>\n",
       "      <td>0</td>\n",
       "      <td>45</td>\n",
       "      <td>44.83</td>\n",
       "      <td>1</td>\n",
       "    </tr>\n",
       "  </tbody>\n",
       "</table>\n",
       "</div>"
      ],
      "text/plain": [
       "          WAIC  pWAIC  dWAIC weight     SE    dSE var_warn\n",
       "name                                                      \n",
       "m10_11   79.16   4.31      0   0.57  11.14      0        1\n",
       "m10_10   79.97   4.79   0.81   0.38  11.26   1.17        1\n",
       "m10_12   84.38   3.76   5.22   0.04   8.96   7.93        1\n",
       "m10_14  141.64   8.43  62.48      0  31.58  32.78        1\n",
       "m10_13  150.45  16.83  71.28      0     45  44.83        1"
      ]
     },
     "execution_count": 60,
     "metadata": {},
     "output_type": "execute_result"
    }
   ],
   "source": [
    "islands_compare = (pm.compare(dict(zip(models[\"model\"], models[\"trace\"])),\n",
    "                              method='pseudo-BMA')\n",
    "                   .join(pd.Series(models.index))\n",
    "                   .set_index(\"name\")\n",
    "                   .sort_values(\"WAIC\"))\n",
    "islands_compare"
   ]
  },
  {
   "cell_type": "code",
   "execution_count": 61,
   "metadata": {},
   "outputs": [
    {
     "data": {
      "image/png": "[encoded data removed]",
      "text/plain": [
       "<Figure size 432x288 with 1 Axes>"
      ]
     },
     "metadata": {},
     "output_type": "display_data"
    }
   ],
   "source": [
    "pm.compareplot(islands_compare);"
   ]
  },
  {
   "cell_type": "markdown",
   "metadata": {},
   "source": [
    "### 10.48"
   ]
  },
  {
   "cell_type": "code",
   "execution_count": 62,
   "metadata": {},
   "outputs": [
    {
     "name": "stderr",
     "output_type": "stream",
     "text": [
      "100%|██████████| 10000/10000 [00:04<00:00, 2000.25it/s]\n"
     ]
    }
   ],
   "source": [
    "log_pop_seq = np.linspace(6, 13, 30) \n",
    "shared_log_pop.set_value(np.hstack([log_pop_seq, log_pop_seq]))\n",
    "shared_contact_high.set_value(np.hstack([np.zeros(30, int), np.ones(30, int)]))\n",
    "\n",
    "ensemble = (models.loc[[\"m10_10\", \"m10_11\", \"m10_12\"]]\n",
    "            .join(islands_compare))\n",
    "\n",
    "wp = pm.sample_ppc_w(ensemble[\"trace\"],\n",
    "                     samples=10000,\n",
    "                     models=ensemble[\"model\"],\n",
    "                     weights=ensemble[\"weight\"])[\"total_tools\"]\n",
    "\n",
    "# summarize\n",
    "wp_mean = wp.mean(0)\n",
    "wp_pi = pm.hpd(wp, alpha=0.11)"
   ]
  },
  {
   "cell_type": "code",
   "execution_count": 63,
   "metadata": {},
   "outputs": [
    {
     "data": {
      "image/png": "[encoded data removed]",
      "text/plain": [
       "<Figure size 972x648 with 1 Axes>"
      ]
     },
     "metadata": {},
     "output_type": "display_data"
    }
   ],
   "source": [
    "f, ax = plt.subplots(1, 1)\n",
    "f.set_size_inches(13.5, 9)\n",
    "\n",
    "idx = d[\"contact_high\"] == 0\n",
    "ax.plot(d[\"log_pop\"][idx], d[\"total_tools\"][idx], \"o\", mew=1.0, mec=\"C0\", mfc=\"None\")\n",
    "ax.plot(d[\"log_pop\"][~idx], d[\"total_tools\"][~idx], \"o\", mew=1.0, mec=\"C1\", mfc=\"C1\")\n",
    "\n",
    "ax.plot(log_pop_seq, wp_mean[:30], \"--\", color=\"C0\")\n",
    "ax.fill_between(log_pop_seq, wp_pi[:30,0], wp_pi[:30,1], alpha=0.25, color=\"C0\")\n",
    "ax.plot(log_pop_seq, wp_mean[30:], color=\"C1\")\n",
    "ax.fill_between(log_pop_seq, wp_pi[30:,0], wp_pi[30:,1], alpha=0.25, color=\"C1\")\n",
    "ax.set_xlabel(\"log population\")\n",
    "ax.set_ylabel(\"total tools\")\n",
    "ax.set_xlim(6.5, 13)\n",
    "ax.set_ylim(11, 75);"
   ]
  },
  {
   "cell_type": "markdown",
   "metadata": {},
   "source": [
    "### 10.49"
   ]
  },
  {
   "cell_type": "markdown",
   "metadata": {},
   "source": [
    "Already using MCMC"
   ]
  },
  {
   "cell_type": "code",
   "execution_count": 64,
   "metadata": {},
   "outputs": [
    {
     "name": "stderr",
     "output_type": "stream",
     "text": [
      "Auto-assigning NUTS sampler...\n",
      "Initializing NUTS using jitter+adapt_diag...\n",
      "Multiprocess sampling (4 chains in 4 jobs)\n",
      "NUTS: [bcp, bc, bp, a]\n",
      "Sampling 4 chains: 100%|██████████| 8000/8000 [00:02<00:00, 2952.95draws/s]\n"
     ]
    },
    {
     "data": {
      "text/html": [
       "<div>\n",
       "<style scoped>\n",
       "    .dataframe tbody tr th:only-of-type {\n",
       "        vertical-align: middle;\n",
       "    }\n",
       "\n",
       "    .dataframe tbody tr th {\n",
       "        vertical-align: top;\n",
       "    }\n",
       "\n",
       "    .dataframe thead th {\n",
       "        text-align: right;\n",
       "    }\n",
       "</style>\n",
       "<table border=\"1\" class=\"dataframe\">\n",
       "  <thead>\n",
       "    <tr style=\"text-align: right;\">\n",
       "      <th></th>\n",
       "      <th>mean</th>\n",
       "      <th>sd</th>\n",
       "      <th>mc_error</th>\n",
       "      <th>hpd_5.5</th>\n",
       "      <th>hpd_94.5</th>\n",
       "      <th>n_eff</th>\n",
       "      <th>Rhat</th>\n",
       "    </tr>\n",
       "  </thead>\n",
       "  <tbody>\n",
       "    <tr>\n",
       "      <th>a</th>\n",
       "      <td>3.31</td>\n",
       "      <td>0.09</td>\n",
       "      <td>0.0</td>\n",
       "      <td>3.17</td>\n",
       "      <td>3.45</td>\n",
       "      <td>2429.47</td>\n",
       "      <td>1.0</td>\n",
       "    </tr>\n",
       "    <tr>\n",
       "      <th>bp</th>\n",
       "      <td>0.26</td>\n",
       "      <td>0.04</td>\n",
       "      <td>0.0</td>\n",
       "      <td>0.20</td>\n",
       "      <td>0.31</td>\n",
       "      <td>2952.32</td>\n",
       "      <td>1.0</td>\n",
       "    </tr>\n",
       "    <tr>\n",
       "      <th>bc</th>\n",
       "      <td>0.29</td>\n",
       "      <td>0.11</td>\n",
       "      <td>0.0</td>\n",
       "      <td>0.10</td>\n",
       "      <td>0.46</td>\n",
       "      <td>2466.38</td>\n",
       "      <td>1.0</td>\n",
       "    </tr>\n",
       "    <tr>\n",
       "      <th>bcp</th>\n",
       "      <td>0.07</td>\n",
       "      <td>0.17</td>\n",
       "      <td>0.0</td>\n",
       "      <td>-0.20</td>\n",
       "      <td>0.35</td>\n",
       "      <td>2970.38</td>\n",
       "      <td>1.0</td>\n",
       "    </tr>\n",
       "  </tbody>\n",
       "</table>\n",
       "</div>"
      ],
      "text/plain": [
       "     mean    sd  mc_error  hpd_5.5  hpd_94.5    n_eff  Rhat\n",
       "a    3.31  0.09       0.0     3.17      3.45  2429.47   1.0\n",
       "bp   0.26  0.04       0.0     0.20      0.31  2952.32   1.0\n",
       "bc   0.29  0.11       0.0     0.10      0.46  2466.38   1.0\n",
       "bcp  0.07  0.17       0.0    -0.20      0.35  2970.38   1.0"
      ]
     },
     "execution_count": 64,
     "metadata": {},
     "output_type": "execute_result"
    }
   ],
   "source": [
    "d[\"log_pop_c\"] = d[\"log_pop\"] - d[\"log_pop\"].mean()\n",
    "\n",
    "with pm.Model() as m10_10c:\n",
    "    a = pm.Normal(\"a\", 0, 10)\n",
    "    bp = pm.Normal(\"bp\", 0, 1)\n",
    "    bc = pm.Normal(\"bc\", 0, 1)\n",
    "    bcp = pm.Normal(\"bcp\", 0, 1)\n",
    "    lam = pm.math.exp(a +\\\n",
    "                      bp*d[\"log_pop_c\"] +\\\n",
    "                      bc*d[\"contact_high\"] +\\\n",
    "                      bcp*d[\"log_pop_c\"]*d[\"contact_high\"])\n",
    "    total_tools = pm.Poisson(\"total_tools\", lam, observed=d[\"total_tools\"])\n",
    "    trace10_10c = pm.sample(1000, tune=1000)\n",
    "\n",
    "(pm.summary(trace10_10c, alpha=0.11)\n",
    " .round(2))"
   ]
  },
  {
   "cell_type": "markdown",
   "metadata": {},
   "source": [
    "### 10.51"
   ]
  },
  {
   "cell_type": "code",
   "execution_count": 65,
   "metadata": {},
   "outputs": [],
   "source": [
    "num_days = 30\n",
    "y = stats.poisson.rvs(1.5, size=num_days)"
   ]
  },
  {
   "cell_type": "markdown",
   "metadata": {},
   "source": [
    "### 10.52"
   ]
  },
  {
   "cell_type": "code",
   "execution_count": 66,
   "metadata": {},
   "outputs": [],
   "source": [
    "num_weeks = 4\n",
    "y_new = stats.poisson.rvs(0.5*7, size=num_weeks)"
   ]
  },
  {
   "cell_type": "markdown",
   "metadata": {},
   "source": [
    "### 10.53"
   ]
  },
  {
   "cell_type": "code",
   "execution_count": 67,
   "metadata": {},
   "outputs": [],
   "source": [
    "y_all = np.hstack([y, y_new])\n",
    "exposure = np.hstack([np.ones(30, int), np.repeat(7, 4)])\n",
    "monastery = np.hstack([np.zeros(30, int), np.ones(4, int)])\n",
    "d = pd.DataFrame({\"y\": y_all,\n",
    "                  \"days\": exposure,\n",
    "                  \"monastery\": monastery})"
   ]
  },
  {
   "cell_type": "markdown",
   "metadata": {},
   "source": [
    "### 10.54"
   ]
  },
  {
   "cell_type": "code",
   "execution_count": 68,
   "metadata": {
    "scrolled": true
   },
   "outputs": [
    {
     "name": "stderr",
     "output_type": "stream",
     "text": [
      "Auto-assigning NUTS sampler...\n",
      "Initializing NUTS using jitter+adapt_diag...\n",
      "Multiprocess sampling (4 chains in 4 jobs)\n",
      "NUTS: [b, a]\n",
      "Sampling 4 chains: 100%|██████████| 8000/8000 [00:01<00:00, 4588.98draws/s]\n"
     ]
    }
   ],
   "source": [
    "# compute the offset\n",
    "d[\"log_days\"] = np.log(d[\"days\"])\n",
    "\n",
    "# fit the model\n",
    "with pm.Model() as m10_15:\n",
    "    a = pm.Normal(\"a\", 0, 100)\n",
    "    b = pm.Normal(\"b\", 0, 1)\n",
    "    lam = pm.math.exp(a +\\\n",
    "                      d[\"log_days\"] +\\\n",
    "                      b*d[\"monastery\"])\n",
    "    y = pm.Poisson(\"y\", lam, observed=d[\"y\"])\n",
    "    trace10_15 = pm.sample(1000, tune=1000)"
   ]
  },
  {
   "cell_type": "markdown",
   "metadata": {},
   "source": [
    "### 10.55"
   ]
  },
  {
   "cell_type": "code",
   "execution_count": 69,
   "metadata": {},
   "outputs": [
    {
     "data": {
      "text/html": [
       "<div>\n",
       "<style scoped>\n",
       "    .dataframe tbody tr th:only-of-type {\n",
       "        vertical-align: middle;\n",
       "    }\n",
       "\n",
       "    .dataframe tbody tr th {\n",
       "        vertical-align: top;\n",
       "    }\n",
       "\n",
       "    .dataframe thead th {\n",
       "        text-align: right;\n",
       "    }\n",
       "</style>\n",
       "<table border=\"1\" class=\"dataframe\">\n",
       "  <thead>\n",
       "    <tr style=\"text-align: right;\">\n",
       "      <th></th>\n",
       "      <th>mean</th>\n",
       "      <th>sd</th>\n",
       "      <th>mc_error</th>\n",
       "      <th>hpd_5.5</th>\n",
       "      <th>hpd_94.5</th>\n",
       "      <th>n_eff</th>\n",
       "      <th>Rhat</th>\n",
       "    </tr>\n",
       "  </thead>\n",
       "  <tbody>\n",
       "    <tr>\n",
       "      <th>lambda_old</th>\n",
       "      <td>1.69</td>\n",
       "      <td>0.23</td>\n",
       "      <td>0.0</td>\n",
       "      <td>1.32</td>\n",
       "      <td>2.05</td>\n",
       "      <td>2503.05</td>\n",
       "      <td>1.0</td>\n",
       "    </tr>\n",
       "    <tr>\n",
       "      <th>lambda_new</th>\n",
       "      <td>0.48</td>\n",
       "      <td>0.12</td>\n",
       "      <td>0.0</td>\n",
       "      <td>0.28</td>\n",
       "      <td>0.67</td>\n",
       "      <td>3146.07</td>\n",
       "      <td>1.0</td>\n",
       "    </tr>\n",
       "  </tbody>\n",
       "</table>\n",
       "</div>"
      ],
      "text/plain": [
       "            mean    sd  mc_error  hpd_5.5  hpd_94.5    n_eff  Rhat\n",
       "lambda_old  1.69  0.23       0.0     1.32      2.05  2503.05   1.0\n",
       "lambda_new  0.48  0.12       0.0     0.28      0.67  3146.07   1.0"
      ]
     },
     "execution_count": 69,
     "metadata": {},
     "output_type": "execute_result"
    }
   ],
   "source": [
    "trace10_15.add_values(dict(lambda_old=np.exp(trace10_15['a']),\n",
    "                           lambda_new=np.exp(trace10_15['a'] + trace10_15['b'])))\n",
    "\n",
    "(pm.summary(trace10_15, varnames=['lambda_old', 'lambda_new'], alpha=.11)\n",
    " .round(2))"
   ]
  },
  {
   "cell_type": "markdown",
   "metadata": {},
   "source": [
    "## Other Count Regressions"
   ]
  },
  {
   "cell_type": "markdown",
   "metadata": {},
   "source": [
    "### 10.56"
   ]
  },
  {
   "cell_type": "code",
   "execution_count": 70,
   "metadata": {},
   "outputs": [],
   "source": [
    "N = 500\n",
    "income = np.arange(1, 4)\n",
    "score = 0.5*income\n",
    "p = np.exp(score)/np.exp(score).sum()\n",
    "career = np.where(stats.multinomial.rvs(1, p, size=N) == 1)[1]"
   ]
  },
  {
   "cell_type": "markdown",
   "metadata": {},
   "source": [
    "### 10.57"
   ]
  },
  {
   "cell_type": "code",
   "execution_count": 71,
   "metadata": {},
   "outputs": [
    {
     "name": "stderr",
     "output_type": "stream",
     "text": [
      "/Users/sgodiwala/.local/share/virtualenvs/statistical_rethinking-WrzGHEO4/lib/python3.7/site-packages/ipykernel_launcher.py:8: UserWarning: DEPRECATION: If x is a vector, Softmax will not automatically pad x anymore in next releases. If you need it, please do it manually. The vector case is gonna be supported soon and the output will be a vector.\n",
      "  \n",
      "Auto-assigning NUTS sampler...\n",
      "Initializing NUTS using jitter+adapt_diag...\n",
      "Multiprocess sampling (4 chains in 4 jobs)\n",
      "NUTS: [b]\n",
      "Sampling 4 chains: 100%|██████████| 8000/8000 [00:01<00:00, 4365.24draws/s]\n",
      "The acceptance probability does not match the target. It is 0.8907473160138938, but should be close to 0.8. Try to increase the number of tuning steps.\n"
     ]
    }
   ],
   "source": [
    "import theano.tensor as tt\n",
    "\n",
    "with pm.Model() as m10_16:\n",
    "    b = pm.Normal(\"b\", 0, 5)\n",
    "    s3 = b*3\n",
    "    s2 = b*2\n",
    "    p = tt.stack([0, s2, s3])\n",
    "    career_ = pm.Categorical(\"career\", p=tt.nnet.softmax(p), observed=career)\n",
    "    trace10_16 = pm.sample(1000, tune=1000)"
   ]
  },
  {
   "cell_type": "markdown",
   "metadata": {},
   "source": [
    "### 10.58"
   ]
  },
  {
   "cell_type": "code",
   "execution_count": 72,
   "metadata": {},
   "outputs": [],
   "source": [
    "N = 100\n",
    "family_income = stats.uniform.rvs(size=N)\n",
    "b = np.arange(-1, 2)\n",
    "score = (0.5*np.arange(1, 4) + np.outer(family_income, b))\n",
    "p = (np.exp(score).T/np.exp(score).sum(1)).T\n",
    "career = np.where(np.asarray([stats.multinomial.rvs(1, pp) for pp in p]) == 1)[1]"
   ]
  },
  {
   "cell_type": "code",
   "execution_count": 73,
   "metadata": {},
   "outputs": [
    {
     "name": "stderr",
     "output_type": "stream",
     "text": [
      "Auto-assigning NUTS sampler...\n",
      "Initializing NUTS using jitter+adapt_diag...\n",
      "Multiprocess sampling (4 chains in 4 jobs)\n",
      "NUTS: [b3, a3, b2, a2]\n",
      "Sampling 4 chains: 100%|██████████| 8000/8000 [00:07<00:00, 1109.29draws/s]\n",
      "The acceptance probability does not match the target. It is 0.8809481883120671, but should be close to 0.8. Try to increase the number of tuning steps.\n",
      "The acceptance probability does not match the target. It is 0.8830862225913955, but should be close to 0.8. Try to increase the number of tuning steps.\n",
      "The number of effective samples is smaller than 25% for some parameters.\n"
     ]
    }
   ],
   "source": [
    "with pm.Model() as m10_17:\n",
    "    a2 = pm.Normal(\"a2\", 0, 5)\n",
    "    b2 = pm.Normal(\"b2\", 0, 5)\n",
    "    a3 = pm.Normal(\"a3\", 0, 5)\n",
    "    b3 = pm.Normal(\"b3\", 0, 5)\n",
    "    s2 = a2 + b2*family_income\n",
    "    s3 = a3 + b3*family_income\n",
    "    p = tt.stack([np.zeros(N), s2, s3]).T\n",
    "    career_ = pm.Categorical(\"career\", p=tt.nnet.softmax(p), observed=career)\n",
    "    trace10_17 = pm.sample(1000, tune=1000)"
   ]
  },
  {
   "cell_type": "markdown",
   "metadata": {},
   "source": [
    "### 10.59"
   ]
  },
  {
   "cell_type": "code",
   "execution_count": 74,
   "metadata": {},
   "outputs": [],
   "source": [
    "d = pd.read_csv(\"data/UCBadmit.csv\", delimiter=\";\")"
   ]
  },
  {
   "cell_type": "markdown",
   "metadata": {},
   "source": [
    "### 10.60"
   ]
  },
  {
   "cell_type": "code",
   "execution_count": 75,
   "metadata": {},
   "outputs": [
    {
     "name": "stderr",
     "output_type": "stream",
     "text": [
      "Auto-assigning NUTS sampler...\n",
      "Initializing NUTS using jitter+adapt_diag...\n",
      "Multiprocess sampling (4 chains in 4 jobs)\n",
      "NUTS: [a]\n",
      "Sampling 4 chains: 100%|██████████| 8000/8000 [00:01<00:00, 5332.99draws/s]\n",
      "Auto-assigning NUTS sampler...\n",
      "Initializing NUTS using jitter+adapt_diag...\n",
      "Multiprocess sampling (4 chains in 4 jobs)\n",
      "NUTS: [a]\n",
      "Sampling 4 chains: 100%|██████████| 8000/8000 [00:01<00:00, 4988.11draws/s]\n"
     ]
    }
   ],
   "source": [
    "with pm.Model() as m_binom:\n",
    "    a = pm.Normal(\"a\", 0, 100)\n",
    "    p = pm.math.invlogit(a)\n",
    "    admit = pm.Binomial(\"admit\", p=p, n=d[\"applications\"], observed=d[\"admit\"])\n",
    "    trace_binom = pm.sample(1000, tune=1000)\n",
    "    \n",
    "with pm.Model() as m_pois:\n",
    "    a = pm.Normal(\"a\", 0, 100, shape=2)\n",
    "    lam = pm.math.exp(a)\n",
    "    admit = pm.Poisson(\"admit\", lam[0], observed=d[\"admit\"])\n",
    "    rej = pm.Poisson(\"rej\", lam[1], observed=d[\"reject\"])\n",
    "    trace_pois = pm.sample(1000, tune=1000)"
   ]
  },
  {
   "cell_type": "markdown",
   "metadata": {},
   "source": [
    "###  10.61"
   ]
  },
  {
   "cell_type": "code",
   "execution_count": 76,
   "metadata": {},
   "outputs": [
    {
     "data": {
      "text/plain": [
       "a    0.387677\n",
       "Name: mean, dtype: float64"
      ]
     },
     "execution_count": 76,
     "metadata": {},
     "output_type": "execute_result"
    }
   ],
   "source": [
    "expit(pm.summary(trace_binom)[\"mean\"])"
   ]
  },
  {
   "cell_type": "markdown",
   "metadata": {},
   "source": [
    "### 10.62"
   ]
  },
  {
   "cell_type": "code",
   "execution_count": 77,
   "metadata": {},
   "outputs": [
    {
     "data": {
      "text/plain": [
       "0.38778560907749915"
      ]
     },
     "execution_count": 77,
     "metadata": {},
     "output_type": "execute_result"
    }
   ],
   "source": [
    "k = pm.summary(trace_pois)[\"mean\"]\n",
    "np.exp(k[\"a__0\"])/(np.exp(k[\"a__0\"])+np.exp(k[\"a__1\"]))"
   ]
  },
  {
   "cell_type": "markdown",
   "metadata": {},
   "source": [
    "### 10.63"
   ]
  },
  {
   "cell_type": "code",
   "execution_count": 78,
   "metadata": {},
   "outputs": [
    {
     "name": "stderr",
     "output_type": "stream",
     "text": [
      "Auto-assigning NUTS sampler...\n",
      "Initializing NUTS using jitter+adapt_diag...\n",
      "Multiprocess sampling (4 chains in 4 jobs)\n",
      "NUTS: [b, a]\n",
      "Sampling 4 chains: 100%|██████████| 8000/8000 [00:02<00:00, 3846.29draws/s]\n"
     ]
    },
    {
     "data": {
      "text/html": [
       "<div>\n",
       "<style scoped>\n",
       "    .dataframe tbody tr th:only-of-type {\n",
       "        vertical-align: middle;\n",
       "    }\n",
       "\n",
       "    .dataframe tbody tr th {\n",
       "        vertical-align: top;\n",
       "    }\n",
       "\n",
       "    .dataframe thead th {\n",
       "        text-align: right;\n",
       "    }\n",
       "</style>\n",
       "<table border=\"1\" class=\"dataframe\">\n",
       "  <thead>\n",
       "    <tr style=\"text-align: right;\">\n",
       "      <th></th>\n",
       "      <th>mean</th>\n",
       "      <th>sd</th>\n",
       "      <th>mc_error</th>\n",
       "      <th>hpd_5.5</th>\n",
       "      <th>hpd_94.5</th>\n",
       "      <th>n_eff</th>\n",
       "      <th>Rhat</th>\n",
       "    </tr>\n",
       "  </thead>\n",
       "  <tbody>\n",
       "    <tr>\n",
       "      <th>a</th>\n",
       "      <td>-0.60</td>\n",
       "      <td>0.24</td>\n",
       "      <td>0.01</td>\n",
       "      <td>-1.01</td>\n",
       "      <td>-0.23</td>\n",
       "      <td>1279.77</td>\n",
       "      <td>1.0</td>\n",
       "    </tr>\n",
       "    <tr>\n",
       "      <th>b</th>\n",
       "      <td>1.64</td>\n",
       "      <td>0.47</td>\n",
       "      <td>0.01</td>\n",
       "      <td>0.92</td>\n",
       "      <td>2.41</td>\n",
       "      <td>1381.45</td>\n",
       "      <td>1.0</td>\n",
       "    </tr>\n",
       "  </tbody>\n",
       "</table>\n",
       "</div>"
      ],
      "text/plain": [
       "   mean    sd  mc_error  hpd_5.5  hpd_94.5    n_eff  Rhat\n",
       "a -0.60  0.24      0.01    -1.01     -0.23  1279.77   1.0\n",
       "b  1.64  0.47      0.01     0.92      2.41  1381.45   1.0"
      ]
     },
     "execution_count": 78,
     "metadata": {},
     "output_type": "execute_result"
    }
   ],
   "source": [
    "N = 100\n",
    "x = stats.uniform.rvs(size=N)\n",
    "y = stats.geom.rvs(expit(-1 + 2*x))\n",
    "\n",
    "with pm.Model() as m10_18:\n",
    "    a = pm.Normal(\"a\", 0, 10)\n",
    "    b = pm.Normal(\"b\", 0, 1)\n",
    "    p = pm.math.invlogit(a + b*x)\n",
    "    obs = pm.Geometric(\"y\", p=p, observed=y)\n",
    "    trace10_18 = pm.sample(1000, tune=1000)\n",
    "\n",
    "(pm.summary(trace10_18, alpha=0.11)\n",
    " .round(2))"
   ]
  }
 ],
 "metadata": {
  "kernelspec": {
   "display_name": "Python 3",
   "language": "python",
   "name": "python3"
  },
  "language_info": {
   "codemirror_mode": {
    "name": "ipython",
    "version": 3
   },
   "file_extension": ".py",
   "mimetype": "text/x-python",
   "name": "python",
   "nbconvert_exporter": "python",
   "pygments_lexer": "ipython3",
   "version": "3.7.3"
  }
 },
 "nbformat": 4,
 "nbformat_minor": 2
}
