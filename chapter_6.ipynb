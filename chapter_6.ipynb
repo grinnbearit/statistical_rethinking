{
 "cells": [
  {
   "cell_type": "markdown",
   "metadata": {},
   "source": [
    "# The Haunted DAG & The Causal Terror"
   ]
  },
  {
   "cell_type": "code",
   "execution_count": 1,
   "metadata": {},
   "outputs": [],
   "source": [
    "import warnings\n",
    "warnings.filterwarnings(\"ignore\")"
   ]
  },
  {
   "cell_type": "code",
   "execution_count": 2,
   "metadata": {},
   "outputs": [],
   "source": [
    "import numpy as np\n",
    "import pymc3 as pm\n",
    "import pandas as pd\n",
    "import seaborn as sns\n",
    "import scipy.stats as stats\n",
    "import matplotlib.pyplot as plt\n",
    "import statsmodels.formula.api as smf\n",
    "from causalgraphicalmodels import CausalGraphicalModel\n",
    "%matplotlib inline"
   ]
  },
  {
   "cell_type": "code",
   "execution_count": 3,
   "metadata": {},
   "outputs": [],
   "source": [
    "import statsutils"
   ]
  },
  {
   "cell_type": "code",
   "execution_count": 4,
   "metadata": {},
   "outputs": [],
   "source": [
    "sns.set()"
   ]
  },
  {
   "cell_type": "markdown",
   "metadata": {},
   "source": [
    "### 6.1"
   ]
  },
  {
   "cell_type": "code",
   "execution_count": 5,
   "metadata": {},
   "outputs": [
    {
     "data": {
      "text/plain": [
       "array([[ 1.        , -0.64839295],\n",
       "       [-0.64839295,  1.        ]])"
      ]
     },
     "execution_count": 5,
     "metadata": {},
     "output_type": "execute_result"
    }
   ],
   "source": [
    "np.random.seed(1914)\n",
    "N = 200\n",
    "p = 0.1\n",
    "nw = stats.norm.rvs(size=N)\n",
    "tw = stats.norm.rvs(size=N)\n",
    "s = nw + tw\n",
    "q = np.quantile(s, 1-p)\n",
    "selected = s >= q\n",
    "np.corrcoef(tw[selected], nw[selected])"
   ]
  },
  {
   "cell_type": "markdown",
   "metadata": {},
   "source": [
    "## Multicollinearity"
   ]
  },
  {
   "cell_type": "markdown",
   "metadata": {},
   "source": [
    "### 6.2"
   ]
  },
  {
   "cell_type": "code",
   "execution_count": 6,
   "metadata": {},
   "outputs": [],
   "source": [
    "N = 100\n",
    "np.random.seed(909)\n",
    "height = stats.norm.rvs(10, 2, N)\n",
    "leg_prop = stats.uniform.rvs(0.4, 0.5, N)\n",
    "leg_left = leg_prop*height + stats.norm.rvs(0, 0.02, N)\n",
    "leg_right = leg_prop*height + stats.norm.rvs(0, 0.02, N)\n",
    "d = pd.DataFrame({\"height\": height, \n",
    "                  \"leg_left\": leg_left,\n",
    "                  \"leg_right\": leg_right})"
   ]
  },
  {
   "cell_type": "markdown",
   "metadata": {},
   "source": [
    "### 6.3"
   ]
  },
  {
   "cell_type": "code",
   "execution_count": 7,
   "metadata": {},
   "outputs": [
    {
     "name": "stderr",
     "output_type": "stream",
     "text": [
      "Auto-assigning NUTS sampler...\n",
      "Initializing NUTS using jitter+adapt_diag...\n",
      "Multiprocess sampling (4 chains in 4 jobs)\n",
      "NUTS: [a, bl, br, sigma]\n",
      "Sampling 4 chains, 0 divergences: 100%|██████████| 4000/4000 [01:02<00:00, 64.06draws/s] \n",
      "The acceptance probability does not match the target. It is 0.894486444441349, but should be close to 0.8. Try to increase the number of tuning steps.\n"
     ]
    },
    {
     "data": {
      "text/html": [
       "<div>\n",
       "<style scoped>\n",
       "    .dataframe tbody tr th:only-of-type {\n",
       "        vertical-align: middle;\n",
       "    }\n",
       "\n",
       "    .dataframe tbody tr th {\n",
       "        vertical-align: top;\n",
       "    }\n",
       "\n",
       "    .dataframe thead th {\n",
       "        text-align: right;\n",
       "    }\n",
       "</style>\n",
       "<table border=\"1\" class=\"dataframe\">\n",
       "  <thead>\n",
       "    <tr style=\"text-align: right;\">\n",
       "      <th></th>\n",
       "      <th>mean</th>\n",
       "      <th>sd</th>\n",
       "      <th>hdi_5.5%</th>\n",
       "      <th>hdi_94.5%</th>\n",
       "      <th>mcse_mean</th>\n",
       "      <th>mcse_sd</th>\n",
       "      <th>ess_mean</th>\n",
       "      <th>ess_sd</th>\n",
       "      <th>ess_bulk</th>\n",
       "      <th>ess_tail</th>\n",
       "      <th>r_hat</th>\n",
       "    </tr>\n",
       "  </thead>\n",
       "  <tbody>\n",
       "    <tr>\n",
       "      <th>a</th>\n",
       "      <td>5.813</td>\n",
       "      <td>0.555</td>\n",
       "      <td>4.959</td>\n",
       "      <td>6.764</td>\n",
       "      <td>0.016</td>\n",
       "      <td>0.011</td>\n",
       "      <td>1252.0</td>\n",
       "      <td>1244.0</td>\n",
       "      <td>1253.0</td>\n",
       "      <td>1195.0</td>\n",
       "      <td>1.0</td>\n",
       "    </tr>\n",
       "    <tr>\n",
       "      <th>bl</th>\n",
       "      <td>-7.215</td>\n",
       "      <td>4.169</td>\n",
       "      <td>-13.124</td>\n",
       "      <td>0.004</td>\n",
       "      <td>0.173</td>\n",
       "      <td>0.122</td>\n",
       "      <td>584.0</td>\n",
       "      <td>584.0</td>\n",
       "      <td>590.0</td>\n",
       "      <td>698.0</td>\n",
       "      <td>1.0</td>\n",
       "    </tr>\n",
       "    <tr>\n",
       "      <th>br</th>\n",
       "      <td>7.853</td>\n",
       "      <td>4.162</td>\n",
       "      <td>0.535</td>\n",
       "      <td>13.629</td>\n",
       "      <td>0.172</td>\n",
       "      <td>0.122</td>\n",
       "      <td>583.0</td>\n",
       "      <td>583.0</td>\n",
       "      <td>589.0</td>\n",
       "      <td>683.0</td>\n",
       "      <td>1.0</td>\n",
       "    </tr>\n",
       "    <tr>\n",
       "      <th>sigma</th>\n",
       "      <td>1.547</td>\n",
       "      <td>0.114</td>\n",
       "      <td>1.364</td>\n",
       "      <td>1.727</td>\n",
       "      <td>0.004</td>\n",
       "      <td>0.003</td>\n",
       "      <td>953.0</td>\n",
       "      <td>948.0</td>\n",
       "      <td>928.0</td>\n",
       "      <td>968.0</td>\n",
       "      <td>1.0</td>\n",
       "    </tr>\n",
       "  </tbody>\n",
       "</table>\n",
       "</div>"
      ],
      "text/plain": [
       "        mean     sd  hdi_5.5%  hdi_94.5%  mcse_mean  mcse_sd  ess_mean  \\\n",
       "a      5.813  0.555     4.959      6.764      0.016    0.011    1252.0   \n",
       "bl    -7.215  4.169   -13.124      0.004      0.173    0.122     584.0   \n",
       "br     7.853  4.162     0.535     13.629      0.172    0.122     583.0   \n",
       "sigma  1.547  0.114     1.364      1.727      0.004    0.003     953.0   \n",
       "\n",
       "       ess_sd  ess_bulk  ess_tail  r_hat  \n",
       "a      1244.0    1253.0    1195.0    1.0  \n",
       "bl      584.0     590.0     698.0    1.0  \n",
       "br      583.0     589.0     683.0    1.0  \n",
       "sigma   948.0     928.0     968.0    1.0  "
      ]
     },
     "execution_count": 7,
     "metadata": {},
     "output_type": "execute_result"
    }
   ],
   "source": [
    "with pm.Model() as m6_1:\n",
    "    sigma = pm.Exponential(\"sigma\", lam=1.0)\n",
    "    br = pm.Normal(\"br\", mu=2, sd=10)\n",
    "    bl = pm.Normal(\"bl\", mu=2, sd=10)\n",
    "    a = pm.Normal(\"a\", mu=10, sd=100)\n",
    "    mu = pm.Deterministic(\"mu\", a + bl*d[\"leg_left\"] + br*d[\"leg_right\"])\n",
    "    height = pm.Normal(\"height\", mu=mu, sd=sigma, observed=d[\"height\"])\n",
    "    trace_6_1 = pm.sample()\n",
    "    \n",
    "pm.summary(trace_6_1, var_names=[\"a\", \"bl\", \"br\", \"sigma\"], hdi_prob=0.89)"
   ]
  },
  {
   "cell_type": "markdown",
   "metadata": {},
   "source": [
    "### 6.4"
   ]
  },
  {
   "cell_type": "code",
   "execution_count": 8,
   "metadata": {},
   "outputs": [
    {
     "data": {
      "image/png": "[encoded data removed]",
      "text/plain": [
       "<Figure size 972x648 with 1 Axes>"
      ]
     },
     "metadata": {},
     "output_type": "display_data"
    }
   ],
   "source": [
    "f, ax = plt.subplots(1, 1)\n",
    "f.set_size_inches(13.5, 9);\n",
    "pm.forestplot(trace_6_1, hdi_prob=0.89, ax=ax, var_names=[\"a\", \"bl\", \"br\", \"sigma\"], combined=True);"
   ]
  },
  {
   "cell_type": "markdown",
   "metadata": {},
   "source": [
    "### 6.5"
   ]
  },
  {
   "cell_type": "code",
   "execution_count": 9,
   "metadata": {},
   "outputs": [
    {
     "name": "stderr",
     "output_type": "stream",
     "text": [
      "100%|██████████| 1000/1000 [00:00<00:00, 13993.28it/s]\n"
     ]
    },
    {
     "data": {
      "image/png": "[encoded data removed]",
      "text/plain": [
       "<Figure size 972x648 with 1 Axes>"
      ]
     },
     "metadata": {},
     "output_type": "display_data"
    }
   ],
   "source": [
    "post = pm.sample_posterior_predictive(trace_6_1, 1000, m6_1, var_names=[\"bl\", \"br\"])\n",
    "f, ax = plt.subplots(1, 1)\n",
    "f.set_size_inches(13.5, 9);\n",
    "ax.scatter(post[\"bl\"], post[\"br\"], alpha=0.1);"
   ]
  },
  {
   "cell_type": "markdown",
   "metadata": {},
   "source": [
    "### 6.6"
   ]
  },
  {
   "cell_type": "code",
   "execution_count": 10,
   "metadata": {},
   "outputs": [
    {
     "data": {
      "image/png": "[encoded data removed]",
      "text/plain": [
       "<Figure size 972x648 with 1 Axes>"
      ]
     },
     "metadata": {},
     "output_type": "display_data"
    }
   ],
   "source": [
    "sum_blbr = post[\"bl\"] + post[\"br\"]\n",
    "f, ax = plt.subplots(1, 1)\n",
    "f.set_size_inches(13.5, 9);\n",
    "sns.kdeplot(sum_blbr)\n",
    "ax.set_xlabel(\"sum of bl and br\");"
   ]
  },
  {
   "cell_type": "markdown",
   "metadata": {},
   "source": [
    "### 6.7"
   ]
  },
  {
   "cell_type": "code",
   "execution_count": 11,
   "metadata": {},
   "outputs": [
    {
     "name": "stderr",
     "output_type": "stream",
     "text": [
      "Auto-assigning NUTS sampler...\n",
      "Initializing NUTS using jitter+adapt_diag...\n",
      "Multiprocess sampling (4 chains in 4 jobs)\n",
      "NUTS: [a, bl, sigma]\n",
      "Sampling 4 chains, 0 divergences: 100%|██████████| 4000/4000 [00:02<00:00, 1992.80draws/s]\n"
     ]
    },
    {
     "data": {
      "text/html": [
       "<div>\n",
       "<style scoped>\n",
       "    .dataframe tbody tr th:only-of-type {\n",
       "        vertical-align: middle;\n",
       "    }\n",
       "\n",
       "    .dataframe tbody tr th {\n",
       "        vertical-align: top;\n",
       "    }\n",
       "\n",
       "    .dataframe thead th {\n",
       "        text-align: right;\n",
       "    }\n",
       "</style>\n",
       "<table border=\"1\" class=\"dataframe\">\n",
       "  <thead>\n",
       "    <tr style=\"text-align: right;\">\n",
       "      <th></th>\n",
       "      <th>mean</th>\n",
       "      <th>sd</th>\n",
       "      <th>hdi_5.5%</th>\n",
       "      <th>hdi_94.5%</th>\n",
       "      <th>mcse_mean</th>\n",
       "      <th>mcse_sd</th>\n",
       "      <th>ess_mean</th>\n",
       "      <th>ess_sd</th>\n",
       "      <th>ess_bulk</th>\n",
       "      <th>ess_tail</th>\n",
       "      <th>r_hat</th>\n",
       "    </tr>\n",
       "  </thead>\n",
       "  <tbody>\n",
       "    <tr>\n",
       "      <th>a</th>\n",
       "      <td>5.663</td>\n",
       "      <td>0.559</td>\n",
       "      <td>4.761</td>\n",
       "      <td>6.479</td>\n",
       "      <td>0.019</td>\n",
       "      <td>0.014</td>\n",
       "      <td>840.0</td>\n",
       "      <td>840.0</td>\n",
       "      <td>852.0</td>\n",
       "      <td>746.0</td>\n",
       "      <td>1.0</td>\n",
       "    </tr>\n",
       "    <tr>\n",
       "      <th>bl</th>\n",
       "      <td>0.657</td>\n",
       "      <td>0.079</td>\n",
       "      <td>0.522</td>\n",
       "      <td>0.774</td>\n",
       "      <td>0.003</td>\n",
       "      <td>0.002</td>\n",
       "      <td>841.0</td>\n",
       "      <td>828.0</td>\n",
       "      <td>855.0</td>\n",
       "      <td>768.0</td>\n",
       "      <td>1.0</td>\n",
       "    </tr>\n",
       "    <tr>\n",
       "      <th>sigma</th>\n",
       "      <td>1.579</td>\n",
       "      <td>0.118</td>\n",
       "      <td>1.390</td>\n",
       "      <td>1.749</td>\n",
       "      <td>0.004</td>\n",
       "      <td>0.003</td>\n",
       "      <td>957.0</td>\n",
       "      <td>946.0</td>\n",
       "      <td>970.0</td>\n",
       "      <td>716.0</td>\n",
       "      <td>1.0</td>\n",
       "    </tr>\n",
       "  </tbody>\n",
       "</table>\n",
       "</div>"
      ],
      "text/plain": [
       "        mean     sd  hdi_5.5%  hdi_94.5%  mcse_mean  mcse_sd  ess_mean  \\\n",
       "a      5.663  0.559     4.761      6.479      0.019    0.014     840.0   \n",
       "bl     0.657  0.079     0.522      0.774      0.003    0.002     841.0   \n",
       "sigma  1.579  0.118     1.390      1.749      0.004    0.003     957.0   \n",
       "\n",
       "       ess_sd  ess_bulk  ess_tail  r_hat  \n",
       "a       840.0     852.0     746.0    1.0  \n",
       "bl      828.0     855.0     768.0    1.0  \n",
       "sigma   946.0     970.0     716.0    1.0  "
      ]
     },
     "execution_count": 11,
     "metadata": {},
     "output_type": "execute_result"
    }
   ],
   "source": [
    "with pm.Model() as m6_2:\n",
    "    sigma = pm.Exponential(\"sigma\", lam=1.0)\n",
    "    bl = pm.Normal(\"bl\", mu=2, sd=10)\n",
    "    a = pm.Normal(\"a\", mu=10, sd=100)\n",
    "    mu = pm.Deterministic(\"mu\", a + bl*d[\"leg_left\"])\n",
    "    height = pm.Normal(\"height\", mu=mu, sd=sigma, observed=d[\"height\"])\n",
    "    trace_6_2 = pm.sample()\n",
    "    \n",
    "pm.summary(trace_6_2, var_names=[\"a\", \"bl\", \"sigma\"], hdi_prob=0.89)"
   ]
  },
  {
   "cell_type": "markdown",
   "metadata": {},
   "source": [
    "### 6.8"
   ]
  },
  {
   "cell_type": "code",
   "execution_count": 12,
   "metadata": {},
   "outputs": [],
   "source": [
    "d = (pd.read_csv('Data/milk.csv', sep=';')\n",
    "     .assign(K=lambda df: statsutils.standardise(df[\"kcal.per.g\"]))\n",
    "     .assign(F=lambda df: statsutils.standardise(df[\"perc.fat\"]))\n",
    "     .assign(L=lambda df: statsutils.standardise(df[\"perc.lactose\"])))"
   ]
  },
  {
   "cell_type": "markdown",
   "metadata": {},
   "source": [
    "### 6.9"
   ]
  },
  {
   "cell_type": "code",
   "execution_count": 13,
   "metadata": {},
   "outputs": [
    {
     "name": "stderr",
     "output_type": "stream",
     "text": [
      "Auto-assigning NUTS sampler...\n",
      "Initializing NUTS using jitter+adapt_diag...\n",
      "Multiprocess sampling (4 chains in 4 jobs)\n",
      "NUTS: [a, bF, sigma]\n",
      "Sampling 4 chains, 0 divergences: 100%|██████████| 4000/4000 [00:01<00:00, 3709.35draws/s]\n",
      "Auto-assigning NUTS sampler...\n",
      "Initializing NUTS using jitter+adapt_diag...\n",
      "Multiprocess sampling (4 chains in 4 jobs)\n",
      "NUTS: [a, bL, sigma]\n",
      "Sampling 4 chains, 0 divergences: 100%|██████████| 4000/4000 [00:01<00:00, 3815.09draws/s]\n"
     ]
    },
    {
     "name": "stdout",
     "output_type": "stream",
     "text": [
      "        mean     sd  hdi_5.5%  hdi_94.5%\n",
      "a      0.003  0.084    -0.123      0.142\n",
      "bF     0.856  0.094     0.717      1.008\n",
      "sigma  0.487  0.069     0.386      0.595\n",
      "        mean     sd  hdi_5.5%  hdi_94.5%\n",
      "a      0.001  0.075    -0.118      0.124\n",
      "bL    -0.899  0.075    -1.029     -0.788\n",
      "sigma  0.412  0.057     0.323      0.495\n"
     ]
    }
   ],
   "source": [
    "with pm.Model() as m6_3:\n",
    "    sigma = pm.Exponential(\"sigma\", lam=1.0)\n",
    "    bF = pm.Normal(\"bF\", mu=0, sd=0.5)\n",
    "    a = pm.Normal(\"a\", mu=0, sd=0.2)\n",
    "    mu = pm.Deterministic(\"mu\", a + bF*d[\"F\"])\n",
    "    K = pm.Normal(\"K\", mu=mu, sd=sigma, observed=d[\"K\"])\n",
    "    trace_6_3 = pm.sample()\n",
    "    \n",
    "with pm.Model() as m6_4:\n",
    "    sigma = pm.Exponential(\"sigma\", lam=1.0)\n",
    "    bL = pm.Normal(\"bL\", mu=0, sd=0.5)\n",
    "    a = pm.Normal(\"a\", mu=0, sd=0.2)\n",
    "    mu = pm.Deterministic(\"mu\", a + bL*d[\"L\"])\n",
    "    K = pm.Normal(\"K\", mu=mu, sd=sigma, observed=d[\"K\"])\n",
    "    trace_6_4 = pm.sample()\n",
    "    \n",
    "print(pm.summary(trace_6_3, var_names=[\"a\", \"bF\", \"sigma\"], hdi_prob=0.89)\n",
    "      [[\"mean\", \"sd\", \"hdi_5.5%\", \"hdi_94.5%\"]])\n",
    "print(pm.summary(trace_6_4, var_names=[\"a\", \"bL\", \"sigma\"], hdi_prob=0.89)\n",
    "      [[\"mean\", \"sd\", \"hdi_5.5%\", \"hdi_94.5%\"]])"
   ]
  },
  {
   "cell_type": "markdown",
   "metadata": {},
   "source": [
    "### 6.10"
   ]
  },
  {
   "cell_type": "code",
   "execution_count": 14,
   "metadata": {},
   "outputs": [
    {
     "name": "stderr",
     "output_type": "stream",
     "text": [
      "Auto-assigning NUTS sampler...\n",
      "Initializing NUTS using jitter+adapt_diag...\n",
      "Multiprocess sampling (4 chains in 4 jobs)\n",
      "NUTS: [a, bF, bL, sigma]\n",
      "Sampling 4 chains, 0 divergences: 100%|██████████| 4000/4000 [00:02<00:00, 1950.36draws/s]\n"
     ]
    },
    {
     "data": {
      "text/html": [
       "<div>\n",
       "<style scoped>\n",
       "    .dataframe tbody tr th:only-of-type {\n",
       "        vertical-align: middle;\n",
       "    }\n",
       "\n",
       "    .dataframe tbody tr th {\n",
       "        vertical-align: top;\n",
       "    }\n",
       "\n",
       "    .dataframe thead th {\n",
       "        text-align: right;\n",
       "    }\n",
       "</style>\n",
       "<table border=\"1\" class=\"dataframe\">\n",
       "  <thead>\n",
       "    <tr style=\"text-align: right;\">\n",
       "      <th></th>\n",
       "      <th>mean</th>\n",
       "      <th>sd</th>\n",
       "      <th>hdi_5.5%</th>\n",
       "      <th>hdi_94.5%</th>\n",
       "      <th>mcse_mean</th>\n",
       "      <th>mcse_sd</th>\n",
       "      <th>ess_mean</th>\n",
       "      <th>ess_sd</th>\n",
       "      <th>ess_bulk</th>\n",
       "      <th>ess_tail</th>\n",
       "      <th>r_hat</th>\n",
       "    </tr>\n",
       "  </thead>\n",
       "  <tbody>\n",
       "    <tr>\n",
       "      <th>a</th>\n",
       "      <td>0.002</td>\n",
       "      <td>0.072</td>\n",
       "      <td>-0.121</td>\n",
       "      <td>0.112</td>\n",
       "      <td>0.002</td>\n",
       "      <td>0.002</td>\n",
       "      <td>1227.0</td>\n",
       "      <td>672.0</td>\n",
       "      <td>1246.0</td>\n",
       "      <td>845.0</td>\n",
       "      <td>1.00</td>\n",
       "    </tr>\n",
       "    <tr>\n",
       "      <th>bL</th>\n",
       "      <td>-0.658</td>\n",
       "      <td>0.197</td>\n",
       "      <td>-0.963</td>\n",
       "      <td>-0.338</td>\n",
       "      <td>0.007</td>\n",
       "      <td>0.005</td>\n",
       "      <td>845.0</td>\n",
       "      <td>845.0</td>\n",
       "      <td>847.0</td>\n",
       "      <td>843.0</td>\n",
       "      <td>1.01</td>\n",
       "    </tr>\n",
       "    <tr>\n",
       "      <th>bF</th>\n",
       "      <td>0.260</td>\n",
       "      <td>0.194</td>\n",
       "      <td>-0.042</td>\n",
       "      <td>0.560</td>\n",
       "      <td>0.007</td>\n",
       "      <td>0.005</td>\n",
       "      <td>865.0</td>\n",
       "      <td>814.0</td>\n",
       "      <td>869.0</td>\n",
       "      <td>950.0</td>\n",
       "      <td>1.01</td>\n",
       "    </tr>\n",
       "    <tr>\n",
       "      <th>sigma</th>\n",
       "      <td>0.413</td>\n",
       "      <td>0.061</td>\n",
       "      <td>0.320</td>\n",
       "      <td>0.505</td>\n",
       "      <td>0.002</td>\n",
       "      <td>0.001</td>\n",
       "      <td>1068.0</td>\n",
       "      <td>1068.0</td>\n",
       "      <td>1057.0</td>\n",
       "      <td>1174.0</td>\n",
       "      <td>1.01</td>\n",
       "    </tr>\n",
       "  </tbody>\n",
       "</table>\n",
       "</div>"
      ],
      "text/plain": [
       "        mean     sd  hdi_5.5%  hdi_94.5%  mcse_mean  mcse_sd  ess_mean  \\\n",
       "a      0.002  0.072    -0.121      0.112      0.002    0.002    1227.0   \n",
       "bL    -0.658  0.197    -0.963     -0.338      0.007    0.005     845.0   \n",
       "bF     0.260  0.194    -0.042      0.560      0.007    0.005     865.0   \n",
       "sigma  0.413  0.061     0.320      0.505      0.002    0.001    1068.0   \n",
       "\n",
       "       ess_sd  ess_bulk  ess_tail  r_hat  \n",
       "a       672.0    1246.0     845.0   1.00  \n",
       "bL      845.0     847.0     843.0   1.01  \n",
       "bF      814.0     869.0     950.0   1.01  \n",
       "sigma  1068.0    1057.0    1174.0   1.01  "
      ]
     },
     "execution_count": 14,
     "metadata": {},
     "output_type": "execute_result"
    }
   ],
   "source": [
    "with pm.Model() as m6_5:\n",
    "    sigma = pm.Exponential(\"sigma\", lam=1.0)\n",
    "    bL = pm.Normal(\"bL\", mu=0, sd=0.5)\n",
    "    bF = pm.Normal(\"bF\", mu=0, sd=0.5)\n",
    "    a = pm.Normal(\"a\", mu=0, sd=0.2)\n",
    "    mu = pm.Deterministic(\"mu\", a + bF*d[\"F\"] + bL*d[\"L\"])\n",
    "    K = pm.Normal(\"K\", mu=mu, sd=sigma, observed=d[\"K\"])\n",
    "    trace_6_5 = pm.sample()\n",
    "    \n",
    "pm.summary(trace_6_5, var_names=[\"a\", \"bL\", \"bF\", \"sigma\"], hdi_prob=0.89)"
   ]
  },
  {
   "cell_type": "markdown",
   "metadata": {},
   "source": [
    "### 6.11"
   ]
  },
  {
   "cell_type": "code",
   "execution_count": 15,
   "metadata": {},
   "outputs": [
    {
     "data": {
      "image/png": "[encoded data removed]",
      "text/plain": [
       "<Figure size 540x540 with 12 Axes>"
      ]
     },
     "metadata": {},
     "output_type": "display_data"
    }
   ],
   "source": [
    "sns.pairplot(d[[\"kcal.per.g\", \"perc.fat\", \"perc.lactose\"]]);"
   ]
  },
  {
   "cell_type": "markdown",
   "metadata": {},
   "source": [
    "### 6.12"
   ]
  },
  {
   "cell_type": "code",
   "execution_count": 16,
   "metadata": {},
   "outputs": [
    {
     "data": {
      "image/png": "[encoded data removed]",
      "text/plain": [
       "<Figure size 972x648 with 1 Axes>"
      ]
     },
     "metadata": {},
     "output_type": "display_data"
    }
   ],
   "source": [
    "d = (pd.read_csv('Data/milk.csv', sep=';')\n",
    "     .rename(columns={\"kcal.per.g\": \"kcal\",\n",
    "                      \"perc.fat\": \"fat\"}))\n",
    "\n",
    "def sim_coll(r=0.9):\n",
    "    x = stats.norm.rvs(r*d[\"fat\"], np.sqrt((1-r**2)*np.var(d[\"fat\"])))\n",
    "    m = smf.ols(\"kcal ~ fat + x\", data=d.assign(x=x)).fit()\n",
    "    return np.sqrt(np.diag(m.cov_params())[-1])\n",
    "\n",
    "def rep_sim_coll(r=0.9, n=100):\n",
    "    return np.mean([sim_coll(r) for _ in range(n)])\n",
    "\n",
    "r_seq = np.arange(0, 1, 0.01)\n",
    "stddev = [rep_sim_coll(r) for r in r_seq]\n",
    "\n",
    "f, ax = plt.subplots(1, 1)\n",
    "f.set_size_inches(13.5, 9);\n",
    "ax.plot(r_seq, stddev);"
   ]
  },
  {
   "cell_type": "markdown",
   "metadata": {},
   "source": [
    "## Post-Treatment Bias"
   ]
  },
  {
   "cell_type": "markdown",
   "metadata": {},
   "source": [
    "### 6.13"
   ]
  },
  {
   "cell_type": "code",
   "execution_count": 17,
   "metadata": {},
   "outputs": [
    {
     "data": {
      "text/html": [
       "<div>\n",
       "<style scoped>\n",
       "    .dataframe tbody tr th:only-of-type {\n",
       "        vertical-align: middle;\n",
       "    }\n",
       "\n",
       "    .dataframe tbody tr th {\n",
       "        vertical-align: top;\n",
       "    }\n",
       "\n",
       "    .dataframe thead th {\n",
       "        text-align: right;\n",
       "    }\n",
       "</style>\n",
       "<table border=\"1\" class=\"dataframe\">\n",
       "  <thead>\n",
       "    <tr style=\"text-align: right;\">\n",
       "      <th></th>\n",
       "      <th>h0</th>\n",
       "      <th>h1</th>\n",
       "      <th>treatment</th>\n",
       "      <th>fungus</th>\n",
       "    </tr>\n",
       "  </thead>\n",
       "  <tbody>\n",
       "    <tr>\n",
       "      <th>count</th>\n",
       "      <td>100.000000</td>\n",
       "      <td>100.000000</td>\n",
       "      <td>100.000000</td>\n",
       "      <td>100.000000</td>\n",
       "    </tr>\n",
       "    <tr>\n",
       "      <th>mean</th>\n",
       "      <td>10.151728</td>\n",
       "      <td>14.492661</td>\n",
       "      <td>0.500000</td>\n",
       "      <td>0.280000</td>\n",
       "    </tr>\n",
       "    <tr>\n",
       "      <th>std</th>\n",
       "      <td>1.667146</td>\n",
       "      <td>2.452841</td>\n",
       "      <td>0.502519</td>\n",
       "      <td>0.451261</td>\n",
       "    </tr>\n",
       "    <tr>\n",
       "      <th>min</th>\n",
       "      <td>6.087715</td>\n",
       "      <td>7.294385</td>\n",
       "      <td>0.000000</td>\n",
       "      <td>0.000000</td>\n",
       "    </tr>\n",
       "    <tr>\n",
       "      <th>25%</th>\n",
       "      <td>9.045405</td>\n",
       "      <td>12.737115</td>\n",
       "      <td>0.000000</td>\n",
       "      <td>0.000000</td>\n",
       "    </tr>\n",
       "    <tr>\n",
       "      <th>50%</th>\n",
       "      <td>10.117129</td>\n",
       "      <td>14.733176</td>\n",
       "      <td>0.500000</td>\n",
       "      <td>0.000000</td>\n",
       "    </tr>\n",
       "    <tr>\n",
       "      <th>75%</th>\n",
       "      <td>11.368423</td>\n",
       "      <td>16.260289</td>\n",
       "      <td>1.000000</td>\n",
       "      <td>1.000000</td>\n",
       "    </tr>\n",
       "    <tr>\n",
       "      <th>max</th>\n",
       "      <td>13.885944</td>\n",
       "      <td>20.043991</td>\n",
       "      <td>1.000000</td>\n",
       "      <td>1.000000</td>\n",
       "    </tr>\n",
       "  </tbody>\n",
       "</table>\n",
       "</div>"
      ],
      "text/plain": [
       "               h0          h1   treatment      fungus\n",
       "count  100.000000  100.000000  100.000000  100.000000\n",
       "mean    10.151728   14.492661    0.500000    0.280000\n",
       "std      1.667146    2.452841    0.502519    0.451261\n",
       "min      6.087715    7.294385    0.000000    0.000000\n",
       "25%      9.045405   12.737115    0.000000    0.000000\n",
       "50%     10.117129   14.733176    0.500000    0.000000\n",
       "75%     11.368423   16.260289    1.000000    1.000000\n",
       "max     13.885944   20.043991    1.000000    1.000000"
      ]
     },
     "execution_count": 17,
     "metadata": {},
     "output_type": "execute_result"
    }
   ],
   "source": [
    "np.random.seed(71)\n",
    "N = 100\n",
    "h0 = stats.norm.rvs(10, 2, N)\n",
    "treatment = np.concatenate([np.zeros(N//2), np.ones(N//2)])\n",
    "fungus = stats.binom.rvs(p=0.5 - 0.4*treatment, n=1)\n",
    "h1 = h0 + stats.norm.rvs(5-3*fungus, 1, N)\n",
    "d = pd.DataFrame({\"h0\": h0,\n",
    "                  \"h1\": h1,\n",
    "                  \"treatment\": treatment,\n",
    "                  \"fungus\": fungus})\n",
    "d.describe()"
   ]
  },
  {
   "cell_type": "markdown",
   "metadata": {},
   "source": [
    "### 6.14"
   ]
  },
  {
   "cell_type": "code",
   "execution_count": 18,
   "metadata": {},
   "outputs": [
    {
     "data": {
      "text/plain": [
       "count    10000.000000\n",
       "mean         1.032948\n",
       "std          0.262636\n",
       "min          0.392093\n",
       "25%          0.845103\n",
       "50%          1.000914\n",
       "75%          1.182711\n",
       "max          2.830848\n",
       "dtype: float64"
      ]
     },
     "execution_count": 18,
     "metadata": {},
     "output_type": "execute_result"
    }
   ],
   "source": [
    "sim_p = pd.Series(stats.lognorm.rvs(s=0.25, scale=np.exp(0), size=int(1e4)))\n",
    "sim_p.describe()"
   ]
  },
  {
   "cell_type": "markdown",
   "metadata": {},
   "source": [
    "### 6.15"
   ]
  },
  {
   "cell_type": "code",
   "execution_count": 19,
   "metadata": {},
   "outputs": [
    {
     "name": "stderr",
     "output_type": "stream",
     "text": [
      "Auto-assigning NUTS sampler...\n",
      "Initializing NUTS using jitter+adapt_diag...\n",
      "Multiprocess sampling (4 chains in 4 jobs)\n",
      "NUTS: [p, sigma]\n",
      "Sampling 4 chains, 0 divergences: 100%|██████████| 4000/4000 [00:00<00:00, 4002.99draws/s]\n"
     ]
    },
    {
     "data": {
      "text/html": [
       "<div>\n",
       "<style scoped>\n",
       "    .dataframe tbody tr th:only-of-type {\n",
       "        vertical-align: middle;\n",
       "    }\n",
       "\n",
       "    .dataframe tbody tr th {\n",
       "        vertical-align: top;\n",
       "    }\n",
       "\n",
       "    .dataframe thead th {\n",
       "        text-align: right;\n",
       "    }\n",
       "</style>\n",
       "<table border=\"1\" class=\"dataframe\">\n",
       "  <thead>\n",
       "    <tr style=\"text-align: right;\">\n",
       "      <th></th>\n",
       "      <th>mean</th>\n",
       "      <th>sd</th>\n",
       "      <th>hdi_5.5%</th>\n",
       "      <th>hdi_94.5%</th>\n",
       "      <th>mcse_mean</th>\n",
       "      <th>mcse_sd</th>\n",
       "      <th>ess_mean</th>\n",
       "      <th>ess_sd</th>\n",
       "      <th>ess_bulk</th>\n",
       "      <th>ess_tail</th>\n",
       "      <th>r_hat</th>\n",
       "    </tr>\n",
       "  </thead>\n",
       "  <tbody>\n",
       "    <tr>\n",
       "      <th>p</th>\n",
       "      <td>1.417</td>\n",
       "      <td>0.019</td>\n",
       "      <td>1.388</td>\n",
       "      <td>1.446</td>\n",
       "      <td>0.000</td>\n",
       "      <td>0.000</td>\n",
       "      <td>1904.0</td>\n",
       "      <td>1904.0</td>\n",
       "      <td>1906.0</td>\n",
       "      <td>1330.0</td>\n",
       "      <td>1.0</td>\n",
       "    </tr>\n",
       "    <tr>\n",
       "      <th>sigma</th>\n",
       "      <td>1.885</td>\n",
       "      <td>0.138</td>\n",
       "      <td>1.663</td>\n",
       "      <td>2.092</td>\n",
       "      <td>0.004</td>\n",
       "      <td>0.002</td>\n",
       "      <td>1536.0</td>\n",
       "      <td>1536.0</td>\n",
       "      <td>1513.0</td>\n",
       "      <td>1228.0</td>\n",
       "      <td>1.0</td>\n",
       "    </tr>\n",
       "  </tbody>\n",
       "</table>\n",
       "</div>"
      ],
      "text/plain": [
       "        mean     sd  hdi_5.5%  hdi_94.5%  mcse_mean  mcse_sd  ess_mean  \\\n",
       "p      1.417  0.019     1.388      1.446      0.000    0.000    1904.0   \n",
       "sigma  1.885  0.138     1.663      2.092      0.004    0.002    1536.0   \n",
       "\n",
       "       ess_sd  ess_bulk  ess_tail  r_hat  \n",
       "p      1904.0    1906.0    1330.0    1.0  \n",
       "sigma  1536.0    1513.0    1228.0    1.0  "
      ]
     },
     "execution_count": 19,
     "metadata": {},
     "output_type": "execute_result"
    }
   ],
   "source": [
    "with pm.Model() as m6_6:\n",
    "    sigma = pm.Exponential(\"sigma\", lam=1.0)\n",
    "    p = pm.Lognormal(\"p\", mu=0, sigma=0.25)\n",
    "    mu = pm.Deterministic(\"mu\", p*d[\"h0\"])\n",
    "    h1 = pm.Normal(\"h1\", mu=mu, sd=sigma, observed=d[\"h1\"])\n",
    "    trace_6_6 = pm.sample()\n",
    "    \n",
    "pm.summary(trace_6_6, var_names=[\"p\", \"sigma\"], hdi_prob=0.89)"
   ]
  },
  {
   "cell_type": "markdown",
   "metadata": {},
   "source": [
    "### 6.16"
   ]
  },
  {
   "cell_type": "code",
   "execution_count": 20,
   "metadata": {},
   "outputs": [
    {
     "name": "stderr",
     "output_type": "stream",
     "text": [
      "Auto-assigning NUTS sampler...\n",
      "Initializing NUTS using jitter+adapt_diag...\n",
      "Multiprocess sampling (4 chains in 4 jobs)\n",
      "NUTS: [a, bt, bf, sigma]\n",
      "Sampling 4 chains, 0 divergences: 100%|██████████| 4000/4000 [00:01<00:00, 2411.22draws/s]\n",
      "The acceptance probability does not match the target. It is 0.8816800526220084, but should be close to 0.8. Try to increase the number of tuning steps.\n"
     ]
    },
    {
     "data": {
      "text/html": [
       "<div>\n",
       "<style scoped>\n",
       "    .dataframe tbody tr th:only-of-type {\n",
       "        vertical-align: middle;\n",
       "    }\n",
       "\n",
       "    .dataframe tbody tr th {\n",
       "        vertical-align: top;\n",
       "    }\n",
       "\n",
       "    .dataframe thead th {\n",
       "        text-align: right;\n",
       "    }\n",
       "</style>\n",
       "<table border=\"1\" class=\"dataframe\">\n",
       "  <thead>\n",
       "    <tr style=\"text-align: right;\">\n",
       "      <th></th>\n",
       "      <th>mean</th>\n",
       "      <th>sd</th>\n",
       "      <th>hdi_5.5%</th>\n",
       "      <th>hdi_94.5%</th>\n",
       "      <th>mcse_mean</th>\n",
       "      <th>mcse_sd</th>\n",
       "      <th>ess_mean</th>\n",
       "      <th>ess_sd</th>\n",
       "      <th>ess_bulk</th>\n",
       "      <th>ess_tail</th>\n",
       "      <th>r_hat</th>\n",
       "    </tr>\n",
       "  </thead>\n",
       "  <tbody>\n",
       "    <tr>\n",
       "      <th>a</th>\n",
       "      <td>1.513</td>\n",
       "      <td>0.022</td>\n",
       "      <td>1.479</td>\n",
       "      <td>1.548</td>\n",
       "      <td>0.001</td>\n",
       "      <td>0.001</td>\n",
       "      <td>952.0</td>\n",
       "      <td>952.0</td>\n",
       "      <td>953.0</td>\n",
       "      <td>1022.0</td>\n",
       "      <td>1.0</td>\n",
       "    </tr>\n",
       "    <tr>\n",
       "      <th>sigma</th>\n",
       "      <td>1.254</td>\n",
       "      <td>0.091</td>\n",
       "      <td>1.105</td>\n",
       "      <td>1.394</td>\n",
       "      <td>0.003</td>\n",
       "      <td>0.002</td>\n",
       "      <td>1241.0</td>\n",
       "      <td>1217.0</td>\n",
       "      <td>1267.0</td>\n",
       "      <td>1093.0</td>\n",
       "      <td>1.0</td>\n",
       "    </tr>\n",
       "    <tr>\n",
       "      <th>bf</th>\n",
       "      <td>-0.312</td>\n",
       "      <td>0.030</td>\n",
       "      <td>-0.362</td>\n",
       "      <td>-0.267</td>\n",
       "      <td>0.001</td>\n",
       "      <td>0.001</td>\n",
       "      <td>985.0</td>\n",
       "      <td>985.0</td>\n",
       "      <td>984.0</td>\n",
       "      <td>1328.0</td>\n",
       "      <td>1.0</td>\n",
       "    </tr>\n",
       "    <tr>\n",
       "      <th>bt</th>\n",
       "      <td>-0.018</td>\n",
       "      <td>0.027</td>\n",
       "      <td>-0.061</td>\n",
       "      <td>0.027</td>\n",
       "      <td>0.001</td>\n",
       "      <td>0.001</td>\n",
       "      <td>987.0</td>\n",
       "      <td>987.0</td>\n",
       "      <td>989.0</td>\n",
       "      <td>969.0</td>\n",
       "      <td>1.0</td>\n",
       "    </tr>\n",
       "  </tbody>\n",
       "</table>\n",
       "</div>"
      ],
      "text/plain": [
       "        mean     sd  hdi_5.5%  hdi_94.5%  mcse_mean  mcse_sd  ess_mean  \\\n",
       "a      1.513  0.022     1.479      1.548      0.001    0.001     952.0   \n",
       "sigma  1.254  0.091     1.105      1.394      0.003    0.002    1241.0   \n",
       "bf    -0.312  0.030    -0.362     -0.267      0.001    0.001     985.0   \n",
       "bt    -0.018  0.027    -0.061      0.027      0.001    0.001     987.0   \n",
       "\n",
       "       ess_sd  ess_bulk  ess_tail  r_hat  \n",
       "a       952.0     953.0    1022.0    1.0  \n",
       "sigma  1217.0    1267.0    1093.0    1.0  \n",
       "bf      985.0     984.0    1328.0    1.0  \n",
       "bt      987.0     989.0     969.0    1.0  "
      ]
     },
     "execution_count": 20,
     "metadata": {},
     "output_type": "execute_result"
    }
   ],
   "source": [
    "with pm.Model() as m6_7:\n",
    "    sigma = pm.Exponential(\"sigma\", lam=1.0)\n",
    "    bf = pm.Normal(\"bf\", 0, 0.5)\n",
    "    bt = pm.Normal(\"bt\", 0, 0.5)    \n",
    "    a = pm.Lognormal(\"a\", mu=0, sigma=0.2)\n",
    "    p = pm.Deterministic(\"p\", a + bt*d[\"treatment\"] + bf*d[\"fungus\"])\n",
    "    mu = pm.Deterministic(\"mu\", p*d[\"h0\"])\n",
    "    h1 = pm.Normal(\"h1\", mu=mu, sd=sigma, observed=d[\"h1\"])\n",
    "    trace_6_7 = pm.sample()\n",
    "    \n",
    "pm.summary(trace_6_7, var_names=[\"a\", \"sigma\", \"bf\", \"bt\"], hdi_prob=0.89)"
   ]
  },
  {
   "cell_type": "markdown",
   "metadata": {},
   "source": [
    "### 6.17"
   ]
  },
  {
   "cell_type": "code",
   "execution_count": 21,
   "metadata": {},
   "outputs": [
    {
     "name": "stderr",
     "output_type": "stream",
     "text": [
      "Auto-assigning NUTS sampler...\n",
      "Initializing NUTS using jitter+adapt_diag...\n",
      "Multiprocess sampling (4 chains in 4 jobs)\n",
      "NUTS: [a, bt, sigma]\n",
      "Sampling 4 chains, 0 divergences: 100%|██████████| 4000/4000 [00:01<00:00, 2845.30draws/s]\n"
     ]
    },
    {
     "data": {
      "text/html": [
       "<div>\n",
       "<style scoped>\n",
       "    .dataframe tbody tr th:only-of-type {\n",
       "        vertical-align: middle;\n",
       "    }\n",
       "\n",
       "    .dataframe tbody tr th {\n",
       "        vertical-align: top;\n",
       "    }\n",
       "\n",
       "    .dataframe thead th {\n",
       "        text-align: right;\n",
       "    }\n",
       "</style>\n",
       "<table border=\"1\" class=\"dataframe\">\n",
       "  <thead>\n",
       "    <tr style=\"text-align: right;\">\n",
       "      <th></th>\n",
       "      <th>mean</th>\n",
       "      <th>sd</th>\n",
       "      <th>hdi_5.5%</th>\n",
       "      <th>hdi_94.5%</th>\n",
       "      <th>mcse_mean</th>\n",
       "      <th>mcse_sd</th>\n",
       "      <th>ess_mean</th>\n",
       "      <th>ess_sd</th>\n",
       "      <th>ess_bulk</th>\n",
       "      <th>ess_tail</th>\n",
       "      <th>r_hat</th>\n",
       "    </tr>\n",
       "  </thead>\n",
       "  <tbody>\n",
       "    <tr>\n",
       "      <th>a</th>\n",
       "      <td>1.362</td>\n",
       "      <td>0.026</td>\n",
       "      <td>1.321</td>\n",
       "      <td>1.403</td>\n",
       "      <td>0.001</td>\n",
       "      <td>0.001</td>\n",
       "      <td>1008.0</td>\n",
       "      <td>1006.0</td>\n",
       "      <td>1019.0</td>\n",
       "      <td>1049.0</td>\n",
       "      <td>1.0</td>\n",
       "    </tr>\n",
       "    <tr>\n",
       "      <th>sigma</th>\n",
       "      <td>1.827</td>\n",
       "      <td>0.130</td>\n",
       "      <td>1.614</td>\n",
       "      <td>2.017</td>\n",
       "      <td>0.004</td>\n",
       "      <td>0.003</td>\n",
       "      <td>1091.0</td>\n",
       "      <td>1067.0</td>\n",
       "      <td>1136.0</td>\n",
       "      <td>1197.0</td>\n",
       "      <td>1.0</td>\n",
       "    </tr>\n",
       "    <tr>\n",
       "      <th>bt</th>\n",
       "      <td>0.103</td>\n",
       "      <td>0.036</td>\n",
       "      <td>0.049</td>\n",
       "      <td>0.164</td>\n",
       "      <td>0.001</td>\n",
       "      <td>0.001</td>\n",
       "      <td>1049.0</td>\n",
       "      <td>1049.0</td>\n",
       "      <td>1049.0</td>\n",
       "      <td>987.0</td>\n",
       "      <td>1.0</td>\n",
       "    </tr>\n",
       "  </tbody>\n",
       "</table>\n",
       "</div>"
      ],
      "text/plain": [
       "        mean     sd  hdi_5.5%  hdi_94.5%  mcse_mean  mcse_sd  ess_mean  \\\n",
       "a      1.362  0.026     1.321      1.403      0.001    0.001    1008.0   \n",
       "sigma  1.827  0.130     1.614      2.017      0.004    0.003    1091.0   \n",
       "bt     0.103  0.036     0.049      0.164      0.001    0.001    1049.0   \n",
       "\n",
       "       ess_sd  ess_bulk  ess_tail  r_hat  \n",
       "a      1006.0    1019.0    1049.0    1.0  \n",
       "sigma  1067.0    1136.0    1197.0    1.0  \n",
       "bt     1049.0    1049.0     987.0    1.0  "
      ]
     },
     "execution_count": 21,
     "metadata": {},
     "output_type": "execute_result"
    }
   ],
   "source": [
    "with pm.Model() as m6_8:\n",
    "    sigma = pm.Exponential(\"sigma\", lam=1.0)\n",
    "    bt = pm.Normal(\"bt\", 0, 0.5)    \n",
    "    a = pm.Lognormal(\"a\", mu=0, sigma=0.2)\n",
    "    p = pm.Deterministic(\"p\", a + bt*d[\"treatment\"])\n",
    "    mu = pm.Deterministic(\"mu\", p*d[\"h0\"])\n",
    "    h1 = pm.Normal(\"h1\", mu=mu, sd=sigma, observed=d[\"h1\"])\n",
    "    trace_6_8 = pm.sample()\n",
    "    \n",
    "pm.summary(trace_6_8, var_names=[\"a\", \"sigma\", \"bt\"], hdi_prob=0.89)"
   ]
  },
  {
   "cell_type": "markdown",
   "metadata": {},
   "source": [
    "### 6.18"
   ]
  },
  {
   "cell_type": "code",
   "execution_count": 22,
   "metadata": {},
   "outputs": [
    {
     "data": {
      "image/svg+xml": [
       "<?xml version=\"1.0\" encoding=\"UTF-8\" standalone=\"no\"?>\n",
       "<!DOCTYPE svg PUBLIC \"-//W3C//DTD SVG 1.1//EN\"\n",
       " \"http://www.w3.org/Graphics/SVG/1.1/DTD/svg11.dtd\">\n",
       "<!-- Generated by graphviz version 2.44.0 (20200408.0750)\n",
       " -->\n",
       "<!-- Pages: 1 -->\n",
       "<svg width=\"134pt\" height=\"188pt\"\n",
       " viewBox=\"0.00 0.00 134.00 188.00\" xmlns=\"http://www.w3.org/2000/svg\" xmlns:xlink=\"http://www.w3.org/1999/xlink\">\n",
       "<g id=\"graph0\" class=\"graph\" transform=\"scale(1 1) rotate(0) translate(4 184)\">\n",
       "<polygon fill=\"white\" stroke=\"transparent\" points=\"-4,4 -4,-184 130,-184 130,4 -4,4\"/>\n",
       "<!-- H0 -->\n",
       "<g id=\"node1\" class=\"node\">\n",
       "<title>H0</title>\n",
       "<ellipse fill=\"none\" stroke=\"black\" cx=\"27\" cy=\"-90\" rx=\"27\" ry=\"18\"/>\n",
       "<text text-anchor=\"middle\" x=\"27\" y=\"-86.3\" font-family=\"Times,serif\" font-size=\"14.00\">H0</text>\n",
       "</g>\n",
       "<!-- H1 -->\n",
       "<g id=\"node3\" class=\"node\">\n",
       "<title>H1</title>\n",
       "<ellipse fill=\"none\" stroke=\"black\" cx=\"63\" cy=\"-18\" rx=\"27\" ry=\"18\"/>\n",
       "<text text-anchor=\"middle\" x=\"63\" y=\"-14.3\" font-family=\"Times,serif\" font-size=\"14.00\">H1</text>\n",
       "</g>\n",
       "<!-- H0&#45;&gt;H1 -->\n",
       "<g id=\"edge1\" class=\"edge\">\n",
       "<title>H0&#45;&gt;H1</title>\n",
       "<path fill=\"none\" stroke=\"black\" d=\"M35.35,-72.76C39.71,-64.28 45.15,-53.71 50.04,-44.2\"/>\n",
       "<polygon fill=\"black\" stroke=\"black\" points=\"53.23,-45.64 54.7,-35.15 47.01,-42.44 53.23,-45.64\"/>\n",
       "</g>\n",
       "<!-- F -->\n",
       "<g id=\"node2\" class=\"node\">\n",
       "<title>F</title>\n",
       "<ellipse fill=\"none\" stroke=\"black\" cx=\"99\" cy=\"-90\" rx=\"27\" ry=\"18\"/>\n",
       "<text text-anchor=\"middle\" x=\"99\" y=\"-86.3\" font-family=\"Times,serif\" font-size=\"14.00\">F</text>\n",
       "</g>\n",
       "<!-- F&#45;&gt;H1 -->\n",
       "<g id=\"edge2\" class=\"edge\">\n",
       "<title>F&#45;&gt;H1</title>\n",
       "<path fill=\"none\" stroke=\"black\" d=\"M90.65,-72.76C86.29,-64.28 80.85,-53.71 75.96,-44.2\"/>\n",
       "<polygon fill=\"black\" stroke=\"black\" points=\"78.99,-42.44 71.3,-35.15 72.77,-45.64 78.99,-42.44\"/>\n",
       "</g>\n",
       "<!-- T -->\n",
       "<g id=\"node4\" class=\"node\">\n",
       "<title>T</title>\n",
       "<ellipse fill=\"none\" stroke=\"black\" cx=\"99\" cy=\"-162\" rx=\"27\" ry=\"18\"/>\n",
       "<text text-anchor=\"middle\" x=\"99\" y=\"-158.3\" font-family=\"Times,serif\" font-size=\"14.00\">T</text>\n",
       "</g>\n",
       "<!-- T&#45;&gt;F -->\n",
       "<g id=\"edge3\" class=\"edge\">\n",
       "<title>T&#45;&gt;F</title>\n",
       "<path fill=\"none\" stroke=\"black\" d=\"M99,-143.7C99,-135.98 99,-126.71 99,-118.11\"/>\n",
       "<polygon fill=\"black\" stroke=\"black\" points=\"102.5,-118.1 99,-108.1 95.5,-118.1 102.5,-118.1\"/>\n",
       "</g>\n",
       "</g>\n",
       "</svg>\n"
      ],
      "text/plain": [
       "<graphviz.dot.Digraph at 0x127f03710>"
      ]
     },
     "execution_count": 22,
     "metadata": {},
     "output_type": "execute_result"
    }
   ],
   "source": [
    "plant_dag = CausalGraphicalModel(\n",
    "                nodes=[\"H0\", \"H1\", \"F\", \"T\"],\n",
    "                edges=[(\"H0\", \"H1\"),\n",
    "                       (\"F\", \"H1\"),\n",
    "                       (\"T\", \"F\")])\n",
    "\n",
    "# graphviz needed on the system\n",
    "plant_dag.draw()"
   ]
  },
  {
   "cell_type": "markdown",
   "metadata": {},
   "source": [
    "### 6.19"
   ]
  },
  {
   "cell_type": "code",
   "execution_count": 23,
   "metadata": {},
   "outputs": [
    {
     "data": {
      "text/plain": [
       "[('H0', 'F', set()), ('H0', 'T', set()), ('H1', 'T', {'F'})]"
      ]
     },
     "execution_count": 23,
     "metadata": {},
     "output_type": "execute_result"
    }
   ],
   "source": [
    "statsutils.implied_conditional_independencies(plant_dag)"
   ]
  },
  {
   "cell_type": "markdown",
   "metadata": {},
   "source": [
    "### 6.20"
   ]
  },
  {
   "cell_type": "code",
   "execution_count": 24,
   "metadata": {},
   "outputs": [],
   "source": [
    "np.random.seed(71)\n",
    "N = 1000\n",
    "h0 = stats.norm.rvs(10, 2, N)\n",
    "treatment = np.concatenate([np.zeros(N//2), np.ones(N//2)])\n",
    "M = stats.bernoulli.rvs(size=N, p=0.5)\n",
    "fungus = stats.binom.rvs(p=0.5 - 0.4*treatment + 0.4*M, n=1)\n",
    "h1 = h0 + stats.norm.rvs(5+3*M, 1, N)\n",
    "d2 = pd.DataFrame({\"h0\": h0,\n",
    "                   \"h1\": h1,\n",
    "                   \"treatment\": treatment,\n",
    "                   \"fungus\": fungus})"
   ]
  },
  {
   "cell_type": "markdown",
   "metadata": {},
   "source": [
    "## Collider Bias"
   ]
  },
  {
   "cell_type": "markdown",
   "metadata": {},
   "source": [
    "taken from [here](https://github.com/pymc-devs/resources/blob/master/Rethinking_2/Chp_06.ipynb)"
   ]
  },
  {
   "cell_type": "code",
   "execution_count": 25,
   "metadata": {},
   "outputs": [],
   "source": [
    "def inv_logit(x):\n",
    "    return np.exp(x) / (1 + np.exp(x))\n",
    "\n",
    "\n",
    "def sim_happiness(N_years=100, seed=1234):\n",
    "    np.random.seed(seed)\n",
    "\n",
    "    popn = pd.DataFrame(np.zeros((20 * 65, 3)), columns=[\"age\", \"happiness\", \"married\"])\n",
    "    popn.loc[:, \"age\"] = np.repeat(np.arange(65), 20)\n",
    "    popn.loc[:, \"happiness\"] = np.repeat(np.linspace(-2, 2, 20), 65)\n",
    "    popn.loc[:, \"married\"] = np.array(popn.loc[:, \"married\"].values, dtype=\"bool\")\n",
    "\n",
    "    for i in range(N_years):\n",
    "        # age population\n",
    "        popn.loc[:, \"age\"] += 1\n",
    "        # replace old folk with new folk\n",
    "        ind = popn.age == 65\n",
    "        popn.loc[ind, \"age\"] = 0\n",
    "        popn.loc[ind, \"married\"] = False\n",
    "        popn.loc[ind, \"happiness\"] = np.linspace(-2, 2, 20)\n",
    "\n",
    "        # do the work\n",
    "        elligible = (popn.married == 0) & (popn.age >= 18)\n",
    "        marry = (\n",
    "            np.random.binomial(1, inv_logit(popn.loc[elligible, \"happiness\"] - 4)) == 1\n",
    "        )\n",
    "        popn.loc[elligible, \"married\"] = marry\n",
    "\n",
    "    popn.sort_values(\"age\", inplace=True, ignore_index=True)\n",
    "\n",
    "    return popn"
   ]
  },
  {
   "cell_type": "markdown",
   "metadata": {},
   "source": [
    "### 6.21"
   ]
  },
  {
   "cell_type": "code",
   "execution_count": 26,
   "metadata": {},
   "outputs": [
    {
     "data": {
      "text/html": [
       "<div>\n",
       "<style scoped>\n",
       "    .dataframe tbody tr th:only-of-type {\n",
       "        vertical-align: middle;\n",
       "    }\n",
       "\n",
       "    .dataframe tbody tr th {\n",
       "        vertical-align: top;\n",
       "    }\n",
       "\n",
       "    .dataframe thead th {\n",
       "        text-align: right;\n",
       "    }\n",
       "</style>\n",
       "<table border=\"1\" class=\"dataframe\">\n",
       "  <thead>\n",
       "    <tr style=\"text-align: right;\">\n",
       "      <th></th>\n",
       "      <th>age</th>\n",
       "      <th>happiness</th>\n",
       "      <th>married</th>\n",
       "    </tr>\n",
       "  </thead>\n",
       "  <tbody>\n",
       "    <tr>\n",
       "      <th>count</th>\n",
       "      <td>1300.000000</td>\n",
       "      <td>1.300000e+03</td>\n",
       "      <td>1300.000000</td>\n",
       "    </tr>\n",
       "    <tr>\n",
       "      <th>mean</th>\n",
       "      <td>32.000000</td>\n",
       "      <td>-1.004325e-16</td>\n",
       "      <td>0.276154</td>\n",
       "    </tr>\n",
       "    <tr>\n",
       "      <th>std</th>\n",
       "      <td>18.768883</td>\n",
       "      <td>1.214421e+00</td>\n",
       "      <td>0.447266</td>\n",
       "    </tr>\n",
       "    <tr>\n",
       "      <th>min</th>\n",
       "      <td>0.000000</td>\n",
       "      <td>-2.000000e+00</td>\n",
       "      <td>0.000000</td>\n",
       "    </tr>\n",
       "    <tr>\n",
       "      <th>25%</th>\n",
       "      <td>16.000000</td>\n",
       "      <td>-1.000000e+00</td>\n",
       "      <td>0.000000</td>\n",
       "    </tr>\n",
       "    <tr>\n",
       "      <th>50%</th>\n",
       "      <td>32.000000</td>\n",
       "      <td>-1.110223e-16</td>\n",
       "      <td>0.000000</td>\n",
       "    </tr>\n",
       "    <tr>\n",
       "      <th>75%</th>\n",
       "      <td>48.000000</td>\n",
       "      <td>1.000000e+00</td>\n",
       "      <td>1.000000</td>\n",
       "    </tr>\n",
       "    <tr>\n",
       "      <th>max</th>\n",
       "      <td>64.000000</td>\n",
       "      <td>2.000000e+00</td>\n",
       "      <td>1.000000</td>\n",
       "    </tr>\n",
       "  </tbody>\n",
       "</table>\n",
       "</div>"
      ],
      "text/plain": [
       "               age     happiness      married\n",
       "count  1300.000000  1.300000e+03  1300.000000\n",
       "mean     32.000000 -1.004325e-16     0.276154\n",
       "std      18.768883  1.214421e+00     0.447266\n",
       "min       0.000000 -2.000000e+00     0.000000\n",
       "25%      16.000000 -1.000000e+00     0.000000\n",
       "50%      32.000000 -1.110223e-16     0.000000\n",
       "75%      48.000000  1.000000e+00     1.000000\n",
       "max      64.000000  2.000000e+00     1.000000"
      ]
     },
     "execution_count": 26,
     "metadata": {},
     "output_type": "execute_result"
    }
   ],
   "source": [
    "d = (sim_happiness(seed=1977, N_years=1000)\n",
    "     .astype({\"married\": int}))\n",
    "d.describe()"
   ]
  },
  {
   "cell_type": "markdown",
   "metadata": {},
   "source": [
    "### 6.22"
   ]
  },
  {
   "cell_type": "code",
   "execution_count": 27,
   "metadata": {},
   "outputs": [],
   "source": [
    "d2 = d[d[\"age\"] > 17]\n",
    "d2[\"A\"] = (d2[\"age\"] - 18)/(65-18)"
   ]
  },
  {
   "cell_type": "markdown",
   "metadata": {},
   "source": [
    "### 6.23"
   ]
  },
  {
   "cell_type": "code",
   "execution_count": 28,
   "metadata": {},
   "outputs": [
    {
     "name": "stderr",
     "output_type": "stream",
     "text": [
      "Auto-assigning NUTS sampler...\n",
      "Initializing NUTS using jitter+adapt_diag...\n",
      "Multiprocess sampling (4 chains in 4 jobs)\n",
      "NUTS: [a, bA, sigma]\n",
      "Sampling 4 chains, 0 divergences: 100%|██████████| 4000/4000 [00:02<00:00, 1685.54draws/s]\n"
     ]
    },
    {
     "data": {
      "text/html": [
       "<div>\n",
       "<style scoped>\n",
       "    .dataframe tbody tr th:only-of-type {\n",
       "        vertical-align: middle;\n",
       "    }\n",
       "\n",
       "    .dataframe tbody tr th {\n",
       "        vertical-align: top;\n",
       "    }\n",
       "\n",
       "    .dataframe thead th {\n",
       "        text-align: right;\n",
       "    }\n",
       "</style>\n",
       "<table border=\"1\" class=\"dataframe\">\n",
       "  <thead>\n",
       "    <tr style=\"text-align: right;\">\n",
       "      <th></th>\n",
       "      <th>mean</th>\n",
       "      <th>sd</th>\n",
       "      <th>hdi_5.5%</th>\n",
       "      <th>hdi_94.5%</th>\n",
       "      <th>mcse_mean</th>\n",
       "      <th>mcse_sd</th>\n",
       "      <th>ess_mean</th>\n",
       "      <th>ess_sd</th>\n",
       "      <th>ess_bulk</th>\n",
       "      <th>ess_tail</th>\n",
       "      <th>r_hat</th>\n",
       "    </tr>\n",
       "  </thead>\n",
       "  <tbody>\n",
       "    <tr>\n",
       "      <th>a[0]</th>\n",
       "      <td>-0.222</td>\n",
       "      <td>0.067</td>\n",
       "      <td>-0.341</td>\n",
       "      <td>-0.123</td>\n",
       "      <td>0.002</td>\n",
       "      <td>0.002</td>\n",
       "      <td>791.0</td>\n",
       "      <td>791.0</td>\n",
       "      <td>791.0</td>\n",
       "      <td>1145.0</td>\n",
       "      <td>1.0</td>\n",
       "    </tr>\n",
       "    <tr>\n",
       "      <th>a[1]</th>\n",
       "      <td>1.274</td>\n",
       "      <td>0.090</td>\n",
       "      <td>1.131</td>\n",
       "      <td>1.424</td>\n",
       "      <td>0.003</td>\n",
       "      <td>0.002</td>\n",
       "      <td>764.0</td>\n",
       "      <td>754.0</td>\n",
       "      <td>771.0</td>\n",
       "      <td>880.0</td>\n",
       "      <td>1.0</td>\n",
       "    </tr>\n",
       "    <tr>\n",
       "      <th>sigma</th>\n",
       "      <td>0.996</td>\n",
       "      <td>0.022</td>\n",
       "      <td>0.960</td>\n",
       "      <td>1.030</td>\n",
       "      <td>0.001</td>\n",
       "      <td>0.000</td>\n",
       "      <td>1306.0</td>\n",
       "      <td>1300.0</td>\n",
       "      <td>1329.0</td>\n",
       "      <td>1207.0</td>\n",
       "      <td>1.0</td>\n",
       "    </tr>\n",
       "    <tr>\n",
       "      <th>bA</th>\n",
       "      <td>-0.714</td>\n",
       "      <td>0.122</td>\n",
       "      <td>-0.902</td>\n",
       "      <td>-0.516</td>\n",
       "      <td>0.005</td>\n",
       "      <td>0.003</td>\n",
       "      <td>728.0</td>\n",
       "      <td>705.0</td>\n",
       "      <td>733.0</td>\n",
       "      <td>983.0</td>\n",
       "      <td>1.0</td>\n",
       "    </tr>\n",
       "  </tbody>\n",
       "</table>\n",
       "</div>"
      ],
      "text/plain": [
       "        mean     sd  hdi_5.5%  hdi_94.5%  mcse_mean  mcse_sd  ess_mean  \\\n",
       "a[0]  -0.222  0.067    -0.341     -0.123      0.002    0.002     791.0   \n",
       "a[1]   1.274  0.090     1.131      1.424      0.003    0.002     764.0   \n",
       "sigma  0.996  0.022     0.960      1.030      0.001    0.000    1306.0   \n",
       "bA    -0.714  0.122    -0.902     -0.516      0.005    0.003     728.0   \n",
       "\n",
       "       ess_sd  ess_bulk  ess_tail  r_hat  \n",
       "a[0]    791.0     791.0    1145.0    1.0  \n",
       "a[1]    754.0     771.0     880.0    1.0  \n",
       "sigma  1300.0    1329.0    1207.0    1.0  \n",
       "bA      705.0     733.0     983.0    1.0  "
      ]
     },
     "execution_count": 28,
     "metadata": {},
     "output_type": "execute_result"
    }
   ],
   "source": [
    "with pm.Model() as m6_9:\n",
    "    sigma = pm.Exponential(\"sigma\", lam=1.0)\n",
    "    bA = pm.Normal(\"bA\", mu=0, sigma=2)\n",
    "    a = pm.Normal(\"a\", mu=0, sigma=1, shape=2)\n",
    "    mu = pm.Deterministic(\"mu\", a[d2[\"married\"]] + bA*d2[\"A\"])\n",
    "    happiness = pm.Normal(\"happiness\", mu=mu, sd=sigma, observed=d2[\"happiness\"])\n",
    "    trace_6_9 = pm.sample()\n",
    "    \n",
    "pm.summary(trace_6_9, var_names=[\"a\", \"sigma\", \"bA\"], hdi_prob=0.89)"
   ]
  },
  {
   "cell_type": "markdown",
   "metadata": {},
   "source": [
    "### 6.24"
   ]
  },
  {
   "cell_type": "code",
   "execution_count": 29,
   "metadata": {},
   "outputs": [
    {
     "name": "stderr",
     "output_type": "stream",
     "text": [
      "Auto-assigning NUTS sampler...\n",
      "Initializing NUTS using jitter+adapt_diag...\n",
      "Multiprocess sampling (4 chains in 4 jobs)\n",
      "NUTS: [a, bA, sigma]\n",
      "Sampling 4 chains, 0 divergences: 100%|██████████| 4000/4000 [00:01<00:00, 2518.75draws/s]\n",
      "The acceptance probability does not match the target. It is 0.8904151677392951, but should be close to 0.8. Try to increase the number of tuning steps.\n"
     ]
    },
    {
     "data": {
      "text/html": [
       "<div>\n",
       "<style scoped>\n",
       "    .dataframe tbody tr th:only-of-type {\n",
       "        vertical-align: middle;\n",
       "    }\n",
       "\n",
       "    .dataframe tbody tr th {\n",
       "        vertical-align: top;\n",
       "    }\n",
       "\n",
       "    .dataframe thead th {\n",
       "        text-align: right;\n",
       "    }\n",
       "</style>\n",
       "<table border=\"1\" class=\"dataframe\">\n",
       "  <thead>\n",
       "    <tr style=\"text-align: right;\">\n",
       "      <th></th>\n",
       "      <th>mean</th>\n",
       "      <th>sd</th>\n",
       "      <th>hdi_5.5%</th>\n",
       "      <th>hdi_94.5%</th>\n",
       "      <th>mcse_mean</th>\n",
       "      <th>mcse_sd</th>\n",
       "      <th>ess_mean</th>\n",
       "      <th>ess_sd</th>\n",
       "      <th>ess_bulk</th>\n",
       "      <th>ess_tail</th>\n",
       "      <th>r_hat</th>\n",
       "    </tr>\n",
       "  </thead>\n",
       "  <tbody>\n",
       "    <tr>\n",
       "      <th>a</th>\n",
       "      <td>0.006</td>\n",
       "      <td>0.077</td>\n",
       "      <td>-0.111</td>\n",
       "      <td>0.132</td>\n",
       "      <td>0.003</td>\n",
       "      <td>0.002</td>\n",
       "      <td>873.0</td>\n",
       "      <td>751.0</td>\n",
       "      <td>877.0</td>\n",
       "      <td>962.0</td>\n",
       "      <td>1.0</td>\n",
       "    </tr>\n",
       "    <tr>\n",
       "      <th>sigma</th>\n",
       "      <td>1.215</td>\n",
       "      <td>0.028</td>\n",
       "      <td>1.171</td>\n",
       "      <td>1.259</td>\n",
       "      <td>0.001</td>\n",
       "      <td>0.001</td>\n",
       "      <td>1156.0</td>\n",
       "      <td>1156.0</td>\n",
       "      <td>1160.0</td>\n",
       "      <td>1166.0</td>\n",
       "      <td>1.0</td>\n",
       "    </tr>\n",
       "    <tr>\n",
       "      <th>bA</th>\n",
       "      <td>-0.010</td>\n",
       "      <td>0.134</td>\n",
       "      <td>-0.235</td>\n",
       "      <td>0.194</td>\n",
       "      <td>0.004</td>\n",
       "      <td>0.003</td>\n",
       "      <td>910.0</td>\n",
       "      <td>739.0</td>\n",
       "      <td>911.0</td>\n",
       "      <td>952.0</td>\n",
       "      <td>1.0</td>\n",
       "    </tr>\n",
       "  </tbody>\n",
       "</table>\n",
       "</div>"
      ],
      "text/plain": [
       "        mean     sd  hdi_5.5%  hdi_94.5%  mcse_mean  mcse_sd  ess_mean  \\\n",
       "a      0.006  0.077    -0.111      0.132      0.003    0.002     873.0   \n",
       "sigma  1.215  0.028     1.171      1.259      0.001    0.001    1156.0   \n",
       "bA    -0.010  0.134    -0.235      0.194      0.004    0.003     910.0   \n",
       "\n",
       "       ess_sd  ess_bulk  ess_tail  r_hat  \n",
       "a       751.0     877.0     962.0    1.0  \n",
       "sigma  1156.0    1160.0    1166.0    1.0  \n",
       "bA      739.0     911.0     952.0    1.0  "
      ]
     },
     "execution_count": 29,
     "metadata": {},
     "output_type": "execute_result"
    }
   ],
   "source": [
    "with pm.Model() as m6_10:\n",
    "    sigma = pm.Exponential(\"sigma\", lam=1.0)\n",
    "    bA = pm.Normal(\"bA\", mu=0, sigma=2)\n",
    "    a = pm.Normal(\"a\", mu=0, sigma=1)\n",
    "    mu = pm.Deterministic(\"mu\", a + bA*d2[\"A\"])\n",
    "    happiness = pm.Normal(\"happiness\", mu=mu, sd=sigma, observed=d2[\"happiness\"])\n",
    "    trace_6_10 = pm.sample()\n",
    "    \n",
    "pm.summary(trace_6_10, var_names=[\"a\", \"sigma\", \"bA\"], hdi_prob=0.89)"
   ]
  },
  {
   "cell_type": "markdown",
   "metadata": {},
   "source": [
    "### 6.25"
   ]
  },
  {
   "cell_type": "code",
   "execution_count": 30,
   "metadata": {},
   "outputs": [],
   "source": [
    "N = 200\n",
    "b_GP = 1\n",
    "b_GC = 0\n",
    "b_PC = 1\n",
    "b_U = 2"
   ]
  },
  {
   "cell_type": "markdown",
   "metadata": {},
   "source": [
    "### 6.26"
   ]
  },
  {
   "cell_type": "code",
   "execution_count": 31,
   "metadata": {},
   "outputs": [],
   "source": [
    "np.random.seed(1)\n",
    "U = stats.bernoulli.rvs(p=0.5, size=N)\n",
    "G = stats.norm.rvs(size=N)\n",
    "P = stats.norm.rvs(b_GP*G + b_U*U, size=N)\n",
    "C = stats.norm.rvs(b_PC*P + b_GC*G + b_U*U)\n",
    "d = pd.DataFrame({\"C\": C, \"P\": P, \"G\": G, \"U\": U})"
   ]
  },
  {
   "cell_type": "markdown",
   "metadata": {},
   "source": [
    "### 6.27"
   ]
  },
  {
   "cell_type": "code",
   "execution_count": 32,
   "metadata": {},
   "outputs": [
    {
     "name": "stderr",
     "output_type": "stream",
     "text": [
      "Auto-assigning NUTS sampler...\n",
      "Initializing NUTS using jitter+adapt_diag...\n",
      "Multiprocess sampling (4 chains in 4 jobs)\n",
      "NUTS: [a, b_PC, b_GC, sigma]\n",
      "Sampling 4 chains, 0 divergences: 100%|██████████| 4000/4000 [00:01<00:00, 2503.34draws/s]\n"
     ]
    },
    {
     "data": {
      "text/html": [
       "<div>\n",
       "<style scoped>\n",
       "    .dataframe tbody tr th:only-of-type {\n",
       "        vertical-align: middle;\n",
       "    }\n",
       "\n",
       "    .dataframe tbody tr th {\n",
       "        vertical-align: top;\n",
       "    }\n",
       "\n",
       "    .dataframe thead th {\n",
       "        text-align: right;\n",
       "    }\n",
       "</style>\n",
       "<table border=\"1\" class=\"dataframe\">\n",
       "  <thead>\n",
       "    <tr style=\"text-align: right;\">\n",
       "      <th></th>\n",
       "      <th>mean</th>\n",
       "      <th>sd</th>\n",
       "      <th>hdi_5.5%</th>\n",
       "      <th>hdi_94.5%</th>\n",
       "      <th>mcse_mean</th>\n",
       "      <th>mcse_sd</th>\n",
       "      <th>ess_mean</th>\n",
       "      <th>ess_sd</th>\n",
       "      <th>ess_bulk</th>\n",
       "      <th>ess_tail</th>\n",
       "      <th>r_hat</th>\n",
       "    </tr>\n",
       "  </thead>\n",
       "  <tbody>\n",
       "    <tr>\n",
       "      <th>a</th>\n",
       "      <td>0.435</td>\n",
       "      <td>0.108</td>\n",
       "      <td>0.266</td>\n",
       "      <td>0.608</td>\n",
       "      <td>0.003</td>\n",
       "      <td>0.002</td>\n",
       "      <td>1175.0</td>\n",
       "      <td>1175.0</td>\n",
       "      <td>1174.0</td>\n",
       "      <td>1275.0</td>\n",
       "      <td>1.0</td>\n",
       "    </tr>\n",
       "    <tr>\n",
       "      <th>b_PC</th>\n",
       "      <td>1.568</td>\n",
       "      <td>0.063</td>\n",
       "      <td>1.470</td>\n",
       "      <td>1.667</td>\n",
       "      <td>0.002</td>\n",
       "      <td>0.001</td>\n",
       "      <td>1005.0</td>\n",
       "      <td>1005.0</td>\n",
       "      <td>1002.0</td>\n",
       "      <td>1372.0</td>\n",
       "      <td>1.0</td>\n",
       "    </tr>\n",
       "    <tr>\n",
       "      <th>b_GC</th>\n",
       "      <td>-0.508</td>\n",
       "      <td>0.099</td>\n",
       "      <td>-0.671</td>\n",
       "      <td>-0.356</td>\n",
       "      <td>0.003</td>\n",
       "      <td>0.002</td>\n",
       "      <td>1198.0</td>\n",
       "      <td>1198.0</td>\n",
       "      <td>1203.0</td>\n",
       "      <td>1559.0</td>\n",
       "      <td>1.0</td>\n",
       "    </tr>\n",
       "    <tr>\n",
       "      <th>sigma</th>\n",
       "      <td>1.210</td>\n",
       "      <td>0.061</td>\n",
       "      <td>1.104</td>\n",
       "      <td>1.301</td>\n",
       "      <td>0.002</td>\n",
       "      <td>0.001</td>\n",
       "      <td>1457.0</td>\n",
       "      <td>1457.0</td>\n",
       "      <td>1449.0</td>\n",
       "      <td>1336.0</td>\n",
       "      <td>1.0</td>\n",
       "    </tr>\n",
       "  </tbody>\n",
       "</table>\n",
       "</div>"
      ],
      "text/plain": [
       "        mean     sd  hdi_5.5%  hdi_94.5%  mcse_mean  mcse_sd  ess_mean  \\\n",
       "a      0.435  0.108     0.266      0.608      0.003    0.002    1175.0   \n",
       "b_PC   1.568  0.063     1.470      1.667      0.002    0.001    1005.0   \n",
       "b_GC  -0.508  0.099    -0.671     -0.356      0.003    0.002    1198.0   \n",
       "sigma  1.210  0.061     1.104      1.301      0.002    0.001    1457.0   \n",
       "\n",
       "       ess_sd  ess_bulk  ess_tail  r_hat  \n",
       "a      1175.0    1174.0    1275.0    1.0  \n",
       "b_PC   1005.0    1002.0    1372.0    1.0  \n",
       "b_GC   1198.0    1203.0    1559.0    1.0  \n",
       "sigma  1457.0    1449.0    1336.0    1.0  "
      ]
     },
     "execution_count": 32,
     "metadata": {},
     "output_type": "execute_result"
    }
   ],
   "source": [
    "with pm.Model() as m6_11:\n",
    "    sigma = pm.Exponential(\"sigma\", lam=1.0)\n",
    "    b_GC = pm.Normal(\"b_GC\", mu=0, sigma=1)\n",
    "    b_PC = pm.Normal(\"b_PC\", mu=0, sigma=1)\n",
    "    a = pm.Normal(\"a\", mu=0, sigma=1)\n",
    "    mu = pm.Deterministic(\"mu\", a + b_PC*d[\"P\"] + b_GC*d[\"G\"])\n",
    "    C = pm.Normal(\"C\", mu=mu, sd=sigma, observed=d[\"C\"])\n",
    "    trace_6_11 = pm.sample()\n",
    "    \n",
    "pm.summary(trace_6_11, var_names=[\"a\", \"b_PC\", \"b_GC\", \"sigma\"], hdi_prob=0.89)"
   ]
  },
  {
   "cell_type": "markdown",
   "metadata": {},
   "source": [
    "### 6.28"
   ]
  },
  {
   "cell_type": "code",
   "execution_count": 33,
   "metadata": {},
   "outputs": [
    {
     "name": "stderr",
     "output_type": "stream",
     "text": [
      "Auto-assigning NUTS sampler...\n",
      "Initializing NUTS using jitter+adapt_diag...\n",
      "Multiprocess sampling (4 chains in 4 jobs)\n",
      "NUTS: [a, b_PC, b_GC, b_U, sigma]\n",
      "Sampling 4 chains, 0 divergences: 100%|██████████| 4000/4000 [00:01<00:00, 2161.08draws/s]\n"
     ]
    },
    {
     "data": {
      "text/html": [
       "<div>\n",
       "<style scoped>\n",
       "    .dataframe tbody tr th:only-of-type {\n",
       "        vertical-align: middle;\n",
       "    }\n",
       "\n",
       "    .dataframe tbody tr th {\n",
       "        vertical-align: top;\n",
       "    }\n",
       "\n",
       "    .dataframe thead th {\n",
       "        text-align: right;\n",
       "    }\n",
       "</style>\n",
       "<table border=\"1\" class=\"dataframe\">\n",
       "  <thead>\n",
       "    <tr style=\"text-align: right;\">\n",
       "      <th></th>\n",
       "      <th>mean</th>\n",
       "      <th>sd</th>\n",
       "      <th>hdi_5.5%</th>\n",
       "      <th>hdi_94.5%</th>\n",
       "      <th>mcse_mean</th>\n",
       "      <th>mcse_sd</th>\n",
       "      <th>ess_mean</th>\n",
       "      <th>ess_sd</th>\n",
       "      <th>ess_bulk</th>\n",
       "      <th>ess_tail</th>\n",
       "      <th>r_hat</th>\n",
       "    </tr>\n",
       "  </thead>\n",
       "  <tbody>\n",
       "    <tr>\n",
       "      <th>a</th>\n",
       "      <td>0.013</td>\n",
       "      <td>0.106</td>\n",
       "      <td>-0.141</td>\n",
       "      <td>0.187</td>\n",
       "      <td>0.003</td>\n",
       "      <td>0.002</td>\n",
       "      <td>1610.0</td>\n",
       "      <td>970.0</td>\n",
       "      <td>1615.0</td>\n",
       "      <td>1429.0</td>\n",
       "      <td>1.0</td>\n",
       "    </tr>\n",
       "    <tr>\n",
       "      <th>b_PC</th>\n",
       "      <td>1.168</td>\n",
       "      <td>0.073</td>\n",
       "      <td>1.049</td>\n",
       "      <td>1.281</td>\n",
       "      <td>0.002</td>\n",
       "      <td>0.002</td>\n",
       "      <td>985.0</td>\n",
       "      <td>985.0</td>\n",
       "      <td>992.0</td>\n",
       "      <td>1195.0</td>\n",
       "      <td>1.0</td>\n",
       "    </tr>\n",
       "    <tr>\n",
       "      <th>b_GC</th>\n",
       "      <td>-0.071</td>\n",
       "      <td>0.102</td>\n",
       "      <td>-0.229</td>\n",
       "      <td>0.087</td>\n",
       "      <td>0.003</td>\n",
       "      <td>0.002</td>\n",
       "      <td>1088.0</td>\n",
       "      <td>1088.0</td>\n",
       "      <td>1101.0</td>\n",
       "      <td>1022.0</td>\n",
       "      <td>1.0</td>\n",
       "    </tr>\n",
       "    <tr>\n",
       "      <th>b_U</th>\n",
       "      <td>1.636</td>\n",
       "      <td>0.194</td>\n",
       "      <td>1.359</td>\n",
       "      <td>1.973</td>\n",
       "      <td>0.006</td>\n",
       "      <td>0.004</td>\n",
       "      <td>991.0</td>\n",
       "      <td>952.0</td>\n",
       "      <td>997.0</td>\n",
       "      <td>1147.0</td>\n",
       "      <td>1.0</td>\n",
       "    </tr>\n",
       "    <tr>\n",
       "      <th>sigma</th>\n",
       "      <td>1.033</td>\n",
       "      <td>0.053</td>\n",
       "      <td>0.949</td>\n",
       "      <td>1.116</td>\n",
       "      <td>0.001</td>\n",
       "      <td>0.001</td>\n",
       "      <td>1695.0</td>\n",
       "      <td>1685.0</td>\n",
       "      <td>1697.0</td>\n",
       "      <td>1284.0</td>\n",
       "      <td>1.0</td>\n",
       "    </tr>\n",
       "  </tbody>\n",
       "</table>\n",
       "</div>"
      ],
      "text/plain": [
       "        mean     sd  hdi_5.5%  hdi_94.5%  mcse_mean  mcse_sd  ess_mean  \\\n",
       "a      0.013  0.106    -0.141      0.187      0.003    0.002    1610.0   \n",
       "b_PC   1.168  0.073     1.049      1.281      0.002    0.002     985.0   \n",
       "b_GC  -0.071  0.102    -0.229      0.087      0.003    0.002    1088.0   \n",
       "b_U    1.636  0.194     1.359      1.973      0.006    0.004     991.0   \n",
       "sigma  1.033  0.053     0.949      1.116      0.001    0.001    1695.0   \n",
       "\n",
       "       ess_sd  ess_bulk  ess_tail  r_hat  \n",
       "a       970.0    1615.0    1429.0    1.0  \n",
       "b_PC    985.0     992.0    1195.0    1.0  \n",
       "b_GC   1088.0    1101.0    1022.0    1.0  \n",
       "b_U     952.0     997.0    1147.0    1.0  \n",
       "sigma  1685.0    1697.0    1284.0    1.0  "
      ]
     },
     "execution_count": 33,
     "metadata": {},
     "output_type": "execute_result"
    }
   ],
   "source": [
    "with pm.Model() as m6_12:\n",
    "    sigma = pm.Exponential(\"sigma\", lam=1.0)\n",
    "    b_U = pm.Normal(\"b_U\", mu=0, sigma=1)\n",
    "    b_GC = pm.Normal(\"b_GC\", mu=0, sigma=1)\n",
    "    b_PC = pm.Normal(\"b_PC\", mu=0, sigma=1)\n",
    "    a = pm.Normal(\"a\", mu=0, sigma=1)\n",
    "    mu = pm.Deterministic(\"mu\", a + b_PC*d[\"P\"] + b_GC*d[\"G\"] + b_U*d[\"U\"])\n",
    "    C = pm.Normal(\"C\", mu=mu, sd=sigma, observed=d[\"C\"])\n",
    "    trace_6_12 = pm.sample()\n",
    "    \n",
    "pm.summary(trace_6_12, var_names=[\"a\", \"b_PC\", \"b_GC\", \"b_U\", \"sigma\"], hdi_prob=0.89)"
   ]
  },
  {
   "cell_type": "markdown",
   "metadata": {},
   "source": [
    "## Confronting Confounding"
   ]
  },
  {
   "cell_type": "markdown",
   "metadata": {},
   "source": [
    "### 6.29"
   ]
  },
  {
   "cell_type": "code",
   "execution_count": 34,
   "metadata": {},
   "outputs": [
    {
     "data": {
      "text/plain": [
       "[frozenset({'A'}), frozenset({'C'})]"
      ]
     },
     "execution_count": 34,
     "metadata": {},
     "output_type": "execute_result"
    }
   ],
   "source": [
    "dag_6_1 = CausalGraphicalModel(\n",
    "            nodes=[\"U\", \"X\", \"Y\", \"A\", \"C\", \"B\"],\n",
    "            edges=[(\"X\", \"Y\"),\n",
    "                   (\"U\", \"X\"),\n",
    "                   (\"A\", \"U\"),\n",
    "                   (\"A\", \"C\"),\n",
    "                   (\"C\", \"Y\"),\n",
    "                   (\"U\", \"B\"),\n",
    "                   (\"C\", \"B\")])\n",
    "\n",
    "statsutils.adjustment_sets(dag_6_1, \"X\", \"Y\")"
   ]
  },
  {
   "cell_type": "markdown",
   "metadata": {},
   "source": [
    "### 6.30"
   ]
  },
  {
   "cell_type": "code",
   "execution_count": 35,
   "metadata": {},
   "outputs": [
    {
     "data": {
      "text/plain": [
       "[frozenset({'A', 'M'}), frozenset({'S'})]"
      ]
     },
     "execution_count": 35,
     "metadata": {},
     "output_type": "execute_result"
    }
   ],
   "source": [
    "dag_6_2 = CausalGraphicalModel(\n",
    "            nodes=[\"A\", \"D\", \"M\", \"S\", \"W\"],\n",
    "            edges=[(\"A\", \"D\"),\n",
    "                   (\"A\", \"M\"),\n",
    "                   (\"M\", \"D\"),\n",
    "                   (\"S\", \"A\"),\n",
    "                   (\"S\", \"M\"),\n",
    "                   (\"S\", \"W\"),\n",
    "                   (\"W\", \"D\")])\n",
    "\n",
    "statsutils.adjustment_sets(dag_6_2, \"W\", \"D\")"
   ]
  },
  {
   "cell_type": "markdown",
   "metadata": {},
   "source": [
    "### 6.31"
   ]
  },
  {
   "cell_type": "code",
   "execution_count": 36,
   "metadata": {},
   "outputs": [
    {
     "data": {
      "text/plain": [
       "[('A', 'W', {'S'}), ('D', 'S', {'A', 'M', 'W'}), ('W', 'M', {'S'})]"
      ]
     },
     "execution_count": 36,
     "metadata": {},
     "output_type": "execute_result"
    }
   ],
   "source": [
    "statsutils.implied_conditional_independencies(dag_6_2)"
   ]
  }
 ],
 "metadata": {
  "kernelspec": {
   "display_name": "Python 3",
   "language": "python",
   "name": "python3"
  },
  "language_info": {
   "codemirror_mode": {
    "name": "ipython",
    "version": 3
   },
   "file_extension": ".py",
   "mimetype": "text/x-python",
   "name": "python",
   "nbconvert_exporter": "python",
   "pygments_lexer": "ipython3",
   "version": "3.7.7"
  }
 },
 "nbformat": 4,
 "nbformat_minor": 4
}
