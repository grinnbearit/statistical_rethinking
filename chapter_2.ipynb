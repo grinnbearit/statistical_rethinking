{
 "cells": [
  {
   "cell_type": "markdown",
   "metadata": {},
   "source": [
    "# Small Worlds and Large Worlds"
   ]
  },
  {
   "cell_type": "code",
   "execution_count": 1,
   "metadata": {},
   "outputs": [],
   "source": [
    "import numpy as np\n",
    "import pandas as pd\n",
    "import pymc3 as pm\n",
    "import altair as alt\n",
    "import scipy.stats as stats"
   ]
  },
  {
   "cell_type": "code",
   "execution_count": 2,
   "metadata": {},
   "outputs": [
    {
     "data": {
      "text/plain": [
       "RendererRegistry.enable('mimetype')"
      ]
     },
     "execution_count": 2,
     "metadata": {},
     "output_type": "execute_result"
    }
   ],
   "source": [
    "alt.renderers.enable('mimetype')"
   ]
  },
  {
   "cell_type": "markdown",
   "metadata": {},
   "source": [
    "## The Garden of Forking Data"
   ]
  },
  {
   "cell_type": "markdown",
   "metadata": {},
   "source": [
    "### 2.1"
   ]
  },
  {
   "cell_type": "code",
   "execution_count": 3,
   "metadata": {},
   "outputs": [
    {
     "data": {
      "text/plain": [
       "array([0.  , 0.15, 0.4 , 0.45, 0.  ])"
      ]
     },
     "execution_count": 3,
     "metadata": {},
     "output_type": "execute_result"
    }
   ],
   "source": [
    "ways = np.array([0, 3, 8, 9, 0])\n",
    "ways/ways.sum()"
   ]
  },
  {
   "cell_type": "markdown",
   "metadata": {},
   "source": [
    "## Building a Model"
   ]
  },
  {
   "cell_type": "markdown",
   "metadata": {},
   "source": [
    "## Components of the Model"
   ]
  },
  {
   "cell_type": "markdown",
   "metadata": {},
   "source": [
    "### 2.2"
   ]
  },
  {
   "cell_type": "code",
   "execution_count": 4,
   "metadata": {},
   "outputs": [
    {
     "data": {
      "text/plain": [
       "0.16406250000000006"
      ]
     },
     "execution_count": 4,
     "metadata": {},
     "output_type": "execute_result"
    }
   ],
   "source": [
    "stats.binom.pmf(6, n=9, p=0.5)"
   ]
  },
  {
   "cell_type": "markdown",
   "metadata": {},
   "source": [
    "## Making the Model Go"
   ]
  },
  {
   "cell_type": "markdown",
   "metadata": {},
   "source": [
    "It's simpler to define a function for code blocks 2.3 to 2.5"
   ]
  },
  {
   "cell_type": "code",
   "execution_count": 5,
   "metadata": {},
   "outputs": [],
   "source": [
    "def grid_approx(prior, n, k):\n",
    "    \"\"\"\n",
    "    updates a binomial likelihood given n, k and a prior.\n",
    "    granularity is the length of the prior\n",
    "    \"\"\"\n",
    "    p_grid = np.linspace(0, 1, len(prior))\n",
    "    likelihood = stats.binom.pmf(k, n=n, p=p_grid)\n",
    "    unstd_posterior = likelihood * prior\n",
    "    posterior = unstd_posterior / unstd_posterior.sum()\n",
    "    data = pd.DataFrame({\"x\": p_grid,\n",
    "                         \"p(x)\": posterior})\n",
    "    return data"
   ]
  },
  {
   "cell_type": "markdown",
   "metadata": {},
   "source": [
    "### 2.3 - 2.4"
   ]
  },
  {
   "cell_type": "code",
   "execution_count": 6,
   "metadata": {},
   "outputs": [
    {
     "data": {
      "application/vnd.vegalite.v4+json": {
       "$schema": "https://vega.github.io/schema/vega-lite/v4.8.1.json",
       "config": {
        "view": {
         "continuousHeight": 300,
         "continuousWidth": 400
        }
       },
       "data": {
        "name": "data-c137fbc85c3c7c331330deb49535d174"
       },
       "datasets": {
        "data-c137fbc85c3c7c331330deb49535d174": [
         {
          "p(x)": 0,
          "x": 0
         },
         {
          "p(x)": 7.989837111322305e-07,
          "x": 0.05263157894736842
         },
         {
          "p(x)": 4.3077168425708135e-05,
          "x": 0.10526315789473684
         },
         {
          "p(x)": 0.0004090796600997031,
          "x": 0.15789473684210525
         },
         {
          "p(x)": 0.0018938873152764023,
          "x": 0.21052631578947367
         },
         {
          "p(x)": 0.005873872876336508,
          "x": 0.2631578947368421
         },
         {
          "p(x)": 0.014042937706860133,
          "x": 0.3157894736842105
         },
         {
          "p(x)": 0.027851743594369205,
          "x": 0.3684210526315789
         },
         {
          "p(x)": 0.04780115468577929,
          "x": 0.42105263157894735
         },
         {
          "p(x)": 0.07280739067692474,
          "x": 0.47368421052631576
         },
         {
          "p(x)": 0.09987296389152915,
          "x": 0.5263157894736842
         },
         {
          "p(x)": 0.1242643298569771,
          "x": 0.5789473684210527
         },
         {
          "p(x)": 0.14031432341419822,
          "x": 0.631578947368421
         },
         {
          "p(x)": 0.1428348802869061,
          "x": 0.6842105263157894
         },
         {
          "p(x)": 0.12894325738133888,
          "x": 0.7368421052631579
         },
         {
          "p(x)": 0.09987296389152911,
          "x": 0.7894736842105263
         },
         {
          "p(x)": 0.06205889954697724,
          "x": 0.8421052631578947
         },
         {
          "p(x)": 0.02645476605943813,
          "x": 0.894736842105263
         },
         {
          "p(x)": 0.004659673003323195,
          "x": 0.9473684210526315
         },
         {
          "p(x)": 0,
          "x": 1
         }
        ]
       },
       "encoding": {
        "x": {
         "field": "x",
         "title": "Probability of Water",
         "type": "quantitative"
        },
        "y": {
         "field": "p(x)",
         "title": "Posterior Probability",
         "type": "quantitative"
        }
       },
       "mark": {
        "point": true,
        "type": "line"
       }
      },
      "image/png": "[encoded data removed]",
      "text/plain": [
       "<VegaLite 4 object>\n",
       "\n",
       "If you see this message, it means the renderer has not been properly enabled\n",
       "for the frontend that you are using. For more information, see\n",
       "https://altair-viz.github.io/user_guide/troubleshooting.html\n"
      ]
     },
     "execution_count": 6,
     "metadata": {},
     "output_type": "execute_result"
    }
   ],
   "source": [
    "prior = np.repeat(1, 20)\n",
    "source = grid_approx(prior, 9, 6)\n",
    "(alt\n",
    " .Chart(source)\n",
    " .mark_line(point=True)\n",
    " .encode(x=alt.X(\"x\", title='Probability of Water'), \n",
    "         y=alt.Y(\"p(x)\", title=\"Posterior Probability\")))"
   ]
  },
  {
   "cell_type": "markdown",
   "metadata": {},
   "source": [
    "### 2.5"
   ]
  },
  {
   "cell_type": "code",
   "execution_count": 7,
   "metadata": {},
   "outputs": [
    {
     "data": {
      "application/vnd.vegalite.v4+json": {
       "$schema": "https://vega.github.io/schema/vega-lite/v4.8.1.json",
       "config": {
        "view": {
         "continuousHeight": 300,
         "continuousWidth": 400
        }
       },
       "data": {
        "name": "data-ede9a279686b0199fad89d118916701a"
       },
       "datasets": {
        "data-ede9a279686b0199fad89d118916701a": [
         {
          "p(x)": 0,
          "x": 0
         },
         {
          "p(x)": 0,
          "x": 0.05263157894736842
         },
         {
          "p(x)": 0,
          "x": 0.10526315789473684
         },
         {
          "p(x)": 0,
          "x": 0.15789473684210525
         },
         {
          "p(x)": 0,
          "x": 0.21052631578947367
         },
         {
          "p(x)": 0,
          "x": 0.2631578947368421
         },
         {
          "p(x)": 0,
          "x": 0.3157894736842105
         },
         {
          "p(x)": 0,
          "x": 0.3684210526315789
         },
         {
          "p(x)": 0,
          "x": 0.42105263157894735
         },
         {
          "p(x)": 0,
          "x": 0.47368421052631576
         },
         {
          "p(x)": 0.12043391703942433,
          "x": 0.5263157894736842
         },
         {
          "p(x)": 0.149846759421387,
          "x": 0.5789473684210527
         },
         {
          "p(x)": 0.1692009821983643,
          "x": 0.631578947368421
         },
         {
          "p(x)": 0.17224044879145092,
          "x": 0.6842105263157894
         },
         {
          "p(x)": 0.15548894272451277,
          "x": 0.7368421052631579
         },
         {
          "p(x)": 0.12043391703942428,
          "x": 0.7894736842105263
         },
         {
          "p(x)": 0.07483503110727789,
          "x": 0.8421052631578947
         },
         {
          "p(x)": 0.031901036844766945,
          "x": 0.894736842105263
         },
         {
          "p(x)": 0.005618964833391395,
          "x": 0.9473684210526315
         },
         {
          "p(x)": 0,
          "x": 1
         }
        ]
       },
       "encoding": {
        "x": {
         "field": "x",
         "title": "Probability of Water",
         "type": "quantitative"
        },
        "y": {
         "field": "p(x)",
         "title": "Posterior Probability",
         "type": "quantitative"
        }
       },
       "mark": {
        "point": true,
        "type": "line"
       }
      },
      "image/png": "[encoded data removed]",
      "text/plain": [
       "<VegaLite 4 object>\n",
       "\n",
       "If you see this message, it means the renderer has not been properly enabled\n",
       "for the frontend that you are using. For more information, see\n",
       "https://altair-viz.github.io/user_guide/troubleshooting.html\n"
      ]
     },
     "execution_count": 7,
     "metadata": {},
     "output_type": "execute_result"
    }
   ],
   "source": [
    "prior = np.where(np.linspace(0, 1, 20) < 0.5, 0, 1)\n",
    "source = grid_approx(prior, 9, 6)\n",
    "(alt\n",
    " .Chart(source)\n",
    " .mark_line(point=True)\n",
    " .encode(x=alt.X(\"x\", title='Probability of Water'), \n",
    "         y=alt.Y(\"p(x)\", title=\"Posterior Probability\")))"
   ]
  },
  {
   "cell_type": "code",
   "execution_count": 8,
   "metadata": {},
   "outputs": [
    {
     "data": {
      "application/vnd.vegalite.v4+json": {
       "$schema": "https://vega.github.io/schema/vega-lite/v4.8.1.json",
       "config": {
        "view": {
         "continuousHeight": 300,
         "continuousWidth": 400
        }
       },
       "data": {
        "name": "data-18a200be61e73b81a4fa2b576972735f"
       },
       "datasets": {
        "data-18a200be61e73b81a4fa2b576972735f": [
         {
          "p(x)": 0,
          "x": 0
         },
         {
          "p(x)": 1.7149567474573686e-07,
          "x": 0.05263157894736842
         },
         {
          "p(x)": 1.202957864164514e-05,
          "x": 0.10526315789473684
         },
         {
          "p(x)": 0.00014862750088436371,
          "x": 0.15789473684210525
         },
         {
          "p(x)": 0.0008952275642721065,
          "x": 0.21052631578947367
         },
         {
          "p(x)": 0.0036123670749192704,
          "x": 0.2631578947368421
         },
         {
          "p(x)": 0.011236041198991723,
          "x": 0.3157894736842105
         },
         {
          "p(x)": 0.02899317410555203,
          "x": 0.3684210526315789
         },
         {
          "p(x)": 0.06473956608986775,
          "x": 0.42105263157894735
         },
         {
          "p(x)": 0.12829061439853065,
          "x": 0.47368421052631576
         },
         {
          "p(x)": 0.17598163840676367,
          "x": 0.5263157894736842
         },
         {
          "p(x)": 0.16829758294065236,
          "x": 0.5789473684210527
         },
         {
          "p(x)": 0.1460647371848219,
          "x": 0.631578947368421
         },
         {
          "p(x)": 0.11428510423233719,
          "x": 0.6842105263157894
         },
         {
          "p(x)": 0.07929868202862773,
          "x": 0.7368421052631579
         },
         {
          "p(x)": 0.047209266084661895,
          "x": 0.7894736842105263
         },
         {
          "p(x)": 0.022547342356383504,
          "x": 0.8421052631578947
         },
         {
          "p(x)": 0.007387664983300361,
          "x": 0.894736842105263
         },
         {
          "p(x)": 0.0010001627751171434,
          "x": 0.9473684210526315
         },
         {
          "p(x)": 0,
          "x": 1
         }
        ]
       },
       "encoding": {
        "x": {
         "field": "x",
         "title": "Probability of Water",
         "type": "quantitative"
        },
        "y": {
         "field": "p(x)",
         "title": "Posterior Probability",
         "type": "quantitative"
        }
       },
       "mark": {
        "point": true,
        "type": "line"
       }
      },
      "image/png": "[encoded data removed]",
      "text/plain": [
       "<VegaLite 4 object>\n",
       "\n",
       "If you see this message, it means the renderer has not been properly enabled\n",
       "for the frontend that you are using. For more information, see\n",
       "https://altair-viz.github.io/user_guide/troubleshooting.html\n"
      ]
     },
     "execution_count": 8,
     "metadata": {},
     "output_type": "execute_result"
    }
   ],
   "source": [
    "prior = np.exp(-5*np.abs(np.linspace(0, 1, 20) - 0.5))\n",
    "source = grid_approx(prior, 9, 6)\n",
    "(alt\n",
    " .Chart(source)\n",
    " .mark_line(point=True)\n",
    " .encode(x=alt.X(\"x\", title='Probability of Water'), \n",
    "         y=alt.Y(\"p(x)\", title=\"Posterior Probability\")))"
   ]
  },
  {
   "cell_type": "markdown",
   "metadata": {},
   "source": [
    "### 2.6"
   ]
  },
  {
   "cell_type": "code",
   "execution_count": 9,
   "metadata": {},
   "outputs": [
    {
     "data": {
      "text/html": [
       "\n",
       "    <div>\n",
       "        <style>\n",
       "            /* Turns off some styling */\n",
       "            progress {\n",
       "                /* gets rid of default border in Firefox and Opera. */\n",
       "                border: none;\n",
       "                /* Needs to be in here for Safari polyfill so background images work as expected. */\n",
       "                background-size: auto;\n",
       "            }\n",
       "            .progress-bar-interrupted, .progress-bar-interrupted::-webkit-progress-bar {\n",
       "                background: #F44336;\n",
       "            }\n",
       "        </style>\n",
       "      <progress value='6' class='' max='6' style='width:300px; height:20px; vertical-align: middle;'></progress>\n",
       "      100.00% [6/6 00:00<00:00 logp = -1.8075, ||grad|| = 1.5]\n",
       "    </div>\n",
       "    "
      ],
      "text/plain": [
       "<IPython.core.display.HTML object>"
      ]
     },
     "metadata": {},
     "output_type": "display_data"
    },
    {
     "name": "stdout",
     "output_type": "stream",
     "text": [
      "\n"
     ]
    },
    {
     "data": {
      "text/plain": [
       "(array(0.66666667), 0.15713484014616183)"
      ]
     },
     "execution_count": 9,
     "metadata": {},
     "output_type": "execute_result"
    }
   ],
   "source": [
    "with pm.Model() as normal_aproximation:\n",
    "    p = pm.Uniform('p', 0, 1)\n",
    "    w = pm.Binomial('w', n=9, p=p, observed=6)\n",
    "    mean_q = pm.find_MAP()\n",
    "    hess_q = pm.find_hessian(mean_q, vars=[p])\n",
    "    std_q = (1/hess_q[0, 0])**0.5\n",
    "mean_q[\"p\"], std_q"
   ]
  },
  {
   "cell_type": "code",
   "execution_count": 10,
   "metadata": {},
   "outputs": [
    {
     "data": {
      "text/plain": [
       "array([0.41553484, 0.91779849])"
      ]
     },
     "execution_count": 10,
     "metadata": {},
     "output_type": "execute_result"
    }
   ],
   "source": [
    "norm = stats.norm(mean_q[\"p\"], std_q)\n",
    "prob = 0.89\n",
    "norm.ppf([(1-prob)/2, (1+prob)/2])"
   ]
  },
  {
   "cell_type": "markdown",
   "metadata": {},
   "source": [
    "### 2.7"
   ]
  },
  {
   "cell_type": "code",
   "execution_count": 11,
   "metadata": {},
   "outputs": [
    {
     "data": {
      "application/vnd.vegalite.v4+json": {
       "$schema": "https://vega.github.io/schema/vega-lite/v4.8.1.json",
       "config": {
        "view": {
         "continuousHeight": 300,
         "continuousWidth": 400
        }
       },
       "data": {
        "name": "data-e82af2275c1ea755406335104d2406bf"
       },
       "datasets": {
        "data-e82af2275c1ea755406335104d2406bf": [
         {
          "density": 0,
          "model": "True Posterior",
          "xs": 0
         },
         {
          "density": 8.654475678240122e-10,
          "model": "True Posterior",
          "xs": 0.010101010101010102
         },
         {
          "density": 5.371031648844565e-08,
          "model": "True Posterior",
          "xs": 0.020202020202020204
         },
         {
          "density": 5.930670038823788e-07,
          "model": "True Posterior",
          "xs": 0.030303030303030304
         },
         {
          "density": 3.2291877664333097e-06,
          "model": "True Posterior",
          "xs": 0.04040404040404041
         },
         {
          "density": 1.1933452849444127e-05,
          "model": "True Posterior",
          "xs": 0.05050505050505051
         },
         {
          "density": 3.4507927954413905e-05,
          "model": "True Posterior",
          "xs": 0.06060606060606061
         },
         {
          "density": 8.423920446171792e-05,
          "model": "True Posterior",
          "xs": 0.07070707070707072
         },
         {
          "density": 0.00018164633244226907,
          "model": "True Posterior",
          "xs": 0.08080808080808081
         },
         {
          "density": 0.00035624199943288685,
          "model": "True Posterior",
          "xs": 0.09090909090909091
         },
         {
          "density": 0.0006482351172144718,
          "model": "True Posterior",
          "xs": 0.10101010101010102
         },
         {
          "density": 0.0011101116544200143,
          "model": "True Posterior",
          "xs": 0.11111111111111112
         },
         {
          "density": 0.0018080388947109148,
          "model": "True Posterior",
          "xs": 0.12121212121212122
         },
         {
          "density": 0.0028230463084951687,
          "model": "True Posterior",
          "xs": 0.13131313131313133
         },
         {
          "density": 0.004251943900719357,
          "model": "True Posterior",
          "xs": 0.14141414141414144
         },
         {
          "density": 0.006207946238148688,
          "model": "True Posterior",
          "xs": 0.15151515151515152
         },
         {
          "density": 0.008820977366754749,
          "model": "True Posterior",
          "xs": 0.16161616161616163
         },
         {
          "density": 0.012237638503360041,
          "model": "True Posterior",
          "xs": 0.17171717171717174
         },
         {
          "density": 0.016620826725540782,
          "model": "True Posterior",
          "xs": 0.18181818181818182
         },
         {
          "density": 0.02214899888996608,
          "model": "True Posterior",
          "xs": 0.19191919191919193
         },
         {
          "density": 0.02901508068185072,
          "model": "True Posterior",
          "xs": 0.20202020202020204
         },
         {
          "density": 0.03742502603702349,
          "model": "True Posterior",
          "xs": 0.21212121212121213
         },
         {
          "density": 0.04759603718325804,
          "model": "True Posterior",
          "xs": 0.22222222222222224
         },
         {
          "density": 0.05975446021898486,
          "model": "True Posterior",
          "xs": 0.23232323232323235
         },
         {
          "density": 0.07413337548529736,
          "model": "True Posterior",
          "xs": 0.24242424242424243
         },
         {
          "density": 0.0909699059912804,
          "model": "True Posterior",
          "xs": 0.25252525252525254
         },
         {
          "density": 0.110502270823134,
          "model": "True Posterior",
          "xs": 0.26262626262626265
         },
         {
          "density": 0.13296661380432653,
          "model": "True Posterior",
          "xs": 0.27272727272727276
         },
         {
          "density": 0.1585936406770991,
          "model": "True Posterior",
          "xs": 0.2828282828282829
         },
         {
          "density": 0.18760510074506187,
          "model": "True Posterior",
          "xs": 0.29292929292929293
         },
         {
          "density": 0.2202101512523467,
          "model": "True Posterior",
          "xs": 0.30303030303030304
         },
         {
          "density": 0.2566016447768482,
          "model": "True Posterior",
          "xs": 0.31313131313131315
         },
         {
          "density": 0.29695238158346454,
          "model": "True Posterior",
          "xs": 0.32323232323232326
         },
         {
          "density": 0.3414113702179546,
          "model": "True Posterior",
          "xs": 0.33333333333333337
         },
         {
          "density": 0.39010014062306086,
          "model": "True Posterior",
          "xs": 0.3434343434343435
         },
         {
          "density": 0.4431091547258924,
          "model": "True Posterior",
          "xs": 0.3535353535353536
         },
         {
          "density": 0.5004943597792477,
          "model": "True Posterior",
          "xs": 0.36363636363636365
         },
         {
          "density": 0.5622739297395543,
          "model": "True Posterior",
          "xs": 0.37373737373737376
         },
         {
          "density": 0.6284252396304228,
          "model": "True Posterior",
          "xs": 0.38383838383838387
         },
         {
          "density": 0.6988821171734625,
          "model": "True Posterior",
          "xs": 0.393939393939394
         },
         {
          "density": 0.7735324149669707,
          "model": "True Posterior",
          "xs": 0.4040404040404041
         },
         {
          "density": 0.8522159451584248,
          "model": "True Posterior",
          "xs": 0.4141414141414142
         },
         {
          "density": 0.9347228168882808,
          "model": "True Posterior",
          "xs": 0.42424242424242425
         },
         {
          "density": 1.020792214780569,
          "model": "True Posterior",
          "xs": 0.43434343434343436
         },
         {
          "density": 1.110111654420012,
          "model": "True Posterior",
          "xs": 0.4444444444444445
         },
         {
          "density": 1.2023167480859958,
          "model": "True Posterior",
          "xs": 0.4545454545454546
         },
         {
          "density": 1.2969915110106158,
          "model": "True Posterior",
          "xs": 0.4646464646464647
         },
         {
          "density": 1.393669235091291,
          "model": "True Posterior",
          "xs": 0.4747474747474748
         },
         {
          "density": 1.491833953317952,
          "model": "True Posterior",
          "xs": 0.48484848484848486
         },
         {
          "density": 1.5909225141707304,
          "model": "True Posterior",
          "xs": 0.494949494949495
         },
         {
          "density": 1.6903272809062664,
          "model": "True Posterior",
          "xs": 0.5050505050505051
         },
         {
          "density": 1.7893994659792722,
          "model": "True Posterior",
          "xs": 0.5151515151515152
         },
         {
          "density": 1.8874531058408655,
          "model": "True Posterior",
          "xs": 0.5252525252525253
         },
         {
          "density": 1.9837696760163495,
          "model": "True Posterior",
          "xs": 0.5353535353535354
         },
         {
          "density": 2.0776033406926007,
          "model": "True Posterior",
          "xs": 0.5454545454545455
         },
         {
          "density": 2.1681868250390877,
          "model": "True Posterior",
          "xs": 0.5555555555555556
         },
         {
          "density": 2.254737892146657,
          "model": "True Posterior",
          "xs": 0.5656565656565657
         },
         {
          "density": 2.3364663997947215,
          "model": "True Posterior",
          "xs": 0.5757575757575758
         },
         {
          "density": 2.4125819052502218,
          "model": "True Posterior",
          "xs": 0.5858585858585859
         },
         {
          "density": 2.4823017789609594,
          "model": "True Posterior",
          "xs": 0.595959595959596
         },
         {
          "density": 2.544859780331221,
          "model": "True Posterior",
          "xs": 0.6060606060606061
         },
         {
          "density": 2.599515040759458,
          "model": "True Posterior",
          "xs": 0.6161616161616162
         },
         {
          "density": 2.6455613907758377,
          "model": "True Posterior",
          "xs": 0.6262626262626263
         },
         {
          "density": 2.6823369594419053,
          "model": "True Posterior",
          "xs": 0.6363636363636365
         },
         {
          "density": 2.7092339651653488,
          "model": "True Posterior",
          "xs": 0.6464646464646465
         },
         {
          "density": 2.725708607739877,
          "model": "True Posterior",
          "xs": 0.6565656565656566
         },
         {
          "density": 2.731290961743635,
          "model": "True Posterior",
          "xs": 0.6666666666666667
         },
         {
          "density": 2.725594761419294,
          "model": "True Posterior",
          "xs": 0.6767676767676768
         },
         {
          "density": 2.7083269568149393,
          "model": "True Posterior",
          "xs": 0.686868686868687
         },
         {
          "density": 2.6792969102873028,
          "model": "True Posterior",
          "xs": 0.696969696969697
         },
         {
          "density": 2.6384250914574676,
          "model": "True Posterior",
          "xs": 0.7070707070707072
         },
         {
          "density": 2.5857511173643006,
          "model": "True Posterior",
          "xs": 0.7171717171717172
         },
         {
          "density": 2.521440972882039,
          "model": "True Posterior",
          "xs": 0.7272727272727273
         },
         {
          "density": 2.4457932344562554,
          "model": "True Posterior",
          "xs": 0.7373737373737375
         },
         {
          "density": 2.359244107866278,
          "model": "True Posterior",
          "xs": 0.7474747474747475
         },
         {
          "density": 2.262371078042518,
          "model": "True Posterior",
          "xs": 0.7575757575757577
         },
         {
          "density": 2.1558949559537353,
          "model": "True Posterior",
          "xs": 0.7676767676767677
         },
         {
          "density": 2.0406800942321888,
          "model": "True Posterior",
          "xs": 0.7777777777777778
         },
         {
          "density": 1.917732529523978,
          "model": "True Posterior",
          "xs": 0.787878787878788
         },
         {
          "density": 1.7881957955373715,
          "model": "True Posterior",
          "xs": 0.797979797979798
         },
         {
          "density": 1.653344136413851,
          "model": "True Posterior",
          "xs": 0.8080808080808082
         },
         {
          "density": 1.5145728353649035,
          "model": "True Posterior",
          "xs": 0.8181818181818182
         },
         {
          "density": 1.373385358502058,
          "model": "True Posterior",
          "xs": 0.8282828282828284
         },
         {
          "density": 1.2313769984386203,
          "model": "True Posterior",
          "xs": 0.8383838383838385
         },
         {
          "density": 1.0902146865587177,
          "model": "True Posterior",
          "xs": 0.8484848484848485
         },
         {
          "density": 0.9516126268328237,
          "model": "True Posterior",
          "xs": 0.8585858585858587
         },
         {
          "density": 0.8173033877087855,
          "model": "True Posterior",
          "xs": 0.8686868686868687
         },
         {
          "density": 0.6890040719235074,
          "model": "True Posterior",
          "xs": 0.8787878787878789
         },
         {
          "density": 0.5683771670630453,
          "model": "True Posterior",
          "xs": 0.888888888888889
         },
         {
          "density": 0.45698566234756755,
          "model": "True Posterior",
          "xs": 0.8989898989898991
         },
         {
          "density": 0.3562419994328864,
          "model": "True Posterior",
          "xs": 0.9090909090909092
         },
         {
          "density": 0.26735040700166607,
          "model": "True Posterior",
          "xs": 0.9191919191919192
         },
         {
          "density": 0.19124215056526472,
          "model": "True Posterior",
          "xs": 0.9292929292929294
         },
         {
          "density": 0.12850321021124306,
          "model": "True Posterior",
          "xs": 0.9393939393939394
         },
         {
          "density": 0.07929388001202092,
          "model": "True Posterior",
          "xs": 0.9494949494949496
         },
         {
          "density": 0.04325976345696472,
          "model": "True Posterior",
          "xs": 0.9595959595959597
         },
         {
          "density": 0.01943361958321773,
          "model": "True Posterior",
          "xs": 0.9696969696969697
         },
         {
          "density": 0.0061274944600573,
          "model": "True Posterior",
          "xs": 0.9797979797979799
         },
         {
          "density": 0.0008145523272554035,
          "model": "True Posterior",
          "xs": 0.98989898989899
         },
         {
          "density": 0,
          "model": "True Posterior",
          "xs": 1
         },
         {
          "density": 0.00038822123231510103,
          "model": "Quadratic Approximation",
          "xs": 0
         },
         {
          "density": 0.000504690290952487,
          "model": "Quadratic Approximation",
          "xs": 0.010101010101010102
         },
         {
          "density": 0.0006534911467837592,
          "model": "Quadratic Approximation",
          "xs": 0.020202020202020204
         },
         {
          "density": 0.0008427981211062678,
          "model": "Quadratic Approximation",
          "xs": 0.030303030303030304
         },
         {
          "density": 0.0010826211352789423,
          "model": "Quadratic Approximation",
          "xs": 0.04040404040404041
         },
         {
          "density": 0.0013851555163259352,
          "model": "Quadratic Approximation",
          "xs": 0.05050505050505051
         },
         {
          "density": 0.001765182701086728,
          "model": "Quadratic Approximation",
          "xs": 0.06060606060606061
         },
         {
          "density": 0.0022405254507683907,
          "model": "Quadratic Approximation",
          "xs": 0.07070707070707072
         },
         {
          "density": 0.0028325604863574196,
          "model": "Quadratic Approximation",
          "xs": 0.08080808080808081
         },
         {
          "density": 0.003566790453926817,
          "model": "Quadratic Approximation",
          "xs": 0.09090909090909091
         },
         {
          "density": 0.004473475785053887,
          "model": "Quadratic Approximation",
          "xs": 0.10101010101010102
         },
         {
          "density": 0.00558832529271618,
          "model": "Quadratic Approximation",
          "xs": 0.11111111111111112
         },
         {
          "density": 0.006953242205188288,
          "model": "Quadratic Approximation",
          "xs": 0.12121212121212122
         },
         {
          "density": 0.008617119767651147,
          "model": "Quadratic Approximation",
          "xs": 0.13131313131313133
         },
         {
          "density": 0.010636677525155288,
          "model": "Quadratic Approximation",
          "xs": 0.14141414141414144
         },
         {
          "density": 0.013077325950543934,
          "model": "Quadratic Approximation",
          "xs": 0.15151515151515152
         },
         {
          "density": 0.016014043227765888,
          "model": "Quadratic Approximation",
          "xs": 0.16161616161616163
         },
         {
          "density": 0.019532243800851626,
          "model": "Quadratic Approximation",
          "xs": 0.17171717171717174
         },
         {
          "density": 0.02372861383654407,
          "model": "Quadratic Approximation",
          "xs": 0.18181818181818182
         },
         {
          "density": 0.028711884140383344,
          "model": "Quadratic Approximation",
          "xs": 0.19191919191919193
         },
         {
          "density": 0.03460350646114378,
          "model": "Quadratic Approximation",
          "xs": 0.20202020202020204
         },
         {
          "density": 0.041538194699337845,
          "model": "Quadratic Approximation",
          "xs": 0.21212121212121213
         },
         {
          "density": 0.04966428851628405,
          "model": "Quadratic Approximation",
          "xs": 0.22222222222222224
         },
         {
          "density": 0.05914389346360523,
          "model": "Quadratic Approximation",
          "xs": 0.23232323232323235
         },
         {
          "density": 0.07015274928437565,
          "model": "Quadratic Approximation",
          "xs": 0.24242424242424243
         },
         {
          "density": 0.08287977675661598,
          "model": "Quadratic Approximation",
          "xs": 0.25252525252525254
         },
         {
          "density": 0.09752625364196159,
          "model": "Quadratic Approximation",
          "xs": 0.26262626262626265
         },
         {
          "density": 0.11430457224327376,
          "model": "Quadratic Approximation",
          "xs": 0.27272727272727276
         },
         {
          "density": 0.13343653501780983,
          "model": "Quadratic Approximation",
          "xs": 0.2828282828282829
         },
         {
          "density": 0.1551511508509807,
          "model": "Quadratic Approximation",
          "xs": 0.29292929292929293
         },
         {
          "density": 0.1796819031265717,
          "model": "Quadratic Approximation",
          "xs": 0.30303030303030304
         },
         {
          "density": 0.2072634717151502,
          "model": "Quadratic Approximation",
          "xs": 0.31313131313131315
         },
         {
          "density": 0.23812790443467355,
          "model": "Quadratic Approximation",
          "xs": 0.32323232323232326
         },
         {
          "density": 0.27250024930134986,
          "model": "Quadratic Approximation",
          "xs": 0.33333333333333337
         },
         {
          "density": 0.31059367675172267,
          "model": "Quadratic Approximation",
          "xs": 0.3434343434343435
         },
         {
          "density": 0.3526041406197542,
          "model": "Quadratic Approximation",
          "xs": 0.3535353535353536
         },
         {
          "density": 0.39870464750742507,
          "model": "Quadratic Approximation",
          "xs": 0.36363636363636365
         },
         {
          "density": 0.44903922568059224,
          "model": "Quadratic Approximation",
          "xs": 0.37373737373737376
         },
         {
          "density": 0.5037167060247758,
          "model": "Quadratic Approximation",
          "xs": 0.38383838383838387
         },
         {
          "density": 0.5628044480817718,
          "model": "Quadratic Approximation",
          "xs": 0.393939393939394
         },
         {
          "density": 0.626322162858267,
          "model": "Quadratic Approximation",
          "xs": 0.4040404040404041
         },
         {
          "density": 0.6942360000121998,
          "model": "Quadratic Approximation",
          "xs": 0.4141414141414142
         },
         {
          "density": 0.7664530792391002,
          "model": "Quadratic Approximation",
          "xs": 0.42424242424242425
         },
         {
          "density": 0.8428166532975422,
          "model": "Quadratic Approximation",
          "xs": 0.43434343434343436
         },
         {
          "density": 0.9231020923156823,
          "model": "Quadratic Approximation",
          "xs": 0.4444444444444445
         },
         {
          "density": 1.0070138751297502,
          "model": "Quadratic Approximation",
          "xs": 0.4545454545454546
         },
         {
          "density": 1.0941837629208442,
          "model": "Quadratic Approximation",
          "xs": 0.4646464646464647
         },
         {
          "density": 1.1841703130616774,
          "model": "Quadratic Approximation",
          "xs": 0.4747474747474748
         },
         {
          "density": 1.2764598668407123,
          "model": "Quadratic Approximation",
          "xs": 0.48484848484848486
         },
         {
          "density": 1.3704691138619665,
          "model": "Quadratic Approximation",
          "xs": 0.494949494949495
         },
         {
          "density": 1.465549298986841,
          "model": "Quadratic Approximation",
          "xs": 0.5050505050505051
         },
         {
          "density": 1.5609920955507184,
          "model": "Quadratic Approximation",
          "xs": 0.5151515151515152
         },
         {
          "density": 1.6560371223973511,
          "model": "Quadratic Approximation",
          "xs": 0.5252525252525253
         },
         {
          "density": 1.7498810334298602,
          "model": "Quadratic Approximation",
          "xs": 0.5353535353535354
         },
         {
          "density": 1.8416880584913773,
          "model": "Quadratic Approximation",
          "xs": 0.5454545454545455
         },
         {
          "density": 1.9306018252285249,
          "model": "Quadratic Approximation",
          "xs": 0.5555555555555556
         },
         {
          "density": 2.0157582450092586,
          "model": "Quadratic Approximation",
          "xs": 0.5656565656565657
         },
         {
          "density": 2.0962992038227473,
          "model": "Quadratic Approximation",
          "xs": 0.5757575757575758
         },
         {
          "density": 2.1713867631671917,
          "model": "Quadratic Approximation",
          "xs": 0.5858585858585859
         },
         {
          "density": 2.240217547856278,
          "model": "Quadratic Approximation",
          "xs": 0.595959595959596
         },
         {
          "density": 2.3020369788315835,
          "model": "Quadratic Approximation",
          "xs": 0.6060606060606061
         },
         {
          "density": 2.356153000528908,
          "model": "Quadratic Approximation",
          "xs": 0.6161616161616162
         },
         {
          "density": 2.401948954810603,
          "model": "Quadratic Approximation",
          "xs": 0.6262626262626263
         },
         {
          "density": 2.4388952672245727,
          "model": "Quadratic Approximation",
          "xs": 0.6363636363636365
         },
         {
          "density": 2.466559636219806,
          "model": "Quadratic Approximation",
          "xs": 0.6464646464646465
         },
         {
          "density": 2.484615451323822,
          "model": "Quadratic Approximation",
          "xs": 0.6565656565656566
         },
         {
          "density": 2.4928482111196253,
          "model": "Quadratic Approximation",
          "xs": 0.6666666666666667
         },
         {
          "density": 2.4911597647009796,
          "model": "Quadratic Approximation",
          "xs": 0.6767676767676768
         },
         {
          "density": 2.479570259345718,
          "model": "Quadratic Approximation",
          "xs": 0.686868686868687
         },
         {
          "density": 2.458217740370149,
          "model": "Quadratic Approximation",
          "xs": 0.696969696969697
         },
         {
          "density": 2.4273554142760516,
          "model": "Quadratic Approximation",
          "xs": 0.7070707070707072
         },
         {
          "density": 2.3873466510539667,
          "model": "Quadratic Approximation",
          "xs": 0.7171717171717172
         },
         {
          "density": 2.3386578635585478,
          "model": "Quadratic Approximation",
          "xs": 0.7272727272727273
         },
         {
          "density": 2.2818494590370633,
          "model": "Quadratic Approximation",
          "xs": 0.7373737373737375
         },
         {
          "density": 2.2175651081952985,
          "model": "Quadratic Approximation",
          "xs": 0.7474747474747475
         },
         {
          "density": 2.1465196189455242,
          "model": "Quadratic Approximation",
          "xs": 0.7575757575757577
         },
         {
          "density": 2.069485733881097,
          "model": "Quadratic Approximation",
          "xs": 0.7676767676767677
         },
         {
          "density": 1.9872801916568819,
          "model": "Quadratic Approximation",
          "xs": 0.7777777777777778
         },
         {
          "density": 1.9007494023623372,
          "model": "Quadratic Approximation",
          "xs": 0.787878787878788
         },
         {
          "density": 1.810755085643782,
          "model": "Quadratic Approximation",
          "xs": 0.797979797979798
         },
         {
          "density": 1.7181602081913885,
          "model": "Quadratic Approximation",
          "xs": 0.8080808080808082
         },
         {
          "density": 1.6238155350868575,
          "model": "Quadratic Approximation",
          "xs": 0.8181818181818182
         },
         {
          "density": 1.528547078595665,
          "model": "Quadratic Approximation",
          "xs": 0.8282828282828284
         },
         {
          "density": 1.4331446897585156,
          "model": "Quadratic Approximation",
          "xs": 0.8383838383838385
         },
         {
          "density": 1.3383519942781588,
          "model": "Quadratic Approximation",
          "xs": 0.8484848484848485
         },
         {
          "density": 1.2448578265295667,
          "model": "Quadratic Approximation",
          "xs": 0.8585858585858587
         },
         {
          "density": 1.1532892659096368,
          "model": "Quadratic Approximation",
          "xs": 0.8686868686868687
         },
         {
          "density": 1.0642063300190523,
          "model": "Quadratic Approximation",
          "xs": 0.8787878787878789
         },
         {
          "density": 0.9780983310558152,
          "model": "Quadratic Approximation",
          "xs": 0.888888888888889
         },
         {
          "density": 0.8953818568440853,
          "model": "Quadratic Approximation",
          "xs": 0.8989898989898991
         },
         {
          "density": 0.8164002974422386,
          "model": "Quadratic Approximation",
          "xs": 0.9090909090909092
         },
         {
          "density": 0.7414248033216387,
          "model": "Quadratic Approximation",
          "xs": 0.9191919191919192
         },
         {
          "density": 0.6706565324429798,
          "model": "Quadratic Approximation",
          "xs": 0.9292929292929294
         },
         {
          "density": 0.6042300216402346,
          "model": "Quadratic Approximation",
          "xs": 0.9393939393939394
         },
         {
          "density": 0.5422175027190772,
          "model": "Quadratic Approximation",
          "xs": 0.9494949494949496
         },
         {
          "density": 0.48463397547697995,
          "model": "Quadratic Approximation",
          "xs": 0.9595959595959597
         },
         {
          "density": 0.431442848098962,
          "model": "Quadratic Approximation",
          "xs": 0.9696969696969697
         },
         {
          "density": 0.3825619595106435,
          "model": "Quadratic Approximation",
          "xs": 0.9797979797979799
         },
         {
          "density": 0.33786980754772505,
          "model": "Quadratic Approximation",
          "xs": 0.98989898989899
         },
         {
          "density": 0.29721182037899796,
          "model": "Quadratic Approximation",
          "xs": 1
         }
        ]
       },
       "encoding": {
        "color": {
         "field": "model",
         "type": "nominal"
        },
        "x": {
         "field": "xs",
         "title": "Proportion Water",
         "type": "quantitative"
        },
        "y": {
         "field": "density",
         "type": "quantitative"
        }
       },
       "mark": "line"
      },
      "image/png": "[encoded data removed]",
      "text/plain": [
       "<VegaLite 4 object>\n",
       "\n",
       "If you see this message, it means the renderer has not been properly enabled\n",
       "for the frontend that you are using. For more information, see\n",
       "https://altair-viz.github.io/user_guide/troubleshooting.html\n"
      ]
     },
     "execution_count": 11,
     "metadata": {},
     "output_type": "execute_result"
    }
   ],
   "source": [
    "w = 6\n",
    "n = 9\n",
    "xs = np.linspace(0, 1, 100)\n",
    "beta = stats.beta.pdf(xs, w+1, n-w+1)\n",
    "norm = stats.norm.pdf(xs, 0.67, 0.16)\n",
    "source = pd.concat([pd.DataFrame({\"xs\": xs,\n",
    "                                  \"density\": beta,\n",
    "                                  \"model\": \"True Posterior\"}),\n",
    "                    pd.DataFrame({\"xs\": xs,\n",
    "                                  \"density\": norm,\n",
    "                                  \"model\": \"Quadratic Approximation\"})])\n",
    "(alt\n",
    " .Chart(source)\n",
    " .mark_line()\n",
    " .encode(x=alt.X('xs', title=\"Proportion Water\"),\n",
    "         y=\"density\",\n",
    "         color=\"model\"))"
   ]
  },
  {
   "cell_type": "markdown",
   "metadata": {},
   "source": [
    "### 2.8"
   ]
  },
  {
   "cell_type": "code",
   "execution_count": 12,
   "metadata": {},
   "outputs": [],
   "source": [
    "n_samples = 1000\n",
    "p = np.zeros(n_samples)\n",
    "p[0] = 0.5\n",
    "W = 6\n",
    "L = 3\n",
    "for i in range(1, n_samples):\n",
    "    p_new = stats.norm(loc=p[i-1], scale=0.1).rvs(1)[0]\n",
    "    if p_new < 0:\n",
    "        p_new = np.abs(p_new)\n",
    "    elif p_new > 1:\n",
    "        p_new = 2 - p_new\n",
    "        \n",
    "    q0 = stats.binom.pmf(W, W+L, p[i-1])\n",
    "    q1 = stats.binom.pmf(W, W+L, p_new)\n",
    "    p[i] = p_new if stats.uniform().rvs(1)[0] < q1/q0 else p[i-1]"
   ]
  },
  {
   "cell_type": "code",
   "execution_count": 13,
   "metadata": {},
   "outputs": [
    {
     "data": {
      "application/vnd.vegalite.v4+json": {
       "$schema": "https://vega.github.io/schema/vega-lite/v4.8.1.json",
       "config": {
        "view": {
         "continuousHeight": 300,
         "continuousWidth": 400
        }
       },
       "datasets": {
        "data-b062b458c438764017736b994902cfce": [
         {
          "density": 0,
          "xs": 0
         },
         {
          "density": 8.425225157772667e-16,
          "xs": 0.001001001001001001
         },
         {
          "density": 5.375951486879593e-14,
          "xs": 0.002002002002002002
         },
         {
          "density": 6.105137303743432e-13,
          "xs": 0.003003003003003003
         },
         {
          "density": 3.4199446889566917e-12,
          "xs": 0.004004004004004004
         },
         {
          "density": 1.3006758337669362e-11,
          "xs": 0.005005005005005005
         },
         {
          "density": 3.8720872953185025e-11,
          "xs": 0.006006006006006006
         },
         {
          "density": 9.734488773057209e-11,
          "xs": 0.007007007007007007
         },
         {
          "density": 2.162473416952929e-10,
          "xs": 0.008008008008008008
         },
         {
          "density": 4.3706953146039683e-10,
          "xs": 0.009009009009009009
         },
         {
          "density": 8.199337569283339e-10,
          "xs": 0.01001001001001001
         },
         {
          "density": 1.4481609643067343e-09,
          "xs": 0.011011011011011011
         },
         {
          "density": 2.433485855769792e-09,
          "xs": 0.012012012012012012
         },
         {
          "density": 3.921757634751522e-09,
          "xs": 0.013013013013013013
         },
         {
          "density": 6.0991146552046046e-09,
          "xs": 0.014014014014014014
         },
         {
          "density": 9.198621342197797e-09,
          "xs": 0.015015015015015015
         },
         {
          "density": 1.350735584995695e-08,
          "xs": 0.016016016016016016
         },
         {
          "density": 1.937393702187924e-08,
          "xs": 0.017017017017017015
         },
         {
          "density": 2.7216479315167693e-08,
          "xs": 0.018018018018018018
         },
         {
          "density": 3.75309644505392e-08,
          "xs": 0.01901901901901902
         },
         {
          "density": 5.0900018644968055e-08,
          "xs": 0.02002002002002002
         },
         {
          "density": 6.800208438261115e-08,
          "xs": 0.02102102102102102
         },
         {
          "density": 8.962097577595581e-08,
          "xs": 0.022022022022022022
         },
         {
          "density": 1.1665580666580843e-07,
          "xs": 0.023023023023023025
         },
         {
          "density": 1.5013128070501008e-07,
          "xs": 0.024024024024024024
         },
         {
          "density": 1.9120833276672765e-07,
          "xs": 0.025025025025025023
         },
         {
          "density": 2.41195111113844e-07,
          "xs": 0.026026026026026026
         },
         {
          "density": 3.015582898612797e-07,
          "xs": 0.02702702702702703
         },
         {
          "density": 3.739347013581688e-07,
          "xs": 0.028028028028028028
         },
         {
          "density": 4.601432782115107e-07,
          "xs": 0.029029029029029027
         },
         {
          "density": 5.621972947673402e-07,
          "xs": 0.03003003003003003
         },
         {
          "density": 6.823168979596316e-07,
          "xs": 0.031031031031031032
         },
         {
          "density": 8.229419175308673e-07,
          "xs": 0.03203203203203203
         },
         {
          "density": 9.867449457218301e-07,
          "xs": 0.03303303303303303
         },
         {
          "density": 1.176644676621225e-06,
          "xs": 0.03403403403403403
         },
         {
          "density": 1.395819495458795e-06,
          "xs": 0.035035035035035036
         },
         {
          "density": 1.6477213082179756e-06,
          "xs": 0.036036036036036036
         },
         {
          "density": 1.9360896020366314e-06,
          "xs": 0.037037037037037035
         },
         {
          "density": 2.2649657269561955e-06,
          "xs": 0.03803803803803804
         },
         {
          "density": 2.63870738967125e-06,
          "xs": 0.03903903903903904
         },
         {
          "density": 3.0620033500230225e-06,
          "xs": 0.04004004004004004
         },
         {
          "density": 3.5398883110711468e-06,
          "xs": 0.04104104104104104
         },
         {
          "density": 4.077757993668951e-06,
          "xs": 0.04204204204204204
         },
         {
          "density": 4.6813843865578556e-06,
          "xs": 0.043043043043043044
         },
         {
          "density": 5.356931163086474e-06,
          "xs": 0.044044044044044044
         },
         {
          "density": 6.110969255750301e-06,
          "xs": 0.04504504504504504
         },
         {
          "density": 6.95049257983656e-06,
          "xs": 0.04604604604604605
         },
         {
          "density": 7.882933897548777e-06,
          "xs": 0.04704704704704705
         },
         {
          "density": 8.916180814074236e-06,
          "xs": 0.04804804804804805
         },
         {
          "density": 1.0058591897145818e-05,
          "xs": 0.04904904904904905
         },
         {
          "density": 1.1319012911738157e-05,
          "xs": 0.050050050050050046
         },
         {
          "density": 1.270679316162651e-05,
          "xs": 0.05105105105105105
         },
         {
          "density": 1.4231801929623448e-05,
          "xs": 0.05205205205205205
         },
         {
          "density": 1.5904445008396722e-05,
          "xs": 0.05305305305305305
         },
         {
          "density": 1.773568131385784e-05,
          "xs": 0.05405405405405406
         },
         {
          "density": 1.9737039573198513e-05,
          "xs": 0.055055055055055056
         },
         {
          "density": 2.1920635079738442e-05,
          "xs": 0.056056056056056056
         },
         {
          "density": 2.4299186506832377e-05,
          "xs": 0.057057057057057055
         },
         {
          "density": 2.6886032773173366e-05,
          "xs": 0.058058058058058054
         },
         {
          "density": 2.969514995191182e-05,
          "xs": 0.05905905905905906
         },
         {
          "density": 3.2741168216095774e-05,
          "xs": 0.06006006006006006
         },
         {
          "density": 3.603938881302394e-05,
          "xs": 0.06106106106106106
         },
         {
          "density": 3.9605801060186653e-05,
          "xs": 0.062062062062062065
         },
         {
          "density": 4.345709935555413e-05,
          "xs": 0.06306306306306306
         },
         {
          "density": 4.761070019505508e-05,
          "xs": 0.06406406406406406
         },
         {
          "density": 5.208475919017343e-05,
          "xs": 0.06506506506506507
         },
         {
          "density": 5.6898188078675006e-05,
          "xs": 0.06606606606606606
         },
         {
          "density": 6.207067172155362e-05,
          "xs": 0.06706706706706707
         },
         {
          "density": 6.762268507937833e-05,
          "xs": 0.06806806806806806
         },
         {
          "density": 7.357551016129641e-05,
          "xs": 0.06906906906906907
         },
         {
          "density": 7.995125294003534e-05,
          "xs": 0.07007007007007007
         },
         {
          "density": 8.677286022632442e-05,
          "xs": 0.07107107107107107
         },
         {
          "density": 9.406413649624264e-05,
          "xs": 0.07207207207207207
         },
         {
          "density": 0.00010184976066507647,
          "xs": 0.07307307307307308
         },
         {
          "density": 0.00011015530280135576,
          "xs": 0.07407407407407407
         },
         {
          "density": 0.00011900724077480861,
          "xs": 0.07507507507507508
         },
         {
          "density": 0.0001284329768320738,
          "xs": 0.07607607607607608
         },
         {
          "density": 0.00013846085409406587,
          "xs": 0.07707707707707707
         },
         {
          "density": 0.0001491201729689875,
          "xs": 0.07807807807807808
         },
         {
          "density": 0.00016044120747505132,
          "xs": 0.07907907907907907
         },
         {
          "density": 0.00017245522146705855,
          "xs": 0.08008008008008008
         },
         {
          "density": 0.00018519448476105824,
          "xs": 0.08108108108108109
         },
         {
          "density": 0.00019869228915138755,
          "xs": 0.08208208208208208
         },
         {
          "density": 0.00021298296431447564,
          "xs": 0.08308308308308308
         },
         {
          "density": 0.00022810189359386752,
          "xs": 0.08408408408408408
         },
         {
          "density": 0.00024408552966100788,
          "xs": 0.08508508508508508
         },
         {
          "density": 0.00026097141004639113,
          "xs": 0.08608608608608609
         },
         {
          "density": 0.0002787981725357726,
          "xs": 0.08708708708708708
         },
         {
          "density": 0.00029760557042620903,
          "xs": 0.08808808808808809
         },
         {
          "density": 0.0003174344876367642,
          "xs": 0.0890890890890891
         },
         {
          "density": 0.00033832695366880296,
          "xs": 0.09009009009009009
         },
         {
          "density": 0.00036032615841087275,
          "xs": 0.09109109109109109
         },
         {
          "density": 0.00038347646678322595,
          "xs": 0.0920920920920921
         },
         {
          "density": 0.0004078234332171561,
          "xs": 0.09309309309309309
         },
         {
          "density": 0.0004334138159643318,
          "xs": 0.0940940940940941
         },
         {
          "density": 0.00046029559123145626,
          "xs": 0.09509509509509509
         },
         {
          "density": 0.0004885179671355954,
          "xs": 0.0960960960960961
         },
         {
          "density": 0.0005181313974756345,
          "xs": 0.0970970970970971
         },
         {
          "density": 0.0005491875953153628,
          "xs": 0.0980980980980981
         },
         {
          "density": 0.0005817395463737868,
          "xs": 0.0990990990990991
         },
         {
          "density": 0.000615841522218335,
          "xs": 0.10010010010010009
         },
         {
          "density": 0.0006515490932566683,
          "xs": 0.1011011011011011
         },
         {
          "density": 0.0006889191415229393,
          "xs": 0.1021021021021021
         },
         {
          "density": 0.0007280098732543271,
          "xs": 0.1031031031031031
         },
         {
          "density": 0.0007688808312538587,
          "xs": 0.1041041041041041
         },
         {
          "density": 0.0008115929070354873,
          "xs": 0.10510510510510511
         },
         {
          "density": 0.0008562083527475377,
          "xs": 0.1061061061061061
         },
         {
          "density": 0.0009027907928707046,
          "xs": 0.10710710710710711
         },
         {
          "density": 0.000951405235686787,
          "xs": 0.10810810810810811
         },
         {
          "density": 0.001002118084514519,
          "xs": 0.1091091091091091
         },
         {
          "density": 0.0010549971487088367,
          "xs": 0.11011011011011011
         },
         {
          "density": 0.0011101116544200123,
          "xs": 0.1111111111111111
         },
         {
          "density": 0.001167532255109214,
          "xs": 0.11211211211211211
         },
         {
          "density": 0.0012273310418170276,
          "xs": 0.11311311311311312
         },
         {
          "density": 0.0012895815531816252,
          "xs": 0.11411411411411411
         },
         {
          "density": 0.0013543587852032641,
          "xs": 0.11511511511511512
         },
         {
          "density": 0.001421739200751905,
          "xs": 0.11611611611611611
         },
         {
          "density": 0.0014918007388148749,
          "xs": 0.11711711711711711
         },
         {
          "density": 0.0015646228234813884,
          "xs": 0.11811811811811812
         },
         {
          "density": 0.001640286372660963,
          "xs": 0.11911911911911911
         },
         {
          "density": 0.001718873806532818,
          "xs": 0.12012012012012012
         },
         {
          "density": 0.0018004690557233277,
          "xs": 0.12112112112112113
         },
         {
          "density": 0.0018851575692087385,
          "xs": 0.12212212212212212
         },
         {
          "density": 0.001973026321940397,
          "xs": 0.12312312312312312
         },
         {
          "density": 0.0020641638221898114,
          "xs": 0.12412412412412413
         },
         {
          "density": 0.0021586601186109103,
          "xs": 0.12512512512512514
         },
         {
          "density": 0.0022566068070170456,
          "xs": 0.12612612612612611
         },
         {
          "density": 0.0023580970368700304,
          "xs": 0.12712712712712712
         },
         {
          "density": 0.002463225517479095,
          "xs": 0.12812812812812813
         },
         {
          "density": 0.0025720885239071027,
          "xs": 0.12912912912912913
         },
         {
          "density": 0.00268478390258197,
          "xs": 0.13013013013013014
         },
         {
          "density": 0.002801411076610879,
          "xs": 0.13113113113113112
         },
         {
          "density": 0.0029220710507953007,
          "xs": 0.13213213213213212
         },
         {
          "density": 0.003046866416344465,
          "xs": 0.13313313313313313
         },
         {
          "density": 0.0031759013552855237,
          "xs": 0.13413413413413414
         },
         {
          "density": 0.003309281644568229,
          "xs": 0.13513513513513514
         },
         {
          "density": 0.003447114659862239,
          "xs": 0.13613613613613612
         },
         {
          "density": 0.003589509379045314,
          "xs": 0.13713713713713713
         },
         {
          "density": 0.0037365763853804104,
          "xs": 0.13813813813813813
         },
         {
          "density": 0.003888427870380102,
          "xs": 0.13913913913913914
         },
         {
          "density": 0.004045177636356574,
          "xs": 0.14014014014014015
         },
         {
          "density": 0.004206941098655598,
          "xs": 0.14114114114114115
         },
         {
          "density": 0.004373835287572933,
          "xs": 0.14214214214214213
         },
         {
          "density": 0.004545978849951641,
          "xs": 0.14314314314314314
         },
         {
          "density": 0.004723492050458913,
          "xs": 0.14414414414414414
         },
         {
          "density": 0.004906496772540979,
          "xs": 0.14514514514514515
         },
         {
          "density": 0.005095116519054861,
          "xs": 0.14614614614614616
         },
         {
          "density": 0.0052894764125756485,
          "xs": 0.14714714714714713
         },
         {
          "density": 0.005489703195378049,
          "xs": 0.14814814814814814
         },
         {
          "density": 0.005695925229091248,
          "xs": 0.14914914914914915
         },
         {
          "density": 0.005908272494025761,
          "xs": 0.15015015015015015
         },
         {
          "density": 0.006126876588171479,
          "xs": 0.15115115115115116
         },
         {
          "density": 0.006351870725865664,
          "xs": 0.15215215215215216
         },
         {
          "density": 0.006583389736130383,
          "xs": 0.15315315315315314
         },
         {
          "density": 0.006821570060677983,
          "xs": 0.15415415415415415
         },
         {
          "density": 0.007066549751584295,
          "xs": 0.15515515515515516
         },
         {
          "density": 0.007318468468628597,
          "xs": 0.15615615615615616
         },
         {
          "density": 0.00757746747629955,
          "xs": 0.15715715715715717
         },
         {
          "density": 0.007843689640466821,
          "xs": 0.15815815815815815
         },
         {
          "density": 0.008117279424717301,
          "xs": 0.15915915915915915
         },
         {
          "density": 0.008398382886355844,
          "xs": 0.16016016016016016
         },
         {
          "density": 0.008687147672069887,
          "xs": 0.16116116116116116
         },
         {
          "density": 0.008983723013257384,
          "xs": 0.16216216216216217
         },
         {
          "density": 0.009288259721017956,
          "xs": 0.16316316316316315
         },
         {
          "density": 0.009600910180806829,
          "xs": 0.16416416416416416
         },
         {
          "density": 0.009921828346751135,
          "xs": 0.16516516516516516
         },
         {
          "density": 0.01025116973562868,
          "xs": 0.16616616616616617
         },
         {
          "density": 0.010589091420508701,
          "xs": 0.16716716716716717
         },
         {
          "density": 0.010935752024054899,
          "xs": 0.16816816816816815
         },
         {
          "density": 0.011291311711490254,
          "xs": 0.16916916916916916
         },
         {
          "density": 0.011655932183223878,
          "xs": 0.17017017017017017
         },
         {
          "density": 0.012029776667140094,
          "xs": 0.17117117117117117
         },
         {
          "density": 0.012413009910549297,
          "xs": 0.17217217217217218
         },
         {
          "density": 0.012805798171801658,
          "xs": 0.17317317317317318
         },
         {
          "density": 0.013208309211562609,
          "xs": 0.17417417417417416
         },
         {
          "density": 0.013620712283751899,
          "xs": 0.17517517517517517
         },
         {
          "density": 0.014043178126145013,
          "xs": 0.17617617617617617
         },
         {
          "density": 0.01447587895063841,
          "xs": 0.17717717717717718
         },
         {
          "density": 0.014918988433178461,
          "xs": 0.1781781781781782
         },
         {
          "density": 0.015372681703354412,
          "xs": 0.17917917917917917
         },
         {
          "density": 0.01583713533365672,
          "xs": 0.18018018018018017
         },
         {
          "density": 0.016312527328399783,
          "xs": 0.18118118118118118
         },
         {
          "density": 0.016799037112311455,
          "xs": 0.18218218218218218
         },
         {
          "density": 0.017296845518788514,
          "xs": 0.1831831831831832
         },
         {
          "density": 0.0178061347778195,
          "xs": 0.1841841841841842
         },
         {
          "density": 0.01832708850357555,
          "xs": 0.18518518518518517
         },
         {
          "density": 0.01885989168167009,
          "xs": 0.18618618618618618
         },
         {
          "density": 0.01940473065608763,
          "xs": 0.1871871871871872
         },
         {
          "density": 0.01996179311578351,
          "xs": 0.1881881881881882
         },
         {
          "density": 0.02053126808095467,
          "xs": 0.1891891891891892
         },
         {
          "density": 0.021113345888982935,
          "xs": 0.19019019019019018
         },
         {
          "density": 0.02170821818005136,
          "xs": 0.19119119119119118
         },
         {
          "density": 0.022316077882435142,
          "xs": 0.1921921921921922
         },
         {
          "density": 0.02293711919746795,
          "xs": 0.1931931931931932
         },
         {
          "density": 0.023571537584184857,
          "xs": 0.1941941941941942
         },
         {
          "density": 0.024219529743642994,
          "xs": 0.19519519519519518
         },
         {
          "density": 0.0248812936029213,
          "xs": 0.1961961961961962
         },
         {
          "density": 0.025557028298800723,
          "xs": 0.1971971971971972
         },
         {
          "density": 0.026246934161125262,
          "xs": 0.1981981981981982
         },
         {
          "density": 0.026951212695847326,
          "xs": 0.1991991991991992
         },
         {
          "density": 0.027670066567755967,
          "xs": 0.20020020020020018
         },
         {
          "density": 0.028403699582892114,
          "xs": 0.2012012012012012
         },
         {
          "density": 0.029152316670650102,
          "xs": 0.2022022022022022
         },
         {
          "density": 0.029916123865568717,
          "xs": 0.2032032032032032
         },
         {
          "density": 0.030695328288812253,
          "xs": 0.2042042042042042
         },
         {
          "density": 0.03149013812934383,
          "xs": 0.20520520520520522
         },
         {
          "density": 0.032300762624791576,
          "xs": 0.2062062062062062
         },
         {
          "density": 0.033127412042011244,
          "xs": 0.2072072072072072
         },
         {
          "density": 0.0339702976573447,
          "xs": 0.2082082082082082
         },
         {
          "density": 0.03482963173657835,
          "xs": 0.2092092092092092
         },
         {
          "density": 0.035705627514600685,
          "xs": 0.21021021021021022
         },
         {
          "density": 0.03659849917476379,
          "xs": 0.2112112112112112
         },
         {
          "density": 0.0375084618279481,
          "xs": 0.2122122122122122
         },
         {
          "density": 0.0384357314913338,
          "xs": 0.2132132132132132
         },
         {
          "density": 0.039380525066880244,
          "xs": 0.21421421421421422
         },
         {
          "density": 0.04034306031951591,
          "xs": 0.21521521521521522
         },
         {
          "density": 0.04132355585503974,
          "xs": 0.21621621621621623
         },
         {
          "density": 0.04232223109773767,
          "xs": 0.2172172172172172
         },
         {
          "density": 0.043339306267715066,
          "xs": 0.2182182182182182
         },
         {
          "density": 0.04437500235794789,
          "xs": 0.21921921921921922
         },
         {
          "density": 0.045429541111053594,
          "xs": 0.22022022022022023
         },
         {
          "density": 0.0465031449957867,
          "xs": 0.22122122122122123
         },
         {
          "density": 0.04759603718325804,
          "xs": 0.2222222222222222
         },
         {
          "density": 0.04870844152288189,
          "xs": 0.22322322322322322
         },
         {
          "density": 0.04984058251805297,
          "xs": 0.22422422422422422
         },
         {
          "density": 0.05099268530155567,
          "xs": 0.22522522522522523
         },
         {
          "density": 0.052164975610706626,
          "xs": 0.22622622622622623
         },
         {
          "density": 0.05335767976223642,
          "xs": 0.2272272272272272
         },
         {
          "density": 0.05457102462690818,
          "xs": 0.22822822822822822
         },
         {
          "density": 0.05580523760387976,
          "xs": 0.22922922922922923
         },
         {
          "density": 0.05706054659480931,
          "xs": 0.23023023023023023
         },
         {
          "density": 0.05833717997770815,
          "xs": 0.23123123123123124
         },
         {
          "density": 0.059635366580543574,
          "xs": 0.23223223223223222
         },
         {
          "density": 0.060955335654592234,
          "xs": 0.23323323323323322
         },
         {
          "density": 0.06229731684755071,
          "xs": 0.23423423423423423
         },
         {
          "density": 0.06366154017640069,
          "xs": 0.23523523523523523
         },
         {
          "density": 0.06504823600003674,
          "xs": 0.23623623623623624
         },
         {
          "density": 0.06645763499165562,
          "xs": 0.23723723723723725
         },
         {
          "density": 0.06788996811091116,
          "xs": 0.23823823823823823
         },
         {
          "density": 0.06934546657583891,
          "xs": 0.23923923923923923
         },
         {
          "density": 0.07082436183455063,
          "xs": 0.24024024024024024
         },
         {
          "density": 0.07232688553670306,
          "xs": 0.24124124124124124
         },
         {
          "density": 0.07385326950474509,
          "xs": 0.24224224224224225
         },
         {
          "density": 0.07540374570494338,
          "xs": 0.24324324324324323
         },
         {
          "density": 0.07697854621819132,
          "xs": 0.24424424424424424
         },
         {
          "density": 0.07857790321060477,
          "xs": 0.24524524524524524
         },
         {
          "density": 0.08020204890390467,
          "xs": 0.24624624624624625
         },
         {
          "density": 0.08185121554559427,
          "xs": 0.24724724724724725
         },
         {
          "density": 0.08352563537892858,
          "xs": 0.24824824824824826
         },
         {
          "density": 0.08522554061268393,
          "xs": 0.24924924924924924
         },
         {
          "density": 0.08695116339072796,
          "xs": 0.2502502502502503
         },
         {
          "density": 0.08870273576139351,
          "xs": 0.25125125125125125
         },
         {
          "density": 0.09048048964666067,
          "xs": 0.25225225225225223
         },
         {
          "density": 0.09228465681114914,
          "xs": 0.25325325325325326
         },
         {
          "density": 0.09411546883092468,
          "xs": 0.25425425425425424
         },
         {
          "density": 0.09597315706212256,
          "xs": 0.2552552552552553
         },
         {
          "density": 0.09785795260939091,
          "xs": 0.25625625625625625
         },
         {
          "density": 0.09977008629415916,
          "xs": 0.25725725725725723
         },
         {
          "density": 0.10170978862273186,
          "xs": 0.25825825825825827
         },
         {
          "density": 0.1036772897542135,
          "xs": 0.25925925925925924
         },
         {
          "density": 0.10567281946826824,
          "xs": 0.2602602602602603
         },
         {
          "density": 0.10769660713271331,
          "xs": 0.26126126126126126
         },
         {
          "density": 0.10974888167095802,
          "xs": 0.26226226226226224
         },
         {
          "density": 0.11182987152928148,
          "xs": 0.26326326326326327
         },
         {
          "density": 0.11393980464396111,
          "xs": 0.26426426426426425
         },
         {
          "density": 0.11607890840825164,
          "xs": 0.2652652652652653
         },
         {
          "density": 0.11824740963921589,
          "xs": 0.26626626626626626
         },
         {
          "density": 0.1204455345444173,
          "xs": 0.26726726726726724
         },
         {
          "density": 0.12267350868847118,
          "xs": 0.2682682682682683
         },
         {
          "density": 0.12493155695946166,
          "xs": 0.26926926926926925
         },
         {
          "density": 0.12721990353522736,
          "xs": 0.2702702702702703
         },
         {
          "density": 0.1295387718495187,
          "xs": 0.27127127127127126
         },
         {
          "density": 0.13188838455803248,
          "xs": 0.27227227227227224
         },
         {
          "density": 0.1342689635043248,
          "xs": 0.2732732732732733
         },
         {
          "density": 0.13668072968560485,
          "xs": 0.27427427427427425
         },
         {
          "density": 0.13912390321842136,
          "xs": 0.2752752752752753
         },
         {
          "density": 0.1415987033042333,
          "xs": 0.27627627627627627
         },
         {
          "density": 0.14410534819487814,
          "xs": 0.2772772772772773
         },
         {
          "density": 0.14664405515793846,
          "xs": 0.2782782782782783
         },
         {
          "density": 0.14921504044200745,
          "xs": 0.27927927927927926
         },
         {
          "density": 0.15181851924186285,
          "xs": 0.2802802802802803
         },
         {
          "density": 0.15445470566354788,
          "xs": 0.28128128128128127
         },
         {
          "density": 0.1571238126893678,
          "xs": 0.2822822822822823
         },
         {
          "density": 0.15982605214279957,
          "xs": 0.2832832832832833
         },
         {
          "density": 0.1625616346533263,
          "xs": 0.28428428428428426
         },
         {
          "density": 0.16533076962119425,
          "xs": 0.2852852852852853
         },
         {
          "density": 0.16813366518209683,
          "xs": 0.2862862862862863
         },
         {
          "density": 0.17097052817179495,
          "xs": 0.2872872872872873
         },
         {
          "density": 0.17384156409066942,
          "xs": 0.2882882882882883
         },
         {
          "density": 0.17674697706821627,
          "xs": 0.28928928928928926
         },
         {
          "density": 0.17968696982748475,
          "xs": 0.2902902902902903
         },
         {
          "density": 0.1826617436494649,
          "xs": 0.2912912912912913
         },
         {
          "density": 0.18567149833742402,
          "xs": 0.2922922922922923
         },
         {
          "density": 0.18871643218120332,
          "xs": 0.2932932932932933
         },
         {
          "density": 0.19179674192147,
          "xs": 0.29429429429429427
         },
         {
          "density": 0.19491262271393855,
          "xs": 0.2952952952952953
         },
         {
          "density": 0.19806426809355424,
          "xs": 0.2962962962962963
         },
         {
          "density": 0.20125186993865396,
          "xs": 0.2972972972972973
         },
         {
          "density": 0.20447561843509707,
          "xs": 0.2982982982982983
         },
         {
          "density": 0.2077357020403837,
          "xs": 0.29929929929929927
         },
         {
          "density": 0.21103230744775192,
          "xs": 0.3003003003003003
         },
         {
          "density": 0.21436561955026176,
          "xs": 0.3013013013013013
         },
         {
          "density": 0.21773582140487896,
          "xs": 0.3023023023023023
         },
         {
          "density": 0.22114309419654554,
          "xs": 0.3033033033033033
         },
         {
          "density": 0.2245876172022597,
          "xs": 0.30430430430430433
         },
         {
          "density": 0.22806956775515286,
          "xs": 0.3053053053053053
         },
         {
          "density": 0.23158912120858105,
          "xs": 0.3063063063063063
         },
         {
          "density": 0.23514645090022604,
          "xs": 0.3073073073073073
         },
         {
          "density": 0.2387417281162139,
          "xs": 0.3083083083083083
         },
         {
          "density": 0.24237512205525413,
          "xs": 0.30930930930930933
         },
         {
          "density": 0.24604679979280827,
          "xs": 0.3103103103103103
         },
         {
          "density": 0.2497569262452794,
          "xs": 0.3113113113113113
         },
         {
          "density": 0.25350566413424597,
          "xs": 0.3123123123123123
         },
         {
          "density": 0.2572931739507228,
          "xs": 0.3133133133133133
         },
         {
          "density": 0.2611196139194734,
          "xs": 0.31431431431431434
         },
         {
          "density": 0.2649851399633603,
          "xs": 0.3153153153153153
         },
         {
          "density": 0.2688899056677521,
          "xs": 0.3163163163163163
         },
         {
          "density": 0.27283406224498125,
          "xs": 0.3173173173173173
         },
         {
          "density": 0.2768177584988644,
          "xs": 0.3183183183183183
         },
         {
          "density": 0.2808411407892788,
          "xs": 0.31931931931931934
         },
         {
          "density": 0.2849043529968142,
          "xs": 0.3203203203203203
         },
         {
          "density": 0.28900753648749006,
          "xs": 0.3213213213213213
         },
         {
          "density": 0.2931508300775523,
          "xs": 0.32232232232232233
         },
         {
          "density": 0.29733436999834656,
          "xs": 0.3233233233233233
         },
         {
          "density": 0.3015582898612796,
          "xs": 0.32432432432432434
         },
         {
          "density": 0.30582272062286386,
          "xs": 0.3253253253253253
         },
         {
          "density": 0.3101277905498613,
          "xs": 0.3263263263263263
         },
         {
          "density": 0.31447362518451727,
          "xs": 0.32732732732732733
         },
         {
          "density": 0.3188603473098996,
          "xs": 0.3283283283283283
         },
         {
          "density": 0.32328807691534395,
          "xs": 0.32932932932932935
         },
         {
          "density": 0.32775693116200355,
          "xs": 0.3303303303303303
         },
         {
          "density": 0.33226702434852035,
          "xs": 0.3313313313313313
         },
         {
          "density": 0.33681846787680647,
          "xs": 0.33233233233233234
         },
         {
          "density": 0.3414113702179546,
          "xs": 0.3333333333333333
         },
         {
          "density": 0.3460458368782713,
          "xs": 0.33433433433433435
         },
         {
          "density": 0.35072197036544195,
          "xs": 0.3353353353353353
         },
         {
          "density": 0.35543987015483264,
          "xs": 0.3363363363363363
         },
         {
          "density": 0.36019963265592797,
          "xs": 0.33733733733733734
         },
         {
          "density": 0.365001351178917,
          "xs": 0.3383383383383383
         },
         {
          "density": 0.3698451159014236,
          "xs": 0.33933933933933935
         },
         {
          "density": 0.37473101383539154,
          "xs": 0.34034034034034033
         },
         {
          "density": 0.37965912879412367,
          "xs": 0.34134134134134136
         },
         {
          "density": 0.38462954135948313,
          "xs": 0.34234234234234234
         },
         {
          "density": 0.3896423288492623,
          "xs": 0.3433433433433433
         },
         {
          "density": 0.3946975652847156,
          "xs": 0.34434434434434436
         },
         {
          "density": 0.3997953213582688,
          "xs": 0.34534534534534533
         },
         {
          "density": 0.40493566440140694,
          "xs": 0.34634634634634637
         },
         {
          "density": 0.41011865835274425,
          "xs": 0.34734734734734735
         },
         {
          "density": 0.415344363726277,
          "xs": 0.3483483483483483
         },
         {
          "density": 0.42061283757983065,
          "xs": 0.34934934934934936
         },
         {
          "density": 0.4259241334836999,
          "xs": 0.35035035035035034
         },
         {
          "density": 0.43127830148949114,
          "xs": 0.35135135135135137
         },
         {
          "density": 0.4366753880991579,
          "xs": 0.35235235235235235
         },
         {
          "density": 0.44211543623425964,
          "xs": 0.3533533533533533
         },
         {
          "density": 0.44759848520541856,
          "xs": 0.35435435435435436
         },
         {
          "density": 0.4531245706819976,
          "xs": 0.35535535535535534
         },
         {
          "density": 0.45869372466199754,
          "xs": 0.3563563563563564
         },
         {
          "density": 0.4643059754421832,
          "xs": 0.35735735735735735
         },
         {
          "density": 0.46996134758843067,
          "xs": 0.35835835835835833
         },
         {
          "density": 0.4756598619063085,
          "xs": 0.35935935935935936
         },
         {
          "density": 0.48140153541190167,
          "xs": 0.36036036036036034
         },
         {
          "density": 0.4871863813028703,
          "xs": 0.3613613613613614
         },
         {
          "density": 0.49301440892975507,
          "xs": 0.36236236236236236
         },
         {
          "density": 0.498885623767535,
          "xs": 0.36336336336336333
         },
         {
          "density": 0.5048000273874349,
          "xs": 0.36436436436436437
         },
         {
          "density": 0.510757617428991,
          "xs": 0.36536536536536535
         },
         {
          "density": 0.5167583875723796,
          "xs": 0.3663663663663664
         },
         {
          "density": 0.5228023275110116,
          "xs": 0.36736736736736736
         },
         {
          "density": 0.5288894229243977,
          "xs": 0.3683683683683684
         },
         {
          "density": 0.5350196554512812,
          "xs": 0.36936936936936937
         },
         {
          "density": 0.5411930026630605,
          "xs": 0.37037037037037035
         },
         {
          "density": 0.5474094380374857,
          "xs": 0.3713713713713714
         },
         {
          "density": 0.5536689309326389,
          "xs": 0.37237237237237236
         },
         {
          "density": 0.5599714465612154,
          "xs": 0.3733733733733734
         },
         {
          "density": 0.5663169459650883,
          "xs": 0.3743743743743744
         },
         {
          "density": 0.5727053859901798,
          "xs": 0.37537537537537535
         },
         {
          "density": 0.5791367192616292,
          "xs": 0.3763763763763764
         },
         {
          "density": 0.585610894159272,
          "xs": 0.37737737737737737
         },
         {
          "density": 0.5921278547934237,
          "xs": 0.3783783783783784
         },
         {
          "density": 0.5986875409809832,
          "xs": 0.3793793793793794
         },
         {
          "density": 0.6052898882218563,
          "xs": 0.38038038038038036
         },
         {
          "density": 0.6119348276756927,
          "xs": 0.3813813813813814
         },
         {
          "density": 0.6186222861389556,
          "xs": 0.38238238238238237
         },
         {
          "density": 0.6253521860223278,
          "xs": 0.3833833833833834
         },
         {
          "density": 0.6321244453284339,
          "xs": 0.3843843843843844
         },
         {
          "density": 0.6389389776299204,
          "xs": 0.38538538538538536
         },
         {
          "density": 0.6457956920478668,
          "xs": 0.3863863863863864
         },
         {
          "density": 0.6526944932305419,
          "xs": 0.38738738738738737
         },
         {
          "density": 0.6596352813325154,
          "xs": 0.3883883883883884
         },
         {
          "density": 0.6666179519941194,
          "xs": 0.3893893893893894
         },
         {
          "density": 0.6736423963212705,
          "xs": 0.39039039039039036
         },
         {
          "density": 0.6807085008656455,
          "xs": 0.3913913913913914
         },
         {
          "density": 0.6878161476052312,
          "xs": 0.3923923923923924
         },
         {
          "density": 0.6949652139252407,
          "xs": 0.3933933933933934
         },
         {
          "density": 0.7021555725993942,
          "xs": 0.3943943943943944
         },
         {
          "density": 0.7093870917715882,
          "xs": 0.39539539539539537
         },
         {
          "density": 0.7166596349379345,
          "xs": 0.3963963963963964
         },
         {
          "density": 0.7239730609291918,
          "xs": 0.3973973973973974
         },
         {
          "density": 0.7313272238935754,
          "xs": 0.3983983983983984
         },
         {
          "density": 0.7387219732799625,
          "xs": 0.3993993993993994
         },
         {
          "density": 0.7461571538214947,
          "xs": 0.40040040040040037
         },
         {
          "density": 0.7536326055195768,
          "xs": 0.4014014014014014
         },
         {
          "density": 0.7611481636282698,
          "xs": 0.4024024024024024
         },
         {
          "density": 0.7687036586391051,
          "xs": 0.4034034034034034
         },
         {
          "density": 0.7762989162662924,
          "xs": 0.4044044044044044
         },
         {
          "density": 0.7839337574323502,
          "xs": 0.40540540540540543
         },
         {
          "density": 0.7916079982541426,
          "xs": 0.4064064064064064
         },
         {
          "density": 0.7993214500293532,
          "xs": 0.4074074074074074
         },
         {
          "density": 0.8070739192233588,
          "xs": 0.4084084084084084
         },
         {
          "density": 0.8148652074565461,
          "xs": 0.4094094094094094
         },
         {
          "density": 0.8226951114920553,
          "xs": 0.41041041041041043
         },
         {
          "density": 0.8305634232239513,
          "xs": 0.4114114114114114
         },
         {
          "density": 0.8384699296658407,
          "xs": 0.4124124124124124
         },
         {
          "density": 0.8464144129399187,
          "xs": 0.4134134134134134
         },
         {
          "density": 0.854396650266466,
          "xs": 0.4144144144144144
         },
         {
          "density": 0.8624164139537942,
          "xs": 0.41541541541541543
         },
         {
          "density": 0.8704734713886318,
          "xs": 0.4164164164164164
         },
         {
          "density": 0.8785675850269752,
          "xs": 0.4174174174174174
         },
         {
          "density": 0.8866985123853899,
          "xs": 0.4184184184184184
         },
         {
          "density": 0.8948660060327652,
          "xs": 0.4194194194194194
         },
         {
          "density": 0.9030698135825538,
          "xs": 0.42042042042042044
         },
         {
          "density": 0.9113096776854434,
          "xs": 0.4214214214214214
         },
         {
          "density": 0.9195853360225332,
          "xs": 0.4224224224224224
         },
         {
          "density": 0.9278965212989565,
          "xs": 0.42342342342342343
         },
         {
          "density": 0.9362429612379939,
          "xs": 0.4244244244244244
         },
         {
          "density": 0.9446243785756551,
          "xs": 0.42542542542542544
         },
         {
          "density": 0.9530404910557498,
          "xs": 0.4264264264264264
         },
         {
          "density": 0.9614910114254409,
          "xs": 0.4274274274274274
         },
         {
          "density": 0.96997564743128,
          "xs": 0.42842842842842843
         },
         {
          "density": 0.9784941018157438,
          "xs": 0.4294294294294294
         },
         {
          "density": 0.9870460723142512,
          "xs": 0.43043043043043044
         },
         {
          "density": 0.9956312516526896,
          "xs": 0.4314314314314314
         },
         {
          "density": 1.0042493275454285,
          "xs": 0.43243243243243246
         },
         {
          "density": 1.0128999826938454,
          "xs": 0.43343343343343343
         },
         {
          "density": 1.021582894785349,
          "xs": 0.4344344344344344
         },
         {
          "density": 1.0302977364929105,
          "xs": 0.43543543543543545
         },
         {
          "density": 1.0390441754751147,
          "xs": 0.4364364364364364
         },
         {
          "density": 1.0478218743767078,
          "xs": 0.43743743743743746
         },
         {
          "density": 1.0566304908296762,
          "xs": 0.43843843843843844
         },
         {
          "density": 1.065469677454832,
          "xs": 0.4394394394394394
         },
         {
          "density": 1.0743390818639287,
          "xs": 0.44044044044044045
         },
         {
          "density": 1.0832383466622963,
          "xs": 0.44144144144144143
         },
         {
          "density": 1.0921671094519982,
          "xs": 0.44244244244244246
         },
         {
          "density": 1.1011250028355233,
          "xs": 0.44344344344344344
         },
         {
          "density": 1.110111654420012,
          "xs": 0.4444444444444444
         },
         {
          "density": 1.1191266868219978,
          "xs": 0.44544544544544545
         },
         {
          "density": 1.1281697176727121,
          "xs": 0.44644644644644643
         },
         {
          "density": 1.137240359623901,
          "xs": 0.44744744744744747
         },
         {
          "density": 1.1463382203542023,
          "xs": 0.44844844844844844
         },
         {
          "density": 1.1554629025760554,
          "xs": 0.4494494494494494
         },
         {
          "density": 1.164614004043155,
          "xs": 0.45045045045045046
         },
         {
          "density": 1.1737911175584637,
          "xs": 0.45145145145145144
         },
         {
          "density": 1.182993830982757,
          "xs": 0.45245245245245247
         },
         {
          "density": 1.19222172724374,
          "xs": 0.45345345345345345
         },
         {
          "density": 1.2014743843457023,
          "xs": 0.4544544544544544
         },
         {
          "density": 1.2107513753797363,
          "xs": 0.45545545545545546
         },
         {
          "density": 1.2200522685345085,
          "xs": 0.45645645645645644
         },
         {
          "density": 1.2293766271076054,
          "xs": 0.4574574574574575
         },
         {
          "density": 1.2387240095174157,
          "xs": 0.45845845845845845
         },
         {
          "density": 1.248093969315609,
          "xs": 0.45945945945945943
         },
         {
          "density": 1.2574860552001483,
          "xs": 0.46046046046046046
         },
         {
          "density": 1.2668998110288958,
          "xs": 0.46146146146146144
         },
         {
          "density": 1.2763347758337733,
          "xs": 0.4624624624624625
         },
         {
          "density": 1.2857904838355074,
          "xs": 0.46346346346346345
         },
         {
          "density": 1.2952664644589287,
          "xs": 0.46446446446446443
         },
         {
          "density": 1.3047622423488652,
          "xs": 0.46546546546546547
         },
         {
          "density": 1.3142773373866043,
          "xs": 0.46646646646646645
         },
         {
          "density": 1.3238112647069373,
          "xs": 0.4674674674674675
         },
         {
          "density": 1.3333635347157653,
          "xs": 0.46846846846846846
         },
         {
          "density": 1.3429336531083251,
          "xs": 0.4694694694694695
         },
         {
          "density": 1.3525211208879573,
          "xs": 0.47047047047047047
         },
         {
          "density": 1.3621254343854854,
          "xs": 0.47147147147147145
         },
         {
          "density": 1.3717460852791656,
          "xs": 0.4724724724724725
         },
         {
          "density": 1.381382560615242,
          "xs": 0.47347347347347346
         },
         {
          "density": 1.3910343428290666,
          "xs": 0.4744744744744745
         },
         {
          "density": 1.4007009097668335,
          "xs": 0.4754754754754755
         },
         {
          "density": 1.4103817347078869,
          "xs": 0.47647647647647645
         },
         {
          "density": 1.4200762863876304,
          "xs": 0.4774774774774775
         },
         {
          "density": 1.429784029021024,
          "xs": 0.47847847847847846
         },
         {
          "density": 1.4395044223266917,
          "xs": 0.4794794794794795
         },
         {
          "density": 1.4492369215515974,
          "xs": 0.4804804804804805
         },
         {
          "density": 1.4589809774963436,
          "xs": 0.48148148148148145
         },
         {
          "density": 1.4687360365410627,
          "xs": 0.4824824824824825
         },
         {
          "density": 1.4785015406718847,
          "xs": 0.48348348348348347
         },
         {
          "density": 1.4882769275080523,
          "xs": 0.4844844844844845
         },
         {
          "density": 1.49806163032958,
          "xs": 0.4854854854854855
         },
         {
          "density": 1.507855078105557,
          "xs": 0.48648648648648646
         },
         {
          "density": 1.5176566955230415,
          "xs": 0.4874874874874875
         },
         {
          "density": 1.5274659030165396,
          "xs": 0.48848848848848847
         },
         {
          "density": 1.5372821167981263,
          "xs": 0.4894894894894895
         },
         {
          "density": 1.5471047488881255,
          "xs": 0.4904904904904905
         },
         {
          "density": 1.556933207146435,
          "xs": 0.49149149149149146
         },
         {
          "density": 1.5667668953044307,
          "xs": 0.4924924924924925
         },
         {
          "density": 1.5766052129974881,
          "xs": 0.4934934934934935
         },
         {
          "density": 1.5864475557981141,
          "xs": 0.4944944944944945
         },
         {
          "density": 1.5962933152496706,
          "xs": 0.4954954954954955
         },
         {
          "density": 1.6061418789007293,
          "xs": 0.4964964964964965
         },
         {
          "density": 1.6159926303400018,
          "xs": 0.4974974974974975
         },
         {
          "density": 1.625844949231914,
          "xs": 0.4984984984984985
         },
         {
          "density": 1.6356982113527585,
          "xs": 0.4994994994994995
         },
         {
          "density": 1.6455517886274749,
          "xs": 0.5005005005005005
         },
         {
          "density": 1.655405049167023,
          "xs": 0.5015015015015015
         },
         {
          "density": 1.6652573573063805,
          "xs": 0.5025025025025025
         },
         {
          "density": 1.6751080736431376,
          "xs": 0.5035035035035035
         },
         {
          "density": 1.6849565550767018,
          "xs": 0.5045045045045045
         },
         {
          "density": 1.694802154848114,
          "xs": 0.5055055055055055
         },
         {
          "density": 1.7046442225804705,
          "xs": 0.5065065065065065
         },
         {
          "density": 1.7144821043199558,
          "xs": 0.5075075075075075
         },
         {
          "density": 1.724315142577479,
          "xs": 0.5085085085085085
         },
         {
          "density": 1.734142676370921,
          "xs": 0.5095095095095095
         },
         {
          "density": 1.7439640412679833,
          "xs": 0.5105105105105106
         },
         {
          "density": 1.7537785694296517,
          "xs": 0.5115115115115115
         },
         {
          "density": 1.763585589654259,
          "xs": 0.5125125125125125
         },
         {
          "density": 1.7733844274221564,
          "xs": 0.5135135135135135
         },
         {
          "density": 1.783174404940989,
          "xs": 0.5145145145145145
         },
         {
          "density": 1.792954841191579,
          "xs": 0.5155155155155156
         },
         {
          "density": 1.8027250519743996,
          "xs": 0.5165165165165165
         },
         {
          "density": 1.8124843499566758,
          "xs": 0.5175175175175175
         },
         {
          "density": 1.8222320447200582,
          "xs": 0.5185185185185185
         },
         {
          "density": 1.8319674428089292,
          "xs": 0.5195195195195195
         },
         {
          "density": 1.8416898477792762,
          "xs": 0.5205205205205206
         },
         {
          "density": 1.8513985602481924,
          "xs": 0.5215215215215215
         },
         {
          "density": 1.8610928779439615,
          "xs": 0.5225225225225225
         },
         {
          "density": 1.8707720957567444,
          "xs": 0.5235235235235235
         },
         {
          "density": 1.8804355057898572,
          "xs": 0.5245245245245245
         },
         {
          "density": 1.8900823974116474,
          "xs": 0.5255255255255256
         },
         {
          "density": 1.8997120573079642,
          "xs": 0.5265265265265265
         },
         {
          "density": 1.9093237695352256,
          "xs": 0.5275275275275275
         },
         {
          "density": 1.9189168155740643,
          "xs": 0.5285285285285285
         },
         {
          "density": 1.9284904743835678,
          "xs": 0.5295295295295295
         },
         {
          "density": 1.9380440224561262,
          "xs": 0.5305305305305306
         },
         {
          "density": 1.947576733872819,
          "xs": 0.5315315315315315
         },
         {
          "density": 1.9570878803594485,
          "xs": 0.5325325325325325
         },
         {
          "density": 1.966576731343102,
          "xs": 0.5335335335335335
         },
         {
          "density": 1.9760425540093312,
          "xs": 0.5345345345345345
         },
         {
          "density": 1.98548461335989,
          "xs": 0.5355355355355356
         },
         {
          "density": 1.9949021722710598,
          "xs": 0.5365365365365365
         },
         {
          "density": 2.0042944915525553,
          "xs": 0.5375375375375375
         },
         {
          "density": 2.0136608300069883,
          "xs": 0.5385385385385385
         },
         {
          "density": 2.023000444489915,
          "xs": 0.5395395395395395
         },
         {
          "density": 2.032312589970462,
          "xs": 0.5405405405405406
         },
         {
          "density": 2.0415965195924866,
          "xs": 0.5415415415415415
         },
         {
          "density": 2.050851484736352,
          "xs": 0.5425425425425425
         },
         {
          "density": 2.0600767350812133,
          "xs": 0.5435435435435435
         },
         {
          "density": 2.0692715186679016,
          "xs": 0.5445445445445445
         },
         {
          "density": 2.0784350819623563,
          "xs": 0.5455455455455456
         },
         {
          "density": 2.087566669919596,
          "xs": 0.5465465465465466
         },
         {
          "density": 2.096665526048271,
          "xs": 0.5475475475475475
         },
         {
          "density": 2.1057308924757514,
          "xs": 0.5485485485485485
         },
         {
          "density": 2.114762010013757,
          "xs": 0.5495495495495496
         },
         {
          "density": 2.1237581182245386,
          "xs": 0.5505505505505506
         },
         {
          "density": 2.132718455487617,
          "xs": 0.5515515515515516
         },
         {
          "density": 2.1416422590670314,
          "xs": 0.5525525525525525
         },
         {
          "density": 2.150528765179146,
          "xs": 0.5535535535535535
         },
         {
          "density": 2.1593772090609797,
          "xs": 0.5545545545545546
         },
         {
          "density": 2.1681868250390877,
          "xs": 0.5555555555555556
         },
         {
          "density": 2.1769568465989195,
          "xs": 0.5565565565565566
         },
         {
          "density": 2.185686506454777,
          "xs": 0.5575575575575575
         },
         {
          "density": 2.194375036620215,
          "xs": 0.5585585585585585
         },
         {
          "density": 2.2030216684790194,
          "xs": 0.5595595595595596
         },
         {
          "density": 2.211625632856653,
          "xs": 0.5605605605605606
         },
         {
          "density": 2.2201861600922617,
          "xs": 0.5615615615615616
         },
         {
          "density": 2.2287024801111355,
          "xs": 0.5625625625625625
         },
         {
          "density": 2.2371738224977085,
          "xs": 0.5635635635635635
         },
         {
          "density": 2.245599416569051,
          "xs": 0.5645645645645646
         },
         {
          "density": 2.2539784914488457,
          "xs": 0.5655655655655656
         },
         {
          "density": 2.2623102761418603,
          "xs": 0.5665665665665666
         },
         {
          "density": 2.2705939996089377,
          "xs": 0.5675675675675675
         },
         {
          "density": 2.2788288908424112,
          "xs": 0.5685685685685685
         },
         {
          "density": 2.287014178942057,
          "xs": 0.5695695695695696
         },
         {
          "density": 2.2951490931914833,
          "xs": 0.5705705705705706
         },
         {
          "density": 2.303232863135023,
          "xs": 0.5715715715715716
         },
         {
          "density": 2.311264718655066,
          "xs": 0.5725725725725725
         },
         {
          "density": 2.3192438900498735,
          "xs": 0.5735735735735735
         },
         {
          "density": 2.3271696081118356,
          "xs": 0.5745745745745746
         },
         {
          "density": 2.335041104206202,
          "xs": 0.5755755755755756
         },
         {
          "density": 2.3428576103502454,
          "xs": 0.5765765765765766
         },
         {
          "density": 2.3506183592928873,
          "xs": 0.5775775775775776
         },
         {
          "density": 2.3583225845947315,
          "xs": 0.5785785785785785
         },
         {
          "density": 2.3659695207085827,
          "xs": 0.5795795795795796
         },
         {
          "density": 2.3735584030603487,
          "xs": 0.5805805805805806
         },
         {
          "density": 2.3810884681304003,
          "xs": 0.5815815815815816
         },
         {
          "density": 2.3885589535353313,
          "xs": 0.5825825825825826
         },
         {
          "density": 2.395969098110146,
          "xs": 0.5835835835835835
         },
         {
          "density": 2.4033181419908645,
          "xs": 0.5845845845845846
         },
         {
          "density": 2.4106053266975054,
          "xs": 0.5855855855855856
         },
         {
          "density": 2.4178298952174964,
          "xs": 0.5865865865865866
         },
         {
          "density": 2.424991092089477,
          "xs": 0.5875875875875876
         },
         {
          "density": 2.432088163487463,
          "xs": 0.5885885885885885
         },
         {
          "density": 2.439120357305436,
          "xs": 0.5895895895895896
         },
         {
          "density": 2.446086923242269,
          "xs": 0.5905905905905906
         },
         {
          "density": 2.4529871128870657,
          "xs": 0.5915915915915916
         },
         {
          "density": 2.459820179804833,
          "xs": 0.5925925925925926
         },
         {
          "density": 2.466585379622525,
          "xs": 0.5935935935935935
         },
         {
          "density": 2.4732819701154547,
          "xs": 0.5945945945945946
         },
         {
          "density": 2.479909211294027,
          "xs": 0.5955955955955956
         },
         {
          "density": 2.486466365490851,
          "xs": 0.5965965965965966
         },
         {
          "density": 2.4929526974481493,
          "xs": 0.5975975975975976
         },
         {
          "density": 2.4993674744055263,
          "xs": 0.5985985985985985
         },
         {
          "density": 2.5057099661880544,
          "xs": 0.5995995995995996
         },
         {
          "density": 2.5119794452946627,
          "xs": 0.6006006006006006
         },
         {
          "density": 2.5181751869868587,
          "xs": 0.6016016016016016
         },
         {
          "density": 2.5242964693777368,
          "xs": 0.6026026026026026
         },
         {
          "density": 2.5303425735212968,
          "xs": 0.6036036036036035
         },
         {
          "density": 2.536312783502047,
          "xs": 0.6046046046046046
         },
         {
          "density": 2.542206386524886,
          "xs": 0.6056056056056056
         },
         {
          "density": 2.5480226730052817,
          "xs": 0.6066066066066066
         },
         {
          "density": 2.553760936659692,
          "xs": 0.6076076076076076
         },
         {
          "density": 2.559420474596279,
          "xs": 0.6086086086086087
         },
         {
          "density": 2.5650005874058524,
          "xs": 0.6096096096096096
         },
         {
          "density": 2.57050057925308,
          "xs": 0.6106106106106106
         },
         {
          "density": 2.575919757967928,
          "xs": 0.6116116116116116
         },
         {
          "density": 2.5812574351373545,
          "xs": 0.6126126126126126
         },
         {
          "density": 2.586512926197202,
          "xs": 0.6136136136136137
         },
         {
          "density": 2.591685550524317,
          "xs": 0.6146146146146146
         },
         {
          "density": 2.5967746315289135,
          "xs": 0.6156156156156156
         },
         {
          "density": 2.601779496747086,
          "xs": 0.6166166166166166
         },
         {
          "density": 2.6066994779335597,
          "xs": 0.6176176176176176
         },
         {
          "density": 2.6115339111546074,
          "xs": 0.6186186186186187
         },
         {
          "density": 2.6162821368811655,
          "xs": 0.6196196196196196
         },
         {
          "density": 2.620943500082096,
          "xs": 0.6206206206206206
         },
         {
          "density": 2.6255173503176312,
          "xs": 0.6216216216216216
         },
         {
          "density": 2.6300030418329694,
          "xs": 0.6226226226226226
         },
         {
          "density": 2.6343999336520114,
          "xs": 0.6236236236236237
         },
         {
          "density": 2.6387073896712514,
          "xs": 0.6246246246246246
         },
         {
          "density": 2.6429247787537693,
          "xs": 0.6256256256256256
         },
         {
          "density": 2.6470514748233787,
          "xs": 0.6266266266266266
         },
         {
          "density": 2.6510868569588646,
          "xs": 0.6276276276276276
         },
         {
          "density": 2.655030309488324,
          "xs": 0.6286286286286287
         },
         {
          "density": 2.6588812220836178,
          "xs": 0.6296296296296297
         },
         {
          "density": 2.662638989854898,
          "xs": 0.6306306306306306
         },
         {
          "density": 2.6663030134452015,
          "xs": 0.6316316316316316
         },
         {
          "density": 2.6698726991251487,
          "xs": 0.6326326326326326
         },
         {
          "density": 2.6733474588876334,
          "xs": 0.6336336336336337
         },
         {
          "density": 2.6767267105426513,
          "xs": 0.6346346346346347
         },
         {
          "density": 2.6800098778120787,
          "xs": 0.6356356356356356
         },
         {
          "density": 2.683196390424557,
          "xs": 0.6366366366366366
         },
         {
          "density": 2.6862856842103295,
          "xs": 0.6376376376376376
         },
         {
          "density": 2.6892772011961457,
          "xs": 0.6386386386386387
         },
         {
          "density": 2.6921703897001423,
          "xs": 0.6396396396396397
         },
         {
          "density": 2.694964704426706,
          "xs": 0.6406406406406406
         },
         {
          "density": 2.697659606561334,
          "xs": 0.6416416416416416
         },
         {
          "density": 2.700254563865459,
          "xs": 0.6426426426426426
         },
         {
          "density": 2.7027490507712355,
          "xs": 0.6436436436436437
         },
         {
          "density": 2.705142548476276,
          "xs": 0.6446446446446447
         },
         {
          "density": 2.7074345450383217,
          "xs": 0.6456456456456456
         },
         {
          "density": 2.7096245354698647,
          "xs": 0.6466466466466466
         },
         {
          "density": 2.7117120218326534,
          "xs": 0.6476476476476476
         },
         {
          "density": 2.7136965133321453,
          "xs": 0.6486486486486487
         },
         {
          "density": 2.7155775264118183,
          "xs": 0.6496496496496497
         },
         {
          "density": 2.717354584847413,
          "xs": 0.6506506506506506
         },
         {
          "density": 2.7190272198410024,
          "xs": 0.6516516516516516
         },
         {
          "density": 2.720594970114969,
          "xs": 0.6526526526526526
         },
         {
          "density": 2.7220573820058114,
          "xs": 0.6536536536536537
         },
         {
          "density": 2.7234140095578008,
          "xs": 0.6546546546546547
         },
         {
          "density": 2.7246644146164556,
          "xs": 0.6556556556556556
         },
         {
          "density": 2.725808166921873,
          "xs": 0.6566566566566566
         },
         {
          "density": 2.726844844201818,
          "xs": 0.6576576576576576
         },
         {
          "density": 2.7277740322646506,
          "xs": 0.6586586586586587
         },
         {
          "density": 2.728595325092002,
          "xs": 0.6596596596596597
         },
         {
          "density": 2.7293083249312717,
          "xs": 0.6606606606606606
         },
         {
          "density": 2.7299126423878373,
          "xs": 0.6616616616616616
         },
         {
          "density": 2.730407896517028,
          "xs": 0.6626626626626626
         },
         {
          "density": 2.730793714915862,
          "xs": 0.6636636636636637
         },
         {
          "density": 2.7310697338144565,
          "xs": 0.6646646646646647
         },
         {
          "density": 2.7312355981672094,
          "xs": 0.6656656656656657
         },
         {
          "density": 2.7312909617436376,
          "xs": 0.6666666666666666
         },
         {
          "density": 2.731235487218911,
          "xs": 0.6676676676676676
         },
         {
          "density": 2.7310688462640775,
          "xs": 0.6686686686686687
         },
         {
          "density": 2.730790719635933,
          "xs": 0.6696696696696697
         },
         {
          "density": 2.730400797266551,
          "xs": 0.6706706706706707
         },
         {
          "density": 2.7298987783524353,
          "xs": 0.6716716716716716
         },
         {
          "density": 2.729284371443317,
          "xs": 0.6726726726726726
         },
         {
          "density": 2.7285572945305363,
          "xs": 0.6736736736736737
         },
         {
          "density": 2.7277172751350394,
          "xs": 0.6746746746746747
         },
         {
          "density": 2.7267640503949595,
          "xs": 0.6756756756756757
         },
         {
          "density": 2.7256973671527485,
          "xs": 0.6766766766766766
         },
         {
          "density": 2.7245169820418855,
          "xs": 0.6776776776776777
         },
         {
          "density": 2.723222661573121,
          "xs": 0.6786786786786787
         },
         {
          "density": 2.721814182220242,
          "xs": 0.6796796796796797
         },
         {
          "density": 2.7202913305053658,
          "xs": 0.6806806806806807
         },
         {
          "density": 2.718653903083732,
          "xs": 0.6816816816816816
         },
         {
          "density": 2.7169017068279615,
          "xs": 0.6826826826826827
         },
         {
          "density": 2.715034558911828,
          "xs": 0.6836836836836837
         },
         {
          "density": 2.7130522868934333,
          "xs": 0.6846846846846847
         },
         {
          "density": 2.710954728797894,
          "xs": 0.6856856856856857
         },
         {
          "density": 2.7087417331993944,
          "xs": 0.6866866866866866
         },
         {
          "density": 2.7064131593026857,
          "xs": 0.6876876876876877
         },
         {
          "density": 2.70396887702399,
          "xs": 0.6886886886886887
         },
         {
          "density": 2.7014087670712743,
          "xs": 0.6896896896896897
         },
         {
          "density": 2.6987327210238954,
          "xs": 0.6906906906906907
         },
         {
          "density": 2.695940641411619,
          "xs": 0.6916916916916916
         },
         {
          "density": 2.693032441792952,
          "xs": 0.6926926926926927
         },
         {
          "density": 2.6900080468328205,
          "xs": 0.6936936936936937
         },
         {
          "density": 2.686867392379545,
          "xs": 0.6946946946946947
         },
         {
          "density": 2.6836104255411115,
          "xs": 0.6956956956956957
         },
         {
          "density": 2.6802371047607365,
          "xs": 0.6966966966966966
         },
         {
          "density": 2.6767473998916667,
          "xs": 0.6976976976976977
         },
         {
          "density": 2.6731412922712505,
          "xs": 0.6986986986986987
         },
         {
          "density": 2.669418774794224,
          "xs": 0.6996996996996997
         },
         {
          "density": 2.665579851985214,
          "xs": 0.7007007007007007
         },
         {
          "density": 2.661624540070458,
          "xs": 0.7017017017017017
         },
         {
          "density": 2.657552867048668,
          "xs": 0.7027027027027027
         },
         {
          "density": 2.653364872761114,
          "xs": 0.7037037037037037
         },
         {
          "density": 2.649060608960796,
          "xs": 0.7047047047047047
         },
         {
          "density": 2.644640139380805,
          "xs": 0.7057057057057057
         },
         {
          "density": 2.6401035398017543,
          "xs": 0.7067067067067067
         },
         {
          "density": 2.635450898118342,
          "xs": 0.7077077077077077
         },
         {
          "density": 2.6306823144049862,
          "xs": 0.7087087087087087
         },
         {
          "density": 2.625797900980509,
          "xs": 0.7097097097097097
         },
         {
          "density": 2.6207977824718958,
          "xs": 0.7107107107107107
         },
         {
          "density": 2.6156820958770606,
          "xs": 0.7117117117117117
         },
         {
          "density": 2.610450990626648,
          "xs": 0.7127127127127127
         },
         {
          "density": 2.6051046286448174,
          "xs": 0.7137137137137137
         },
         {
          "density": 2.599643184408987,
          "xs": 0.7147147147147147
         },
         {
          "density": 2.5940668450085838,
          "xs": 0.7157157157157157
         },
         {
          "density": 2.588375810202689,
          "xs": 0.7167167167167167
         },
         {
          "density": 2.582570292476645,
          "xs": 0.7177177177177178
         },
         {
          "density": 2.5766505170975362,
          "xs": 0.7187187187187187
         },
         {
          "density": 2.570616722168592,
          "xs": 0.7197197197197197
         },
         {
          "density": 2.5644691586824133,
          "xs": 0.7207207207207207
         },
         {
          "density": 2.558208090573114,
          "xs": 0.7217217217217217
         },
         {
          "density": 2.5518337947672274,
          "xs": 0.7227227227227228
         },
         {
          "density": 2.5453465612334756,
          "xs": 0.7237237237237237
         },
         {
          "density": 2.5387466930313085,
          "xs": 0.7247247247247247
         },
         {
          "density": 2.5320345063582375,
          "xs": 0.7257257257257257
         },
         {
          "density": 2.5252103305958977,
          "xs": 0.7267267267267267
         },
         {
          "density": 2.518274508354881,
          "xs": 0.7277277277277278
         },
         {
          "density": 2.511227395518275,
          "xs": 0.7287287287287287
         },
         {
          "density": 2.504069361283879,
          "xs": 0.7297297297297297
         },
         {
          "density": 2.496800788205137,
          "xs": 0.7307307307307307
         },
         {
          "density": 2.489422072230712,
          "xs": 0.7317317317317317
         },
         {
          "density": 2.481933622742687,
          "xs": 0.7327327327327328
         },
         {
          "density": 2.4743358625934166,
          "xs": 0.7337337337337337
         },
         {
          "density": 2.466629228140956,
          "xs": 0.7347347347347347
         },
         {
          "density": 2.458814169283073,
          "xs": 0.7357357357357357
         },
         {
          "density": 2.4508911494898276,
          "xs": 0.7367367367367368
         },
         {
          "density": 2.4428606458346867,
          "xs": 0.7377377377377378
         },
         {
          "density": 2.434723149024147,
          "xs": 0.7387387387387387
         },
         {
          "density": 2.4264791634258898,
          "xs": 0.7397397397397397
         },
         {
          "density": 2.4181292070953617,
          "xs": 0.7407407407407407
         },
         {
          "density": 2.4096738118008605,
          "xs": 0.7417417417417418
         },
         {
          "density": 2.4011135230470297,
          "xs": 0.7427427427427428
         },
         {
          "density": 2.3924489000967615,
          "xs": 0.7437437437437437
         },
         {
          "density": 2.3836805159915295,
          "xs": 0.7447447447447447
         },
         {
          "density": 2.374808957570043,
          "xs": 0.7457457457457457
         },
         {
          "density": 2.365834825485289,
          "xs": 0.7467467467467468
         },
         {
          "density": 2.356758734219894,
          "xs": 0.7477477477477478
         },
         {
          "density": 2.347581312099779,
          "xs": 0.7487487487487487
         },
         {
          "density": 2.3383032013061094,
          "xs": 0.7497497497497497
         },
         {
          "density": 2.3289250578855185,
          "xs": 0.7507507507507507
         },
         {
          "density": 2.319447551758543,
          "xs": 0.7517517517517518
         },
         {
          "density": 2.309871366726313,
          "xs": 0.7527527527527528
         },
         {
          "density": 2.3001972004754,
          "xs": 0.7537537537537538
         },
         {
          "density": 2.290425764580869,
          "xs": 0.7547547547547547
         },
         {
          "density": 2.2805577845074665,
          "xs": 0.7557557557557557
         },
         {
          "density": 2.2705939996089377,
          "xs": 0.7567567567567568
         },
         {
          "density": 2.260535163125449,
          "xs": 0.7577577577577578
         },
         {
          "density": 2.2503820421790937,
          "xs": 0.7587587587587588
         },
         {
          "density": 2.2401354177674624,
          "xs": 0.7597597597597597
         },
         {
          "density": 2.2297960847552276,
          "xs": 0.7607607607607607
         },
         {
          "density": 2.219364851863771,
          "xs": 0.7617617617617618
         },
         {
          "density": 2.208842541658772,
          "xs": 0.7627627627627628
         },
         {
          "density": 2.1982299905357783,
          "xs": 0.7637637637637638
         },
         {
          "density": 2.1875280487037005,
          "xs": 0.7647647647647647
         },
         {
          "density": 2.176737580166254,
          "xs": 0.7657657657657657
         },
         {
          "density": 2.1658594627012455,
          "xs": 0.7667667667667668
         },
         {
          "density": 2.154894587837784,
          "xs": 0.7677677677677678
         },
         {
          "density": 2.143843860831277,
          "xs": 0.7687687687687688
         },
         {
          "density": 2.132708200636307,
          "xs": 0.7697697697697697
         },
         {
          "density": 2.121488539877258,
          "xs": 0.7707707707707707
         },
         {
          "density": 2.110185824816719,
          "xs": 0.7717717717717718
         },
         {
          "density": 2.098801015321657,
          "xs": 0.7727727727727728
         },
         {
          "density": 2.087335084827288,
          "xs": 0.7737737737737738
         },
         {
          "density": 2.075789020298641,
          "xs": 0.7747747747747747
         },
         {
          "density": 2.064163822189807,
          "xs": 0.7757757757757757
         },
         {
          "density": 2.0524605044008246,
          "xs": 0.7767767767767768
         },
         {
          "density": 2.0406800942321888,
          "xs": 0.7777777777777778
         },
         {
          "density": 2.028823632336932,
          "xs": 0.7787787787787788
         },
         {
          "density": 2.0168921726703113,
          "xs": 0.7797797797797797
         },
         {
          "density": 2.0048867824369943,
          "xs": 0.7807807807807807
         },
         {
          "density": 1.9928085420357928,
          "xs": 0.7817817817817818
         },
         {
          "density": 1.9806585450018734,
          "xs": 0.7827827827827828
         },
         {
          "density": 1.9684378979464128,
          "xs": 0.7837837837837838
         },
         {
          "density": 1.9561477204937274,
          "xs": 0.7847847847847848
         },
         {
          "density": 1.943789145215777,
          "xs": 0.7857857857857857
         },
         {
          "density": 1.931363317564067,
          "xs": 0.7867867867867868
         },
         {
          "density": 1.9188713957989063,
          "xs": 0.7877877877877878
         },
         {
          "density": 1.906314550915983,
          "xs": 0.7887887887887888
         },
         {
          "density": 1.893693966570265,
          "xs": 0.7897897897897898
         },
         {
          "density": 1.8810108389971338,
          "xs": 0.7907907907907907
         },
         {
          "density": 1.86826637693081,
          "xs": 0.7917917917917918
         },
         {
          "density": 1.8554618015199698,
          "xs": 0.7927927927927928
         },
         {
          "density": 1.8425983462405509,
          "xs": 0.7937937937937938
         },
         {
          "density": 1.8296772568057391,
          "xs": 0.7947947947947948
         },
         {
          "density": 1.8166997910730747,
          "xs": 0.7957957957957957
         },
         {
          "density": 1.8036672189486709,
          "xs": 0.7967967967967968
         },
         {
          "density": 1.790580822288517,
          "xs": 0.7977977977977978
         },
         {
          "density": 1.7774418947968087,
          "xs": 0.7987987987987988
         },
         {
          "density": 1.7642517419213357,
          "xs": 0.7997997997997998
         },
         {
          "density": 1.7510116807458216,
          "xs": 0.8008008008008007
         },
         {
          "density": 1.7377230398792551,
          "xs": 0.8018018018018018
         },
         {
          "density": 1.7243871593421598,
          "xs": 0.8028028028028028
         },
         {
          "density": 1.7110053904497313,
          "xs": 0.8038038038038038
         },
         {
          "density": 1.6975790956918972,
          "xs": 0.8048048048048048
         },
         {
          "density": 1.6841096486101903,
          "xs": 0.8058058058058059
         },
         {
          "density": 1.670598433671459,
          "xs": 0.8068068068068068
         },
         {
          "density": 1.657046846138341,
          "xs": 0.8078078078078078
         },
         {
          "density": 1.643456291936525,
          "xs": 0.8088088088088088
         },
         {
          "density": 1.6298281875187148,
          "xs": 0.8098098098098098
         },
         {
          "density": 1.6161639597252937,
          "xs": 0.8108108108108109
         },
         {
          "density": 1.6024650456416725,
          "xs": 0.8118118118118118
         },
         {
          "density": 1.5887328924522508,
          "xs": 0.8128128128128128
         },
         {
          "density": 1.5749689572909902,
          "xs": 0.8138138138138138
         },
         {
          "density": 1.5611747070885815,
          "xs": 0.8148148148148148
         },
         {
          "density": 1.5473516184161167,
          "xs": 0.8158158158158159
         },
         {
          "density": 1.5335011773253144,
          "xs": 0.8168168168168168
         },
         {
          "density": 1.5196248791851972,
          "xs": 0.8178178178178178
         },
         {
          "density": 1.5057242285152308,
          "xs": 0.8188188188188188
         },
         {
          "density": 1.4918007388148784,
          "xs": 0.8198198198198198
         },
         {
          "density": 1.4778559323895464,
          "xs": 0.8208208208208209
         },
         {
          "density": 1.463891340172879,
          "xs": 0.8218218218218218
         },
         {
          "density": 1.4499085015453754,
          "xs": 0.8228228228228228
         },
         {
          "density": 1.4359089641493024,
          "xs": 0.8238238238238238
         },
         {
          "density": 1.4218942836998583,
          "xs": 0.8248248248248248
         },
         {
          "density": 1.4078660237925689,
          "xs": 0.8258258258258259
         },
         {
          "density": 1.3938257557068832,
          "xs": 0.8268268268268268
         },
         {
          "density": 1.379775058205899,
          "xs": 0.8278278278278278
         },
         {
          "density": 1.3657155173322624,
          "xs": 0.8288288288288288
         },
         {
          "density": 1.3516487262001171,
          "xs": 0.8298298298298298
         },
         {
          "density": 1.3375762847831512,
          "xs": 0.8308308308308309
         },
         {
          "density": 1.3234997996986446,
          "xs": 0.8318318318318318
         },
         {
          "density": 1.3094208839875314,
          "xs": 0.8328328328328328
         },
         {
          "density": 1.2953411568904047,
          "xs": 0.8338338338338338
         },
         {
          "density": 1.281262243619462,
          "xs": 0.8348348348348348
         },
         {
          "density": 1.2671857751263431,
          "xs": 0.8358358358358359
         },
         {
          "density": 1.253113387865824,
          "xs": 0.8368368368368369
         },
         {
          "density": 1.2390467235553262,
          "xs": 0.8378378378378378
         },
         {
          "density": 1.224987428930232,
          "xs": 0.8388388388388388
         },
         {
          "density": 1.2109371554949502,
          "xs": 0.8398398398398398
         },
         {
          "density": 1.1968975592696938,
          "xs": 0.8408408408408409
         },
         {
          "density": 1.182870300532963,
          "xs": 0.8418418418418419
         },
         {
          "density": 1.1688570435596575,
          "xs": 0.8428428428428428
         },
         {
          "density": 1.1548594563548185,
          "xs": 0.8438438438438438
         },
         {
          "density": 1.1408792103829486,
          "xs": 0.8448448448448448
         },
         {
          "density": 1.1269179802928748,
          "xs": 0.8458458458458459
         },
         {
          "density": 1.1129774436381275,
          "xs": 0.8468468468468469
         },
         {
          "density": 1.099059280592778,
          "xs": 0.8478478478478478
         },
         {
          "density": 1.0851651736627292,
          "xs": 0.8488488488488488
         },
         {
          "density": 1.071296807392404,
          "xs": 0.8498498498498498
         },
         {
          "density": 1.057455868066788,
          "xs": 0.8508508508508509
         },
         {
          "density": 1.043644043408825,
          "xs": 0.8518518518518519
         },
         {
          "density": 1.0298630222720746,
          "xs": 0.8528528528528528
         },
         {
          "density": 1.0161144943286489,
          "xs": 0.8538538538538538
         },
         {
          "density": 1.0024001497523563,
          "xs": 0.8548548548548548
         },
         {
          "density": 0.9887216788970229,
          "xs": 0.8558558558558559
         },
         {
          "density": 0.9750807719699832,
          "xs": 0.8568568568568569
         },
         {
          "density": 0.9614791187006395,
          "xs": 0.8578578578578578
         },
         {
          "density": 0.9479184080041146,
          "xs": 0.8588588588588588
         },
         {
          "density": 0.9344003276399409,
          "xs": 0.8598598598598598
         },
         {
          "density": 0.9209265638657176,
          "xs": 0.8608608608608609
         },
         {
          "density": 0.9074988010857605,
          "xs": 0.8618618618618619
         },
         {
          "density": 0.8941187214946239,
          "xs": 0.8628628628628628
         },
         {
          "density": 0.880788004715544,
          "xs": 0.8638638638638638
         },
         {
          "density": 0.8675083274336923,
          "xs": 0.8648648648648649
         },
         {
          "density": 0.8542813630242561,
          "xs": 0.8658658658658659
         },
         {
          "density": 0.8411087811752528,
          "xs": 0.8668668668668669
         },
         {
          "density": 0.8279922475050977,
          "xs": 0.8678678678678678
         },
         {
          "density": 0.8149334231748313,
          "xs": 0.8688688688688688
         },
         {
          "density": 0.8019339644950125,
          "xs": 0.8698698698698699
         },
         {
          "density": 0.7889955225272038,
          "xs": 0.8708708708708709
         },
         {
          "density": 0.7761197426800264,
          "xs": 0.8718718718718719
         },
         {
          "density": 0.7633082642997471,
          "xs": 0.8728728728728729
         },
         {
          "density": 0.7505627202553455,
          "xs": 0.8738738738738738
         },
         {
          "density": 0.7378847365180208,
          "xs": 0.8748748748748749
         },
         {
          "density": 0.7252759317351299,
          "xs": 0.8758758758758759
         },
         {
          "density": 0.7127379167984564,
          "xs": 0.8768768768768769
         },
         {
          "density": 0.7002722944068297,
          "xs": 0.8778778778778779
         },
         {
          "density": 0.6878806586230176,
          "xs": 0.8788788788788788
         },
         {
          "density": 0.6755645944248674,
          "xs": 0.8798798798798799
         },
         {
          "density": 0.6633256772506405,
          "xs": 0.8808808808808809
         },
         {
          "density": 0.6511654725385133,
          "xs": 0.8818818818818819
         },
         {
          "density": 0.6390855352601972,
          "xs": 0.8828828828828829
         },
         {
          "density": 0.6270874094486312,
          "xs": 0.8838838838838838
         },
         {
          "density": 0.6151726277197156,
          "xs": 0.8848848848848849
         },
         {
          "density": 0.6033427107880371,
          "xs": 0.8858858858858859
         },
         {
          "density": 0.5915991669765402,
          "xs": 0.8868868868868869
         },
         {
          "density": 0.579943491720115,
          "xs": 0.8878878878878879
         },
         {
          "density": 0.5683771670630463,
          "xs": 0.8888888888888888
         },
         {
          "density": 0.5569016611502868,
          "xs": 0.8898898898898899
         },
         {
          "density": 0.5455184277125196,
          "xs": 0.8908908908908909
         },
         {
          "density": 0.534228905544938,
          "xs": 0.8918918918918919
         },
         {
          "density": 0.5230345179797434,
          "xs": 0.8928928928928929
         },
         {
          "density": 0.5119366723522805,
          "xs": 0.8938938938938938
         },
         {
          "density": 0.5009367594607826,
          "xs": 0.8948948948948949
         },
         {
          "density": 0.49003615301968434,
          "xs": 0.8958958958958959
         },
         {
          "density": 0.4792362091064513,
          "xs": 0.8968968968968969
         },
         {
          "density": 0.46853826560188216,
          "xs": 0.8978978978978979
         },
         {
          "density": 0.4579436416238552,
          "xs": 0.8988988988988988
         },
         {
          "density": 0.4474536369544435,
          "xs": 0.8998998998998999
         },
         {
          "density": 0.4370695314603961,
          "xs": 0.9009009009009009
         },
         {
          "density": 0.42679258450689167,
          "xs": 0.9019019019019019
         },
         {
          "density": 0.4166240343645684,
          "xs": 0.9029029029029029
         },
         {
          "density": 0.4065650976097441,
          "xs": 0.9039039039039038
         },
         {
          "density": 0.3966169685178132,
          "xs": 0.9049049049049049
         },
         {
          "density": 0.38678081844975265,
          "xs": 0.9059059059059059
         },
         {
          "density": 0.3770577952316981,
          "xs": 0.9069069069069069
         },
         {
          "density": 0.36744902252755657,
          "xs": 0.9079079079079079
         },
         {
          "density": 0.35795559920458747,
          "xs": 0.9089089089089089
         },
         {
          "density": 0.34857859869192137,
          "xs": 0.9099099099099099
         },
         {
          "density": 0.3393190683319748,
          "xs": 0.9109109109109109
         },
         {
          "density": 0.33017802872468965,
          "xs": 0.9119119119119119
         },
         {
          "density": 0.32115647306458117,
          "xs": 0.9129129129129129
         },
         {
          "density": 0.3122553664705265,
          "xs": 0.9139139139139139
         },
         {
          "density": 0.303475645308256,
          "xs": 0.914914914914915
         },
         {
          "density": 0.29481821650549905,
          "xs": 0.9159159159159159
         },
         {
          "density": 0.28628395685973235,
          "xs": 0.9169169169169169
         },
         {
          "density": 0.2778737123384874,
          "xs": 0.9179179179179179
         },
         {
          "density": 0.2695882973721722,
          "xs": 0.9189189189189189
         },
         {
          "density": 0.2614284941393504,
          "xs": 0.91991991991992
         },
         {
          "density": 0.2533950518444435,
          "xs": 0.9209209209209209
         },
         {
          "density": 0.24548868598778484,
          "xs": 0.9219219219219219
         },
         {
          "density": 0.2377100776280082,
          "xs": 0.9229229229229229
         },
         {
          "density": 0.23005987263669356,
          "xs": 0.9239239239239239
         },
         {
          "density": 0.2225386809452367,
          "xs": 0.924924924924925
         },
         {
          "density": 0.21514707578389788,
          "xs": 0.9259259259259259
         },
         {
          "density": 0.20788559291295727,
          "xs": 0.9269269269269269
         },
         {
          "density": 0.20075472984595621,
          "xs": 0.9279279279279279
         },
         {
          "density": 0.19375494506495844,
          "xs": 0.9289289289289289
         },
         {
          "density": 0.1868866572277806,
          "xs": 0.92992992992993
         },
         {
          "density": 0.18015024436715552,
          "xs": 0.9309309309309309
         },
         {
          "density": 0.17354604308175697,
          "xs": 0.9319319319319319
         },
         {
          "density": 0.16707434771905882,
          "xs": 0.9329329329329329
         },
         {
          "density": 0.16073540954996077,
          "xs": 0.933933933933934
         },
         {
          "density": 0.15452943593514115,
          "xs": 0.934934934934935
         },
         {
          "density": 0.14845658948307217,
          "xs": 0.9359359359359359
         },
         {
          "density": 0.14251698719966774,
          "xs": 0.9369369369369369
         },
         {
          "density": 0.1367106996294911,
          "xs": 0.9379379379379379
         },
         {
          "density": 0.13103774998848403,
          "xs": 0.938938938938939
         },
         {
          "density": 0.1254981132881648,
          "xs": 0.93993993993994
         },
         {
          "density": 0.12009171545123268,
          "xs": 0.9409409409409409
         },
         {
          "density": 0.11481843241854423,
          "xs": 0.9419419419419419
         },
         {
          "density": 0.10967808924739442,
          "xs": 0.9429429429429429
         },
         {
          "density": 0.10467045920105786,
          "xs": 0.943943943943944
         },
         {
          "density": 0.09979526282953646,
          "xs": 0.944944944944945
         },
         {
          "density": 0.09505216704145675,
          "xs": 0.9459459459459459
         },
         {
          "density": 0.09044078416707169,
          "xs": 0.9469469469469469
         },
         {
          "density": 0.08596067101230662,
          "xs": 0.9479479479479479
         },
         {
          "density": 0.0816113279038,
          "xs": 0.948948948948949
         },
         {
          "density": 0.0773921977248859,
          "xs": 0.94994994994995
         },
         {
          "density": 0.07330266494245934,
          "xs": 0.950950950950951
         },
         {
          "density": 0.06934205462467934,
          "xs": 0.9519519519519519
         },
         {
          "density": 0.06550963144944792,
          "xs": 0.9529529529529529
         },
         {
          "density": 0.061804598703614884,
          "xs": 0.953953953953954
         },
         {
          "density": 0.0582260972728536,
          "xs": 0.954954954954955
         },
         {
          "density": 0.05477320462215121,
          "xs": 0.955955955955956
         },
         {
          "density": 0.051444933766860323,
          "xs": 0.9569569569569569
         },
         {
          "density": 0.04824023223425866,
          "xs": 0.9579579579579579
         },
         {
          "density": 0.04515798101555652,
          "xs": 0.958958958958959
         },
         {
          "density": 0.042196993508304095,
          "xs": 0.95995995995996
         },
         {
          "density": 0.03935601444913412,
          "xs": 0.960960960960961
         },
         {
          "density": 0.0366337188367923,
          "xs": 0.9619619619619619
         },
         {
          "density": 0.03402871084539588,
          "xs": 0.9629629629629629
         },
         {
          "density": 0.031539522727863485,
          "xs": 0.963963963963964
         },
         {
          "density": 0.029164613709462512,
          "xs": 0.964964964964965
         },
         {
          "density": 0.02690236887141441,
          "xs": 0.965965965965966
         },
         {
          "density": 0.024751098024504536,
          "xs": 0.9669669669669669
         },
         {
          "density": 0.022709034572637916,
          "xs": 0.9679679679679679
         },
         {
          "density": 0.020774334366282576,
          "xs": 0.968968968968969
         },
         {
          "density": 0.018945074545747564,
          "xs": 0.96996996996997
         },
         {
          "density": 0.01721925237423163,
          "xs": 0.970970970970971
         },
         {
          "density": 0.01559478406059154,
          "xs": 0.9719719719719719
         },
         {
          "density": 0.014069503571767937,
          "xs": 0.9729729729729729
         },
         {
          "density": 0.012641161434812,
          "xs": 0.973973973973974
         },
         {
          "density": 0.011307423528455495,
          "xs": 0.974974974974975
         },
         {
          "density": 0.010065869864163421,
          "xs": 0.975975975975976
         },
         {
          "density": 0.00891399335661362,
          "xs": 0.9769769769769769
         },
         {
          "density": 0.007849198583542414,
          "xs": 0.9779779779779779
         },
         {
          "density": 0.006868800534897691,
          "xs": 0.978978978978979
         },
         {
          "density": 0.005970023351241204,
          "xs": 0.97997997997998
         },
         {
          "density": 0.005149999051338667,
          "xs": 0.980980980980981
         },
         {
          "density": 0.004405766248880287,
          "xs": 0.9819819819819819
         },
         {
          "density": 0.0037342688582704085,
          "xs": 0.9829829829829829
         },
         {
          "density": 0.0031323547894266716,
          "xs": 0.983983983983984
         },
         {
          "density": 0.0025967746315289164,
          "xs": 0.984984984984985
         },
         {
          "density": 0.00212418032565624,
          "xs": 0.985985985985986
         },
         {
          "density": 0.0017111238262531947,
          "xs": 0.986986986986987
         },
         {
          "density": 0.0013540557513629931,
          "xs": 0.9879879879879879
         },
         {
          "density": 0.0010493240215673346,
          "xs": 0.988988988988989
         },
         {
          "density": 0.0007931724875716318,
          "xs": 0.98998998998999
         },
         {
          "density": 0.0005817395463737909,
          "xs": 0.990990990990991
         },
         {
          "density": 0.00041105674595555425,
          "xs": 0.991991991991992
         },
         {
          "density": 0.0002770473784341067,
          "xs": 0.992992992992993
         },
         {
          "density": 0.0001755250616121868,
          "xs": 0.993993993993994
         },
         {
          "density": 0.00010219230886425554,
          "xs": 0.994994994994995
         },
         {
          "density": 5.2639087296577656e-05,
          "xs": 0.995995995995996
         },
         {
          "density": 2.234136411837236e-05,
          "xs": 0.996996996996997
         },
         {
          "density": 6.659641161295986e-06,
          "xs": 0.997997997997998
         },
         {
          "density": 8.374774842125556e-07,
          "xs": 0.998998998998999
         },
         {
          "density": 0,
          "xs": 1
         }
        ],
        "data-bc4d0ebcb3b22b9503babb01b7fa1a2b": [
         {
          "samples": 0.5
         },
         {
          "samples": 0.43101445825924567
         },
         {
          "samples": 0.5956065940004585
         },
         {
          "samples": 0.5956065940004585
         },
         {
          "samples": 0.743253553069728
         },
         {
          "samples": 0.805696118960932
         },
         {
          "samples": 0.8445128659296757
         },
         {
          "samples": 0.8144850836277433
         },
         {
          "samples": 0.8873823245692309
         },
         {
          "samples": 0.8236081790750859
         },
         {
          "samples": 0.8236081790750859
         },
         {
          "samples": 0.7916998496291645
         },
         {
          "samples": 0.8329263319763485
         },
         {
          "samples": 0.8329263319763485
         },
         {
          "samples": 0.7594782795144556
         },
         {
          "samples": 0.752829761542511
         },
         {
          "samples": 0.6160488151032629
         },
         {
          "samples": 0.6101329925278747
         },
         {
          "samples": 0.5336159634958112
         },
         {
          "samples": 0.443242012849577
         },
         {
          "samples": 0.443242012849577
         },
         {
          "samples": 0.3963942208631714
         },
         {
          "samples": 0.3963942208631714
         },
         {
          "samples": 0.3822161261088776
         },
         {
          "samples": 0.32983223829566777
         },
         {
          "samples": 0.2811046691846868
         },
         {
          "samples": 0.2811046691846868
         },
         {
          "samples": 0.3295854875153419
         },
         {
          "samples": 0.3295854875153419
         },
         {
          "samples": 0.38942300468755253
         },
         {
          "samples": 0.38942300468755253
         },
         {
          "samples": 0.46391916477981293
         },
         {
          "samples": 0.46391916477981293
         },
         {
          "samples": 0.547068944366661
         },
         {
          "samples": 0.5283255622350441
         },
         {
          "samples": 0.5283255622350441
         },
         {
          "samples": 0.5296970134136112
         },
         {
          "samples": 0.5976651515898362
         },
         {
          "samples": 0.5675615811088268
         },
         {
          "samples": 0.5675615811088268
         },
         {
          "samples": 0.4143920126715086
         },
         {
          "samples": 0.42710130479267877
         },
         {
          "samples": 0.5792173297511292
         },
         {
          "samples": 0.5282379244601669
         },
         {
          "samples": 0.5282379244601669
         },
         {
          "samples": 0.5282379244601669
         },
         {
          "samples": 0.4742287348051734
         },
         {
          "samples": 0.4742287348051734
         },
         {
          "samples": 0.416848027073307
         },
         {
          "samples": 0.4693431460952287
         },
         {
          "samples": 0.6257246705431024
         },
         {
          "samples": 0.6257246705431024
         },
         {
          "samples": 0.6081809264527064
         },
         {
          "samples": 0.6081809264527064
         },
         {
          "samples": 0.7040022170226372
         },
         {
          "samples": 0.8068459186690387
         },
         {
          "samples": 0.8392509745685854
         },
         {
          "samples": 0.7765252307320396
         },
         {
          "samples": 0.755138583717737
         },
         {
          "samples": 0.7981329799263014
         },
         {
          "samples": 0.7981329799263014
         },
         {
          "samples": 0.7642020124101458
         },
         {
          "samples": 0.6968884018821468
         },
         {
          "samples": 0.5618145754355129
         },
         {
          "samples": 0.46716363782904446
         },
         {
          "samples": 0.5983758607584458
         },
         {
          "samples": 0.6361568641410698
         },
         {
          "samples": 0.6141575518836848
         },
         {
          "samples": 0.6336497481194472
         },
         {
          "samples": 0.5789870574188943
         },
         {
          "samples": 0.5789870574188943
         },
         {
          "samples": 0.5502188407655786
         },
         {
          "samples": 0.5917371867558894
         },
         {
          "samples": 0.5917371867558894
         },
         {
          "samples": 0.6876375969033541
         },
         {
          "samples": 0.6087337312286611
         },
         {
          "samples": 0.7559215228875529
         },
         {
          "samples": 0.6974334320964124
         },
         {
          "samples": 0.5577605022798197
         },
         {
          "samples": 0.7128242999591197
         },
         {
          "samples": 0.7078017798228673
         },
         {
          "samples": 0.5856535324720493
         },
         {
          "samples": 0.7786398280824467
         },
         {
          "samples": 0.776291985605329
         },
         {
          "samples": 0.5878258859515465
         },
         {
          "samples": 0.5196473847614451
         },
         {
          "samples": 0.5196473847614451
         },
         {
          "samples": 0.5582361765766196
         },
         {
          "samples": 0.5242310373537057
         },
         {
          "samples": 0.6942193612893927
         },
         {
          "samples": 0.7131482959790036
         },
         {
          "samples": 0.6946271394360962
         },
         {
          "samples": 0.6946271394360962
         },
         {
          "samples": 0.6989085684306164
         },
         {
          "samples": 0.6989085684306164
         },
         {
          "samples": 0.6989085684306164
         },
         {
          "samples": 0.8220270553871978
         },
         {
          "samples": 0.8687885148224171
         },
         {
          "samples": 0.8125157865688135
         },
         {
          "samples": 0.8146404807800887
         },
         {
          "samples": 0.8146404807800887
         },
         {
          "samples": 0.6993058825693104
         },
         {
          "samples": 0.6993058825693104
         },
         {
          "samples": 0.6825086341960129
         },
         {
          "samples": 0.6825086341960129
         },
         {
          "samples": 0.7184892092325937
         },
         {
          "samples": 0.8437928221751495
         },
         {
          "samples": 0.8437928221751495
         },
         {
          "samples": 0.7676436083579732
         },
         {
          "samples": 0.786820593818798
         },
         {
          "samples": 0.8141968398949243
         },
         {
          "samples": 0.7679999279687743
         },
         {
          "samples": 0.7469258813920433
         },
         {
          "samples": 0.7968486635096033
         },
         {
          "samples": 0.6122706085541088
         },
         {
          "samples": 0.632181872151683
         },
         {
          "samples": 0.6162919428755252
         },
         {
          "samples": 0.6162919428755252
         },
         {
          "samples": 0.6162919428755252
         },
         {
          "samples": 0.6004083563818491
         },
         {
          "samples": 0.6614048563753542
         },
         {
          "samples": 0.8298731802107029
         },
         {
          "samples": 0.7341166756758876
         },
         {
          "samples": 0.5952752653908464
         },
         {
          "samples": 0.5952752653908464
         },
         {
          "samples": 0.5696938340828404
         },
         {
          "samples": 0.5737534482663924
         },
         {
          "samples": 0.6268068970115215
         },
         {
          "samples": 0.6268068970115215
         },
         {
          "samples": 0.45626452626395353
         },
         {
          "samples": 0.462971731942792
         },
         {
          "samples": 0.5213682350746927
         },
         {
          "samples": 0.5892720800261346
         },
         {
          "samples": 0.4797211206027308
         },
         {
          "samples": 0.35896359153320323
         },
         {
          "samples": 0.3527762516043149
         },
         {
          "samples": 0.3902681226257452
         },
         {
          "samples": 0.36095110501889505
         },
         {
          "samples": 0.45050841029780553
         },
         {
          "samples": 0.6076863511961016
         },
         {
          "samples": 0.647670738033935
         },
         {
          "samples": 0.5681652974208966
         },
         {
          "samples": 0.6453248398629678
         },
         {
          "samples": 0.6071978361253387
         },
         {
          "samples": 0.559279976045022
         },
         {
          "samples": 0.559279976045022
         },
         {
          "samples": 0.5425159368715946
         },
         {
          "samples": 0.5862956961040332
         },
         {
          "samples": 0.7711446858979971
         },
         {
          "samples": 0.6572157434839778
         },
         {
          "samples": 0.6572157434839778
         },
         {
          "samples": 0.6572157434839778
         },
         {
          "samples": 0.7972131215044023
         },
         {
          "samples": 0.7972131215044023
         },
         {
          "samples": 0.5965391986525983
         },
         {
          "samples": 0.4969286767886904
         },
         {
          "samples": 0.6238890718331631
         },
         {
          "samples": 0.632058410328718
         },
         {
          "samples": 0.6233279713441106
         },
         {
          "samples": 0.5957667144824998
         },
         {
          "samples": 0.7389703453787702
         },
         {
          "samples": 0.7509370017073668
         },
         {
          "samples": 0.7238866172964628
         },
         {
          "samples": 0.5704289457488836
         },
         {
          "samples": 0.680719594718145
         },
         {
          "samples": 0.680719594718145
         },
         {
          "samples": 0.8049649871810639
         },
         {
          "samples": 0.7628140628810547
         },
         {
          "samples": 0.4875827074087117
         },
         {
          "samples": 0.49239903197297946
         },
         {
          "samples": 0.5734064832730182
         },
         {
          "samples": 0.5907484657362349
         },
         {
          "samples": 0.6189769875486691
         },
         {
          "samples": 0.6749084951273374
         },
         {
          "samples": 0.6749084951273374
         },
         {
          "samples": 0.5590421397695916
         },
         {
          "samples": 0.4908007103794364
         },
         {
          "samples": 0.4908007103794364
         },
         {
          "samples": 0.4747936754140124
         },
         {
          "samples": 0.4747936754140124
         },
         {
          "samples": 0.7041751168038692
         },
         {
          "samples": 0.6860821945148509
         },
         {
          "samples": 0.8350832298680753
         },
         {
          "samples": 0.6701390837715528
         },
         {
          "samples": 0.525813583594582
         },
         {
          "samples": 0.7629678600862472
         },
         {
          "samples": 0.7552561764304958
         },
         {
          "samples": 0.7659542944297846
         },
         {
          "samples": 0.7659542944297846
         },
         {
          "samples": 0.7659542944297846
         },
         {
          "samples": 0.7940072869076323
         },
         {
          "samples": 0.7185366434241045
         },
         {
          "samples": 0.6645816971353781
         },
         {
          "samples": 0.6645816971353781
         },
         {
          "samples": 0.43436825254758893
         },
         {
          "samples": 0.33821318946357803
         },
         {
          "samples": 0.29787848278390255
         },
         {
          "samples": 0.49342177139744925
         },
         {
          "samples": 0.6009635525728465
         },
         {
          "samples": 0.5239497430137456
         },
         {
          "samples": 0.5655821841262862
         },
         {
          "samples": 0.634616327885196
         },
         {
          "samples": 0.7640270493169485
         },
         {
          "samples": 0.7540674980169335
         },
         {
          "samples": 0.7540674980169335
         },
         {
          "samples": 0.7446523353935024
         },
         {
          "samples": 0.7446523353935024
         },
         {
          "samples": 0.6497481673571881
         },
         {
          "samples": 0.5450588697066882
         },
         {
          "samples": 0.6985833224218959
         },
         {
          "samples": 0.7314492173952862
         },
         {
          "samples": 0.5616505582181963
         },
         {
          "samples": 0.750141296792054
         },
         {
          "samples": 0.750141296792054
         },
         {
          "samples": 0.5782738912566161
         },
         {
          "samples": 0.5712483169997504
         },
         {
          "samples": 0.6536923187853991
         },
         {
          "samples": 0.5785616466861802
         },
         {
          "samples": 0.8397715378466336
         },
         {
          "samples": 0.8397715378466336
         },
         {
          "samples": 0.8683152160647494
         },
         {
          "samples": 0.7715810828870757
         },
         {
          "samples": 0.6096733428503411
         },
         {
          "samples": 0.6096733428503411
         },
         {
          "samples": 0.6589795525112577
         },
         {
          "samples": 0.6312578981539331
         },
         {
          "samples": 0.633149848868048
         },
         {
          "samples": 0.6471395463600963
         },
         {
          "samples": 0.6612059820538185
         },
         {
          "samples": 0.6612059820538185
         },
         {
          "samples": 0.6582999169339685
         },
         {
          "samples": 0.5387627144931102
         },
         {
          "samples": 0.5387627144931102
         },
         {
          "samples": 0.48167278148597165
         },
         {
          "samples": 0.6037874002471164
         },
         {
          "samples": 0.43722593306510005
         },
         {
          "samples": 0.5307017947314284
         },
         {
          "samples": 0.648393621317779
         },
         {
          "samples": 0.7296305730876183
         },
         {
          "samples": 0.6057867737615255
         },
         {
          "samples": 0.7583591469836591
         },
         {
          "samples": 0.6232478376750118
         },
         {
          "samples": 0.6139394626279185
         },
         {
          "samples": 0.6937381427204432
         },
         {
          "samples": 0.6510422891017514
         },
         {
          "samples": 0.8293661788271623
         },
         {
          "samples": 0.8978447503920199
         },
         {
          "samples": 0.7180803841128176
         },
         {
          "samples": 0.6548462900731722
         },
         {
          "samples": 0.7385150344901652
         },
         {
          "samples": 0.7693351785527015
         },
         {
          "samples": 0.7980337836712539
         },
         {
          "samples": 0.7980337836712539
         },
         {
          "samples": 0.6673874299385202
         },
         {
          "samples": 0.6461652438043808
         },
         {
          "samples": 0.6629211248486135
         },
         {
          "samples": 0.6629211248486135
         },
         {
          "samples": 0.4696610831144473
         },
         {
          "samples": 0.5392010794535149
         },
         {
          "samples": 0.6014664482890987
         },
         {
          "samples": 0.6014664482890987
         },
         {
          "samples": 0.5474320322459547
         },
         {
          "samples": 0.5614877607637045
         },
         {
          "samples": 0.6857261576651815
         },
         {
          "samples": 0.6857261576651815
         },
         {
          "samples": 0.6617421265328985
         },
         {
          "samples": 0.7110280177428762
         },
         {
          "samples": 0.538588322703053
         },
         {
          "samples": 0.538588322703053
         },
         {
          "samples": 0.601357197628032
         },
         {
          "samples": 0.6897818781295695
         },
         {
          "samples": 0.6861027122903032
         },
         {
          "samples": 0.6067649340938214
         },
         {
          "samples": 0.6749367296921831
         },
         {
          "samples": 0.667919313904427
         },
         {
          "samples": 0.667919313904427
         },
         {
          "samples": 0.5414235985186043
         },
         {
          "samples": 0.5124262352543756
         },
         {
          "samples": 0.6192057182187755
         },
         {
          "samples": 0.7816728163356809
         },
         {
          "samples": 0.7277280312489202
         },
         {
          "samples": 0.7277280312489202
         },
         {
          "samples": 0.6073816888554033
         },
         {
          "samples": 0.5249814925787311
         },
         {
          "samples": 0.5328940650703545
         },
         {
          "samples": 0.5144935537229868
         },
         {
          "samples": 0.44495886280140096
         },
         {
          "samples": 0.44495886280140096
         },
         {
          "samples": 0.4974477227202563
         },
         {
          "samples": 0.5791187386888742
         },
         {
          "samples": 0.4597375494067766
         },
         {
          "samples": 0.48819352884686773
         },
         {
          "samples": 0.5829039809809636
         },
         {
          "samples": 0.5829039809809636
         },
         {
          "samples": 0.5829039809809636
         },
         {
          "samples": 0.6385620683171214
         },
         {
          "samples": 0.6305005026275983
         },
         {
          "samples": 0.6305005026275983
         },
         {
          "samples": 0.5425589883060424
         },
         {
          "samples": 0.4310426316543384
         },
         {
          "samples": 0.4635947882120214
         },
         {
          "samples": 0.4573320827259437
         },
         {
          "samples": 0.47330707042632475
         },
         {
          "samples": 0.40619281391263296
         },
         {
          "samples": 0.581154136973817
         },
         {
          "samples": 0.5286238329366663
         },
         {
          "samples": 0.5913853476355863
         },
         {
          "samples": 0.7829018850706236
         },
         {
          "samples": 0.6541127082992919
         },
         {
          "samples": 0.7103086698007175
         },
         {
          "samples": 0.7103086698007175
         },
         {
          "samples": 0.8084548578301282
         },
         {
          "samples": 0.8084548578301282
         },
         {
          "samples": 0.8008151245102019
         },
         {
          "samples": 0.7940092006101782
         },
         {
          "samples": 0.7940092006101782
         },
         {
          "samples": 0.7940092006101782
         },
         {
          "samples": 0.5826120929202463
         },
         {
          "samples": 0.5292311572516828
         },
         {
          "samples": 0.6126979440220129
         },
         {
          "samples": 0.46274774786857686
         },
         {
          "samples": 0.48706491705924093
         },
         {
          "samples": 0.49917925040196975
         },
         {
          "samples": 0.43662267477114636
         },
         {
          "samples": 0.43662267477114636
         },
         {
          "samples": 0.43662267477114636
         },
         {
          "samples": 0.32760560120397864
         },
         {
          "samples": 0.29811755712081983
         },
         {
          "samples": 0.29811755712081983
         },
         {
          "samples": 0.38304502269045226
         },
         {
          "samples": 0.38304502269045226
         },
         {
          "samples": 0.437362027746718
         },
         {
          "samples": 0.5947709579699327
         },
         {
          "samples": 0.616086230897299
         },
         {
          "samples": 0.5697955877781797
         },
         {
          "samples": 0.5513962432299333
         },
         {
          "samples": 0.5546288302458462
         },
         {
          "samples": 0.5546288302458462
         },
         {
          "samples": 0.7504601766128013
         },
         {
          "samples": 0.7166634259777175
         },
         {
          "samples": 0.7214044300217767
         },
         {
          "samples": 0.7242746937202019
         },
         {
          "samples": 0.6445462925382244
         },
         {
          "samples": 0.7054270264599194
         },
         {
          "samples": 0.8152794676972224
         },
         {
          "samples": 0.6818389284311772
         },
         {
          "samples": 0.6818389284311772
         },
         {
          "samples": 0.7751182684141444
         },
         {
          "samples": 0.715521830165115
         },
         {
          "samples": 0.604873212465503
         },
         {
          "samples": 0.604873212465503
         },
         {
          "samples": 0.62918196120711
         },
         {
          "samples": 0.62918196120711
         },
         {
          "samples": 0.600074644004513
         },
         {
          "samples": 0.7028946867355127
         },
         {
          "samples": 0.7028946867355127
         },
         {
          "samples": 0.5300406128619404
         },
         {
          "samples": 0.47053234400874566
         },
         {
          "samples": 0.47053234400874566
         },
         {
          "samples": 0.4051834063549037
         },
         {
          "samples": 0.2992585054643528
         },
         {
          "samples": 0.2992585054643528
         },
         {
          "samples": 0.2992585054643528
         },
         {
          "samples": 0.2992585054643528
         },
         {
          "samples": 0.29912353575270095
         },
         {
          "samples": 0.32264037028807496
         },
         {
          "samples": 0.32264037028807496
         },
         {
          "samples": 0.3710790604612217
         },
         {
          "samples": 0.4870380191711026
         },
         {
          "samples": 0.5740418767235095
         },
         {
          "samples": 0.5482542742214433
         },
         {
          "samples": 0.4745485625584094
         },
         {
          "samples": 0.46879652147807477
         },
         {
          "samples": 0.443767519826606
         },
         {
          "samples": 0.443767519826606
         },
         {
          "samples": 0.48199912652819943
         },
         {
          "samples": 0.5114567845026052
         },
         {
          "samples": 0.39485214856636963
         },
         {
          "samples": 0.3122691183937005
         },
         {
          "samples": 0.3122691183937005
         },
         {
          "samples": 0.3122691183937005
         },
         {
          "samples": 0.1751120380913551
         },
         {
          "samples": 0.1751120380913551
         },
         {
          "samples": 0.1751120380913551
         },
         {
          "samples": 0.2595713407549034
         },
         {
          "samples": 0.3481399087382878
         },
         {
          "samples": 0.3621155208431442
         },
         {
          "samples": 0.4247839102888097
         },
         {
          "samples": 0.4247839102888097
         },
         {
          "samples": 0.3914483652743527
         },
         {
          "samples": 0.3914483652743527
         },
         {
          "samples": 0.3914483652743527
         },
         {
          "samples": 0.5029306175698354
         },
         {
          "samples": 0.2460217835771355
         },
         {
          "samples": 0.3501159505620615
         },
         {
          "samples": 0.5552534458408798
         },
         {
          "samples": 0.5953954124349667
         },
         {
          "samples": 0.44787574349883275
         },
         {
          "samples": 0.5988327737413622
         },
         {
          "samples": 0.5834706817626105
         },
         {
          "samples": 0.5153826300545327
         },
         {
          "samples": 0.5589808656684724
         },
         {
          "samples": 0.5589808656684724
         },
         {
          "samples": 0.653259826844953
         },
         {
          "samples": 0.7236866518010452
         },
         {
          "samples": 0.7236866518010452
         },
         {
          "samples": 0.6916901343490744
         },
         {
          "samples": 0.7223272181555588
         },
         {
          "samples": 0.6767150976628623
         },
         {
          "samples": 0.6630859248792593
         },
         {
          "samples": 0.6627533008820308
         },
         {
          "samples": 0.6627533008820308
         },
         {
          "samples": 0.6022051180978986
         },
         {
          "samples": 0.5646394426104688
         },
         {
          "samples": 0.48963097545483386
         },
         {
          "samples": 0.5728171817757367
         },
         {
          "samples": 0.551132789346486
         },
         {
          "samples": 0.5371617067890766
         },
         {
          "samples": 0.6396147916841504
         },
         {
          "samples": 0.6575555312798358
         },
         {
          "samples": 0.6575555312798358
         },
         {
          "samples": 0.6197619008657945
         },
         {
          "samples": 0.7090845919588653
         },
         {
          "samples": 0.793949021342086
         },
         {
          "samples": 0.8237409071694336
         },
         {
          "samples": 0.6607287939967894
         },
         {
          "samples": 0.6547867151170067
         },
         {
          "samples": 0.6113828759791592
         },
         {
          "samples": 0.637681401295062
         },
         {
          "samples": 0.6665629145151689
         },
         {
          "samples": 0.7168859531630056
         },
         {
          "samples": 0.6893231269744325
         },
         {
          "samples": 0.79558755582103
         },
         {
          "samples": 0.79558755582103
         },
         {
          "samples": 0.7767440519576572
         },
         {
          "samples": 0.7946271488701123
         },
         {
          "samples": 0.7946271488701123
         },
         {
          "samples": 0.7903369196793121
         },
         {
          "samples": 0.7903369196793121
         },
         {
          "samples": 0.6667937780261859
         },
         {
          "samples": 0.7903619529362677
         },
         {
          "samples": 0.7241509725647208
         },
         {
          "samples": 0.7212230281394627
         },
         {
          "samples": 0.7937808612691046
         },
         {
          "samples": 0.8443258162633797
         },
         {
          "samples": 0.8069721595218144
         },
         {
          "samples": 0.8069721595218144
         },
         {
          "samples": 0.6949954182318651
         },
         {
          "samples": 0.6071852121477842
         },
         {
          "samples": 0.5752510509119985
         },
         {
          "samples": 0.5901119760351035
         },
         {
          "samples": 0.5781244926020528
         },
         {
          "samples": 0.6330820132299884
         },
         {
          "samples": 0.6330820132299884
         },
         {
          "samples": 0.6330820132299884
         },
         {
          "samples": 0.5965781433402383
         },
         {
          "samples": 0.7833197923060703
         },
         {
          "samples": 0.8634055756690141
         },
         {
          "samples": 0.8114744377014733
         },
         {
          "samples": 0.803798660199053
         },
         {
          "samples": 0.7185279226975821
         },
         {
          "samples": 0.7185279226975821
         },
         {
          "samples": 0.5814599821801039
         },
         {
          "samples": 0.5549659654982176
         },
         {
          "samples": 0.6409464906957436
         },
         {
          "samples": 0.5508207827631977
         },
         {
          "samples": 0.5508207827631977
         },
         {
          "samples": 0.5877372244564365
         },
         {
          "samples": 0.5877372244564365
         },
         {
          "samples": 0.5877372244564365
         },
         {
          "samples": 0.4854993867957615
         },
         {
          "samples": 0.41963543637653883
         },
         {
          "samples": 0.3811493655405497
         },
         {
          "samples": 0.6030430470142734
         },
         {
          "samples": 0.5624378946057969
         },
         {
          "samples": 0.47156186273795014
         },
         {
          "samples": 0.5220705689110374
         },
         {
          "samples": 0.5275152071943728
         },
         {
          "samples": 0.39425777679957896
         },
         {
          "samples": 0.39425777679957896
         },
         {
          "samples": 0.4566212698589984
         },
         {
          "samples": 0.4566212698589984
         },
         {
          "samples": 0.5617578168511477
         },
         {
          "samples": 0.5617578168511477
         },
         {
          "samples": 0.812266057834879
         },
         {
          "samples": 0.8502106390308153
         },
         {
          "samples": 0.8768107458287432
         },
         {
          "samples": 0.915758233944754
         },
         {
          "samples": 0.7205296702287172
         },
         {
          "samples": 0.5528343998086735
         },
         {
          "samples": 0.7161186904615937
         },
         {
          "samples": 0.6915157501271175
         },
         {
          "samples": 0.6758322671114046
         },
         {
          "samples": 0.7417341380261657
         },
         {
          "samples": 0.8162161856440867
         },
         {
          "samples": 0.8329937502875377
         },
         {
          "samples": 0.7669078279287637
         },
         {
          "samples": 0.7029597371409136
         },
         {
          "samples": 0.6179879286003689
         },
         {
          "samples": 0.6814714646534753
         },
         {
          "samples": 0.6814714646534753
         },
         {
          "samples": 0.6814714646534753
         },
         {
          "samples": 0.7233097218645087
         },
         {
          "samples": 0.5835957010713397
         },
         {
          "samples": 0.5835957010713397
         },
         {
          "samples": 0.5835957010713397
         },
         {
          "samples": 0.44990611721566637
         },
         {
          "samples": 0.42626462634196705
         },
         {
          "samples": 0.41922336589386305
         },
         {
          "samples": 0.5955775221345563
         },
         {
          "samples": 0.72018850692185
         },
         {
          "samples": 0.7813427013474986
         },
         {
          "samples": 0.7813427013474986
         },
         {
          "samples": 0.7490318256761688
         },
         {
          "samples": 0.7849333109057544
         },
         {
          "samples": 0.567277143735881
         },
         {
          "samples": 0.567277143735881
         },
         {
          "samples": 0.5638307206904691
         },
         {
          "samples": 0.5001488866919885
         },
         {
          "samples": 0.4726687702078506
         },
         {
          "samples": 0.5030972565152835
         },
         {
          "samples": 0.442620159989615
         },
         {
          "samples": 0.3834437378926074
         },
         {
          "samples": 0.5726099747155973
         },
         {
          "samples": 0.6071565262160921
         },
         {
          "samples": 0.5117966114808677
         },
         {
          "samples": 0.5775639891703575
         },
         {
          "samples": 0.6719459946683966
         },
         {
          "samples": 0.7061996426655267
         },
         {
          "samples": 0.7269624451043541
         },
         {
          "samples": 0.7139098172349035
         },
         {
          "samples": 0.7139098172349035
         },
         {
          "samples": 0.7555701741013605
         },
         {
          "samples": 0.7785362227488368
         },
         {
          "samples": 0.7785362227488368
         },
         {
          "samples": 0.7785362227488368
         },
         {
          "samples": 0.5156358703998016
         },
         {
          "samples": 0.4642877700128878
         },
         {
          "samples": 0.5457529347875965
         },
         {
          "samples": 0.4961337033505023
         },
         {
          "samples": 0.40049743671700916
         },
         {
          "samples": 0.5408717381342636
         },
         {
          "samples": 0.5237073579976746
         },
         {
          "samples": 0.47944948543324534
         },
         {
          "samples": 0.47006166303917696
         },
         {
          "samples": 0.3475542387454748
         },
         {
          "samples": 0.4559945286649688
         },
         {
          "samples": 0.4559945286649688
         },
         {
          "samples": 0.5024883459115291
         },
         {
          "samples": 0.5262488521859021
         },
         {
          "samples": 0.5736763324758246
         },
         {
          "samples": 0.6679696478608872
         },
         {
          "samples": 0.7936294502510557
         },
         {
          "samples": 0.5776062587260026
         },
         {
          "samples": 0.5281858462264883
         },
         {
          "samples": 0.5281858462264883
         },
         {
          "samples": 0.4812726787954654
         },
         {
          "samples": 0.4488419586898918
         },
         {
          "samples": 0.5988273696245505
         },
         {
          "samples": 0.6322746228672101
         },
         {
          "samples": 0.6629276756208407
         },
         {
          "samples": 0.6629276756208407
         },
         {
          "samples": 0.7375342090943018
         },
         {
          "samples": 0.7385068111589508
         },
         {
          "samples": 0.7385068111589508
         },
         {
          "samples": 0.725589012154292
         },
         {
          "samples": 0.725589012154292
         },
         {
          "samples": 0.6875599687615757
         },
         {
          "samples": 0.8083907507734007
         },
         {
          "samples": 0.8083907507734007
         },
         {
          "samples": 0.8218782872986717
         },
         {
          "samples": 0.7381672522275168
         },
         {
          "samples": 0.7661190528137811
         },
         {
          "samples": 0.6927093257488933
         },
         {
          "samples": 0.7584235824331704
         },
         {
          "samples": 0.7991691620885527
         },
         {
          "samples": 0.7991691620885527
         },
         {
          "samples": 0.7543422755516909
         },
         {
          "samples": 0.7543422755516909
         },
         {
          "samples": 0.8088189563810992
         },
         {
          "samples": 0.8088189563810992
         },
         {
          "samples": 0.7863396212398001
         },
         {
          "samples": 0.8311484726174913
         },
         {
          "samples": 0.7889764767980735
         },
         {
          "samples": 0.7889764767980735
         },
         {
          "samples": 0.6465942065280231
         },
         {
          "samples": 0.6465942065280231
         },
         {
          "samples": 0.670424438975586
         },
         {
          "samples": 0.5403325991177217
         },
         {
          "samples": 0.5495066787149013
         },
         {
          "samples": 0.7789336537109355
         },
         {
          "samples": 0.7485629187920463
         },
         {
          "samples": 0.7485629187920463
         },
         {
          "samples": 0.7485629187920463
         },
         {
          "samples": 0.7190449750403713
         },
         {
          "samples": 0.716501235674101
         },
         {
          "samples": 0.7376239996578284
         },
         {
          "samples": 0.8206103588719338
         },
         {
          "samples": 0.8375607669792973
         },
         {
          "samples": 0.9160489121882198
         },
         {
          "samples": 0.9344316888434748
         },
         {
          "samples": 0.881500364026538
         },
         {
          "samples": 0.7833526028999661
         },
         {
          "samples": 0.7623599885012717
         },
         {
          "samples": 0.5680901973433023
         },
         {
          "samples": 0.7265595257868951
         },
         {
          "samples": 0.8059346334038242
         },
         {
          "samples": 0.7595306029982064
         },
         {
          "samples": 0.7595306029982064
         },
         {
          "samples": 0.7019046671249783
         },
         {
          "samples": 0.7822714828222184
         },
         {
          "samples": 0.7822714828222184
         },
         {
          "samples": 0.7234341765088732
         },
         {
          "samples": 0.7601765295351436
         },
         {
          "samples": 0.7601765295351436
         },
         {
          "samples": 0.7293959132733209
         },
         {
          "samples": 0.6216366407483607
         },
         {
          "samples": 0.6716207182425165
         },
         {
          "samples": 0.717028290948501
         },
         {
          "samples": 0.8010550266538293
         },
         {
          "samples": 0.7674830859246391
         },
         {
          "samples": 0.8203043147476135
         },
         {
          "samples": 0.8921833070250834
         },
         {
          "samples": 0.8807315372697228
         },
         {
          "samples": 0.8194785571976089
         },
         {
          "samples": 0.8194785571976089
         },
         {
          "samples": 0.6982719656455816
         },
         {
          "samples": 0.7734960120025332
         },
         {
          "samples": 0.8727764604064203
         },
         {
          "samples": 0.9037221298403625
         },
         {
          "samples": 0.7319119364105163
         },
         {
          "samples": 0.7319119364105163
         },
         {
          "samples": 0.7626399868465222
         },
         {
          "samples": 0.7620632923675448
         },
         {
          "samples": 0.7575660059957038
         },
         {
          "samples": 0.8027842542732515
         },
         {
          "samples": 0.8027842542732515
         },
         {
          "samples": 0.8430622690149837
         },
         {
          "samples": 0.8430622690149837
         },
         {
          "samples": 0.8059472669273658
         },
         {
          "samples": 0.8239042976661788
         },
         {
          "samples": 0.8239042976661788
         },
         {
          "samples": 0.756968063122973
         },
         {
          "samples": 0.5818456828839857
         },
         {
          "samples": 0.5508025616607203
         },
         {
          "samples": 0.6562110922966751
         },
         {
          "samples": 0.8725557035509137
         },
         {
          "samples": 0.8251109309039822
         },
         {
          "samples": 0.7265639495690656
         },
         {
          "samples": 0.7783234063044784
         },
         {
          "samples": 0.787191218795752
         },
         {
          "samples": 0.7122792529884957
         },
         {
          "samples": 0.7607896524465876
         },
         {
          "samples": 0.7485693029103618
         },
         {
          "samples": 0.7097481573651536
         },
         {
          "samples": 0.5190108699279563
         },
         {
          "samples": 0.5190108699279563
         },
         {
          "samples": 0.38519249202696676
         },
         {
          "samples": 0.3301186594746513
         },
         {
          "samples": 0.385950355738992
         },
         {
          "samples": 0.516179559065525
         },
         {
          "samples": 0.5211999815600975
         },
         {
          "samples": 0.5633770253153935
         },
         {
          "samples": 0.5633770253153935
         },
         {
          "samples": 0.6333241252714864
         },
         {
          "samples": 0.6852164053245684
         },
         {
          "samples": 0.7326557703499127
         },
         {
          "samples": 0.6187627169065372
         },
         {
          "samples": 0.5497410092538183
         },
         {
          "samples": 0.6858007481171041
         },
         {
          "samples": 0.7188230605364792
         },
         {
          "samples": 0.7188230605364792
         },
         {
          "samples": 0.7065542806661622
         },
         {
          "samples": 0.7891280760688495
         },
         {
          "samples": 0.7551836912399701
         },
         {
          "samples": 0.6710247534446421
         },
         {
          "samples": 0.639036893836648
         },
         {
          "samples": 0.6153225020224209
         },
         {
          "samples": 0.6153225020224209
         },
         {
          "samples": 0.6696290495446843
         },
         {
          "samples": 0.6140631192900944
         },
         {
          "samples": 0.6844954615763496
         },
         {
          "samples": 0.6844954615763496
         },
         {
          "samples": 0.6041719607915588
         },
         {
          "samples": 0.7186182678843298
         },
         {
          "samples": 0.6769197527176631
         },
         {
          "samples": 0.6769197527176631
         },
         {
          "samples": 0.6769197527176631
         },
         {
          "samples": 0.6495495332127986
         },
         {
          "samples": 0.5651253979114719
         },
         {
          "samples": 0.6589457804819299
         },
         {
          "samples": 0.5846803838099448
         },
         {
          "samples": 0.7317658968578543
         },
         {
          "samples": 0.8414044633781277
         },
         {
          "samples": 0.7828071176283111
         },
         {
          "samples": 0.8130680888704855
         },
         {
          "samples": 0.8248672494843565
         },
         {
          "samples": 0.8248672494843565
         },
         {
          "samples": 0.6017222875423505
         },
         {
          "samples": 0.6804129737752617
         },
         {
          "samples": 0.6804129737752617
         },
         {
          "samples": 0.6804129737752617
         },
         {
          "samples": 0.6168916143306971
         },
         {
          "samples": 0.74174900070222
         },
         {
          "samples": 0.6016456673796413
         },
         {
          "samples": 0.6016456673796413
         },
         {
          "samples": 0.5507495907049076
         },
         {
          "samples": 0.5783897592762606
         },
         {
          "samples": 0.6597974004097603
         },
         {
          "samples": 0.6597974004097603
         },
         {
          "samples": 0.6597974004097603
         },
         {
          "samples": 0.8462779055087163
         },
         {
          "samples": 0.6805612170543671
         },
         {
          "samples": 0.6862072098716939
         },
         {
          "samples": 0.7388687406127608
         },
         {
          "samples": 0.7643569421842228
         },
         {
          "samples": 0.6357738060412038
         },
         {
          "samples": 0.5979355139295012
         },
         {
          "samples": 0.716264447759917
         },
         {
          "samples": 0.716264447759917
         },
         {
          "samples": 0.6651461751031666
         },
         {
          "samples": 0.4950071758110983
         },
         {
          "samples": 0.6713391457869549
         },
         {
          "samples": 0.7111415636386638
         },
         {
          "samples": 0.6219996268394685
         },
         {
          "samples": 0.6384887256705045
         },
         {
          "samples": 0.6945543861351026
         },
         {
          "samples": 0.7728850958239772
         },
         {
          "samples": 0.7728850958239772
         },
         {
          "samples": 0.6892264218924136
         },
         {
          "samples": 0.5909141402050968
         },
         {
          "samples": 0.8093594151938828
         },
         {
          "samples": 0.796162056654336
         },
         {
          "samples": 0.796162056654336
         },
         {
          "samples": 0.796162056654336
         },
         {
          "samples": 0.741206153683222
         },
         {
          "samples": 0.7542704352488871
         },
         {
          "samples": 0.7133546041606317
         },
         {
          "samples": 0.5718086001946542
         },
         {
          "samples": 0.7553230242644638
         },
         {
          "samples": 0.7093096460360069
         },
         {
          "samples": 0.6813389958351047
         },
         {
          "samples": 0.5808789973377678
         },
         {
          "samples": 0.65900277328742
         },
         {
          "samples": 0.6602709014316744
         },
         {
          "samples": 0.6666122027034036
         },
         {
          "samples": 0.6449268734998548
         },
         {
          "samples": 0.6449268734998548
         },
         {
          "samples": 0.596917716930215
         },
         {
          "samples": 0.5396899447556951
         },
         {
          "samples": 0.6095335597382494
         },
         {
          "samples": 0.709318934052202
         },
         {
          "samples": 0.6932240140622008
         },
         {
          "samples": 0.7432085817198705
         },
         {
          "samples": 0.6949408877615852
         },
         {
          "samples": 0.6949408877615852
         },
         {
          "samples": 0.7445592823065419
         },
         {
          "samples": 0.6751590614491296
         },
         {
          "samples": 0.6645590306573818
         },
         {
          "samples": 0.6969656272728806
         },
         {
          "samples": 0.6497562025476659
         },
         {
          "samples": 0.7357071292098509
         },
         {
          "samples": 0.6884518941492507
         },
         {
          "samples": 0.7420129317718268
         },
         {
          "samples": 0.6920791237966492
         },
         {
          "samples": 0.6346207430027931
         },
         {
          "samples": 0.5723920077221102
         },
         {
          "samples": 0.560734703962742
         },
         {
          "samples": 0.5446577107923833
         },
         {
          "samples": 0.5677397424786084
         },
         {
          "samples": 0.6706345575551816
         },
         {
          "samples": 0.6887576062519342
         },
         {
          "samples": 0.7519477620628167
         },
         {
          "samples": 0.7107676720228872
         },
         {
          "samples": 0.5247689443230312
         },
         {
          "samples": 0.6500453388034887
         },
         {
          "samples": 0.726539919456471
         },
         {
          "samples": 0.726539919456471
         },
         {
          "samples": 0.7815335338214883
         },
         {
          "samples": 0.844087703521506
         },
         {
          "samples": 0.7910074087979064
         },
         {
          "samples": 0.5662481326780959
         },
         {
          "samples": 0.5662481326780959
         },
         {
          "samples": 0.5721039450247569
         },
         {
          "samples": 0.5721039450247569
         },
         {
          "samples": 0.4448355575459647
         },
         {
          "samples": 0.35666061299998547
         },
         {
          "samples": 0.35666061299998547
         },
         {
          "samples": 0.35666061299998547
         },
         {
          "samples": 0.35666061299998547
         },
         {
          "samples": 0.4468328245286686
         },
         {
          "samples": 0.4782579068732925
         },
         {
          "samples": 0.4743685218187896
         },
         {
          "samples": 0.5429024191197263
         },
         {
          "samples": 0.4740332314840815
         },
         {
          "samples": 0.5772649123752372
         },
         {
          "samples": 0.5261792155803198
         },
         {
          "samples": 0.5600184896935838
         },
         {
          "samples": 0.6233889471204456
         },
         {
          "samples": 0.5681082325389004
         },
         {
          "samples": 0.5681082325389004
         },
         {
          "samples": 0.6252200301821231
         },
         {
          "samples": 0.5845075132760973
         },
         {
          "samples": 0.5108613864967592
         },
         {
          "samples": 0.5847957172769306
         },
         {
          "samples": 0.6306727396414518
         },
         {
          "samples": 0.4371712731908506
         },
         {
          "samples": 0.5131378053059095
         },
         {
          "samples": 0.5086759524738867
         },
         {
          "samples": 0.5395858248651153
         },
         {
          "samples": 0.4786836067286265
         },
         {
          "samples": 0.4645802457484679
         },
         {
          "samples": 0.530929406145791
         },
         {
          "samples": 0.4969137639240439
         },
         {
          "samples": 0.4969137639240439
         },
         {
          "samples": 0.4731236226238491
         },
         {
          "samples": 0.4108801333577695
         },
         {
          "samples": 0.4108801333577695
         },
         {
          "samples": 0.4108801333577695
         },
         {
          "samples": 0.4681458099599447
         },
         {
          "samples": 0.5949156238404333
         },
         {
          "samples": 0.5901367266213485
         },
         {
          "samples": 0.6717623653777383
         },
         {
          "samples": 0.7130690838093653
         },
         {
          "samples": 0.6363582319155305
         },
         {
          "samples": 0.6803740515678258
         },
         {
          "samples": 0.6803740515678258
         },
         {
          "samples": 0.7004732105015739
         },
         {
          "samples": 0.7143552822209717
         },
         {
          "samples": 0.677899905487586
         },
         {
          "samples": 0.7371996159095758
         },
         {
          "samples": 0.6236731471291702
         },
         {
          "samples": 0.5532055872601803
         },
         {
          "samples": 0.6603121609942071
         },
         {
          "samples": 0.6826152590299909
         },
         {
          "samples": 0.6970709286845782
         },
         {
          "samples": 0.6140929413955383
         },
         {
          "samples": 0.5893145850974043
         },
         {
          "samples": 0.5893145850974043
         },
         {
          "samples": 0.5258113079075517
         },
         {
          "samples": 0.5766571839092
         },
         {
          "samples": 0.5464966859196171
         },
         {
          "samples": 0.5106794260496641
         },
         {
          "samples": 0.4162022748675142
         },
         {
          "samples": 0.4162022748675142
         },
         {
          "samples": 0.39575076437625223
         },
         {
          "samples": 0.39575076437625223
         },
         {
          "samples": 0.4103934555413768
         },
         {
          "samples": 0.44684605683310397
         },
         {
          "samples": 0.42625422182771977
         },
         {
          "samples": 0.42625422182771977
         },
         {
          "samples": 0.5947006916921161
         },
         {
          "samples": 0.7147883736729583
         },
         {
          "samples": 0.7147883736729583
         },
         {
          "samples": 0.7493638985183264
         },
         {
          "samples": 0.7362594702425886
         },
         {
          "samples": 0.6283194877442363
         },
         {
          "samples": 0.7551831100566067
         },
         {
          "samples": 0.713450717891763
         },
         {
          "samples": 0.713450717891763
         },
         {
          "samples": 0.7865694665296228
         },
         {
          "samples": 0.6500982078272063
         },
         {
          "samples": 0.6191145843855081
         },
         {
          "samples": 0.6376702576014105
         },
         {
          "samples": 0.6685909686583398
         },
         {
          "samples": 0.6012921698275535
         },
         {
          "samples": 0.4885733946481858
         },
         {
          "samples": 0.46329942765205556
         },
         {
          "samples": 0.4718472829602291
         },
         {
          "samples": 0.5938439772899327
         },
         {
          "samples": 0.5627521064122643
         },
         {
          "samples": 0.7006166309525815
         },
         {
          "samples": 0.7006166309525815
         },
         {
          "samples": 0.7666757680692433
         },
         {
          "samples": 0.753334178901195
         },
         {
          "samples": 0.8243763543778542
         },
         {
          "samples": 0.8243763543778542
         },
         {
          "samples": 0.7700439079174584
         },
         {
          "samples": 0.7700439079174584
         },
         {
          "samples": 0.6892060758995673
         },
         {
          "samples": 0.7811981450760028
         },
         {
          "samples": 0.8960847716425525
         },
         {
          "samples": 0.8137508943139581
         },
         {
          "samples": 0.6412709353179828
         },
         {
          "samples": 0.5531083880045834
         },
         {
          "samples": 0.5381755789297692
         },
         {
          "samples": 0.6516493651949999
         },
         {
          "samples": 0.5482214579457213
         },
         {
          "samples": 0.6813227199107068
         },
         {
          "samples": 0.5916237575020673
         },
         {
          "samples": 0.7174158840781089
         },
         {
          "samples": 0.7071171169011362
         },
         {
          "samples": 0.7071171169011362
         },
         {
          "samples": 0.5766710328037707
         },
         {
          "samples": 0.48632796018964736
         },
         {
          "samples": 0.5001055844411036
         },
         {
          "samples": 0.5952588159030483
         },
         {
          "samples": 0.6291705399285622
         },
         {
          "samples": 0.47575890430111656
         },
         {
          "samples": 0.5341551865726903
         },
         {
          "samples": 0.4910524297071942
         },
         {
          "samples": 0.4910524297071942
         },
         {
          "samples": 0.4403674461709744
         },
         {
          "samples": 0.5397100205026943
         },
         {
          "samples": 0.7031629112440826
         },
         {
          "samples": 0.7055598231950366
         },
         {
          "samples": 0.7055598231950366
         },
         {
          "samples": 0.7055598231950366
         },
         {
          "samples": 0.622512234221681
         },
         {
          "samples": 0.6102657284306112
         },
         {
          "samples": 0.5506115903803814
         },
         {
          "samples": 0.5398114641013056
         },
         {
          "samples": 0.5816879240983837
         },
         {
          "samples": 0.5123180737854822
         },
         {
          "samples": 0.6251243919342434
         },
         {
          "samples": 0.6743951544605322
         },
         {
          "samples": 0.7310732927716274
         },
         {
          "samples": 0.7348427156154417
         },
         {
          "samples": 0.6673039742193139
         },
         {
          "samples": 0.6535174344605237
         },
         {
          "samples": 0.6871133884517453
         },
         {
          "samples": 0.7018885644816479
         },
         {
          "samples": 0.719077094848543
         },
         {
          "samples": 0.6945371782747756
         },
         {
          "samples": 0.5906312481638156
         },
         {
          "samples": 0.6329537432834197
         },
         {
          "samples": 0.6004713189042249
         },
         {
          "samples": 0.5672315870934269
         },
         {
          "samples": 0.4717054243633232
         },
         {
          "samples": 0.5496212544734447
         },
         {
          "samples": 0.5887769126377103
         },
         {
          "samples": 0.5887769126377103
         },
         {
          "samples": 0.5887769126377103
         },
         {
          "samples": 0.6058480766880223
         },
         {
          "samples": 0.6609515397911854
         },
         {
          "samples": 0.6634123442880914
         },
         {
          "samples": 0.8182852133995304
         },
         {
          "samples": 0.6683760987867473
         },
         {
          "samples": 0.776207341868962
         },
         {
          "samples": 0.5443795476903799
         },
         {
          "samples": 0.5496431530970217
         },
         {
          "samples": 0.5378934459240635
         },
         {
          "samples": 0.5105230537291127
         },
         {
          "samples": 0.45171410760308134
         },
         {
          "samples": 0.45171410760308134
         },
         {
          "samples": 0.5850486798842052
         },
         {
          "samples": 0.7438587434965784
         },
         {
          "samples": 0.6784537962245338
         },
         {
          "samples": 0.6767199023049196
         },
         {
          "samples": 0.6767199023049196
         },
         {
          "samples": 0.679449670418716
         },
         {
          "samples": 0.6301677592219002
         },
         {
          "samples": 0.7281529464232637
         },
         {
          "samples": 0.6658519053372253
         },
         {
          "samples": 0.5754678166847894
         },
         {
          "samples": 0.5754678166847894
         },
         {
          "samples": 0.5766062883860308
         },
         {
          "samples": 0.65866681144641
         },
         {
          "samples": 0.7582101318811361
         },
         {
          "samples": 0.6023790145113304
         },
         {
          "samples": 0.570876352643122
         },
         {
          "samples": 0.5818711792316879
         },
         {
          "samples": 0.7170437801544643
         },
         {
          "samples": 0.5957863896144131
         },
         {
          "samples": 0.6211048337101861
         },
         {
          "samples": 0.6449254698225104
         },
         {
          "samples": 0.5722394794776455
         },
         {
          "samples": 0.5722394794776455
         },
         {
          "samples": 0.6285685703895556
         },
         {
          "samples": 0.5246422358804408
         },
         {
          "samples": 0.48984603700743734
         },
         {
          "samples": 0.6378409719143586
         },
         {
          "samples": 0.5753575731677787
         },
         {
          "samples": 0.7493472926218169
         },
         {
          "samples": 0.597505915745553
         },
         {
          "samples": 0.597505915745553
         },
         {
          "samples": 0.7397185325466022
         },
         {
          "samples": 0.7397185325466022
         },
         {
          "samples": 0.7397185325466022
         },
         {
          "samples": 0.6770623755799106
         },
         {
          "samples": 0.7188976003036743
         },
         {
          "samples": 0.7188976003036743
         },
         {
          "samples": 0.8607017234614072
         },
         {
          "samples": 0.8607017234614072
         },
         {
          "samples": 0.9468887601157683
         },
         {
          "samples": 0.9494341252188951
         },
         {
          "samples": 0.8228955762257829
         },
         {
          "samples": 0.902206035129416
         },
         {
          "samples": 0.902206035129416
         },
         {
          "samples": 0.8676154196890853
         },
         {
          "samples": 0.7702328080223146
         },
         {
          "samples": 0.7660672224672336
         },
         {
          "samples": 0.7660672224672336
         },
         {
          "samples": 0.6659744394054252
         },
         {
          "samples": 0.7098807194175911
         },
         {
          "samples": 0.7219616425043189
         },
         {
          "samples": 0.7035259882902011
         },
         {
          "samples": 0.7035259882902011
         },
         {
          "samples": 0.7745870328217423
         },
         {
          "samples": 0.6620648535257128
         }
        ]
       },
       "layer": [
        {
         "data": {
          "name": "data-b062b458c438764017736b994902cfce"
         },
         "encoding": {
          "x": {
           "field": "xs",
           "title": "Proportion Water",
           "type": "quantitative"
          },
          "y": {
           "field": "density",
           "type": "quantitative"
          }
         },
         "mark": "line"
        },
        {
         "data": {
          "name": "data-bc4d0ebcb3b22b9503babb01b7fa1a2b"
         },
         "encoding": {
          "x": {
           "field": "samples",
           "type": "quantitative"
          },
          "y": {
           "field": "density",
           "type": "quantitative"
          }
         },
         "mark": {
          "opacity": 0.5,
          "type": "area"
         },
         "title": "",
         "transform": [
          {
           "as": [
            "samples",
            "density"
           ],
           "density": "samples"
          }
         ]
        }
       ]
      },
      "image/png": "[encoded data removed]",
      "text/plain": [
       "<VegaLite 4 object>\n",
       "\n",
       "If you see this message, it means the renderer has not been properly enabled\n",
       "for the frontend that you are using. For more information, see\n",
       "https://altair-viz.github.io/user_guide/troubleshooting.html\n"
      ]
     },
     "execution_count": 13,
     "metadata": {},
     "output_type": "execute_result"
    }
   ],
   "source": [
    "xs = np.linspace(0, 1, 1000)\n",
    "beta = stats.beta(W+1, L+1).pdf(xs)\n",
    "source = pd.DataFrame({\"xs\": xs,\n",
    "                       \"density\": beta})\n",
    "line_chart = (alt\n",
    "              .Chart(source)\n",
    "              .mark_line()\n",
    "              .encode(x=alt.X('xs', title=\"Proportion Water\"),\n",
    "                      y=\"density\"))\n",
    "\n",
    "source = pd.DataFrame({\"samples\": p})\n",
    "dens_chart = (alt\n",
    "              .Chart(source)              \n",
    "              .transform_density('samples',\n",
    "                                 as_=['samples', 'density'])\n",
    "              .mark_line()\n",
    "              .mark_area(opacity=0.5)\n",
    "              .encode(x=\"samples:Q\",\n",
    "                      y='density:Q')\n",
    "              .properties(title=''))\n",
    "\n",
    "line_chart + dens_chart"
   ]
  }
 ],
 "metadata": {
  "kernelspec": {
   "display_name": "Python 3",
   "language": "python",
   "name": "python3"
  },
  "language_info": {
   "codemirror_mode": {
    "name": "ipython",
    "version": 3
   },
   "file_extension": ".py",
   "mimetype": "text/x-python",
   "name": "python",
   "nbconvert_exporter": "python",
   "pygments_lexer": "ipython3",
   "version": "3.9.5"
  }
 },
 "nbformat": 4,
 "nbformat_minor": 4
}
