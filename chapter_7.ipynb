{
 "cells": [
  {
   "cell_type": "markdown",
   "metadata": {},
   "source": [
    "# Interactions"
   ]
  },
  {
   "cell_type": "code",
   "execution_count": 1,
   "metadata": {},
   "outputs": [],
   "source": [
    "import warnings\n",
    "warnings.filterwarnings(\"ignore\")"
   ]
  },
  {
   "cell_type": "code",
   "execution_count": 2,
   "metadata": {},
   "outputs": [],
   "source": [
    "import theano\n",
    "import numpy as np\n",
    "import pymc3 as pm\n",
    "import pandas as pd\n",
    "import seaborn as sns\n",
    "import scipy.stats as stats\n",
    "import matplotlib.pyplot as plt\n",
    "%matplotlib inline"
   ]
  },
  {
   "cell_type": "code",
   "execution_count": 3,
   "metadata": {},
   "outputs": [],
   "source": [
    "sns.set()"
   ]
  },
  {
   "cell_type": "markdown",
   "metadata": {},
   "source": [
    "## Building an Interaction"
   ]
  },
  {
   "cell_type": "markdown",
   "metadata": {},
   "source": [
    "### 7.1"
   ]
  },
  {
   "cell_type": "code",
   "execution_count": 4,
   "metadata": {},
   "outputs": [],
   "source": [
    "d = pd.read_csv('Data/rugged.csv', sep=';')\n",
    "\n",
    "# make log version of outcome\n",
    "d[\"log_gdp\"] = np.log(d[\"rgdppc_2000\"])\n",
    "\n",
    "# extract countries with GDP data\n",
    "dd = d[np.isfinite(d[\"rgdppc_2000\"])]\n",
    "\n",
    "# split countries into Africa and not-Africa\n",
    "d_A1 = dd[dd[\"cont_africa\"] == 1]\n",
    "d_A0 = dd[dd[\"cont_africa\"] == 0]"
   ]
  },
  {
   "cell_type": "markdown",
   "metadata": {},
   "source": [
    "### 7.2"
   ]
  },
  {
   "cell_type": "code",
   "execution_count": 5,
   "metadata": {},
   "outputs": [
    {
     "name": "stderr",
     "output_type": "stream",
     "text": [
      "Auto-assigning NUTS sampler...\n",
      "Initializing NUTS using jitter+adapt_diag...\n",
      "Multiprocess sampling (2 chains in 2 jobs)\n",
      "NUTS: [a, bR, sigma]\n",
      "Sampling 2 chains: 100%|██████████| 4000/4000 [00:05<00:00, 680.88draws/s] \n",
      "Auto-assigning NUTS sampler...\n",
      "Initializing NUTS using jitter+adapt_diag...\n",
      "Multiprocess sampling (2 chains in 2 jobs)\n",
      "NUTS: [a, bR, sigma]\n",
      "Sampling 2 chains: 100%|██████████| 4000/4000 [00:03<00:00, 1129.03draws/s]\n"
     ]
    }
   ],
   "source": [
    "# African Nations\n",
    "with pm.Model() as m7_1:\n",
    "    sigma = pm.Uniform(\"sigma\", 0, 10)\n",
    "    bR = pm.Normal(\"bR\", mu=0, sd=1)\n",
    "    a = pm.Normal(\"a\", mu=8, sd=100)\n",
    "    mu = pm.Deterministic(\"mu\", a + bR*d_A1[\"rugged\"])\n",
    "    log_gdp = pm.Normal(\"log_gdp\", mu=mu, sd=sigma, observed=d_A1[\"log_gdp\"])\n",
    "    trace7_1 = pm.sample(draws=1000, tune=1000)\n",
    "    \n",
    "# non-African Nations\n",
    "with pm.Model() as m7_2:\n",
    "    sigma = pm.Uniform(\"sigma\", 0, 10)\n",
    "    bR = pm.Normal(\"bR\", mu=0, sd=1)\n",
    "    a = pm.Normal(\"a\", mu=8, sd=100)\n",
    "    mu = pm.Deterministic(\"mu\", a + bR*d_A0[\"rugged\"])\n",
    "    log_gdp = pm.Normal(\"log_gdp\", mu=mu, sd=sigma, observed=d_A0[\"log_gdp\"])\n",
    "    trace7_2 = pm.sample(draws=1000, tune=1000)"
   ]
  },
  {
   "cell_type": "markdown",
   "metadata": {},
   "source": [
    "### 7.3"
   ]
  },
  {
   "cell_type": "code",
   "execution_count": 6,
   "metadata": {},
   "outputs": [],
   "source": [
    "model_rugged = theano.shared(dd[\"rugged\"].values)\n",
    "model_cont_africa = theano.shared(dd[\"cont_africa\"].values)"
   ]
  },
  {
   "cell_type": "code",
   "execution_count": 7,
   "metadata": {},
   "outputs": [
    {
     "name": "stderr",
     "output_type": "stream",
     "text": [
      "Auto-assigning NUTS sampler...\n",
      "Initializing NUTS using jitter+adapt_diag...\n",
      "Multiprocess sampling (2 chains in 2 jobs)\n",
      "NUTS: [a, bR, sigma]\n",
      "Sampling 2 chains: 100%|██████████| 4000/4000 [00:05<00:00, 734.55draws/s] \n"
     ]
    }
   ],
   "source": [
    "with pm.Model() as m7_3:\n",
    "    sigma = pm.Uniform(\"sigma\", 0, 10)\n",
    "    bR = pm.Normal(\"bR\", mu=0, sd=1)\n",
    "    a = pm.Normal(\"a\", mu=8, sd=100)\n",
    "    mu = pm.Deterministic(\"mu\", a + bR*model_rugged)\n",
    "    log_gdp = pm.Normal(\"log_gdp\", mu=mu, sd=sigma, observed=dd[\"log_gdp\"])\n",
    "    trace7_3 = pm.sample(draws=1000, tune=1000)"
   ]
  },
  {
   "cell_type": "markdown",
   "metadata": {},
   "source": [
    "### 7.4"
   ]
  },
  {
   "cell_type": "code",
   "execution_count": 8,
   "metadata": {},
   "outputs": [
    {
     "name": "stderr",
     "output_type": "stream",
     "text": [
      "Auto-assigning NUTS sampler...\n",
      "Initializing NUTS using jitter+adapt_diag...\n",
      "Multiprocess sampling (2 chains in 2 jobs)\n",
      "NUTS: [a, bA, bR, sigma]\n",
      "Sampling 2 chains: 100%|██████████| 4000/4000 [00:05<00:00, 795.05draws/s] \n"
     ]
    }
   ],
   "source": [
    "with pm.Model() as m7_4:\n",
    "    sigma = pm.Uniform(\"sigma\", 0, 10)\n",
    "    bR = pm.Normal(\"bR\", mu=0, sd=1)\n",
    "    bA = pm.Normal(\"bA\", mu=0, sd=1)\n",
    "    a = pm.Normal(\"a\", mu=8, sd=100)\n",
    "    mu = pm.Deterministic(\"mu\", a + bR*model_rugged + bA*model_cont_africa)\n",
    "    log_gdp = pm.Normal(\"log_gdp\", mu=mu, sd=sigma, observed=dd[\"log_gdp\"])\n",
    "    trace7_4 = pm.sample(draws=1000, tune=1000)"
   ]
  },
  {
   "cell_type": "markdown",
   "metadata": {},
   "source": [
    "### 7.5"
   ]
  },
  {
   "cell_type": "code",
   "execution_count": 9,
   "metadata": {},
   "outputs": [
    {
     "name": "stderr",
     "output_type": "stream",
     "text": [
      "/Users/sgodiwala/anaconda3/lib/python3.6/site-packages/pymc3/stats.py:211: UserWarning: For one or more samples the posterior variance of the\n",
      "        log predictive densities exceeds 0.4. This could be indication of\n",
      "        WAIC starting to fail see http://arxiv.org/abs/1507.04544 for details\n",
      "        \n",
      "  \"\"\")\n"
     ]
    },
    {
     "data": {
      "text/html": [
       "<div>\n",
       "<style scoped>\n",
       "    .dataframe tbody tr th:only-of-type {\n",
       "        vertical-align: middle;\n",
       "    }\n",
       "\n",
       "    .dataframe tbody tr th {\n",
       "        vertical-align: top;\n",
       "    }\n",
       "\n",
       "    .dataframe thead th {\n",
       "        text-align: right;\n",
       "    }\n",
       "</style>\n",
       "<table border=\"1\" class=\"dataframe\">\n",
       "  <thead>\n",
       "    <tr style=\"text-align: right;\">\n",
       "      <th></th>\n",
       "      <th>WAIC</th>\n",
       "      <th>pWAIC</th>\n",
       "      <th>dWAIC</th>\n",
       "      <th>weight</th>\n",
       "      <th>SE</th>\n",
       "      <th>dSE</th>\n",
       "      <th>var_warn</th>\n",
       "    </tr>\n",
       "    <tr>\n",
       "      <th>model</th>\n",
       "      <th></th>\n",
       "      <th></th>\n",
       "      <th></th>\n",
       "      <th></th>\n",
       "      <th></th>\n",
       "      <th></th>\n",
       "      <th></th>\n",
       "    </tr>\n",
       "  </thead>\n",
       "  <tbody>\n",
       "    <tr>\n",
       "      <th>m7_4</th>\n",
       "      <td>476.13</td>\n",
       "      <td>4.19</td>\n",
       "      <td>0</td>\n",
       "      <td>1</td>\n",
       "      <td>14.8</td>\n",
       "      <td>0</td>\n",
       "      <td>1</td>\n",
       "    </tr>\n",
       "    <tr>\n",
       "      <th>m7_3</th>\n",
       "      <td>539.42</td>\n",
       "      <td>2.54</td>\n",
       "      <td>63.29</td>\n",
       "      <td>0</td>\n",
       "      <td>12.91</td>\n",
       "      <td>14.61</td>\n",
       "      <td>0</td>\n",
       "    </tr>\n",
       "  </tbody>\n",
       "</table>\n",
       "</div>"
      ],
      "text/plain": [
       "         WAIC pWAIC  dWAIC weight     SE    dSE var_warn\n",
       "model                                                   \n",
       "m7_4   476.13  4.19      0      1   14.8      0        1\n",
       "m7_3   539.42  2.54  63.29      0  12.91  14.61        0"
      ]
     },
     "execution_count": 9,
     "metadata": {},
     "output_type": "execute_result"
    }
   ],
   "source": [
    "(pm.compare({m7_3: trace7_3,\n",
    "             m7_4: trace7_4},\n",
    "            method='pseudo-BMA')\n",
    "            .join(pd.Series([\"m7_3\", \"m7_4\"], name=\"model\"))\n",
    "            .set_index(\"model\")\n",
    "            .sort_values(\"WAIC\"))"
   ]
  },
  {
   "cell_type": "markdown",
   "metadata": {},
   "source": [
    "### 7.6"
   ]
  },
  {
   "cell_type": "code",
   "execution_count": 10,
   "metadata": {},
   "outputs": [
    {
     "name": "stderr",
     "output_type": "stream",
     "text": [
      "100%|██████████| 10000/10000 [00:01<00:00, 5983.57it/s]\n",
      "100%|██████████| 10000/10000 [00:01<00:00, 5830.20it/s]\n"
     ]
    }
   ],
   "source": [
    "rugged_seq = np.arange(-8, 8, 0.25)\n",
    "model_rugged.set_value(rugged_seq)\n",
    "\n",
    "# compute mu over samples, fixing cont_africa=0\n",
    "model_cont_africa.set_value(np.repeat(0, len(rugged_seq)))\n",
    "mu_NotAfrica = pm.sample_ppc(trace7_4, samples=10000, model=m7_4, vars=[m7_4.mu])[\"mu\"]\n",
    "\n",
    "# compute mu over samples, fixing cont_africa=1\n",
    "model_cont_africa.set_value(np.repeat(1, len(rugged_seq)))\n",
    "mu_Africa = pm.sample_ppc(trace7_4, samples=10000, model=m7_4, vars=[m7_4.mu])[\"mu\"]\n",
    "\n",
    "\n",
    "mu_NotAfrica_mean = mu_NotAfrica.mean(0)\n",
    "mu_NotAfrica_pi = pm.hpd(mu_NotAfrica, alpha=0.03)\n",
    "mu_Africa_mean = mu_Africa.mean(0)\n",
    "mu_Africa_pi = pm.hpd(mu_Africa, alpha=0.03)"
   ]
  },
  {
   "cell_type": "markdown",
   "metadata": {},
   "source": [
    "### 7.7"
   ]
  },
  {
   "cell_type": "code",
   "execution_count": 11,
   "metadata": {},
   "outputs": [],
   "source": [
    "model_rugged.set_value(dd[\"rugged\"].values)\n",
    "model_cont_africa.set_value(dd[\"cont_africa\"].values)"
   ]
  },
  {
   "cell_type": "code",
   "execution_count": 12,
   "metadata": {},
   "outputs": [
    {
     "name": "stderr",
     "output_type": "stream",
     "text": [
      "Auto-assigning NUTS sampler...\n",
      "Initializing NUTS using jitter+adapt_diag...\n",
      "Multiprocess sampling (2 chains in 2 jobs)\n",
      "NUTS: [a, bA, bR, bAR, sigma]\n",
      "Sampling 2 chains: 100%|██████████| 4000/4000 [00:07<00:00, 563.25draws/s]\n"
     ]
    }
   ],
   "source": [
    "with pm.Model() as m7_5:\n",
    "    sigma = pm.Uniform(\"sigma\", 0, 10)\n",
    "    bAR = pm.Normal(\"bAR\", mu=0, sd=1)\n",
    "    bR = pm.Normal(\"bR\", mu=0, sd=1)\n",
    "    bA = pm.Normal(\"bA\", mu=0, sd=1)\n",
    "    a = pm.Normal(\"a\", mu=8, sd=100)\n",
    "    gamma = pm.Deterministic(\"gamma\", bR + bAR*model_cont_africa)\n",
    "    mu = pm.Deterministic(\"mu\", a + gamma*model_rugged + bA*model_cont_africa)\n",
    "    log_gdp = pm.Normal(\"log_gdp\", mu=mu, sd=sigma, observed=dd[\"log_gdp\"])\n",
    "    trace7_5 = pm.sample(draws=1000, tune=1000)"
   ]
  },
  {
   "cell_type": "markdown",
   "metadata": {},
   "source": [
    "### 7.8"
   ]
  },
  {
   "cell_type": "code",
   "execution_count": 13,
   "metadata": {},
   "outputs": [
    {
     "name": "stderr",
     "output_type": "stream",
     "text": [
      "/Users/sgodiwala/anaconda3/lib/python3.6/site-packages/pymc3/stats.py:211: UserWarning: For one or more samples the posterior variance of the\n",
      "        log predictive densities exceeds 0.4. This could be indication of\n",
      "        WAIC starting to fail see http://arxiv.org/abs/1507.04544 for details\n",
      "        \n",
      "  \"\"\")\n",
      "/Users/sgodiwala/anaconda3/lib/python3.6/site-packages/pymc3/stats.py:211: UserWarning: For one or more samples the posterior variance of the\n",
      "        log predictive densities exceeds 0.4. This could be indication of\n",
      "        WAIC starting to fail see http://arxiv.org/abs/1507.04544 for details\n",
      "        \n",
      "  \"\"\")\n"
     ]
    },
    {
     "data": {
      "text/html": [
       "<div>\n",
       "<style scoped>\n",
       "    .dataframe tbody tr th:only-of-type {\n",
       "        vertical-align: middle;\n",
       "    }\n",
       "\n",
       "    .dataframe tbody tr th {\n",
       "        vertical-align: top;\n",
       "    }\n",
       "\n",
       "    .dataframe thead th {\n",
       "        text-align: right;\n",
       "    }\n",
       "</style>\n",
       "<table border=\"1\" class=\"dataframe\">\n",
       "  <thead>\n",
       "    <tr style=\"text-align: right;\">\n",
       "      <th></th>\n",
       "      <th>WAIC</th>\n",
       "      <th>pWAIC</th>\n",
       "      <th>dWAIC</th>\n",
       "      <th>weight</th>\n",
       "      <th>SE</th>\n",
       "      <th>dSE</th>\n",
       "      <th>var_warn</th>\n",
       "    </tr>\n",
       "    <tr>\n",
       "      <th>model</th>\n",
       "      <th></th>\n",
       "      <th></th>\n",
       "      <th></th>\n",
       "      <th></th>\n",
       "      <th></th>\n",
       "      <th></th>\n",
       "      <th></th>\n",
       "    </tr>\n",
       "  </thead>\n",
       "  <tbody>\n",
       "    <tr>\n",
       "      <th>m7_5</th>\n",
       "      <td>468.98</td>\n",
       "      <td>4.85</td>\n",
       "      <td>0</td>\n",
       "      <td>0.97</td>\n",
       "      <td>14.49</td>\n",
       "      <td>0</td>\n",
       "      <td>1</td>\n",
       "    </tr>\n",
       "    <tr>\n",
       "      <th>m7_4</th>\n",
       "      <td>476.13</td>\n",
       "      <td>4.19</td>\n",
       "      <td>7.14</td>\n",
       "      <td>0.03</td>\n",
       "      <td>14.8</td>\n",
       "      <td>5.99</td>\n",
       "      <td>1</td>\n",
       "    </tr>\n",
       "    <tr>\n",
       "      <th>m7_3</th>\n",
       "      <td>539.42</td>\n",
       "      <td>2.54</td>\n",
       "      <td>70.44</td>\n",
       "      <td>0</td>\n",
       "      <td>12.91</td>\n",
       "      <td>14.6</td>\n",
       "      <td>0</td>\n",
       "    </tr>\n",
       "  </tbody>\n",
       "</table>\n",
       "</div>"
      ],
      "text/plain": [
       "         WAIC pWAIC  dWAIC weight     SE   dSE var_warn\n",
       "model                                                  \n",
       "m7_5   468.98  4.85      0   0.97  14.49     0        1\n",
       "m7_4   476.13  4.19   7.14   0.03   14.8  5.99        1\n",
       "m7_3   539.42  2.54  70.44      0  12.91  14.6        0"
      ]
     },
     "execution_count": 13,
     "metadata": {},
     "output_type": "execute_result"
    }
   ],
   "source": [
    "(pm.compare({m7_3: trace7_3,\n",
    "             m7_4: trace7_4,\n",
    "             m7_5: trace7_5},\n",
    "            method='pseudo-BMA')\n",
    "            .join(pd.Series([\"m7_3\", \"m7_4\", \"m7_5\"], name=\"model\"))\n",
    "            .set_index(\"model\")\n",
    "            .sort_values(\"WAIC\"))"
   ]
  },
  {
   "cell_type": "markdown",
   "metadata": {},
   "source": [
    "### 7.9"
   ]
  },
  {
   "cell_type": "code",
   "execution_count": 14,
   "metadata": {},
   "outputs": [
    {
     "name": "stderr",
     "output_type": "stream",
     "text": [
      "Auto-assigning NUTS sampler...\n",
      "Initializing NUTS using jitter+adapt_diag...\n",
      "Multiprocess sampling (2 chains in 2 jobs)\n",
      "NUTS: [a, bA, bR, bAR, sigma]\n",
      "Sampling 2 chains: 100%|██████████| 4000/4000 [00:05<00:00, 719.18draws/s] \n"
     ]
    }
   ],
   "source": [
    "with pm.Model() as m7_5b:\n",
    "    sigma = pm.Uniform(\"sigma\", 0, 10)\n",
    "    bAR = pm.Normal(\"bAR\", mu=0, sd=1)\n",
    "    bR = pm.Normal(\"bR\", mu=0, sd=1)\n",
    "    bA = pm.Normal(\"bA\", mu=0, sd=1)\n",
    "    a = pm.Normal(\"a\", mu=8, sd=100)\n",
    "    mu = pm.Deterministic(\"mu\", a +\\\n",
    "                                bA*dd[\"cont_africa\"] +\\\n",
    "                                bR*dd[\"rugged\"] +\\\n",
    "                                bAR*dd[\"rugged\"]*dd[\"cont_africa\"])\n",
    "    log_gdp = pm.Normal(\"log_gdp\", mu=mu, sd=sigma, observed=dd[\"log_gdp\"])\n",
    "    trace7_5b = pm.sample(draws=1000, tune=1000)"
   ]
  },
  {
   "cell_type": "markdown",
   "metadata": {},
   "source": [
    "### 7.10"
   ]
  },
  {
   "cell_type": "code",
   "execution_count": 15,
   "metadata": {},
   "outputs": [
    {
     "name": "stderr",
     "output_type": "stream",
     "text": [
      "100%|██████████| 10000/10000 [00:01<00:00, 6248.00it/s]\n",
      "100%|██████████| 10000/10000 [00:01<00:00, 6403.19it/s]\n"
     ]
    }
   ],
   "source": [
    "rugged_seq = np.arange(-1, 8, 0.25)\n",
    "model_rugged.set_value(rugged_seq)\n",
    "\n",
    "model_cont_africa.set_value(np.repeat(1, len(rugged_seq)))\n",
    "mu_Africa = pm.sample_ppc(trace7_5, samples=10000, model=m7_5, vars=[m7_5.mu])[\"mu\"]\n",
    "mu_Africa_mean = mu_Africa.mean(0)\n",
    "mu_Africa_pi = pm.hpd(mu_Africa, alpha=0.03)\n",
    "\n",
    "model_cont_africa.set_value(np.repeat(0, len(rugged_seq)))\n",
    "mu_NotAfrica = pm.sample_ppc(trace7_5, samples=10000, model=m7_5, vars=[m7_5.mu])[\"mu\"]\n",
    "mu_NotAfrica_mean = mu_NotAfrica.mean(0)\n",
    "mu_NotAfrica_pi = pm.hpd(mu_NotAfrica, alpha=0.03)"
   ]
  },
  {
   "cell_type": "markdown",
   "metadata": {},
   "source": [
    "### 7.11"
   ]
  },
  {
   "cell_type": "code",
   "execution_count": 16,
   "metadata": {},
   "outputs": [
    {
     "data": {
      "image/png": "[encoded data removed]",
      "text/plain": [
       "<Figure size 1440x648 with 2 Axes>"
      ]
     },
     "metadata": {},
     "output_type": "display_data"
    }
   ],
   "source": [
    "f, axs = plt.subplots(1, 2, sharey=True)\n",
    "f.set_size_inches(20, 9)\n",
    "\n",
    "d_A1 = dd[dd[\"cont_africa\"] == 1]\n",
    "axs[0].plot(d_A1[\"rugged\"], d_A1[\"log_gdp\"], \"o\", mew=1, mec=\"C0\", mfc=\"None\")\n",
    "axs[0].plot(rugged_seq, mu_Africa_mean, color=\"C0\")\n",
    "axs[0].fill_between(rugged_seq, mu_Africa_pi[:,0], mu_Africa_pi[:,1], alpha=0.25, color=\"C0\")\n",
    "axs[0].set_title(\"African Nations\")\n",
    "axs[0].set_xlabel(\"Terrain Ruggedness Index\")\n",
    "\n",
    "d_A0 = dd[dd[\"cont_africa\"] == 0]\n",
    "axs[1].plot(d_A0[\"rugged\"], d_A0[\"log_gdp\"], \"o\", mew=1, mec=\"C1\", mfc=\"None\")\n",
    "axs[1].plot(rugged_seq, mu_NotAfrica_mean, color=\"C1\")\n",
    "axs[1].fill_between(rugged_seq, mu_NotAfrica_pi[:,0], mu_NotAfrica_pi[:,1], alpha=0.25, color=\"C1\")\n",
    "axs[1].set_title(\"Non-African Nations\")\n",
    "axs[1].set_xlabel(\"Terrain Ruggedness Index\")\n",
    "\n",
    "axs[0].set_xlim((-1, 7.75))\n",
    "axs[1].set_xlim((-1, 7.75))\n",
    "axs[0].set_ylabel(\"log GDP year 2000\");"
   ]
  },
  {
   "cell_type": "markdown",
   "metadata": {},
   "source": [
    "### 7.12"
   ]
  },
  {
   "cell_type": "code",
   "execution_count": 17,
   "metadata": {},
   "outputs": [
    {
     "data": {
      "text/html": [
       "<div>\n",
       "<style scoped>\n",
       "    .dataframe tbody tr th:only-of-type {\n",
       "        vertical-align: middle;\n",
       "    }\n",
       "\n",
       "    .dataframe tbody tr th {\n",
       "        vertical-align: top;\n",
       "    }\n",
       "\n",
       "    .dataframe thead th {\n",
       "        text-align: right;\n",
       "    }\n",
       "</style>\n",
       "<table border=\"1\" class=\"dataframe\">\n",
       "  <thead>\n",
       "    <tr style=\"text-align: right;\">\n",
       "      <th></th>\n",
       "      <th>mean</th>\n",
       "      <th>sd</th>\n",
       "      <th>mc_error</th>\n",
       "      <th>hpd_2.5</th>\n",
       "      <th>hpd_97.5</th>\n",
       "      <th>n_eff</th>\n",
       "      <th>Rhat</th>\n",
       "    </tr>\n",
       "  </thead>\n",
       "  <tbody>\n",
       "    <tr>\n",
       "      <th>a</th>\n",
       "      <td>9.187518</td>\n",
       "      <td>0.138417</td>\n",
       "      <td>0.004061</td>\n",
       "      <td>8.929990</td>\n",
       "      <td>9.463419</td>\n",
       "      <td>964.814923</td>\n",
       "      <td>1.000754</td>\n",
       "    </tr>\n",
       "    <tr>\n",
       "      <th>bA</th>\n",
       "      <td>-1.847325</td>\n",
       "      <td>0.209847</td>\n",
       "      <td>0.006265</td>\n",
       "      <td>-2.265872</td>\n",
       "      <td>-1.428103</td>\n",
       "      <td>947.103923</td>\n",
       "      <td>0.999877</td>\n",
       "    </tr>\n",
       "    <tr>\n",
       "      <th>bR</th>\n",
       "      <td>-0.185080</td>\n",
       "      <td>0.077067</td>\n",
       "      <td>0.002150</td>\n",
       "      <td>-0.352931</td>\n",
       "      <td>-0.051689</td>\n",
       "      <td>1029.984544</td>\n",
       "      <td>1.001295</td>\n",
       "    </tr>\n",
       "    <tr>\n",
       "      <th>bAR</th>\n",
       "      <td>0.349479</td>\n",
       "      <td>0.125029</td>\n",
       "      <td>0.003585</td>\n",
       "      <td>0.097370</td>\n",
       "      <td>0.587692</td>\n",
       "      <td>1032.886915</td>\n",
       "      <td>0.999918</td>\n",
       "    </tr>\n",
       "    <tr>\n",
       "      <th>sigma</th>\n",
       "      <td>0.951549</td>\n",
       "      <td>0.052925</td>\n",
       "      <td>0.001076</td>\n",
       "      <td>0.852387</td>\n",
       "      <td>1.056559</td>\n",
       "      <td>1904.369299</td>\n",
       "      <td>0.999704</td>\n",
       "    </tr>\n",
       "  </tbody>\n",
       "</table>\n",
       "</div>"
      ],
      "text/plain": [
       "           mean        sd  mc_error   hpd_2.5  hpd_97.5        n_eff      Rhat\n",
       "a      9.187518  0.138417  0.004061  8.929990  9.463419   964.814923  1.000754\n",
       "bA    -1.847325  0.209847  0.006265 -2.265872 -1.428103   947.103923  0.999877\n",
       "bR    -0.185080  0.077067  0.002150 -0.352931 -0.051689  1029.984544  1.001295\n",
       "bAR    0.349479  0.125029  0.003585  0.097370  0.587692  1032.886915  0.999918\n",
       "sigma  0.951549  0.052925  0.001076  0.852387  1.056559  1904.369299  0.999704"
      ]
     },
     "execution_count": 17,
     "metadata": {},
     "output_type": "execute_result"
    }
   ],
   "source": [
    "pm.summary(trace7_5, varnames=[\"a\", \"bA\", \"bR\", \"bAR\", \"sigma\"])"
   ]
  },
  {
   "cell_type": "markdown",
   "metadata": {},
   "source": [
    "### 7.13"
   ]
  },
  {
   "cell_type": "code",
   "execution_count": 18,
   "metadata": {},
   "outputs": [],
   "source": [
    "gamma_Africa = trace7_5[\"bR\"] + trace7_5[\"bAR\"]*1\n",
    "gamma_notAfrica = trace7_5[\"bR\"] + trace7_5[\"bAR\"]*0"
   ]
  },
  {
   "cell_type": "markdown",
   "metadata": {},
   "source": [
    "### 7.14"
   ]
  },
  {
   "cell_type": "code",
   "execution_count": 19,
   "metadata": {},
   "outputs": [
    {
     "data": {
      "text/plain": [
       "(0.16439891736521428, -0.18508033343060593)"
      ]
     },
     "execution_count": 19,
     "metadata": {},
     "output_type": "execute_result"
    }
   ],
   "source": [
    "(gamma_Africa.mean(),\n",
    " gamma_notAfrica.mean())"
   ]
  },
  {
   "cell_type": "markdown",
   "metadata": {},
   "source": [
    "### 7.15"
   ]
  },
  {
   "cell_type": "code",
   "execution_count": 20,
   "metadata": {},
   "outputs": [
    {
     "data": {
      "image/png": "[encoded data removed]",
      "text/plain": [
       "<Figure size 972x648 with 1 Axes>"
      ]
     },
     "metadata": {},
     "output_type": "display_data"
    }
   ],
   "source": [
    "f, ax = plt.subplots(1, 1)\n",
    "f.set_size_inches(13.5, 9)\n",
    "sns.kdeplot(gamma_Africa, ax=ax)\n",
    "sns.kdeplot(gamma_notAfrica, ax=ax)\n",
    "ax.set_xlim((-0.5, 0.6))\n",
    "ax.set_ylim((0, 5.5))\n",
    "ax.set_xlabel(\"gamma\")\n",
    "ax.set_ylabel(\"density\");"
   ]
  },
  {
   "cell_type": "markdown",
   "metadata": {},
   "source": [
    "### 7.16"
   ]
  },
  {
   "cell_type": "code",
   "execution_count": 21,
   "metadata": {},
   "outputs": [
    {
     "data": {
      "text/plain": [
       "0.0025"
      ]
     },
     "execution_count": 21,
     "metadata": {},
     "output_type": "execute_result"
    }
   ],
   "source": [
    "diff = gamma_Africa - gamma_notAfrica\n",
    "sum(diff < 0)/len(diff)"
   ]
  }
 ],
 "metadata": {
  "kernelspec": {
   "display_name": "Python 3",
   "language": "python",
   "name": "python3"
  },
  "language_info": {
   "codemirror_mode": {
    "name": "ipython",
    "version": 3
   },
   "file_extension": ".py",
   "mimetype": "text/x-python",
   "name": "python",
   "nbconvert_exporter": "python",
   "pygments_lexer": "ipython3",
   "version": "3.6.5"
  }
 },
 "nbformat": 4,
 "nbformat_minor": 2
}
