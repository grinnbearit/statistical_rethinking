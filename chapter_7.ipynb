{
 "cells": [
  {
   "cell_type": "markdown",
   "metadata": {},
   "source": [
    "# Interactions"
   ]
  },
  {
   "cell_type": "code",
   "execution_count": 1,
   "metadata": {},
   "outputs": [],
   "source": [
    "import warnings\n",
    "warnings.filterwarnings(\"ignore\")"
   ]
  },
  {
   "cell_type": "code",
   "execution_count": 2,
   "metadata": {},
   "outputs": [],
   "source": [
    "import theano\n",
    "import numpy as np\n",
    "import pymc3 as pm\n",
    "import pandas as pd\n",
    "import seaborn as sns\n",
    "import scipy.stats as stats\n",
    "import matplotlib.pyplot as plt\n",
    "%matplotlib inline"
   ]
  },
  {
   "cell_type": "code",
   "execution_count": 3,
   "metadata": {},
   "outputs": [],
   "source": [
    "sns.set()"
   ]
  },
  {
   "cell_type": "markdown",
   "metadata": {},
   "source": [
    "## Building an Interaction"
   ]
  },
  {
   "cell_type": "markdown",
   "metadata": {},
   "source": [
    "### 7.1"
   ]
  },
  {
   "cell_type": "code",
   "execution_count": 4,
   "metadata": {},
   "outputs": [],
   "source": [
    "d = pd.read_csv('Data/rugged.csv', sep=';')\n",
    "\n",
    "# make log version of outcome\n",
    "d[\"log_gdp\"] = np.log(d[\"rgdppc_2000\"])\n",
    "\n",
    "# extract countries with GDP data\n",
    "dd = d[np.isfinite(d[\"rgdppc_2000\"])]\n",
    "\n",
    "# split countries into Africa and not-Africa\n",
    "d_A1 = dd[dd[\"cont_africa\"] == 1]\n",
    "d_A0 = dd[dd[\"cont_africa\"] == 0]"
   ]
  },
  {
   "cell_type": "markdown",
   "metadata": {},
   "source": [
    "### 7.2"
   ]
  },
  {
   "cell_type": "code",
   "execution_count": 5,
   "metadata": {},
   "outputs": [
    {
     "name": "stderr",
     "output_type": "stream",
     "text": [
      "Auto-assigning NUTS sampler...\n",
      "Initializing NUTS using jitter+adapt_diag...\n",
      "Multiprocess sampling (2 chains in 2 jobs)\n",
      "NUTS: [a, bR, sigma]\n",
      "Sampling 2 chains: 100%|██████████| 4000/4000 [00:04<00:00, 947.86draws/s] \n",
      "Auto-assigning NUTS sampler...\n",
      "Initializing NUTS using jitter+adapt_diag...\n",
      "Multiprocess sampling (2 chains in 2 jobs)\n",
      "NUTS: [a, bR, sigma]\n",
      "Sampling 2 chains: 100%|██████████| 4000/4000 [00:03<00:00, 1005.30draws/s]\n"
     ]
    }
   ],
   "source": [
    "# African Nations\n",
    "with pm.Model() as m7_1:\n",
    "    sigma = pm.Uniform(\"sigma\", 0, 10)\n",
    "    bR = pm.Normal(\"bR\", mu=0, sd=1)\n",
    "    a = pm.Normal(\"a\", mu=8, sd=100)\n",
    "    mu = pm.Deterministic(\"mu\", a + bR*d_A1[\"rugged\"])\n",
    "    log_gdp = pm.Normal(\"log_gdp\", mu=mu, sd=sigma, observed=d_A1[\"log_gdp\"])\n",
    "    trace7_1 = pm.sample(draws=1000, tune=1000)\n",
    "    \n",
    "# non-African Nations\n",
    "with pm.Model() as m7_2:\n",
    "    sigma = pm.Uniform(\"sigma\", 0, 10)\n",
    "    bR = pm.Normal(\"bR\", mu=0, sd=1)\n",
    "    a = pm.Normal(\"a\", mu=8, sd=100)\n",
    "    mu = pm.Deterministic(\"mu\", a + bR*d_A0[\"rugged\"])\n",
    "    log_gdp = pm.Normal(\"log_gdp\", mu=mu, sd=sigma, observed=d_A0[\"log_gdp\"])\n",
    "    trace7_2 = pm.sample(draws=1000, tune=1000)"
   ]
  },
  {
   "cell_type": "markdown",
   "metadata": {},
   "source": [
    "### 7.3"
   ]
  },
  {
   "cell_type": "code",
   "execution_count": 6,
   "metadata": {},
   "outputs": [],
   "source": [
    "model_rugged = theano.shared(dd[\"rugged\"].values)\n",
    "model_cont_africa = theano.shared(dd[\"cont_africa\"].values)"
   ]
  },
  {
   "cell_type": "code",
   "execution_count": 7,
   "metadata": {},
   "outputs": [
    {
     "name": "stderr",
     "output_type": "stream",
     "text": [
      "Auto-assigning NUTS sampler...\n",
      "Initializing NUTS using jitter+adapt_diag...\n",
      "Multiprocess sampling (2 chains in 2 jobs)\n",
      "NUTS: [a, bR, sigma]\n",
      "Sampling 2 chains: 100%|██████████| 4000/4000 [00:04<00:00, 948.14draws/s] \n"
     ]
    }
   ],
   "source": [
    "with pm.Model() as m7_3:\n",
    "    sigma = pm.Uniform(\"sigma\", 0, 10)\n",
    "    bR = pm.Normal(\"bR\", mu=0, sd=1)\n",
    "    a = pm.Normal(\"a\", mu=8, sd=100)\n",
    "    mu = pm.Deterministic(\"mu\", a + bR*model_rugged)\n",
    "    log_gdp = pm.Normal(\"log_gdp\", mu=mu, sd=sigma, observed=dd[\"log_gdp\"])\n",
    "    trace7_3 = pm.sample(draws=1000, tune=1000)"
   ]
  },
  {
   "cell_type": "markdown",
   "metadata": {},
   "source": [
    "### 7.4"
   ]
  },
  {
   "cell_type": "code",
   "execution_count": 8,
   "metadata": {},
   "outputs": [
    {
     "name": "stderr",
     "output_type": "stream",
     "text": [
      "Auto-assigning NUTS sampler...\n",
      "Initializing NUTS using jitter+adapt_diag...\n",
      "Multiprocess sampling (2 chains in 2 jobs)\n",
      "NUTS: [a, bA, bR, sigma]\n",
      "Sampling 2 chains: 100%|██████████| 4000/4000 [00:05<00:00, 702.94draws/s]\n"
     ]
    }
   ],
   "source": [
    "with pm.Model() as m7_4:\n",
    "    sigma = pm.Uniform(\"sigma\", 0, 10)\n",
    "    bR = pm.Normal(\"bR\", mu=0, sd=1)\n",
    "    bA = pm.Normal(\"bA\", mu=0, sd=1)\n",
    "    a = pm.Normal(\"a\", mu=8, sd=100)\n",
    "    mu = pm.Deterministic(\"mu\", a + bR*model_rugged + bA*model_cont_africa)\n",
    "    log_gdp = pm.Normal(\"log_gdp\", mu=mu, sd=sigma, observed=dd[\"log_gdp\"])\n",
    "    trace7_4 = pm.sample(draws=1000, tune=1000)"
   ]
  },
  {
   "cell_type": "markdown",
   "metadata": {},
   "source": [
    "### 7.5"
   ]
  },
  {
   "cell_type": "code",
   "execution_count": 9,
   "metadata": {},
   "outputs": [
    {
     "name": "stderr",
     "output_type": "stream",
     "text": [
      "/Users/sgodiwala/anaconda3/lib/python3.6/site-packages/pymc3/stats.py:211: UserWarning: For one or more samples the posterior variance of the\n",
      "        log predictive densities exceeds 0.4. This could be indication of\n",
      "        WAIC starting to fail see http://arxiv.org/abs/1507.04544 for details\n",
      "        \n",
      "  \"\"\")\n"
     ]
    },
    {
     "data": {
      "text/html": [
       "<div>\n",
       "<style scoped>\n",
       "    .dataframe tbody tr th:only-of-type {\n",
       "        vertical-align: middle;\n",
       "    }\n",
       "\n",
       "    .dataframe tbody tr th {\n",
       "        vertical-align: top;\n",
       "    }\n",
       "\n",
       "    .dataframe thead th {\n",
       "        text-align: right;\n",
       "    }\n",
       "</style>\n",
       "<table border=\"1\" class=\"dataframe\">\n",
       "  <thead>\n",
       "    <tr style=\"text-align: right;\">\n",
       "      <th></th>\n",
       "      <th>WAIC</th>\n",
       "      <th>pWAIC</th>\n",
       "      <th>dWAIC</th>\n",
       "      <th>weight</th>\n",
       "      <th>SE</th>\n",
       "      <th>dSE</th>\n",
       "      <th>var_warn</th>\n",
       "    </tr>\n",
       "    <tr>\n",
       "      <th>model</th>\n",
       "      <th></th>\n",
       "      <th></th>\n",
       "      <th></th>\n",
       "      <th></th>\n",
       "      <th></th>\n",
       "      <th></th>\n",
       "      <th></th>\n",
       "    </tr>\n",
       "  </thead>\n",
       "  <tbody>\n",
       "    <tr>\n",
       "      <th>m7_4</th>\n",
       "      <td>476.05</td>\n",
       "      <td>4.14</td>\n",
       "      <td>0</td>\n",
       "      <td>1</td>\n",
       "      <td>14.77</td>\n",
       "      <td>0</td>\n",
       "      <td>1</td>\n",
       "    </tr>\n",
       "    <tr>\n",
       "      <th>m7_3</th>\n",
       "      <td>539.58</td>\n",
       "      <td>2.64</td>\n",
       "      <td>63.53</td>\n",
       "      <td>0</td>\n",
       "      <td>12.95</td>\n",
       "      <td>14.52</td>\n",
       "      <td>0</td>\n",
       "    </tr>\n",
       "  </tbody>\n",
       "</table>\n",
       "</div>"
      ],
      "text/plain": [
       "         WAIC pWAIC  dWAIC weight     SE    dSE var_warn\n",
       "model                                                   \n",
       "m7_4   476.05  4.14      0      1  14.77      0        1\n",
       "m7_3   539.58  2.64  63.53      0  12.95  14.52        0"
      ]
     },
     "execution_count": 9,
     "metadata": {},
     "output_type": "execute_result"
    }
   ],
   "source": [
    "(pm.compare({m7_3: trace7_3,\n",
    "             m7_4: trace7_4},\n",
    "            method='pseudo-BMA')\n",
    "            .join(pd.Series([\"m7_3\", \"m7_4\"], name=\"model\"))\n",
    "            .set_index(\"model\")\n",
    "            .sort_values(\"WAIC\"))"
   ]
  },
  {
   "cell_type": "markdown",
   "metadata": {},
   "source": [
    "### 7.6"
   ]
  },
  {
   "cell_type": "code",
   "execution_count": 10,
   "metadata": {},
   "outputs": [
    {
     "name": "stderr",
     "output_type": "stream",
     "text": [
      "100%|██████████| 10000/10000 [00:01<00:00, 6434.27it/s]\n",
      "100%|██████████| 10000/10000 [00:01<00:00, 6794.44it/s]\n"
     ]
    }
   ],
   "source": [
    "rugged_seq = np.arange(-8, 8, 0.25)\n",
    "model_rugged.set_value(rugged_seq)\n",
    "\n",
    "# compute mu over samples, fixing cont_africa=0\n",
    "model_cont_africa.set_value(np.repeat(0, len(rugged_seq)))\n",
    "mu_NotAfrica = pm.sample_ppc(trace7_4, samples=10000, model=m7_4, vars=[m7_4.mu])[\"mu\"]\n",
    "\n",
    "# compute mu over samples, fixing cont_africa=1\n",
    "model_cont_africa.set_value(np.repeat(1, len(rugged_seq)))\n",
    "mu_Africa = pm.sample_ppc(trace7_4, samples=10000, model=m7_4, vars=[m7_4.mu])[\"mu\"]\n",
    "\n",
    "\n",
    "mu_NotAfrica_mean = mu_NotAfrica.mean(0)\n",
    "mu_NotAfrica_pi = pm.hpd(mu_NotAfrica, alpha=0.03)\n",
    "mu_Africa_mean = mu_Africa.mean(0)\n",
    "mu_Africa_pi = pm.hpd(mu_Africa, alpha=0.03)"
   ]
  },
  {
   "cell_type": "markdown",
   "metadata": {},
   "source": [
    "### 7.7"
   ]
  },
  {
   "cell_type": "code",
   "execution_count": 11,
   "metadata": {},
   "outputs": [],
   "source": [
    "model_rugged.set_value(dd[\"rugged\"].values)\n",
    "model_cont_africa.set_value(dd[\"cont_africa\"].values)"
   ]
  },
  {
   "cell_type": "code",
   "execution_count": 12,
   "metadata": {},
   "outputs": [
    {
     "name": "stderr",
     "output_type": "stream",
     "text": [
      "Auto-assigning NUTS sampler...\n",
      "Initializing NUTS using jitter+adapt_diag...\n",
      "Multiprocess sampling (2 chains in 2 jobs)\n",
      "NUTS: [a, bA, bR, bAR, sigma]\n",
      "Sampling 2 chains: 100%|██████████| 4000/4000 [00:05<00:00, 706.99draws/s]\n"
     ]
    }
   ],
   "source": [
    "with pm.Model() as m7_5:\n",
    "    sigma = pm.Uniform(\"sigma\", 0, 10)\n",
    "    bAR = pm.Normal(\"bAR\", mu=0, sd=1)\n",
    "    bR = pm.Normal(\"bR\", mu=0, sd=1)\n",
    "    bA = pm.Normal(\"bA\", mu=0, sd=1)\n",
    "    a = pm.Normal(\"a\", mu=8, sd=100)\n",
    "    gamma = pm.Deterministic(\"gamma\", bR + bAR*model_cont_africa)\n",
    "    mu = pm.Deterministic(\"mu\", a + gamma*model_rugged + bA*model_cont_africa)\n",
    "    log_gdp = pm.Normal(\"log_gdp\", mu=mu, sd=sigma, observed=dd[\"log_gdp\"])\n",
    "    trace7_5 = pm.sample(draws=1000, tune=1000)"
   ]
  },
  {
   "cell_type": "markdown",
   "metadata": {},
   "source": [
    "### 7.8"
   ]
  },
  {
   "cell_type": "code",
   "execution_count": 13,
   "metadata": {},
   "outputs": [
    {
     "name": "stderr",
     "output_type": "stream",
     "text": [
      "/Users/sgodiwala/anaconda3/lib/python3.6/site-packages/pymc3/stats.py:211: UserWarning: For one or more samples the posterior variance of the\n",
      "        log predictive densities exceeds 0.4. This could be indication of\n",
      "        WAIC starting to fail see http://arxiv.org/abs/1507.04544 for details\n",
      "        \n",
      "  \"\"\")\n",
      "/Users/sgodiwala/anaconda3/lib/python3.6/site-packages/pymc3/stats.py:211: UserWarning: For one or more samples the posterior variance of the\n",
      "        log predictive densities exceeds 0.4. This could be indication of\n",
      "        WAIC starting to fail see http://arxiv.org/abs/1507.04544 for details\n",
      "        \n",
      "  \"\"\")\n"
     ]
    },
    {
     "data": {
      "text/html": [
       "<div>\n",
       "<style scoped>\n",
       "    .dataframe tbody tr th:only-of-type {\n",
       "        vertical-align: middle;\n",
       "    }\n",
       "\n",
       "    .dataframe tbody tr th {\n",
       "        vertical-align: top;\n",
       "    }\n",
       "\n",
       "    .dataframe thead th {\n",
       "        text-align: right;\n",
       "    }\n",
       "</style>\n",
       "<table border=\"1\" class=\"dataframe\">\n",
       "  <thead>\n",
       "    <tr style=\"text-align: right;\">\n",
       "      <th></th>\n",
       "      <th>WAIC</th>\n",
       "      <th>pWAIC</th>\n",
       "      <th>dWAIC</th>\n",
       "      <th>weight</th>\n",
       "      <th>SE</th>\n",
       "      <th>dSE</th>\n",
       "      <th>var_warn</th>\n",
       "    </tr>\n",
       "    <tr>\n",
       "      <th>model</th>\n",
       "      <th></th>\n",
       "      <th></th>\n",
       "      <th></th>\n",
       "      <th></th>\n",
       "      <th></th>\n",
       "      <th></th>\n",
       "      <th></th>\n",
       "    </tr>\n",
       "  </thead>\n",
       "  <tbody>\n",
       "    <tr>\n",
       "      <th>m7_5</th>\n",
       "      <td>469.15</td>\n",
       "      <td>4.95</td>\n",
       "      <td>0</td>\n",
       "      <td>0.97</td>\n",
       "      <td>14.53</td>\n",
       "      <td>0</td>\n",
       "      <td>1</td>\n",
       "    </tr>\n",
       "    <tr>\n",
       "      <th>m7_4</th>\n",
       "      <td>476.05</td>\n",
       "      <td>4.14</td>\n",
       "      <td>6.9</td>\n",
       "      <td>0.03</td>\n",
       "      <td>14.77</td>\n",
       "      <td>5.92</td>\n",
       "      <td>1</td>\n",
       "    </tr>\n",
       "    <tr>\n",
       "      <th>m7_3</th>\n",
       "      <td>539.58</td>\n",
       "      <td>2.64</td>\n",
       "      <td>70.43</td>\n",
       "      <td>0</td>\n",
       "      <td>12.95</td>\n",
       "      <td>14.62</td>\n",
       "      <td>0</td>\n",
       "    </tr>\n",
       "  </tbody>\n",
       "</table>\n",
       "</div>"
      ],
      "text/plain": [
       "         WAIC pWAIC  dWAIC weight     SE    dSE var_warn\n",
       "model                                                   \n",
       "m7_5   469.15  4.95      0   0.97  14.53      0        1\n",
       "m7_4   476.05  4.14    6.9   0.03  14.77   5.92        1\n",
       "m7_3   539.58  2.64  70.43      0  12.95  14.62        0"
      ]
     },
     "execution_count": 13,
     "metadata": {},
     "output_type": "execute_result"
    }
   ],
   "source": [
    "(pm.compare({m7_3: trace7_3,\n",
    "             m7_4: trace7_4,\n",
    "             m7_5: trace7_5},\n",
    "            method='pseudo-BMA')\n",
    "            .join(pd.Series([\"m7_3\", \"m7_4\", \"m7_5\"], name=\"model\"))\n",
    "            .set_index(\"model\")\n",
    "            .sort_values(\"WAIC\"))"
   ]
  },
  {
   "cell_type": "markdown",
   "metadata": {},
   "source": [
    "### 7.9"
   ]
  },
  {
   "cell_type": "code",
   "execution_count": 14,
   "metadata": {},
   "outputs": [
    {
     "name": "stderr",
     "output_type": "stream",
     "text": [
      "Auto-assigning NUTS sampler...\n",
      "Initializing NUTS using jitter+adapt_diag...\n",
      "Multiprocess sampling (2 chains in 2 jobs)\n",
      "NUTS: [a, bA, bR, bAR, sigma]\n",
      "Sampling 2 chains: 100%|██████████| 4000/4000 [00:05<00:00, 749.63draws/s]\n"
     ]
    }
   ],
   "source": [
    "with pm.Model() as m7_5b:\n",
    "    sigma = pm.Uniform(\"sigma\", 0, 10)\n",
    "    bAR = pm.Normal(\"bAR\", mu=0, sd=1)\n",
    "    bR = pm.Normal(\"bR\", mu=0, sd=1)\n",
    "    bA = pm.Normal(\"bA\", mu=0, sd=1)\n",
    "    a = pm.Normal(\"a\", mu=8, sd=100)\n",
    "    mu = pm.Deterministic(\"mu\", a +\\\n",
    "                                bA*dd[\"cont_africa\"] +\\\n",
    "                                bR*dd[\"rugged\"] +\\\n",
    "                                bAR*dd[\"rugged\"]*dd[\"cont_africa\"])\n",
    "    log_gdp = pm.Normal(\"log_gdp\", mu=mu, sd=sigma, observed=dd[\"log_gdp\"])\n",
    "    trace7_5b = pm.sample(draws=1000, tune=1000)"
   ]
  },
  {
   "cell_type": "markdown",
   "metadata": {},
   "source": [
    "### 7.10"
   ]
  },
  {
   "cell_type": "code",
   "execution_count": 15,
   "metadata": {},
   "outputs": [
    {
     "name": "stderr",
     "output_type": "stream",
     "text": [
      "100%|██████████| 10000/10000 [00:01<00:00, 5376.68it/s]\n",
      "100%|██████████| 10000/10000 [00:01<00:00, 6278.67it/s]\n"
     ]
    }
   ],
   "source": [
    "rugged_seq = np.arange(-1, 8, 0.25)\n",
    "model_rugged.set_value(rugged_seq)\n",
    "\n",
    "model_cont_africa.set_value(np.repeat(1, len(rugged_seq)))\n",
    "mu_Africa = pm.sample_ppc(trace7_5, samples=10000, model=m7_5, vars=[m7_5.mu])[\"mu\"]\n",
    "mu_Africa_mean = mu_Africa.mean(0)\n",
    "mu_Africa_pi = pm.hpd(mu_Africa, alpha=0.03)\n",
    "\n",
    "model_cont_africa.set_value(np.repeat(0, len(rugged_seq)))\n",
    "mu_NotAfrica = pm.sample_ppc(trace7_5, samples=10000, model=m7_5, vars=[m7_5.mu])[\"mu\"]\n",
    "mu_NotAfrica_mean = mu_NotAfrica.mean(0)\n",
    "mu_NotAfrica_pi = pm.hpd(mu_NotAfrica, alpha=0.03)"
   ]
  },
  {
   "cell_type": "markdown",
   "metadata": {},
   "source": [
    "### 7.11"
   ]
  },
  {
   "cell_type": "code",
   "execution_count": 16,
   "metadata": {},
   "outputs": [
    {
     "data": {
      "image/png": "[encoded data removed]",
      "text/plain": [
       "<Figure size 1440x648 with 2 Axes>"
      ]
     },
     "metadata": {},
     "output_type": "display_data"
    }
   ],
   "source": [
    "f, axs = plt.subplots(1, 2, sharey=True)\n",
    "f.set_size_inches(20, 9)\n",
    "\n",
    "d_A1 = dd[dd[\"cont_africa\"] == 1]\n",
    "axs[0].plot(d_A1[\"rugged\"], d_A1[\"log_gdp\"], \"o\", mew=1, mec=\"C0\", mfc=\"None\")\n",
    "axs[0].plot(rugged_seq, mu_Africa_mean, color=\"C0\")\n",
    "axs[0].fill_between(rugged_seq, mu_Africa_pi[:,0], mu_Africa_pi[:,1], alpha=0.25, color=\"C0\")\n",
    "axs[0].set_title(\"African Nations\")\n",
    "axs[0].set_xlabel(\"Terrain Ruggedness Index\")\n",
    "\n",
    "d_A0 = dd[dd[\"cont_africa\"] == 0]\n",
    "axs[1].plot(d_A0[\"rugged\"], d_A0[\"log_gdp\"], \"o\", mew=1, mec=\"C1\", mfc=\"None\")\n",
    "axs[1].plot(rugged_seq, mu_NotAfrica_mean, color=\"C1\")\n",
    "axs[1].fill_between(rugged_seq, mu_NotAfrica_pi[:,0], mu_NotAfrica_pi[:,1], alpha=0.25, color=\"C1\")\n",
    "axs[1].set_title(\"Non-African Nations\")\n",
    "axs[1].set_xlabel(\"Terrain Ruggedness Index\")\n",
    "\n",
    "axs[0].set_xlim((-1, 7.75))\n",
    "axs[1].set_xlim((-1, 7.75))\n",
    "axs[0].set_ylabel(\"log GDP year 2000\");"
   ]
  },
  {
   "cell_type": "markdown",
   "metadata": {},
   "source": [
    "### 7.12"
   ]
  },
  {
   "cell_type": "code",
   "execution_count": 17,
   "metadata": {},
   "outputs": [
    {
     "data": {
      "text/html": [
       "<div>\n",
       "<style scoped>\n",
       "    .dataframe tbody tr th:only-of-type {\n",
       "        vertical-align: middle;\n",
       "    }\n",
       "\n",
       "    .dataframe tbody tr th {\n",
       "        vertical-align: top;\n",
       "    }\n",
       "\n",
       "    .dataframe thead th {\n",
       "        text-align: right;\n",
       "    }\n",
       "</style>\n",
       "<table border=\"1\" class=\"dataframe\">\n",
       "  <thead>\n",
       "    <tr style=\"text-align: right;\">\n",
       "      <th></th>\n",
       "      <th>mean</th>\n",
       "      <th>sd</th>\n",
       "      <th>mc_error</th>\n",
       "      <th>hpd_2.5</th>\n",
       "      <th>hpd_97.5</th>\n",
       "      <th>n_eff</th>\n",
       "      <th>Rhat</th>\n",
       "    </tr>\n",
       "  </thead>\n",
       "  <tbody>\n",
       "    <tr>\n",
       "      <th>a</th>\n",
       "      <td>9.185720</td>\n",
       "      <td>0.136968</td>\n",
       "      <td>0.004150</td>\n",
       "      <td>8.902530</td>\n",
       "      <td>9.439122</td>\n",
       "      <td>1001.547033</td>\n",
       "      <td>1.000871</td>\n",
       "    </tr>\n",
       "    <tr>\n",
       "      <th>bA</th>\n",
       "      <td>-1.842948</td>\n",
       "      <td>0.223210</td>\n",
       "      <td>0.006318</td>\n",
       "      <td>-2.272497</td>\n",
       "      <td>-1.396193</td>\n",
       "      <td>978.266870</td>\n",
       "      <td>0.999563</td>\n",
       "    </tr>\n",
       "    <tr>\n",
       "      <th>bR</th>\n",
       "      <td>-0.185359</td>\n",
       "      <td>0.077225</td>\n",
       "      <td>0.002295</td>\n",
       "      <td>-0.332668</td>\n",
       "      <td>-0.035330</td>\n",
       "      <td>950.215738</td>\n",
       "      <td>0.999781</td>\n",
       "    </tr>\n",
       "    <tr>\n",
       "      <th>bAR</th>\n",
       "      <td>0.346565</td>\n",
       "      <td>0.130725</td>\n",
       "      <td>0.003841</td>\n",
       "      <td>0.100459</td>\n",
       "      <td>0.612792</td>\n",
       "      <td>881.942978</td>\n",
       "      <td>0.999507</td>\n",
       "    </tr>\n",
       "    <tr>\n",
       "      <th>sigma</th>\n",
       "      <td>0.950424</td>\n",
       "      <td>0.051161</td>\n",
       "      <td>0.001159</td>\n",
       "      <td>0.861277</td>\n",
       "      <td>1.059326</td>\n",
       "      <td>1913.494280</td>\n",
       "      <td>0.999511</td>\n",
       "    </tr>\n",
       "  </tbody>\n",
       "</table>\n",
       "</div>"
      ],
      "text/plain": [
       "           mean        sd  mc_error   hpd_2.5  hpd_97.5        n_eff      Rhat\n",
       "a      9.185720  0.136968  0.004150  8.902530  9.439122  1001.547033  1.000871\n",
       "bA    -1.842948  0.223210  0.006318 -2.272497 -1.396193   978.266870  0.999563\n",
       "bR    -0.185359  0.077225  0.002295 -0.332668 -0.035330   950.215738  0.999781\n",
       "bAR    0.346565  0.130725  0.003841  0.100459  0.612792   881.942978  0.999507\n",
       "sigma  0.950424  0.051161  0.001159  0.861277  1.059326  1913.494280  0.999511"
      ]
     },
     "execution_count": 17,
     "metadata": {},
     "output_type": "execute_result"
    }
   ],
   "source": [
    "pm.summary(trace7_5, varnames=[\"a\", \"bA\", \"bR\", \"bAR\", \"sigma\"])"
   ]
  },
  {
   "cell_type": "markdown",
   "metadata": {},
   "source": [
    "### 7.13"
   ]
  },
  {
   "cell_type": "code",
   "execution_count": 18,
   "metadata": {},
   "outputs": [],
   "source": [
    "gamma_Africa = trace7_5[\"bR\"] + trace7_5[\"bAR\"]*1\n",
    "gamma_notAfrica = trace7_5[\"bR\"] + trace7_5[\"bAR\"]*0"
   ]
  },
  {
   "cell_type": "markdown",
   "metadata": {},
   "source": [
    "### 7.14"
   ]
  },
  {
   "cell_type": "code",
   "execution_count": 19,
   "metadata": {},
   "outputs": [
    {
     "data": {
      "text/plain": [
       "(0.16120516706513216, -0.18535938306054436)"
      ]
     },
     "execution_count": 19,
     "metadata": {},
     "output_type": "execute_result"
    }
   ],
   "source": [
    "(gamma_Africa.mean(),\n",
    " gamma_notAfrica.mean())"
   ]
  },
  {
   "cell_type": "markdown",
   "metadata": {},
   "source": [
    "### 7.15"
   ]
  },
  {
   "cell_type": "code",
   "execution_count": 20,
   "metadata": {},
   "outputs": [
    {
     "data": {
      "image/png": "[encoded data removed]",
      "text/plain": [
       "<Figure size 972x648 with 1 Axes>"
      ]
     },
     "metadata": {},
     "output_type": "display_data"
    }
   ],
   "source": [
    "f, ax = plt.subplots(1, 1)\n",
    "f.set_size_inches(13.5, 9)\n",
    "sns.kdeplot(gamma_Africa, ax=ax)\n",
    "sns.kdeplot(gamma_notAfrica, ax=ax)\n",
    "ax.set_xlim((-0.5, 0.6))\n",
    "ax.set_ylim((0, 5.5))\n",
    "ax.set_xlabel(\"gamma\")\n",
    "ax.set_ylabel(\"density\");"
   ]
  },
  {
   "cell_type": "markdown",
   "metadata": {},
   "source": [
    "### 7.16"
   ]
  },
  {
   "cell_type": "code",
   "execution_count": 21,
   "metadata": {},
   "outputs": [
    {
     "data": {
      "text/plain": [
       "0.0075"
      ]
     },
     "execution_count": 21,
     "metadata": {},
     "output_type": "execute_result"
    }
   ],
   "source": [
    "diff = gamma_Africa - gamma_notAfrica\n",
    "sum(diff < 0)/len(diff)"
   ]
  },
  {
   "cell_type": "markdown",
   "metadata": {},
   "source": [
    "## Symmetry of the Linear Interaction"
   ]
  },
  {
   "cell_type": "markdown",
   "metadata": {},
   "source": [
    "### 7.17"
   ]
  },
  {
   "cell_type": "code",
   "execution_count": 22,
   "metadata": {},
   "outputs": [
    {
     "name": "stderr",
     "output_type": "stream",
     "text": [
      "100%|██████████| 10000/10000 [00:01<00:00, 5251.31it/s]\n",
      "100%|██████████| 10000/10000 [00:02<00:00, 4980.88it/s]\n"
     ]
    },
    {
     "data": {
      "image/png": "[encoded data removed]",
      "text/plain": [
       "<Figure size 972x648 with 1 Axes>"
      ]
     },
     "metadata": {},
     "output_type": "display_data"
    }
   ],
   "source": [
    "# get minimum and maximum rugged values\n",
    "q_rugged = (dd[\"rugged\"].min(), dd[\"rugged\"].max())\n",
    "\n",
    "# compute lines and confidence intervals\n",
    "model_rugged.set_value(np.repeat(q_rugged[0], 2))\n",
    "model_cont_africa.set_value([0, 1])\n",
    "mu_ruggedlo = pm.sample_ppc(trace7_5, samples=10000, model=m7_5, vars=[m7_5.mu])[\"mu\"]\n",
    "mu_ruggedlo_mean = mu_ruggedlo.mean(0)\n",
    "mu_ruggedlo_pi = pm.hpd(mu_ruggedlo)\n",
    "\n",
    "model_rugged.set_value(np.repeat(q_rugged[1], 2))\n",
    "model_cont_africa.set_value([0, 1])\n",
    "mu_ruggedhi = pm.sample_ppc(trace7_5, samples=10000, model=m7_5, vars=[m7_5.mu])[\"mu\"]\n",
    "mu_ruggedhi_mean = mu_ruggedhi.mean(0)\n",
    "mu_ruggedhi_pi = pm.hpd(mu_ruggedhi)\n",
    "\n",
    "# plot it all, splitting points at median\n",
    "data = (dd\n",
    "        .assign(more_rugged=lambda df: df[\"rugged\"] > np.median(df[\"rugged\"]))\n",
    "        .set_index([\"more_rugged\"]))\n",
    "\n",
    "f, ax = plt.subplots(1, 1)\n",
    "f.set_size_inches(13.5, 9)\n",
    "ax.plot(data.loc[False][\"cont_africa\"] - 0.05, data.loc[False][\"log_gdp\"], \"o\", mew=1, mec=\"C0\", mfc=\"None\")\n",
    "ax.plot(data.loc[True][\"cont_africa\"] + 0.05, data.loc[True][\"log_gdp\"], \"o\", mew=1, mec=\"C1\", mfc=\"None\")\n",
    "\n",
    "ax.plot([0, 1], mu_ruggedlo_mean, \"--\", color=\"C0\")\n",
    "ax.fill_between([0, 1], mu_ruggedlo_pi[:,0], mu_ruggedlo_pi[:,1], alpha=0.25, color=\"C0\")\n",
    "\n",
    "ax.plot([0, 1], mu_ruggedhi_mean, color=\"C1\")\n",
    "ax.fill_between([0, 1], mu_ruggedhi_pi[:,0], mu_ruggedhi_pi[:,1], alpha=0.25, color=\"C1\")\n",
    "\n",
    "ax.set_xlabel(\"Continent\")\n",
    "ax.set_ylabel(\"log GDP year 2000\")\n",
    "ax.set_xticks([0, 1])\n",
    "ax.set_xticklabels([\"other\", \"Africa\"]);"
   ]
  },
  {
   "cell_type": "markdown",
   "metadata": {},
   "source": [
    "## Continuous Interactions"
   ]
  },
  {
   "cell_type": "markdown",
   "metadata": {},
   "source": [
    "### 7.18"
   ]
  },
  {
   "cell_type": "code",
   "execution_count": 23,
   "metadata": {},
   "outputs": [
    {
     "data": {
      "text/html": [
       "<div>\n",
       "<style scoped>\n",
       "    .dataframe tbody tr th:only-of-type {\n",
       "        vertical-align: middle;\n",
       "    }\n",
       "\n",
       "    .dataframe tbody tr th {\n",
       "        vertical-align: top;\n",
       "    }\n",
       "\n",
       "    .dataframe thead th {\n",
       "        text-align: right;\n",
       "    }\n",
       "</style>\n",
       "<table border=\"1\" class=\"dataframe\">\n",
       "  <thead>\n",
       "    <tr style=\"text-align: right;\">\n",
       "      <th></th>\n",
       "      <th>bed</th>\n",
       "      <th>water</th>\n",
       "      <th>shade</th>\n",
       "      <th>blooms</th>\n",
       "    </tr>\n",
       "  </thead>\n",
       "  <tbody>\n",
       "    <tr>\n",
       "      <th>0</th>\n",
       "      <td>a</td>\n",
       "      <td>1</td>\n",
       "      <td>1</td>\n",
       "      <td>0.00</td>\n",
       "    </tr>\n",
       "    <tr>\n",
       "      <th>1</th>\n",
       "      <td>a</td>\n",
       "      <td>1</td>\n",
       "      <td>2</td>\n",
       "      <td>0.00</td>\n",
       "    </tr>\n",
       "    <tr>\n",
       "      <th>2</th>\n",
       "      <td>a</td>\n",
       "      <td>1</td>\n",
       "      <td>3</td>\n",
       "      <td>111.04</td>\n",
       "    </tr>\n",
       "    <tr>\n",
       "      <th>3</th>\n",
       "      <td>a</td>\n",
       "      <td>2</td>\n",
       "      <td>1</td>\n",
       "      <td>183.47</td>\n",
       "    </tr>\n",
       "    <tr>\n",
       "      <th>4</th>\n",
       "      <td>a</td>\n",
       "      <td>2</td>\n",
       "      <td>2</td>\n",
       "      <td>59.16</td>\n",
       "    </tr>\n",
       "  </tbody>\n",
       "</table>\n",
       "</div>"
      ],
      "text/plain": [
       "  bed  water  shade  blooms\n",
       "0   a      1      1    0.00\n",
       "1   a      1      2    0.00\n",
       "2   a      1      3  111.04\n",
       "3   a      2      1  183.47\n",
       "4   a      2      2   59.16"
      ]
     },
     "execution_count": 23,
     "metadata": {},
     "output_type": "execute_result"
    }
   ],
   "source": [
    "d = pd.read_csv('Data/tulips.csv', sep=';')\n",
    "d.head()"
   ]
  },
  {
   "cell_type": "markdown",
   "metadata": {},
   "source": [
    "### 7.19"
   ]
  },
  {
   "cell_type": "code",
   "execution_count": 24,
   "metadata": {},
   "outputs": [
    {
     "name": "stderr",
     "output_type": "stream",
     "text": [
      "Auto-assigning NUTS sampler...\n",
      "Initializing NUTS using jitter+adapt_diag...\n",
      "Multiprocess sampling (2 chains in 2 jobs)\n",
      "NUTS: [a, bW, bS, sigma]\n",
      "Sampling 2 chains: 100%|██████████| 4000/4000 [00:06<00:00, 607.38draws/s]\n",
      "Auto-assigning NUTS sampler...\n",
      "Initializing NUTS using jitter+adapt_diag...\n",
      "Multiprocess sampling (2 chains in 2 jobs)\n",
      "NUTS: [a, bW, bS, bWS, sigma]\n",
      "Sampling 2 chains: 100%|██████████| 4000/4000 [00:11<00:00, 349.90draws/s]\n",
      "The number of effective samples is smaller than 25% for some parameters.\n"
     ]
    }
   ],
   "source": [
    "with pm.Model() as m7_6:\n",
    "    sigma = pm.Uniform(\"sigma\", 0, 100)\n",
    "    bS = pm.Normal(\"bS\", mu=0, sd=100)\n",
    "    bW = pm.Normal(\"bW\", mu=0, sd=100)\n",
    "    a = pm.Normal(\"a\", mu=0, sd=100)\n",
    "    mu = pm.Deterministic(\"mu\", a +\\\n",
    "                                bW*d[\"water\"] +\\\n",
    "                                bS*d[\"shade\"])\n",
    "    blooms = pm.Normal(\"blooms\", mu=mu, sd=sigma, observed=d[\"blooms\"])\n",
    "    trace7_6 = pm.sample(draws=1000, tune=1000)\n",
    "    \n",
    "with pm.Model() as m7_7:\n",
    "    sigma = pm.Uniform(\"sigma\", 0, 100)\n",
    "    bWS = pm.Normal(\"bWS\", mu=0, sd=100) \n",
    "    bS = pm.Normal(\"bS\", mu=0, sd=100)\n",
    "    bW = pm.Normal(\"bW\", mu=0, sd=100)\n",
    "    a = pm.Normal(\"a\", mu=0, sd=100)\n",
    "    mu = pm.Deterministic(\"mu\", a +\\\n",
    "                                bW*d[\"water\"] +\\\n",
    "                                bS*d[\"shade\"] +\\\n",
    "                                bWS*d[\"water\"]*d[\"shade\"])\n",
    "    blooms = pm.Normal(\"blooms\", mu=mu, sd=sigma, observed=d[\"blooms\"])\n",
    "    trace7_7 = pm.sample(draws=1000, tune=1000)"
   ]
  },
  {
   "cell_type": "markdown",
   "metadata": {},
   "source": [
    "### 7.20"
   ]
  },
  {
   "cell_type": "markdown",
   "metadata": {},
   "source": [
    "Since I'm not using MAP but MCMC, I'm not implementing the MAP optimisation"
   ]
  },
  {
   "cell_type": "markdown",
   "metadata": {},
   "source": [
    "### 7.21"
   ]
  },
  {
   "cell_type": "code",
   "execution_count": 25,
   "metadata": {},
   "outputs": [
    {
     "data": {
      "text/html": [
       "<div>\n",
       "<style scoped>\n",
       "    .dataframe tbody tr th:only-of-type {\n",
       "        vertical-align: middle;\n",
       "    }\n",
       "\n",
       "    .dataframe tbody tr th {\n",
       "        vertical-align: top;\n",
       "    }\n",
       "\n",
       "    .dataframe thead th {\n",
       "        text-align: right;\n",
       "    }\n",
       "</style>\n",
       "<table border=\"1\" class=\"dataframe\">\n",
       "  <thead>\n",
       "    <tr style=\"text-align: right;\">\n",
       "      <th></th>\n",
       "      <th>mean_7_6</th>\n",
       "      <th>mean_7_7</th>\n",
       "    </tr>\n",
       "  </thead>\n",
       "  <tbody>\n",
       "    <tr>\n",
       "      <th>a</th>\n",
       "      <td>51.468330</td>\n",
       "      <td>-73.133127</td>\n",
       "    </tr>\n",
       "    <tr>\n",
       "      <th>bS</th>\n",
       "      <td>-38.196525</td>\n",
       "      <td>30.007641</td>\n",
       "    </tr>\n",
       "    <tr>\n",
       "      <th>bW</th>\n",
       "      <td>76.658284</td>\n",
       "      <td>145.684884</td>\n",
       "    </tr>\n",
       "    <tr>\n",
       "      <th>bWS</th>\n",
       "      <td>NaN</td>\n",
       "      <td>-37.144478</td>\n",
       "    </tr>\n",
       "    <tr>\n",
       "      <th>sigma</th>\n",
       "      <td>63.840260</td>\n",
       "      <td>52.460179</td>\n",
       "    </tr>\n",
       "  </tbody>\n",
       "</table>\n",
       "</div>"
      ],
      "text/plain": [
       "        mean_7_6    mean_7_7\n",
       "a      51.468330  -73.133127\n",
       "bS    -38.196525   30.007641\n",
       "bW     76.658284  145.684884\n",
       "bWS          NaN  -37.144478\n",
       "sigma  63.840260   52.460179"
      ]
     },
     "execution_count": 25,
     "metadata": {},
     "output_type": "execute_result"
    }
   ],
   "source": [
    "(pm.summary(trace7_6, varnames=[\"a\", \"bW\", \"bS\", \"sigma\"])[[\"mean\"]]\n",
    " .join(pm.summary(trace7_7, varnames=[\"a\", \"bW\", \"bS\", \"sigma\", \"bWS\"])[[\"mean\"]],\n",
    "       lsuffix=\"_7_6\", rsuffix=\"_7_7\", how=\"outer\"))"
   ]
  },
  {
   "cell_type": "markdown",
   "metadata": {},
   "source": [
    "### 7.22"
   ]
  },
  {
   "cell_type": "code",
   "execution_count": 26,
   "metadata": {},
   "outputs": [
    {
     "name": "stderr",
     "output_type": "stream",
     "text": [
      "/Users/sgodiwala/anaconda3/lib/python3.6/site-packages/pymc3/stats.py:211: UserWarning: For one or more samples the posterior variance of the\n",
      "        log predictive densities exceeds 0.4. This could be indication of\n",
      "        WAIC starting to fail see http://arxiv.org/abs/1507.04544 for details\n",
      "        \n",
      "  \"\"\")\n",
      "/Users/sgodiwala/anaconda3/lib/python3.6/site-packages/pymc3/stats.py:211: UserWarning: For one or more samples the posterior variance of the\n",
      "        log predictive densities exceeds 0.4. This could be indication of\n",
      "        WAIC starting to fail see http://arxiv.org/abs/1507.04544 for details\n",
      "        \n",
      "  \"\"\")\n"
     ]
    },
    {
     "data": {
      "text/html": [
       "<div>\n",
       "<style scoped>\n",
       "    .dataframe tbody tr th:only-of-type {\n",
       "        vertical-align: middle;\n",
       "    }\n",
       "\n",
       "    .dataframe tbody tr th {\n",
       "        vertical-align: top;\n",
       "    }\n",
       "\n",
       "    .dataframe thead th {\n",
       "        text-align: right;\n",
       "    }\n",
       "</style>\n",
       "<table border=\"1\" class=\"dataframe\">\n",
       "  <thead>\n",
       "    <tr style=\"text-align: right;\">\n",
       "      <th></th>\n",
       "      <th>WAIC</th>\n",
       "      <th>pWAIC</th>\n",
       "      <th>dWAIC</th>\n",
       "      <th>weight</th>\n",
       "      <th>SE</th>\n",
       "      <th>dSE</th>\n",
       "      <th>var_warn</th>\n",
       "    </tr>\n",
       "    <tr>\n",
       "      <th>model</th>\n",
       "      <th></th>\n",
       "      <th></th>\n",
       "      <th></th>\n",
       "      <th></th>\n",
       "      <th></th>\n",
       "      <th></th>\n",
       "      <th></th>\n",
       "    </tr>\n",
       "  </thead>\n",
       "  <tbody>\n",
       "    <tr>\n",
       "      <th>m7_7</th>\n",
       "      <td>293.86</td>\n",
       "      <td>4.11</td>\n",
       "      <td>0</td>\n",
       "      <td>0.99</td>\n",
       "      <td>7.09</td>\n",
       "      <td>0</td>\n",
       "      <td>1</td>\n",
       "    </tr>\n",
       "    <tr>\n",
       "      <th>m7_6</th>\n",
       "      <td>303.98</td>\n",
       "      <td>3.76</td>\n",
       "      <td>10.12</td>\n",
       "      <td>0.01</td>\n",
       "      <td>6.91</td>\n",
       "      <td>3.79</td>\n",
       "      <td>1</td>\n",
       "    </tr>\n",
       "  </tbody>\n",
       "</table>\n",
       "</div>"
      ],
      "text/plain": [
       "         WAIC pWAIC  dWAIC weight    SE   dSE var_warn\n",
       "model                                                 \n",
       "m7_7   293.86  4.11      0   0.99  7.09     0        1\n",
       "m7_6   303.98  3.76  10.12   0.01  6.91  3.79        1"
      ]
     },
     "execution_count": 26,
     "metadata": {},
     "output_type": "execute_result"
    }
   ],
   "source": [
    "(pm.compare({m7_6: trace7_6,\n",
    "             m7_7: trace7_7},\n",
    "            method='pseudo-BMA')\n",
    "            .join(pd.Series([\"m7_6\", \"m7_7\"], name=\"model\"))\n",
    "            .set_index(\"model\")\n",
    "            .sort_values(\"WAIC\"))"
   ]
  },
  {
   "cell_type": "markdown",
   "metadata": {},
   "source": [
    "### 7.23"
   ]
  },
  {
   "cell_type": "code",
   "execution_count": 27,
   "metadata": {},
   "outputs": [],
   "source": [
    "d[\"shade_c\"] = d[\"shade\"] - d[\"shade\"].mean()\n",
    "d[\"water_c\"] = d[\"water\"] - d[\"water\"].mean()"
   ]
  },
  {
   "cell_type": "markdown",
   "metadata": {},
   "source": [
    "### 7.24"
   ]
  },
  {
   "cell_type": "markdown",
   "metadata": {},
   "source": [
    "There isn't a way to set starting parameters that I can find, you could encode them in the priors though."
   ]
  },
  {
   "cell_type": "code",
   "execution_count": 28,
   "metadata": {},
   "outputs": [],
   "source": [
    "model_water_c = theano.shared(d[\"water_c\"].values)\n",
    "model_shade_c = theano.shared(d[\"shade_c\"].values)"
   ]
  },
  {
   "cell_type": "code",
   "execution_count": 29,
   "metadata": {},
   "outputs": [
    {
     "name": "stderr",
     "output_type": "stream",
     "text": [
      "Auto-assigning NUTS sampler...\n",
      "Initializing NUTS using jitter+adapt_diag...\n",
      "Multiprocess sampling (2 chains in 2 jobs)\n",
      "NUTS: [a, bW, bS, sigma]\n",
      "Sampling 2 chains: 100%|██████████| 4000/4000 [00:04<00:00, 865.32draws/s] \n",
      "Auto-assigning NUTS sampler...\n",
      "Initializing NUTS using jitter+adapt_diag...\n",
      "Multiprocess sampling (2 chains in 2 jobs)\n",
      "NUTS: [a, bW, bS, bWS, sigma]\n",
      "Sampling 2 chains: 100%|██████████| 4000/4000 [00:05<00:00, 708.01draws/s]\n"
     ]
    },
    {
     "data": {
      "text/html": [
       "<div>\n",
       "<style scoped>\n",
       "    .dataframe tbody tr th:only-of-type {\n",
       "        vertical-align: middle;\n",
       "    }\n",
       "\n",
       "    .dataframe tbody tr th {\n",
       "        vertical-align: top;\n",
       "    }\n",
       "\n",
       "    .dataframe thead th {\n",
       "        text-align: right;\n",
       "    }\n",
       "</style>\n",
       "<table border=\"1\" class=\"dataframe\">\n",
       "  <thead>\n",
       "    <tr style=\"text-align: right;\">\n",
       "      <th></th>\n",
       "      <th>mean_7_8</th>\n",
       "      <th>mean_7_9</th>\n",
       "    </tr>\n",
       "  </thead>\n",
       "  <tbody>\n",
       "    <tr>\n",
       "      <th>a</th>\n",
       "      <td>129.239881</td>\n",
       "      <td>127.814939</td>\n",
       "    </tr>\n",
       "    <tr>\n",
       "      <th>bS</th>\n",
       "      <td>-41.040548</td>\n",
       "      <td>-40.914899</td>\n",
       "    </tr>\n",
       "    <tr>\n",
       "      <th>bW</th>\n",
       "      <td>73.878894</td>\n",
       "      <td>74.977250</td>\n",
       "    </tr>\n",
       "    <tr>\n",
       "      <th>bWS</th>\n",
       "      <td>NaN</td>\n",
       "      <td>-51.727439</td>\n",
       "    </tr>\n",
       "    <tr>\n",
       "      <th>sigma</th>\n",
       "      <td>64.079692</td>\n",
       "      <td>51.631081</td>\n",
       "    </tr>\n",
       "  </tbody>\n",
       "</table>\n",
       "</div>"
      ],
      "text/plain": [
       "         mean_7_8    mean_7_9\n",
       "a      129.239881  127.814939\n",
       "bS     -41.040548  -40.914899\n",
       "bW      73.878894   74.977250\n",
       "bWS           NaN  -51.727439\n",
       "sigma   64.079692   51.631081"
      ]
     },
     "execution_count": 29,
     "metadata": {},
     "output_type": "execute_result"
    }
   ],
   "source": [
    "with pm.Model() as m7_8:\n",
    "    sigma = pm.Uniform(\"sigma\", 0, 100)\n",
    "    bS = pm.Normal(\"bS\", mu=0, sd=100)\n",
    "    bW = pm.Normal(\"bW\", mu=0, sd=100)\n",
    "    a = pm.Normal(\"a\", mu=130, sd=100)\n",
    "    mu = pm.Deterministic(\"mu\", a +\\\n",
    "                                bW*model_water_c +\\\n",
    "                                bS*model_shade_c)\n",
    "    blooms = pm.Normal(\"blooms\", mu=mu, sd=sigma, observed=d[\"blooms\"])\n",
    "    trace7_8 = pm.sample(draws=1000, tune=1000)\n",
    "    \n",
    "with pm.Model() as m7_9:\n",
    "    sigma = pm.Uniform(\"sigma\", 0, 100)\n",
    "    bWS = pm.Normal(\"bWS\", mu=0, sd=100) \n",
    "    bS = pm.Normal(\"bS\", mu=0, sd=100)\n",
    "    bW = pm.Normal(\"bW\", mu=0, sd=100)\n",
    "    a = pm.Normal(\"a\", mu=0, sd=100)\n",
    "    mu = pm.Deterministic(\"mu\", a +\\\n",
    "                                bW*model_water_c +\\\n",
    "                                bS*model_shade_c +\\\n",
    "                                bWS*model_water_c*model_shade_c)\n",
    "    blooms = pm.Normal(\"blooms\", mu=mu, sd=sigma, observed=d[\"blooms\"])\n",
    "    trace7_9 = pm.sample(draws=1000, tune=1000)\n",
    "    \n",
    "(pm.summary(trace7_8, varnames=[\"a\", \"bW\", \"bS\", \"sigma\"])[[\"mean\"]]\n",
    " .join(pm.summary(trace7_9, varnames=[\"a\", \"bW\", \"bS\", \"sigma\", \"bWS\"])[[\"mean\"]],\n",
    "       lsuffix=\"_7_8\", rsuffix=\"_7_9\", how=\"outer\"))"
   ]
  },
  {
   "cell_type": "markdown",
   "metadata": {},
   "source": [
    "### 7.25"
   ]
  },
  {
   "cell_type": "code",
   "execution_count": 30,
   "metadata": {},
   "outputs": [
    {
     "data": {
      "text/plain": [
       "129.67401078397924"
      ]
     },
     "execution_count": 30,
     "metadata": {},
     "output_type": "execute_result"
    }
   ],
   "source": [
    "k = pm.summary(trace7_7, varnames=[\"a\", \"bW\", \"bS\", \"bWS\"])[\"mean\"]\n",
    "k[\"a\"] + k[\"bW\"]*2 + k[\"bS\"]*2 + k[\"bWS\"]*2*2"
   ]
  },
  {
   "cell_type": "markdown",
   "metadata": {},
   "source": [
    "### 7.26"
   ]
  },
  {
   "cell_type": "code",
   "execution_count": 31,
   "metadata": {},
   "outputs": [
    {
     "data": {
      "text/plain": [
       "127.81493874332502"
      ]
     },
     "execution_count": 31,
     "metadata": {},
     "output_type": "execute_result"
    }
   ],
   "source": [
    "k = pm.summary(trace7_9, varnames=[\"a\", \"bW\", \"bS\", \"bWS\"])[\"mean\"]\n",
    "k[\"a\"] + k[\"bW\"]*0 + k[\"bS\"]*0 + k[\"bWS\"]*0*0"
   ]
  },
  {
   "cell_type": "markdown",
   "metadata": {},
   "source": [
    "### 7.27"
   ]
  },
  {
   "cell_type": "code",
   "execution_count": 32,
   "metadata": {},
   "outputs": [
    {
     "data": {
      "text/html": [
       "<div>\n",
       "<style scoped>\n",
       "    .dataframe tbody tr th:only-of-type {\n",
       "        vertical-align: middle;\n",
       "    }\n",
       "\n",
       "    .dataframe tbody tr th {\n",
       "        vertical-align: top;\n",
       "    }\n",
       "\n",
       "    .dataframe thead th {\n",
       "        text-align: right;\n",
       "    }\n",
       "</style>\n",
       "<table border=\"1\" class=\"dataframe\">\n",
       "  <thead>\n",
       "    <tr style=\"text-align: right;\">\n",
       "      <th></th>\n",
       "      <th>mean</th>\n",
       "      <th>sd</th>\n",
       "      <th>hpd_5.5</th>\n",
       "      <th>hpd_94.5</th>\n",
       "    </tr>\n",
       "  </thead>\n",
       "  <tbody>\n",
       "    <tr>\n",
       "      <th>a</th>\n",
       "      <td>127.81</td>\n",
       "      <td>9.98</td>\n",
       "      <td>111.97</td>\n",
       "      <td>143.06</td>\n",
       "    </tr>\n",
       "    <tr>\n",
       "      <th>bW</th>\n",
       "      <td>74.98</td>\n",
       "      <td>12.18</td>\n",
       "      <td>56.05</td>\n",
       "      <td>94.88</td>\n",
       "    </tr>\n",
       "    <tr>\n",
       "      <th>bS</th>\n",
       "      <td>-40.91</td>\n",
       "      <td>12.26</td>\n",
       "      <td>-60.17</td>\n",
       "      <td>-21.56</td>\n",
       "    </tr>\n",
       "    <tr>\n",
       "      <th>bWS</th>\n",
       "      <td>-51.73</td>\n",
       "      <td>14.17</td>\n",
       "      <td>-72.34</td>\n",
       "      <td>-27.86</td>\n",
       "    </tr>\n",
       "    <tr>\n",
       "      <th>sigma</th>\n",
       "      <td>51.63</td>\n",
       "      <td>8.07</td>\n",
       "      <td>39.14</td>\n",
       "      <td>63.68</td>\n",
       "    </tr>\n",
       "  </tbody>\n",
       "</table>\n",
       "</div>"
      ],
      "text/plain": [
       "         mean     sd  hpd_5.5  hpd_94.5\n",
       "a      127.81   9.98   111.97    143.06\n",
       "bW      74.98  12.18    56.05     94.88\n",
       "bS     -40.91  12.26   -60.17    -21.56\n",
       "bWS    -51.73  14.17   -72.34    -27.86\n",
       "sigma   51.63   8.07    39.14     63.68"
      ]
     },
     "execution_count": 32,
     "metadata": {},
     "output_type": "execute_result"
    }
   ],
   "source": [
    "(pm.summary(trace7_9, varnames=[\"a\", \"bW\", \"bS\", \"bWS\", \"sigma\"], alpha=0.11)\n",
    " .round(2)\n",
    " [[\"mean\", \"sd\", \"hpd_5.5\", \"hpd_94.5\"]])"
   ]
  },
  {
   "cell_type": "markdown",
   "metadata": {},
   "source": [
    "### 7.28"
   ]
  },
  {
   "cell_type": "code",
   "execution_count": 33,
   "metadata": {},
   "outputs": [
    {
     "name": "stderr",
     "output_type": "stream",
     "text": [
      "100%|██████████| 10000/10000 [00:01<00:00, 5819.80it/s]\n",
      "100%|██████████| 10000/10000 [00:01<00:00, 6223.78it/s]\n",
      "100%|██████████| 10000/10000 [00:01<00:00, 6738.87it/s]\n"
     ]
    },
    {
     "data": {
      "image/png": "[encoded data removed]",
      "text/plain": [
       "<Figure size 1908x648 with 3 Axes>"
      ]
     },
     "metadata": {},
     "output_type": "display_data"
    }
   ],
   "source": [
    "f, axs = plt.subplots(1, 3, sharey=True)\n",
    "f.set_size_inches(26.5, 9)\n",
    "\n",
    "shade_seq = np.arange(-1, 2)\n",
    "model_shade_c.set_value(shade_seq)\n",
    "\n",
    "for w, ax in zip(range(-1, 2), axs):\n",
    "    dt = d[d[\"water_c\"] == w]\n",
    "    ax.plot(dt[\"shade_c\"], dt[\"blooms\"], \"o\", mew=1, mec=\"C0\", mfc=\"None\")\n",
    "    ax.set_xticks(shade_seq)\n",
    "    ax.set_ylim(0, 370)\n",
    "    ax.set_title(\"water_c = {}\".format(w))\n",
    "    ax.set_xlabel(\"shade (centered)\")\n",
    "    ax.set_ylabel(\"blooms\")\n",
    "    model_water_c.set_value(np.repeat(w, len(shade_seq)))\n",
    "    mu = pm.sample_ppc(trace7_9, samples=10000, model=m7_9, vars=[m7_9.mu])[\"mu\"]\n",
    "    mu_mean = mu.mean(0)\n",
    "    mu_pi = pm.hpd(mu, alpha=0.03)\n",
    "    ax.plot(shade_seq, mu_mean, color=\"C0\")\n",
    "    ax.plot(shade_seq, mu_pi[:, 0], \"--\", color=\"C0\")\n",
    "    ax.plot(shade_seq, mu_pi[:, 1], \"--\", color=\"C0\")"
   ]
  }
 ],
 "metadata": {
  "kernelspec": {
   "display_name": "Python 3",
   "language": "python",
   "name": "python3"
  },
  "language_info": {
   "codemirror_mode": {
    "name": "ipython",
    "version": 3
   },
   "file_extension": ".py",
   "mimetype": "text/x-python",
   "name": "python",
   "nbconvert_exporter": "python",
   "pygments_lexer": "ipython3",
   "version": "3.6.5"
  }
 },
 "nbformat": 4,
 "nbformat_minor": 2
}
