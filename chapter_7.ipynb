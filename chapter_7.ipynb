{
 "cells": [
  {
   "cell_type": "markdown",
   "metadata": {},
   "source": [
    "# Interactions"
   ]
  },
  {
   "cell_type": "code",
   "execution_count": 1,
   "metadata": {},
   "outputs": [],
   "source": [
    "import warnings\n",
    "warnings.filterwarnings(\"ignore\")"
   ]
  },
  {
   "cell_type": "code",
   "execution_count": 2,
   "metadata": {},
   "outputs": [],
   "source": [
    "import theano\n",
    "import numpy as np\n",
    "import pymc3 as pm\n",
    "import pandas as pd\n",
    "import seaborn as sns\n",
    "import scipy.stats as stats\n",
    "import matplotlib.pyplot as plt\n",
    "import statsmodels.formula.api as smf\n",
    "%matplotlib inline"
   ]
  },
  {
   "cell_type": "code",
   "execution_count": 3,
   "metadata": {},
   "outputs": [],
   "source": [
    "sns.set()"
   ]
  },
  {
   "cell_type": "markdown",
   "metadata": {},
   "source": [
    "## Building an Interaction"
   ]
  },
  {
   "cell_type": "markdown",
   "metadata": {},
   "source": [
    "### 7.1"
   ]
  },
  {
   "cell_type": "code",
   "execution_count": 4,
   "metadata": {},
   "outputs": [],
   "source": [
    "d = pd.read_csv('Data/rugged.csv', sep=';')\n",
    "\n",
    "# make log version of outcome\n",
    "d[\"log_gdp\"] = np.log(d[\"rgdppc_2000\"])\n",
    "\n",
    "# extract countries with GDP data\n",
    "dd = d[np.isfinite(d[\"rgdppc_2000\"])]\n",
    "\n",
    "# split countries into Africa and not-Africa\n",
    "d_A1 = dd[dd[\"cont_africa\"] == 1]\n",
    "d_A0 = dd[dd[\"cont_africa\"] == 0]"
   ]
  },
  {
   "cell_type": "markdown",
   "metadata": {},
   "source": [
    "### 7.2"
   ]
  },
  {
   "cell_type": "code",
   "execution_count": 5,
   "metadata": {},
   "outputs": [
    {
     "name": "stderr",
     "output_type": "stream",
     "text": [
      "Auto-assigning NUTS sampler...\n",
      "Initializing NUTS using jitter+adapt_diag...\n",
      "Multiprocess sampling (2 chains in 2 jobs)\n",
      "NUTS: [a, bR, sigma]\n",
      "Sampling 2 chains: 100%|██████████| 4000/4000 [00:02<00:00, 1405.39draws/s]\n",
      "Auto-assigning NUTS sampler...\n",
      "Initializing NUTS using jitter+adapt_diag...\n",
      "Multiprocess sampling (2 chains in 2 jobs)\n",
      "NUTS: [a, bR, sigma]\n",
      "Sampling 2 chains: 100%|██████████| 4000/4000 [00:03<00:00, 1319.76draws/s]\n"
     ]
    }
   ],
   "source": [
    "# African Nations\n",
    "with pm.Model() as m7_1:\n",
    "    sigma = pm.Uniform(\"sigma\", 0, 10)\n",
    "    bR = pm.Normal(\"bR\", mu=0, sd=1)\n",
    "    a = pm.Normal(\"a\", mu=8, sd=100)\n",
    "    mu = pm.Deterministic(\"mu\", a + bR*d_A1[\"rugged\"])\n",
    "    log_gdp = pm.Normal(\"log_gdp\", mu=mu, sd=sigma, observed=d_A1[\"log_gdp\"])\n",
    "    trace7_1 = pm.sample(draws=1000, tune=1000)\n",
    "    \n",
    "# non-African Nations\n",
    "with pm.Model() as m7_2:\n",
    "    sigma = pm.Uniform(\"sigma\", 0, 10)\n",
    "    bR = pm.Normal(\"bR\", mu=0, sd=1)\n",
    "    a = pm.Normal(\"a\", mu=8, sd=100)\n",
    "    mu = pm.Deterministic(\"mu\", a + bR*d_A0[\"rugged\"])\n",
    "    log_gdp = pm.Normal(\"log_gdp\", mu=mu, sd=sigma, observed=d_A0[\"log_gdp\"])\n",
    "    trace7_2 = pm.sample(draws=1000, tune=1000)"
   ]
  },
  {
   "cell_type": "markdown",
   "metadata": {},
   "source": [
    "### 7.3"
   ]
  },
  {
   "cell_type": "code",
   "execution_count": 6,
   "metadata": {},
   "outputs": [],
   "source": [
    "model_rugged = theano.shared(dd[\"rugged\"].values)\n",
    "model_cont_africa = theano.shared(dd[\"cont_africa\"].values)"
   ]
  },
  {
   "cell_type": "code",
   "execution_count": 7,
   "metadata": {},
   "outputs": [
    {
     "name": "stderr",
     "output_type": "stream",
     "text": [
      "Auto-assigning NUTS sampler...\n",
      "Initializing NUTS using jitter+adapt_diag...\n",
      "Multiprocess sampling (2 chains in 2 jobs)\n",
      "NUTS: [a, bR, sigma]\n",
      "Sampling 2 chains: 100%|██████████| 4000/4000 [00:03<00:00, 1245.72draws/s]\n"
     ]
    }
   ],
   "source": [
    "with pm.Model() as m7_3:\n",
    "    sigma = pm.Uniform(\"sigma\", 0, 10)\n",
    "    bR = pm.Normal(\"bR\", mu=0, sd=1)\n",
    "    a = pm.Normal(\"a\", mu=8, sd=100)\n",
    "    mu = pm.Deterministic(\"mu\", a + bR*model_rugged)\n",
    "    log_gdp = pm.Normal(\"log_gdp\", mu=mu, sd=sigma, observed=dd[\"log_gdp\"])\n",
    "    trace7_3 = pm.sample(draws=1000, tune=1000)"
   ]
  },
  {
   "cell_type": "markdown",
   "metadata": {},
   "source": [
    "### 7.4"
   ]
  },
  {
   "cell_type": "code",
   "execution_count": 8,
   "metadata": {},
   "outputs": [
    {
     "name": "stderr",
     "output_type": "stream",
     "text": [
      "Auto-assigning NUTS sampler...\n",
      "Initializing NUTS using jitter+adapt_diag...\n",
      "Multiprocess sampling (2 chains in 2 jobs)\n",
      "NUTS: [a, bA, bR, sigma]\n",
      "Sampling 2 chains: 100%|██████████| 4000/4000 [00:03<00:00, 1122.94draws/s]\n"
     ]
    }
   ],
   "source": [
    "with pm.Model() as m7_4:\n",
    "    sigma = pm.Uniform(\"sigma\", 0, 10)\n",
    "    bR = pm.Normal(\"bR\", mu=0, sd=1)\n",
    "    bA = pm.Normal(\"bA\", mu=0, sd=1)\n",
    "    a = pm.Normal(\"a\", mu=8, sd=100)\n",
    "    mu = pm.Deterministic(\"mu\", a + bR*model_rugged + bA*model_cont_africa)\n",
    "    log_gdp = pm.Normal(\"log_gdp\", mu=mu, sd=sigma, observed=dd[\"log_gdp\"])\n",
    "    trace7_4 = pm.sample(draws=1000, tune=1000)"
   ]
  },
  {
   "cell_type": "markdown",
   "metadata": {},
   "source": [
    "### 7.5"
   ]
  },
  {
   "cell_type": "code",
   "execution_count": 9,
   "metadata": {},
   "outputs": [
    {
     "name": "stderr",
     "output_type": "stream",
     "text": [
      "/Users/sgodiwala/anaconda3/lib/python3.6/site-packages/pymc3/stats.py:211: UserWarning: For one or more samples the posterior variance of the\n",
      "        log predictive densities exceeds 0.4. This could be indication of\n",
      "        WAIC starting to fail see http://arxiv.org/abs/1507.04544 for details\n",
      "        \n",
      "  \"\"\")\n"
     ]
    },
    {
     "data": {
      "text/html": [
       "<div>\n",
       "<style scoped>\n",
       "    .dataframe tbody tr th:only-of-type {\n",
       "        vertical-align: middle;\n",
       "    }\n",
       "\n",
       "    .dataframe tbody tr th {\n",
       "        vertical-align: top;\n",
       "    }\n",
       "\n",
       "    .dataframe thead th {\n",
       "        text-align: right;\n",
       "    }\n",
       "</style>\n",
       "<table border=\"1\" class=\"dataframe\">\n",
       "  <thead>\n",
       "    <tr style=\"text-align: right;\">\n",
       "      <th></th>\n",
       "      <th>WAIC</th>\n",
       "      <th>pWAIC</th>\n",
       "      <th>dWAIC</th>\n",
       "      <th>weight</th>\n",
       "      <th>SE</th>\n",
       "      <th>dSE</th>\n",
       "      <th>var_warn</th>\n",
       "    </tr>\n",
       "    <tr>\n",
       "      <th>model</th>\n",
       "      <th></th>\n",
       "      <th></th>\n",
       "      <th></th>\n",
       "      <th></th>\n",
       "      <th></th>\n",
       "      <th></th>\n",
       "      <th></th>\n",
       "    </tr>\n",
       "  </thead>\n",
       "  <tbody>\n",
       "    <tr>\n",
       "      <th>m7_4</th>\n",
       "      <td>476.23</td>\n",
       "      <td>4.23</td>\n",
       "      <td>0</td>\n",
       "      <td>1</td>\n",
       "      <td>14.8</td>\n",
       "      <td>0</td>\n",
       "      <td>1</td>\n",
       "    </tr>\n",
       "    <tr>\n",
       "      <th>m7_3</th>\n",
       "      <td>539.58</td>\n",
       "      <td>2.64</td>\n",
       "      <td>63.35</td>\n",
       "      <td>0</td>\n",
       "      <td>12.88</td>\n",
       "      <td>14.59</td>\n",
       "      <td>0</td>\n",
       "    </tr>\n",
       "  </tbody>\n",
       "</table>\n",
       "</div>"
      ],
      "text/plain": [
       "         WAIC pWAIC  dWAIC weight     SE    dSE var_warn\n",
       "model                                                   \n",
       "m7_4   476.23  4.23      0      1   14.8      0        1\n",
       "m7_3   539.58  2.64  63.35      0  12.88  14.59        0"
      ]
     },
     "execution_count": 9,
     "metadata": {},
     "output_type": "execute_result"
    }
   ],
   "source": [
    "(pm.compare({m7_3: trace7_3,\n",
    "             m7_4: trace7_4},\n",
    "            method='pseudo-BMA')\n",
    "            .join(pd.Series([\"m7_3\", \"m7_4\"], name=\"model\"))\n",
    "            .set_index(\"model\")\n",
    "            .sort_values(\"WAIC\"))"
   ]
  },
  {
   "cell_type": "markdown",
   "metadata": {},
   "source": [
    "### 7.6"
   ]
  },
  {
   "cell_type": "code",
   "execution_count": 10,
   "metadata": {},
   "outputs": [
    {
     "name": "stderr",
     "output_type": "stream",
     "text": [
      "100%|██████████| 10000/10000 [00:01<00:00, 8614.86it/s]\n",
      "100%|██████████| 10000/10000 [00:01<00:00, 8637.67it/s]\n"
     ]
    }
   ],
   "source": [
    "rugged_seq = np.arange(-8, 8, 0.25)\n",
    "model_rugged.set_value(rugged_seq)\n",
    "\n",
    "# compute mu over samples, fixing cont_africa=0\n",
    "model_cont_africa.set_value(np.repeat(0, len(rugged_seq)))\n",
    "mu_NotAfrica = pm.sample_ppc(trace7_4, samples=10000, model=m7_4, vars=[m7_4.mu])[\"mu\"]\n",
    "\n",
    "# compute mu over samples, fixing cont_africa=1\n",
    "model_cont_africa.set_value(np.repeat(1, len(rugged_seq)))\n",
    "mu_Africa = pm.sample_ppc(trace7_4, samples=10000, model=m7_4, vars=[m7_4.mu])[\"mu\"]\n",
    "\n",
    "\n",
    "mu_NotAfrica_mean = mu_NotAfrica.mean(0)\n",
    "mu_NotAfrica_pi = pm.hpd(mu_NotAfrica, alpha=0.03)\n",
    "mu_Africa_mean = mu_Africa.mean(0)\n",
    "mu_Africa_pi = pm.hpd(mu_Africa, alpha=0.03)"
   ]
  },
  {
   "cell_type": "markdown",
   "metadata": {},
   "source": [
    "### 7.7"
   ]
  },
  {
   "cell_type": "code",
   "execution_count": 11,
   "metadata": {},
   "outputs": [],
   "source": [
    "model_rugged.set_value(dd[\"rugged\"].values)\n",
    "model_cont_africa.set_value(dd[\"cont_africa\"].values)"
   ]
  },
  {
   "cell_type": "code",
   "execution_count": 12,
   "metadata": {},
   "outputs": [
    {
     "name": "stderr",
     "output_type": "stream",
     "text": [
      "Auto-assigning NUTS sampler...\n",
      "Initializing NUTS using jitter+adapt_diag...\n",
      "Multiprocess sampling (2 chains in 2 jobs)\n",
      "NUTS: [a, bA, bR, bAR, sigma]\n",
      "Sampling 2 chains: 100%|██████████| 4000/4000 [00:04<00:00, 890.25draws/s] \n"
     ]
    }
   ],
   "source": [
    "with pm.Model() as m7_5:\n",
    "    sigma = pm.Uniform(\"sigma\", 0, 10)\n",
    "    bAR = pm.Normal(\"bAR\", mu=0, sd=1)\n",
    "    bR = pm.Normal(\"bR\", mu=0, sd=1)\n",
    "    bA = pm.Normal(\"bA\", mu=0, sd=1)\n",
    "    a = pm.Normal(\"a\", mu=8, sd=100)\n",
    "    gamma = pm.Deterministic(\"gamma\", bR + bAR*model_cont_africa)\n",
    "    mu = pm.Deterministic(\"mu\", a + gamma*model_rugged + bA*model_cont_africa)\n",
    "    log_gdp = pm.Normal(\"log_gdp\", mu=mu, sd=sigma, observed=dd[\"log_gdp\"])\n",
    "    trace7_5 = pm.sample(draws=1000, tune=1000)"
   ]
  },
  {
   "cell_type": "markdown",
   "metadata": {},
   "source": [
    "### 7.8"
   ]
  },
  {
   "cell_type": "code",
   "execution_count": 13,
   "metadata": {},
   "outputs": [
    {
     "name": "stderr",
     "output_type": "stream",
     "text": [
      "/Users/sgodiwala/anaconda3/lib/python3.6/site-packages/pymc3/stats.py:211: UserWarning: For one or more samples the posterior variance of the\n",
      "        log predictive densities exceeds 0.4. This could be indication of\n",
      "        WAIC starting to fail see http://arxiv.org/abs/1507.04544 for details\n",
      "        \n",
      "  \"\"\")\n",
      "/Users/sgodiwala/anaconda3/lib/python3.6/site-packages/pymc3/stats.py:211: UserWarning: For one or more samples the posterior variance of the\n",
      "        log predictive densities exceeds 0.4. This could be indication of\n",
      "        WAIC starting to fail see http://arxiv.org/abs/1507.04544 for details\n",
      "        \n",
      "  \"\"\")\n"
     ]
    },
    {
     "data": {
      "text/html": [
       "<div>\n",
       "<style scoped>\n",
       "    .dataframe tbody tr th:only-of-type {\n",
       "        vertical-align: middle;\n",
       "    }\n",
       "\n",
       "    .dataframe tbody tr th {\n",
       "        vertical-align: top;\n",
       "    }\n",
       "\n",
       "    .dataframe thead th {\n",
       "        text-align: right;\n",
       "    }\n",
       "</style>\n",
       "<table border=\"1\" class=\"dataframe\">\n",
       "  <thead>\n",
       "    <tr style=\"text-align: right;\">\n",
       "      <th></th>\n",
       "      <th>WAIC</th>\n",
       "      <th>pWAIC</th>\n",
       "      <th>dWAIC</th>\n",
       "      <th>weight</th>\n",
       "      <th>SE</th>\n",
       "      <th>dSE</th>\n",
       "      <th>var_warn</th>\n",
       "    </tr>\n",
       "    <tr>\n",
       "      <th>model</th>\n",
       "      <th></th>\n",
       "      <th></th>\n",
       "      <th></th>\n",
       "      <th></th>\n",
       "      <th></th>\n",
       "      <th></th>\n",
       "      <th></th>\n",
       "    </tr>\n",
       "  </thead>\n",
       "  <tbody>\n",
       "    <tr>\n",
       "      <th>m7_5</th>\n",
       "      <td>469.1</td>\n",
       "      <td>4.91</td>\n",
       "      <td>0</td>\n",
       "      <td>0.97</td>\n",
       "      <td>14.57</td>\n",
       "      <td>0</td>\n",
       "      <td>1</td>\n",
       "    </tr>\n",
       "    <tr>\n",
       "      <th>m7_4</th>\n",
       "      <td>476.23</td>\n",
       "      <td>4.23</td>\n",
       "      <td>7.13</td>\n",
       "      <td>0.03</td>\n",
       "      <td>14.8</td>\n",
       "      <td>6.04</td>\n",
       "      <td>1</td>\n",
       "    </tr>\n",
       "    <tr>\n",
       "      <th>m7_3</th>\n",
       "      <td>539.58</td>\n",
       "      <td>2.64</td>\n",
       "      <td>70.48</td>\n",
       "      <td>0</td>\n",
       "      <td>12.88</td>\n",
       "      <td>14.65</td>\n",
       "      <td>0</td>\n",
       "    </tr>\n",
       "  </tbody>\n",
       "</table>\n",
       "</div>"
      ],
      "text/plain": [
       "         WAIC pWAIC  dWAIC weight     SE    dSE var_warn\n",
       "model                                                   \n",
       "m7_5    469.1  4.91      0   0.97  14.57      0        1\n",
       "m7_4   476.23  4.23   7.13   0.03   14.8   6.04        1\n",
       "m7_3   539.58  2.64  70.48      0  12.88  14.65        0"
      ]
     },
     "execution_count": 13,
     "metadata": {},
     "output_type": "execute_result"
    }
   ],
   "source": [
    "(pm.compare({m7_3: trace7_3,\n",
    "             m7_4: trace7_4,\n",
    "             m7_5: trace7_5},\n",
    "            method='pseudo-BMA')\n",
    "            .join(pd.Series([\"m7_3\", \"m7_4\", \"m7_5\"], name=\"model\"))\n",
    "            .set_index(\"model\")\n",
    "            .sort_values(\"WAIC\"))"
   ]
  },
  {
   "cell_type": "markdown",
   "metadata": {},
   "source": [
    "### 7.9"
   ]
  },
  {
   "cell_type": "code",
   "execution_count": 14,
   "metadata": {},
   "outputs": [
    {
     "name": "stderr",
     "output_type": "stream",
     "text": [
      "Auto-assigning NUTS sampler...\n",
      "Initializing NUTS using jitter+adapt_diag...\n",
      "Multiprocess sampling (2 chains in 2 jobs)\n",
      "NUTS: [a, bA, bR, bAR, sigma]\n",
      "Sampling 2 chains: 100%|██████████| 4000/4000 [00:04<00:00, 961.42draws/s] \n"
     ]
    }
   ],
   "source": [
    "with pm.Model() as m7_5b:\n",
    "    sigma = pm.Uniform(\"sigma\", 0, 10)\n",
    "    bAR = pm.Normal(\"bAR\", mu=0, sd=1)\n",
    "    bR = pm.Normal(\"bR\", mu=0, sd=1)\n",
    "    bA = pm.Normal(\"bA\", mu=0, sd=1)\n",
    "    a = pm.Normal(\"a\", mu=8, sd=100)\n",
    "    mu = pm.Deterministic(\"mu\", a +\\\n",
    "                                bA*dd[\"cont_africa\"] +\\\n",
    "                                bR*dd[\"rugged\"] +\\\n",
    "                                bAR*dd[\"rugged\"]*dd[\"cont_africa\"])\n",
    "    log_gdp = pm.Normal(\"log_gdp\", mu=mu, sd=sigma, observed=dd[\"log_gdp\"])\n",
    "    trace7_5b = pm.sample(draws=1000, tune=1000)"
   ]
  },
  {
   "cell_type": "markdown",
   "metadata": {},
   "source": [
    "### 7.10"
   ]
  },
  {
   "cell_type": "code",
   "execution_count": 15,
   "metadata": {},
   "outputs": [
    {
     "name": "stderr",
     "output_type": "stream",
     "text": [
      "100%|██████████| 10000/10000 [00:01<00:00, 6626.47it/s]\n",
      "100%|██████████| 10000/10000 [00:01<00:00, 7048.61it/s]\n"
     ]
    }
   ],
   "source": [
    "rugged_seq = np.arange(-1, 8, 0.25)\n",
    "model_rugged.set_value(rugged_seq)\n",
    "\n",
    "model_cont_africa.set_value(np.repeat(1, len(rugged_seq)))\n",
    "mu_Africa = pm.sample_ppc(trace7_5, samples=10000, model=m7_5, vars=[m7_5.mu])[\"mu\"]\n",
    "mu_Africa_mean = mu_Africa.mean(0)\n",
    "mu_Africa_pi = pm.hpd(mu_Africa, alpha=0.03)\n",
    "\n",
    "model_cont_africa.set_value(np.repeat(0, len(rugged_seq)))\n",
    "mu_NotAfrica = pm.sample_ppc(trace7_5, samples=10000, model=m7_5, vars=[m7_5.mu])[\"mu\"]\n",
    "mu_NotAfrica_mean = mu_NotAfrica.mean(0)\n",
    "mu_NotAfrica_pi = pm.hpd(mu_NotAfrica, alpha=0.03)"
   ]
  },
  {
   "cell_type": "markdown",
   "metadata": {},
   "source": [
    "### 7.11"
   ]
  },
  {
   "cell_type": "code",
   "execution_count": 16,
   "metadata": {},
   "outputs": [
    {
     "data": {
      "image/png": "[encoded data removed]",
      "text/plain": [
       "<Figure size 1440x648 with 2 Axes>"
      ]
     },
     "metadata": {},
     "output_type": "display_data"
    }
   ],
   "source": [
    "f, axs = plt.subplots(1, 2, sharey=True)\n",
    "f.set_size_inches(20, 9)\n",
    "\n",
    "d_A1 = dd[dd[\"cont_africa\"] == 1]\n",
    "axs[0].plot(d_A1[\"rugged\"], d_A1[\"log_gdp\"], \"o\", mew=1, mec=\"C0\", mfc=\"None\")\n",
    "axs[0].plot(rugged_seq, mu_Africa_mean, color=\"C0\")\n",
    "axs[0].fill_between(rugged_seq, mu_Africa_pi[:,0], mu_Africa_pi[:,1], alpha=0.25, color=\"C0\")\n",
    "axs[0].set_title(\"African Nations\")\n",
    "axs[0].set_xlabel(\"Terrain Ruggedness Index\")\n",
    "\n",
    "d_A0 = dd[dd[\"cont_africa\"] == 0]\n",
    "axs[1].plot(d_A0[\"rugged\"], d_A0[\"log_gdp\"], \"o\", mew=1, mec=\"C1\", mfc=\"None\")\n",
    "axs[1].plot(rugged_seq, mu_NotAfrica_mean, color=\"C1\")\n",
    "axs[1].fill_between(rugged_seq, mu_NotAfrica_pi[:,0], mu_NotAfrica_pi[:,1], alpha=0.25, color=\"C1\")\n",
    "axs[1].set_title(\"Non-African Nations\")\n",
    "axs[1].set_xlabel(\"Terrain Ruggedness Index\")\n",
    "\n",
    "axs[0].set_xlim((-1, 7.75))\n",
    "axs[1].set_xlim((-1, 7.75))\n",
    "axs[0].set_ylabel(\"log GDP year 2000\");"
   ]
  },
  {
   "cell_type": "markdown",
   "metadata": {},
   "source": [
    "### 7.12"
   ]
  },
  {
   "cell_type": "code",
   "execution_count": 17,
   "metadata": {},
   "outputs": [
    {
     "data": {
      "text/html": [
       "<div>\n",
       "<style scoped>\n",
       "    .dataframe tbody tr th:only-of-type {\n",
       "        vertical-align: middle;\n",
       "    }\n",
       "\n",
       "    .dataframe tbody tr th {\n",
       "        vertical-align: top;\n",
       "    }\n",
       "\n",
       "    .dataframe thead th {\n",
       "        text-align: right;\n",
       "    }\n",
       "</style>\n",
       "<table border=\"1\" class=\"dataframe\">\n",
       "  <thead>\n",
       "    <tr style=\"text-align: right;\">\n",
       "      <th></th>\n",
       "      <th>mean</th>\n",
       "      <th>sd</th>\n",
       "      <th>mc_error</th>\n",
       "      <th>hpd_2.5</th>\n",
       "      <th>hpd_97.5</th>\n",
       "      <th>n_eff</th>\n",
       "      <th>Rhat</th>\n",
       "    </tr>\n",
       "  </thead>\n",
       "  <tbody>\n",
       "    <tr>\n",
       "      <th>a</th>\n",
       "      <td>9.186610</td>\n",
       "      <td>0.133555</td>\n",
       "      <td>0.004548</td>\n",
       "      <td>8.903370</td>\n",
       "      <td>9.424508</td>\n",
       "      <td>859.585194</td>\n",
       "      <td>0.999534</td>\n",
       "    </tr>\n",
       "    <tr>\n",
       "      <th>bA</th>\n",
       "      <td>-1.852107</td>\n",
       "      <td>0.216701</td>\n",
       "      <td>0.007424</td>\n",
       "      <td>-2.276705</td>\n",
       "      <td>-1.439829</td>\n",
       "      <td>941.099068</td>\n",
       "      <td>0.999661</td>\n",
       "    </tr>\n",
       "    <tr>\n",
       "      <th>bR</th>\n",
       "      <td>-0.187521</td>\n",
       "      <td>0.074731</td>\n",
       "      <td>0.002555</td>\n",
       "      <td>-0.335186</td>\n",
       "      <td>-0.047336</td>\n",
       "      <td>876.368629</td>\n",
       "      <td>0.999541</td>\n",
       "    </tr>\n",
       "    <tr>\n",
       "      <th>bAR</th>\n",
       "      <td>0.352445</td>\n",
       "      <td>0.129111</td>\n",
       "      <td>0.004225</td>\n",
       "      <td>0.102915</td>\n",
       "      <td>0.599812</td>\n",
       "      <td>1008.491759</td>\n",
       "      <td>1.000155</td>\n",
       "    </tr>\n",
       "    <tr>\n",
       "      <th>sigma</th>\n",
       "      <td>0.950149</td>\n",
       "      <td>0.053791</td>\n",
       "      <td>0.001130</td>\n",
       "      <td>0.843746</td>\n",
       "      <td>1.052386</td>\n",
       "      <td>1998.482512</td>\n",
       "      <td>1.000104</td>\n",
       "    </tr>\n",
       "  </tbody>\n",
       "</table>\n",
       "</div>"
      ],
      "text/plain": [
       "           mean        sd  mc_error   hpd_2.5  hpd_97.5        n_eff      Rhat\n",
       "a      9.186610  0.133555  0.004548  8.903370  9.424508   859.585194  0.999534\n",
       "bA    -1.852107  0.216701  0.007424 -2.276705 -1.439829   941.099068  0.999661\n",
       "bR    -0.187521  0.074731  0.002555 -0.335186 -0.047336   876.368629  0.999541\n",
       "bAR    0.352445  0.129111  0.004225  0.102915  0.599812  1008.491759  1.000155\n",
       "sigma  0.950149  0.053791  0.001130  0.843746  1.052386  1998.482512  1.000104"
      ]
     },
     "execution_count": 17,
     "metadata": {},
     "output_type": "execute_result"
    }
   ],
   "source": [
    "pm.summary(trace7_5, varnames=[\"a\", \"bA\", \"bR\", \"bAR\", \"sigma\"])"
   ]
  },
  {
   "cell_type": "markdown",
   "metadata": {},
   "source": [
    "### 7.13"
   ]
  },
  {
   "cell_type": "code",
   "execution_count": 18,
   "metadata": {},
   "outputs": [],
   "source": [
    "gamma_Africa = trace7_5[\"bR\"] + trace7_5[\"bAR\"]*1\n",
    "gamma_notAfrica = trace7_5[\"bR\"] + trace7_5[\"bAR\"]*0"
   ]
  },
  {
   "cell_type": "markdown",
   "metadata": {},
   "source": [
    "### 7.14"
   ]
  },
  {
   "cell_type": "code",
   "execution_count": 19,
   "metadata": {},
   "outputs": [
    {
     "data": {
      "text/plain": [
       "(0.16492385442405744, -0.18752083159993857)"
      ]
     },
     "execution_count": 19,
     "metadata": {},
     "output_type": "execute_result"
    }
   ],
   "source": [
    "(gamma_Africa.mean(),\n",
    " gamma_notAfrica.mean())"
   ]
  },
  {
   "cell_type": "markdown",
   "metadata": {},
   "source": [
    "### 7.15"
   ]
  },
  {
   "cell_type": "code",
   "execution_count": 20,
   "metadata": {},
   "outputs": [
    {
     "data": {
      "image/png": "[encoded data removed]",
      "text/plain": [
       "<Figure size 972x648 with 1 Axes>"
      ]
     },
     "metadata": {},
     "output_type": "display_data"
    }
   ],
   "source": [
    "f, ax = plt.subplots(1, 1)\n",
    "f.set_size_inches(13.5, 9)\n",
    "sns.kdeplot(gamma_Africa, ax=ax)\n",
    "sns.kdeplot(gamma_notAfrica, ax=ax)\n",
    "ax.set_xlim((-0.5, 0.6))\n",
    "ax.set_ylim((0, 5.5))\n",
    "ax.set_xlabel(\"gamma\")\n",
    "ax.set_ylabel(\"density\");"
   ]
  },
  {
   "cell_type": "markdown",
   "metadata": {},
   "source": [
    "### 7.16"
   ]
  },
  {
   "cell_type": "code",
   "execution_count": 21,
   "metadata": {},
   "outputs": [
    {
     "data": {
      "text/plain": [
       "0.005"
      ]
     },
     "execution_count": 21,
     "metadata": {},
     "output_type": "execute_result"
    }
   ],
   "source": [
    "diff = gamma_Africa - gamma_notAfrica\n",
    "sum(diff < 0)/len(diff)"
   ]
  },
  {
   "cell_type": "markdown",
   "metadata": {},
   "source": [
    "## Symmetry of the Linear Interaction"
   ]
  },
  {
   "cell_type": "markdown",
   "metadata": {},
   "source": [
    "### 7.17"
   ]
  },
  {
   "cell_type": "code",
   "execution_count": 22,
   "metadata": {},
   "outputs": [
    {
     "name": "stderr",
     "output_type": "stream",
     "text": [
      "100%|██████████| 10000/10000 [00:01<00:00, 7179.81it/s]\n",
      "100%|██████████| 10000/10000 [00:01<00:00, 6961.30it/s]\n"
     ]
    },
    {
     "data": {
      "image/png": "[encoded data removed]",
      "text/plain": [
       "<Figure size 972x648 with 1 Axes>"
      ]
     },
     "metadata": {},
     "output_type": "display_data"
    }
   ],
   "source": [
    "# get minimum and maximum rugged values\n",
    "q_rugged = (dd[\"rugged\"].min(), dd[\"rugged\"].max())\n",
    "\n",
    "# compute lines and confidence intervals\n",
    "model_rugged.set_value(np.repeat(q_rugged[0], 2))\n",
    "model_cont_africa.set_value([0, 1])\n",
    "mu_ruggedlo = pm.sample_ppc(trace7_5, samples=10000, model=m7_5, vars=[m7_5.mu])[\"mu\"]\n",
    "mu_ruggedlo_mean = mu_ruggedlo.mean(0)\n",
    "mu_ruggedlo_pi = pm.hpd(mu_ruggedlo)\n",
    "\n",
    "model_rugged.set_value(np.repeat(q_rugged[1], 2))\n",
    "model_cont_africa.set_value([0, 1])\n",
    "mu_ruggedhi = pm.sample_ppc(trace7_5, samples=10000, model=m7_5, vars=[m7_5.mu])[\"mu\"]\n",
    "mu_ruggedhi_mean = mu_ruggedhi.mean(0)\n",
    "mu_ruggedhi_pi = pm.hpd(mu_ruggedhi)\n",
    "\n",
    "# plot it all, splitting points at median\n",
    "data = (dd\n",
    "        .assign(more_rugged=lambda df: df[\"rugged\"] > np.median(df[\"rugged\"]))\n",
    "        .set_index([\"more_rugged\"]))\n",
    "\n",
    "f, ax = plt.subplots(1, 1)\n",
    "f.set_size_inches(13.5, 9)\n",
    "ax.plot(data.loc[False][\"cont_africa\"] - 0.05, data.loc[False][\"log_gdp\"], \"o\", mew=1, mec=\"C0\", mfc=\"None\")\n",
    "ax.plot(data.loc[True][\"cont_africa\"] + 0.05, data.loc[True][\"log_gdp\"], \"o\", mew=1, mec=\"C1\", mfc=\"None\")\n",
    "\n",
    "ax.plot([0, 1], mu_ruggedlo_mean, \"--\", color=\"C0\")\n",
    "ax.fill_between([0, 1], mu_ruggedlo_pi[:,0], mu_ruggedlo_pi[:,1], alpha=0.25, color=\"C0\")\n",
    "\n",
    "ax.plot([0, 1], mu_ruggedhi_mean, color=\"C1\")\n",
    "ax.fill_between([0, 1], mu_ruggedhi_pi[:,0], mu_ruggedhi_pi[:,1], alpha=0.25, color=\"C1\")\n",
    "\n",
    "ax.set_xlabel(\"Continent\")\n",
    "ax.set_ylabel(\"log GDP year 2000\")\n",
    "ax.set_xticks([0, 1])\n",
    "ax.set_xticklabels([\"other\", \"Africa\"]);"
   ]
  },
  {
   "cell_type": "markdown",
   "metadata": {},
   "source": [
    "## Continuous Interactions"
   ]
  },
  {
   "cell_type": "markdown",
   "metadata": {},
   "source": [
    "### 7.18"
   ]
  },
  {
   "cell_type": "code",
   "execution_count": 23,
   "metadata": {},
   "outputs": [
    {
     "data": {
      "text/html": [
       "<div>\n",
       "<style scoped>\n",
       "    .dataframe tbody tr th:only-of-type {\n",
       "        vertical-align: middle;\n",
       "    }\n",
       "\n",
       "    .dataframe tbody tr th {\n",
       "        vertical-align: top;\n",
       "    }\n",
       "\n",
       "    .dataframe thead th {\n",
       "        text-align: right;\n",
       "    }\n",
       "</style>\n",
       "<table border=\"1\" class=\"dataframe\">\n",
       "  <thead>\n",
       "    <tr style=\"text-align: right;\">\n",
       "      <th></th>\n",
       "      <th>bed</th>\n",
       "      <th>water</th>\n",
       "      <th>shade</th>\n",
       "      <th>blooms</th>\n",
       "    </tr>\n",
       "  </thead>\n",
       "  <tbody>\n",
       "    <tr>\n",
       "      <th>0</th>\n",
       "      <td>a</td>\n",
       "      <td>1</td>\n",
       "      <td>1</td>\n",
       "      <td>0.00</td>\n",
       "    </tr>\n",
       "    <tr>\n",
       "      <th>1</th>\n",
       "      <td>a</td>\n",
       "      <td>1</td>\n",
       "      <td>2</td>\n",
       "      <td>0.00</td>\n",
       "    </tr>\n",
       "    <tr>\n",
       "      <th>2</th>\n",
       "      <td>a</td>\n",
       "      <td>1</td>\n",
       "      <td>3</td>\n",
       "      <td>111.04</td>\n",
       "    </tr>\n",
       "    <tr>\n",
       "      <th>3</th>\n",
       "      <td>a</td>\n",
       "      <td>2</td>\n",
       "      <td>1</td>\n",
       "      <td>183.47</td>\n",
       "    </tr>\n",
       "    <tr>\n",
       "      <th>4</th>\n",
       "      <td>a</td>\n",
       "      <td>2</td>\n",
       "      <td>2</td>\n",
       "      <td>59.16</td>\n",
       "    </tr>\n",
       "  </tbody>\n",
       "</table>\n",
       "</div>"
      ],
      "text/plain": [
       "  bed  water  shade  blooms\n",
       "0   a      1      1    0.00\n",
       "1   a      1      2    0.00\n",
       "2   a      1      3  111.04\n",
       "3   a      2      1  183.47\n",
       "4   a      2      2   59.16"
      ]
     },
     "execution_count": 23,
     "metadata": {},
     "output_type": "execute_result"
    }
   ],
   "source": [
    "d = pd.read_csv('Data/tulips.csv', sep=';')\n",
    "d.head()"
   ]
  },
  {
   "cell_type": "markdown",
   "metadata": {},
   "source": [
    "### 7.19"
   ]
  },
  {
   "cell_type": "code",
   "execution_count": 24,
   "metadata": {},
   "outputs": [
    {
     "name": "stderr",
     "output_type": "stream",
     "text": [
      "Auto-assigning NUTS sampler...\n",
      "Initializing NUTS using jitter+adapt_diag...\n",
      "Multiprocess sampling (2 chains in 2 jobs)\n",
      "NUTS: [a, bW, bS, sigma]\n",
      "Sampling 2 chains: 100%|██████████| 4000/4000 [00:05<00:00, 741.69draws/s]\n",
      "The acceptance probability does not match the target. It is 0.8796835256718785, but should be close to 0.8. Try to increase the number of tuning steps.\n",
      "Auto-assigning NUTS sampler...\n",
      "Initializing NUTS using jitter+adapt_diag...\n",
      "Multiprocess sampling (2 chains in 2 jobs)\n",
      "NUTS: [a, bW, bS, bWS, sigma]\n",
      "Sampling 2 chains: 100%|██████████| 4000/4000 [00:14<00:00, 279.51draws/s]\n",
      "There was 1 divergence after tuning. Increase `target_accept` or reparameterize.\n",
      "There were 5 divergences after tuning. Increase `target_accept` or reparameterize.\n",
      "The acceptance probability does not match the target. It is 0.6976874984921038, but should be close to 0.8. Try to increase the number of tuning steps.\n",
      "The number of effective samples is smaller than 25% for some parameters.\n"
     ]
    }
   ],
   "source": [
    "with pm.Model() as m7_6:\n",
    "    sigma = pm.Uniform(\"sigma\", 0, 100)\n",
    "    bS = pm.Normal(\"bS\", mu=0, sd=100)\n",
    "    bW = pm.Normal(\"bW\", mu=0, sd=100)\n",
    "    a = pm.Normal(\"a\", mu=0, sd=100)\n",
    "    mu = pm.Deterministic(\"mu\", a +\\\n",
    "                                bW*d[\"water\"] +\\\n",
    "                                bS*d[\"shade\"])\n",
    "    blooms = pm.Normal(\"blooms\", mu=mu, sd=sigma, observed=d[\"blooms\"])\n",
    "    trace7_6 = pm.sample(draws=1000, tune=1000)\n",
    "    \n",
    "with pm.Model() as m7_7:\n",
    "    sigma = pm.Uniform(\"sigma\", 0, 100)\n",
    "    bWS = pm.Normal(\"bWS\", mu=0, sd=100) \n",
    "    bS = pm.Normal(\"bS\", mu=0, sd=100)\n",
    "    bW = pm.Normal(\"bW\", mu=0, sd=100)\n",
    "    a = pm.Normal(\"a\", mu=0, sd=100)\n",
    "    mu = pm.Deterministic(\"mu\", a +\\\n",
    "                                bW*d[\"water\"] +\\\n",
    "                                bS*d[\"shade\"] +\\\n",
    "                                bWS*d[\"water\"]*d[\"shade\"])\n",
    "    blooms = pm.Normal(\"blooms\", mu=mu, sd=sigma, observed=d[\"blooms\"])\n",
    "    trace7_7 = pm.sample(draws=1000, tune=1000)"
   ]
  },
  {
   "cell_type": "markdown",
   "metadata": {},
   "source": [
    "### 7.20"
   ]
  },
  {
   "cell_type": "markdown",
   "metadata": {},
   "source": [
    "Since I'm not using MAP but MCMC, I'm not implementing the MAP optimisation"
   ]
  },
  {
   "cell_type": "markdown",
   "metadata": {},
   "source": [
    "### 7.21"
   ]
  },
  {
   "cell_type": "code",
   "execution_count": 25,
   "metadata": {},
   "outputs": [
    {
     "data": {
      "text/html": [
       "<div>\n",
       "<style scoped>\n",
       "    .dataframe tbody tr th:only-of-type {\n",
       "        vertical-align: middle;\n",
       "    }\n",
       "\n",
       "    .dataframe tbody tr th {\n",
       "        vertical-align: top;\n",
       "    }\n",
       "\n",
       "    .dataframe thead th {\n",
       "        text-align: right;\n",
       "    }\n",
       "</style>\n",
       "<table border=\"1\" class=\"dataframe\">\n",
       "  <thead>\n",
       "    <tr style=\"text-align: right;\">\n",
       "      <th></th>\n",
       "      <th>mean_7_6</th>\n",
       "      <th>mean_7_7</th>\n",
       "    </tr>\n",
       "  </thead>\n",
       "  <tbody>\n",
       "    <tr>\n",
       "      <th>a</th>\n",
       "      <td>53.038154</td>\n",
       "      <td>-73.762014</td>\n",
       "    </tr>\n",
       "    <tr>\n",
       "      <th>bS</th>\n",
       "      <td>-38.467203</td>\n",
       "      <td>30.016176</td>\n",
       "    </tr>\n",
       "    <tr>\n",
       "      <th>bW</th>\n",
       "      <td>75.988809</td>\n",
       "      <td>145.862007</td>\n",
       "    </tr>\n",
       "    <tr>\n",
       "      <th>bWS</th>\n",
       "      <td>NaN</td>\n",
       "      <td>-37.052386</td>\n",
       "    </tr>\n",
       "    <tr>\n",
       "      <th>sigma</th>\n",
       "      <td>64.139400</td>\n",
       "      <td>52.719196</td>\n",
       "    </tr>\n",
       "  </tbody>\n",
       "</table>\n",
       "</div>"
      ],
      "text/plain": [
       "        mean_7_6    mean_7_7\n",
       "a      53.038154  -73.762014\n",
       "bS    -38.467203   30.016176\n",
       "bW     75.988809  145.862007\n",
       "bWS          NaN  -37.052386\n",
       "sigma  64.139400   52.719196"
      ]
     },
     "execution_count": 25,
     "metadata": {},
     "output_type": "execute_result"
    }
   ],
   "source": [
    "(pm.summary(trace7_6, varnames=[\"a\", \"bW\", \"bS\", \"sigma\"])[[\"mean\"]]\n",
    " .join(pm.summary(trace7_7, varnames=[\"a\", \"bW\", \"bS\", \"sigma\", \"bWS\"])[[\"mean\"]],\n",
    "       lsuffix=\"_7_6\", rsuffix=\"_7_7\", how=\"outer\"))"
   ]
  },
  {
   "cell_type": "markdown",
   "metadata": {},
   "source": [
    "### 7.22"
   ]
  },
  {
   "cell_type": "code",
   "execution_count": 26,
   "metadata": {},
   "outputs": [
    {
     "name": "stderr",
     "output_type": "stream",
     "text": [
      "/Users/sgodiwala/anaconda3/lib/python3.6/site-packages/pymc3/stats.py:211: UserWarning: For one or more samples the posterior variance of the\n",
      "        log predictive densities exceeds 0.4. This could be indication of\n",
      "        WAIC starting to fail see http://arxiv.org/abs/1507.04544 for details\n",
      "        \n",
      "  \"\"\")\n",
      "/Users/sgodiwala/anaconda3/lib/python3.6/site-packages/pymc3/stats.py:211: UserWarning: For one or more samples the posterior variance of the\n",
      "        log predictive densities exceeds 0.4. This could be indication of\n",
      "        WAIC starting to fail see http://arxiv.org/abs/1507.04544 for details\n",
      "        \n",
      "  \"\"\")\n"
     ]
    },
    {
     "data": {
      "text/html": [
       "<div>\n",
       "<style scoped>\n",
       "    .dataframe tbody tr th:only-of-type {\n",
       "        vertical-align: middle;\n",
       "    }\n",
       "\n",
       "    .dataframe tbody tr th {\n",
       "        vertical-align: top;\n",
       "    }\n",
       "\n",
       "    .dataframe thead th {\n",
       "        text-align: right;\n",
       "    }\n",
       "</style>\n",
       "<table border=\"1\" class=\"dataframe\">\n",
       "  <thead>\n",
       "    <tr style=\"text-align: right;\">\n",
       "      <th></th>\n",
       "      <th>WAIC</th>\n",
       "      <th>pWAIC</th>\n",
       "      <th>dWAIC</th>\n",
       "      <th>weight</th>\n",
       "      <th>SE</th>\n",
       "      <th>dSE</th>\n",
       "      <th>var_warn</th>\n",
       "    </tr>\n",
       "    <tr>\n",
       "      <th>model</th>\n",
       "      <th></th>\n",
       "      <th></th>\n",
       "      <th></th>\n",
       "      <th></th>\n",
       "      <th></th>\n",
       "      <th></th>\n",
       "      <th></th>\n",
       "    </tr>\n",
       "  </thead>\n",
       "  <tbody>\n",
       "    <tr>\n",
       "      <th>m7_7</th>\n",
       "      <td>294.63</td>\n",
       "      <td>4.43</td>\n",
       "      <td>0</td>\n",
       "      <td>0.99</td>\n",
       "      <td>7.39</td>\n",
       "      <td>0</td>\n",
       "      <td>1</td>\n",
       "    </tr>\n",
       "    <tr>\n",
       "      <th>m7_6</th>\n",
       "      <td>303.52</td>\n",
       "      <td>3.52</td>\n",
       "      <td>8.89</td>\n",
       "      <td>0.01</td>\n",
       "      <td>6.77</td>\n",
       "      <td>4.13</td>\n",
       "      <td>1</td>\n",
       "    </tr>\n",
       "  </tbody>\n",
       "</table>\n",
       "</div>"
      ],
      "text/plain": [
       "         WAIC pWAIC dWAIC weight    SE   dSE var_warn\n",
       "model                                                \n",
       "m7_7   294.63  4.43     0   0.99  7.39     0        1\n",
       "m7_6   303.52  3.52  8.89   0.01  6.77  4.13        1"
      ]
     },
     "execution_count": 26,
     "metadata": {},
     "output_type": "execute_result"
    }
   ],
   "source": [
    "(pm.compare({m7_6: trace7_6,\n",
    "             m7_7: trace7_7},\n",
    "            method='pseudo-BMA')\n",
    "            .join(pd.Series([\"m7_6\", \"m7_7\"], name=\"model\"))\n",
    "            .set_index(\"model\")\n",
    "            .sort_values(\"WAIC\"))"
   ]
  },
  {
   "cell_type": "markdown",
   "metadata": {},
   "source": [
    "### 7.23"
   ]
  },
  {
   "cell_type": "code",
   "execution_count": 27,
   "metadata": {},
   "outputs": [],
   "source": [
    "d[\"shade_c\"] = d[\"shade\"] - d[\"shade\"].mean()\n",
    "d[\"water_c\"] = d[\"water\"] - d[\"water\"].mean()"
   ]
  },
  {
   "cell_type": "markdown",
   "metadata": {},
   "source": [
    "### 7.24"
   ]
  },
  {
   "cell_type": "markdown",
   "metadata": {},
   "source": [
    "There isn't a way to set starting parameters that I can find, you could encode them in the priors though."
   ]
  },
  {
   "cell_type": "code",
   "execution_count": 28,
   "metadata": {},
   "outputs": [],
   "source": [
    "model_water_c = theano.shared(d[\"water_c\"].values)\n",
    "model_shade_c = theano.shared(d[\"shade_c\"].values)"
   ]
  },
  {
   "cell_type": "code",
   "execution_count": 29,
   "metadata": {},
   "outputs": [
    {
     "name": "stderr",
     "output_type": "stream",
     "text": [
      "Auto-assigning NUTS sampler...\n",
      "Initializing NUTS using jitter+adapt_diag...\n",
      "Multiprocess sampling (2 chains in 2 jobs)\n",
      "NUTS: [a, bW, bS, sigma]\n",
      "Sampling 2 chains: 100%|██████████| 4000/4000 [00:04<00:00, 846.87draws/s] \n",
      "There were 6 divergences after tuning. Increase `target_accept` or reparameterize.\n",
      "The acceptance probability does not match the target. It is 0.6342886749135742, but should be close to 0.8. Try to increase the number of tuning steps.\n",
      "Auto-assigning NUTS sampler...\n",
      "Initializing NUTS using jitter+adapt_diag...\n",
      "Multiprocess sampling (2 chains in 2 jobs)\n",
      "NUTS: [a, bW, bS, bWS, sigma]\n",
      "Sampling 2 chains: 100%|██████████| 4000/4000 [00:04<00:00, 802.69draws/s] \n"
     ]
    },
    {
     "data": {
      "text/html": [
       "<div>\n",
       "<style scoped>\n",
       "    .dataframe tbody tr th:only-of-type {\n",
       "        vertical-align: middle;\n",
       "    }\n",
       "\n",
       "    .dataframe tbody tr th {\n",
       "        vertical-align: top;\n",
       "    }\n",
       "\n",
       "    .dataframe thead th {\n",
       "        text-align: right;\n",
       "    }\n",
       "</style>\n",
       "<table border=\"1\" class=\"dataframe\">\n",
       "  <thead>\n",
       "    <tr style=\"text-align: right;\">\n",
       "      <th></th>\n",
       "      <th>mean_7_8</th>\n",
       "      <th>mean_7_9</th>\n",
       "    </tr>\n",
       "  </thead>\n",
       "  <tbody>\n",
       "    <tr>\n",
       "      <th>a</th>\n",
       "      <td>129.064886</td>\n",
       "      <td>127.719214</td>\n",
       "    </tr>\n",
       "    <tr>\n",
       "      <th>bS</th>\n",
       "      <td>-40.617730</td>\n",
       "      <td>-40.988078</td>\n",
       "    </tr>\n",
       "    <tr>\n",
       "      <th>bW</th>\n",
       "      <td>74.499905</td>\n",
       "      <td>74.758070</td>\n",
       "    </tr>\n",
       "    <tr>\n",
       "      <th>bWS</th>\n",
       "      <td>NaN</td>\n",
       "      <td>-51.197238</td>\n",
       "    </tr>\n",
       "    <tr>\n",
       "      <th>sigma</th>\n",
       "      <td>64.307348</td>\n",
       "      <td>52.059869</td>\n",
       "    </tr>\n",
       "  </tbody>\n",
       "</table>\n",
       "</div>"
      ],
      "text/plain": [
       "         mean_7_8    mean_7_9\n",
       "a      129.064886  127.719214\n",
       "bS     -40.617730  -40.988078\n",
       "bW      74.499905   74.758070\n",
       "bWS           NaN  -51.197238\n",
       "sigma   64.307348   52.059869"
      ]
     },
     "execution_count": 29,
     "metadata": {},
     "output_type": "execute_result"
    }
   ],
   "source": [
    "with pm.Model() as m7_8:\n",
    "    sigma = pm.Uniform(\"sigma\", 0, 100)\n",
    "    bS = pm.Normal(\"bS\", mu=0, sd=100)\n",
    "    bW = pm.Normal(\"bW\", mu=0, sd=100)\n",
    "    a = pm.Normal(\"a\", mu=130, sd=100)\n",
    "    mu = pm.Deterministic(\"mu\", a +\\\n",
    "                                bW*model_water_c +\\\n",
    "                                bS*model_shade_c)\n",
    "    blooms = pm.Normal(\"blooms\", mu=mu, sd=sigma, observed=d[\"blooms\"])\n",
    "    trace7_8 = pm.sample(draws=1000, tune=1000)\n",
    "    \n",
    "with pm.Model() as m7_9:\n",
    "    sigma = pm.Uniform(\"sigma\", 0, 100)\n",
    "    bWS = pm.Normal(\"bWS\", mu=0, sd=100) \n",
    "    bS = pm.Normal(\"bS\", mu=0, sd=100)\n",
    "    bW = pm.Normal(\"bW\", mu=0, sd=100)\n",
    "    a = pm.Normal(\"a\", mu=0, sd=100)\n",
    "    mu = pm.Deterministic(\"mu\", a +\\\n",
    "                                bW*model_water_c +\\\n",
    "                                bS*model_shade_c +\\\n",
    "                                bWS*model_water_c*model_shade_c)\n",
    "    blooms = pm.Normal(\"blooms\", mu=mu, sd=sigma, observed=d[\"blooms\"])\n",
    "    trace7_9 = pm.sample(draws=1000, tune=1000)\n",
    "    \n",
    "(pm.summary(trace7_8, varnames=[\"a\", \"bW\", \"bS\", \"sigma\"])[[\"mean\"]]\n",
    " .join(pm.summary(trace7_9, varnames=[\"a\", \"bW\", \"bS\", \"sigma\", \"bWS\"])[[\"mean\"]],\n",
    "       lsuffix=\"_7_8\", rsuffix=\"_7_9\", how=\"outer\"))"
   ]
  },
  {
   "cell_type": "markdown",
   "metadata": {},
   "source": [
    "### 7.25"
   ]
  },
  {
   "cell_type": "code",
   "execution_count": 30,
   "metadata": {},
   "outputs": [
    {
     "data": {
      "text/plain": [
       "129.78480871159033"
      ]
     },
     "execution_count": 30,
     "metadata": {},
     "output_type": "execute_result"
    }
   ],
   "source": [
    "k = pm.summary(trace7_7, varnames=[\"a\", \"bW\", \"bS\", \"bWS\"])[\"mean\"]\n",
    "k[\"a\"] + k[\"bW\"]*2 + k[\"bS\"]*2 + k[\"bWS\"]*2*2"
   ]
  },
  {
   "cell_type": "markdown",
   "metadata": {},
   "source": [
    "### 7.26"
   ]
  },
  {
   "cell_type": "code",
   "execution_count": 31,
   "metadata": {},
   "outputs": [
    {
     "data": {
      "text/plain": [
       "127.7192144478923"
      ]
     },
     "execution_count": 31,
     "metadata": {},
     "output_type": "execute_result"
    }
   ],
   "source": [
    "k = pm.summary(trace7_9, varnames=[\"a\", \"bW\", \"bS\", \"bWS\"])[\"mean\"]\n",
    "k[\"a\"] + k[\"bW\"]*0 + k[\"bS\"]*0 + k[\"bWS\"]*0*0"
   ]
  },
  {
   "cell_type": "markdown",
   "metadata": {},
   "source": [
    "### 7.27"
   ]
  },
  {
   "cell_type": "code",
   "execution_count": 32,
   "metadata": {},
   "outputs": [
    {
     "data": {
      "text/html": [
       "<div>\n",
       "<style scoped>\n",
       "    .dataframe tbody tr th:only-of-type {\n",
       "        vertical-align: middle;\n",
       "    }\n",
       "\n",
       "    .dataframe tbody tr th {\n",
       "        vertical-align: top;\n",
       "    }\n",
       "\n",
       "    .dataframe thead th {\n",
       "        text-align: right;\n",
       "    }\n",
       "</style>\n",
       "<table border=\"1\" class=\"dataframe\">\n",
       "  <thead>\n",
       "    <tr style=\"text-align: right;\">\n",
       "      <th></th>\n",
       "      <th>mean</th>\n",
       "      <th>sd</th>\n",
       "      <th>hpd_5.5</th>\n",
       "      <th>hpd_94.5</th>\n",
       "    </tr>\n",
       "  </thead>\n",
       "  <tbody>\n",
       "    <tr>\n",
       "      <th>a</th>\n",
       "      <td>127.72</td>\n",
       "      <td>10.03</td>\n",
       "      <td>110.31</td>\n",
       "      <td>142.20</td>\n",
       "    </tr>\n",
       "    <tr>\n",
       "      <th>bW</th>\n",
       "      <td>74.76</td>\n",
       "      <td>12.39</td>\n",
       "      <td>56.04</td>\n",
       "      <td>94.32</td>\n",
       "    </tr>\n",
       "    <tr>\n",
       "      <th>bS</th>\n",
       "      <td>-40.99</td>\n",
       "      <td>12.26</td>\n",
       "      <td>-60.18</td>\n",
       "      <td>-21.22</td>\n",
       "    </tr>\n",
       "    <tr>\n",
       "      <th>bWS</th>\n",
       "      <td>-51.20</td>\n",
       "      <td>15.76</td>\n",
       "      <td>-77.78</td>\n",
       "      <td>-27.67</td>\n",
       "    </tr>\n",
       "    <tr>\n",
       "      <th>sigma</th>\n",
       "      <td>52.06</td>\n",
       "      <td>8.97</td>\n",
       "      <td>38.09</td>\n",
       "      <td>63.88</td>\n",
       "    </tr>\n",
       "  </tbody>\n",
       "</table>\n",
       "</div>"
      ],
      "text/plain": [
       "         mean     sd  hpd_5.5  hpd_94.5\n",
       "a      127.72  10.03   110.31    142.20\n",
       "bW      74.76  12.39    56.04     94.32\n",
       "bS     -40.99  12.26   -60.18    -21.22\n",
       "bWS    -51.20  15.76   -77.78    -27.67\n",
       "sigma   52.06   8.97    38.09     63.88"
      ]
     },
     "execution_count": 32,
     "metadata": {},
     "output_type": "execute_result"
    }
   ],
   "source": [
    "(pm.summary(trace7_9, varnames=[\"a\", \"bW\", \"bS\", \"bWS\", \"sigma\"], alpha=0.11)\n",
    " .round(2)\n",
    " [[\"mean\", \"sd\", \"hpd_5.5\", \"hpd_94.5\"]])"
   ]
  },
  {
   "cell_type": "markdown",
   "metadata": {},
   "source": [
    "### 7.28"
   ]
  },
  {
   "cell_type": "code",
   "execution_count": 33,
   "metadata": {},
   "outputs": [
    {
     "name": "stderr",
     "output_type": "stream",
     "text": [
      "100%|██████████| 10000/10000 [00:01<00:00, 5418.19it/s]\n",
      "100%|██████████| 10000/10000 [00:01<00:00, 5813.80it/s]\n",
      "100%|██████████| 10000/10000 [00:01<00:00, 6660.44it/s]\n"
     ]
    },
    {
     "data": {
      "image/png": "[encoded data removed]",
      "text/plain": [
       "<Figure size 1908x648 with 3 Axes>"
      ]
     },
     "metadata": {},
     "output_type": "display_data"
    }
   ],
   "source": [
    "f, axs = plt.subplots(1, 3, sharey=True)\n",
    "f.set_size_inches(26.5, 9)\n",
    "\n",
    "shade_seq = np.arange(-1, 2)\n",
    "model_shade_c.set_value(shade_seq)\n",
    "\n",
    "for w, ax in zip(range(-1, 2), axs):\n",
    "    dt = d[d[\"water_c\"] == w]\n",
    "    ax.plot(dt[\"shade_c\"], dt[\"blooms\"], \"o\", mew=1, mec=\"C0\", mfc=\"None\")\n",
    "    ax.set_xticks(shade_seq)\n",
    "    ax.set_ylim(0, 370)\n",
    "    ax.set_title(\"water_c = {}\".format(w))\n",
    "    ax.set_xlabel(\"shade (centered)\")\n",
    "    ax.set_ylabel(\"blooms\")\n",
    "    model_water_c.set_value(np.repeat(w, len(shade_seq)))\n",
    "    mu = pm.sample_ppc(trace7_9, samples=10000, model=m7_9, vars=[m7_9.mu])[\"mu\"]\n",
    "    mu_mean = mu.mean(0)\n",
    "    mu_pi = pm.hpd(mu, alpha=0.03)\n",
    "    ax.plot(shade_seq, mu_mean, color=\"C0\")\n",
    "    ax.plot(shade_seq, mu_pi[:, 0], \"--\", color=\"C0\")\n",
    "    ax.plot(shade_seq, mu_pi[:, 1], \"--\", color=\"C0\")"
   ]
  },
  {
   "cell_type": "markdown",
   "metadata": {},
   "source": [
    "## Interactions in Design Formulas"
   ]
  },
  {
   "cell_type": "markdown",
   "metadata": {},
   "source": [
    "### 7.29"
   ]
  },
  {
   "cell_type": "code",
   "execution_count": 34,
   "metadata": {},
   "outputs": [],
   "source": [
    "m7_x = smf.ols(\"blooms ~ shade + water + shade * water\", data=d).fit()"
   ]
  },
  {
   "cell_type": "markdown",
   "metadata": {},
   "source": [
    "### 7.30"
   ]
  },
  {
   "cell_type": "code",
   "execution_count": 35,
   "metadata": {},
   "outputs": [],
   "source": [
    "m7_x = smf.ols(\"blooms ~ shade * water\", data=d).fit()"
   ]
  },
  {
   "cell_type": "markdown",
   "metadata": {},
   "source": [
    "### 7.31"
   ]
  },
  {
   "cell_type": "code",
   "execution_count": 36,
   "metadata": {},
   "outputs": [],
   "source": [
    "m7_x = smf.ols(\"blooms ~ shade * water - water\", data=d).fit()"
   ]
  },
  {
   "cell_type": "markdown",
   "metadata": {},
   "source": [
    "### 7.32"
   ]
  },
  {
   "cell_type": "code",
   "execution_count": 37,
   "metadata": {},
   "outputs": [],
   "source": [
    "m7_x = smf.ols('blooms ~ shade * water * bed', data=d).fit()"
   ]
  },
  {
   "cell_type": "markdown",
   "metadata": {},
   "source": [
    "### 7.33"
   ]
  },
  {
   "cell_type": "code",
   "execution_count": 38,
   "metadata": {},
   "outputs": [],
   "source": [
    "y = pd.DataFrame({\"y\": [1], \"x\": [1], \"z\": [1], \"w\": [1]})"
   ]
  },
  {
   "cell_type": "code",
   "execution_count": 39,
   "metadata": {},
   "outputs": [
    {
     "data": {
      "text/plain": [
       "Index(['Intercept', 'x', 'z', 'x:z', 'w', 'x:w', 'z:w', 'x:z:w'], dtype='object')"
      ]
     },
     "execution_count": 39,
     "metadata": {},
     "output_type": "execute_result"
    }
   ],
   "source": [
    "(smf.ols('y ~ x * z * w', data=y)\n",
    " .fit()\n",
    " .params\n",
    " .index)"
   ]
  },
  {
   "cell_type": "markdown",
   "metadata": {},
   "source": [
    "## Practice"
   ]
  },
  {
   "cell_type": "markdown",
   "metadata": {},
   "source": [
    "### Easy"
   ]
  },
  {
   "cell_type": "markdown",
   "metadata": {},
   "source": [
    "#### 7E1."
   ]
  },
  {
   "cell_type": "markdown",
   "metadata": {},
   "source": [
    "1.\n",
    "Bread rises because of the amount of yeast and the amount of sugar, there's an interaction effect between sugar and yeast.\n",
    "\n",
    "2.\n",
    "Income rises because of _education_, or the certification of a skill, and _demand_, the need for the skill, there's an interaction effect between education and demand.\n",
    "\n",
    "3.\n",
    "A car goes because of an engine and the presence of gasoline, there's an interaction effect between the presence of an engine and the presence of gasoline"
   ]
  },
  {
   "cell_type": "markdown",
   "metadata": {},
   "source": [
    "#### 7E2."
   ]
  },
  {
   "cell_type": "markdown",
   "metadata": {},
   "source": [
    "1.\n",
    "An interaction is needed since there's an _and_ in the explanation\n",
    "\n",
    "2.\n",
    "An interaction is not needed since there's an <i>or</i> in the explanation\n",
    "\n",
    "3.\n",
    "An interaction is needed since there is a condition in the explanation\n",
    "\n",
    "4.\n",
    "An interaction is not needed since there's an <i>or</i> in the explanation"
   ]
  },
  {
   "cell_type": "markdown",
   "metadata": {},
   "source": [
    "#### 7E3."
   ]
  },
  {
   "cell_type": "markdown",
   "metadata": {},
   "source": [
    "1. \n",
    "is_caramelised ~ is_low_heat * is_dried_out\n",
    "\n",
    "2. \n",
    "speed ~ num_cylinders + injector_quality\n",
    "\n",
    "3. \n",
    "belief ~ friend_belief * family_belief\n",
    "\n",
    "4. \n",
    "is_intelligent ~ is_social + has_appendage"
   ]
  },
  {
   "cell_type": "markdown",
   "metadata": {},
   "source": [
    "#### 7M1."
   ]
  },
  {
   "cell_type": "markdown",
   "metadata": {},
   "source": [
    "Whenever the temperature is hot, the values of shade and water shouldn't have any effect on the number of blooms produced, or should neutralise the effect of any of the other features."
   ]
  },
  {
   "cell_type": "markdown",
   "metadata": {},
   "source": [
    "#### 7M2."
   ]
  },
  {
   "cell_type": "markdown",
   "metadata": {},
   "source": [
    "blooms ~ water x temperature + shade x temperature + water x shade x temperature\n",
    "\n",
    "Where temperature 0s out the values when hot"
   ]
  },
  {
   "cell_type": "markdown",
   "metadata": {},
   "source": [
    "#### 7M3."
   ]
  },
  {
   "cell_type": "code",
   "execution_count": 40,
   "metadata": {},
   "outputs": [
    {
     "data": {
      "text/html": [
       "<div>\n",
       "<style scoped>\n",
       "    .dataframe tbody tr th:only-of-type {\n",
       "        vertical-align: middle;\n",
       "    }\n",
       "\n",
       "    .dataframe tbody tr th {\n",
       "        vertical-align: top;\n",
       "    }\n",
       "\n",
       "    .dataframe thead th {\n",
       "        text-align: right;\n",
       "    }\n",
       "</style>\n",
       "<table border=\"1\" class=\"dataframe\">\n",
       "  <thead>\n",
       "    <tr style=\"text-align: right;\">\n",
       "      <th></th>\n",
       "      <th>num_ravens</th>\n",
       "      <th>num_wolves</th>\n",
       "      <th>raven_climate</th>\n",
       "      <th>wolf_climate</th>\n",
       "    </tr>\n",
       "  </thead>\n",
       "  <tbody>\n",
       "    <tr>\n",
       "      <th>0</th>\n",
       "      <td>0</td>\n",
       "      <td>0</td>\n",
       "      <td>False</td>\n",
       "      <td>False</td>\n",
       "    </tr>\n",
       "    <tr>\n",
       "      <th>1</th>\n",
       "      <td>0</td>\n",
       "      <td>5</td>\n",
       "      <td>False</td>\n",
       "      <td>True</td>\n",
       "    </tr>\n",
       "    <tr>\n",
       "      <th>2</th>\n",
       "      <td>0</td>\n",
       "      <td>6</td>\n",
       "      <td>False</td>\n",
       "      <td>True</td>\n",
       "    </tr>\n",
       "    <tr>\n",
       "      <th>3</th>\n",
       "      <td>0</td>\n",
       "      <td>0</td>\n",
       "      <td>True</td>\n",
       "      <td>False</td>\n",
       "    </tr>\n",
       "    <tr>\n",
       "      <th>4</th>\n",
       "      <td>20</td>\n",
       "      <td>5</td>\n",
       "      <td>True</td>\n",
       "      <td>True</td>\n",
       "    </tr>\n",
       "    <tr>\n",
       "      <th>5</th>\n",
       "      <td>24</td>\n",
       "      <td>6</td>\n",
       "      <td>True</td>\n",
       "      <td>True</td>\n",
       "    </tr>\n",
       "  </tbody>\n",
       "</table>\n",
       "</div>"
      ],
      "text/plain": [
       "   num_ravens  num_wolves  raven_climate  wolf_climate\n",
       "0           0           0          False         False\n",
       "1           0           5          False          True\n",
       "2           0           6          False          True\n",
       "3           0           0           True         False\n",
       "4          20           5           True          True\n",
       "5          24           6           True          True"
      ]
     },
     "execution_count": 40,
     "metadata": {},
     "output_type": "execute_result"
    }
   ],
   "source": [
    "pd.DataFrame([[0, 0, False, False],\n",
    "              [0, 5, False, True],\n",
    "              [0, 6, False, True],\n",
    "              [0, 0, True, False],\n",
    "              [20, 5, True, True],\n",
    "              [24, 6, True, True]],\n",
    "             columns=[\"num_ravens\", \"num_wolves\", \"raven_climate\", \"wolf_climate\"])"
   ]
  },
  {
   "cell_type": "markdown",
   "metadata": {},
   "source": [
    "The relationship between `num_ravens` and the features here is non linear since the number of ravens is 0 when `wolf_climate` is false, whatever the value of `raven_climate`"
   ]
  },
  {
   "cell_type": "markdown",
   "metadata": {},
   "source": [
    "#### 7H1."
   ]
  },
  {
   "cell_type": "code",
   "execution_count": 41,
   "metadata": {},
   "outputs": [
    {
     "data": {
      "text/html": [
       "<div>\n",
       "<style scoped>\n",
       "    .dataframe tbody tr th:only-of-type {\n",
       "        vertical-align: middle;\n",
       "    }\n",
       "\n",
       "    .dataframe tbody tr th {\n",
       "        vertical-align: top;\n",
       "    }\n",
       "\n",
       "    .dataframe thead th {\n",
       "        text-align: right;\n",
       "    }\n",
       "</style>\n",
       "<table border=\"1\" class=\"dataframe\">\n",
       "  <thead>\n",
       "    <tr style=\"text-align: right;\">\n",
       "      <th></th>\n",
       "      <th>bed</th>\n",
       "      <th>water</th>\n",
       "      <th>shade</th>\n",
       "      <th>blooms</th>\n",
       "      <th>shade_c</th>\n",
       "      <th>water_c</th>\n",
       "      <th>is_bed_b</th>\n",
       "      <th>is_bed_c</th>\n",
       "    </tr>\n",
       "  </thead>\n",
       "  <tbody>\n",
       "    <tr>\n",
       "      <th>0</th>\n",
       "      <td>a</td>\n",
       "      <td>1</td>\n",
       "      <td>1</td>\n",
       "      <td>0.00</td>\n",
       "      <td>-1.0</td>\n",
       "      <td>-1.0</td>\n",
       "      <td>0</td>\n",
       "      <td>0</td>\n",
       "    </tr>\n",
       "    <tr>\n",
       "      <th>1</th>\n",
       "      <td>a</td>\n",
       "      <td>1</td>\n",
       "      <td>2</td>\n",
       "      <td>0.00</td>\n",
       "      <td>0.0</td>\n",
       "      <td>-1.0</td>\n",
       "      <td>0</td>\n",
       "      <td>0</td>\n",
       "    </tr>\n",
       "    <tr>\n",
       "      <th>2</th>\n",
       "      <td>a</td>\n",
       "      <td>1</td>\n",
       "      <td>3</td>\n",
       "      <td>111.04</td>\n",
       "      <td>1.0</td>\n",
       "      <td>-1.0</td>\n",
       "      <td>0</td>\n",
       "      <td>0</td>\n",
       "    </tr>\n",
       "    <tr>\n",
       "      <th>3</th>\n",
       "      <td>a</td>\n",
       "      <td>2</td>\n",
       "      <td>1</td>\n",
       "      <td>183.47</td>\n",
       "      <td>-1.0</td>\n",
       "      <td>0.0</td>\n",
       "      <td>0</td>\n",
       "      <td>0</td>\n",
       "    </tr>\n",
       "    <tr>\n",
       "      <th>4</th>\n",
       "      <td>a</td>\n",
       "      <td>2</td>\n",
       "      <td>2</td>\n",
       "      <td>59.16</td>\n",
       "      <td>0.0</td>\n",
       "      <td>0.0</td>\n",
       "      <td>0</td>\n",
       "      <td>0</td>\n",
       "    </tr>\n",
       "  </tbody>\n",
       "</table>\n",
       "</div>"
      ],
      "text/plain": [
       "  bed  water  shade  blooms  shade_c  water_c  is_bed_b  is_bed_c\n",
       "0   a      1      1    0.00     -1.0     -1.0         0         0\n",
       "1   a      1      2    0.00      0.0     -1.0         0         0\n",
       "2   a      1      3  111.04      1.0     -1.0         0         0\n",
       "3   a      2      1  183.47     -1.0      0.0         0         0\n",
       "4   a      2      2   59.16      0.0      0.0         0         0"
      ]
     },
     "execution_count": 41,
     "metadata": {},
     "output_type": "execute_result"
    }
   ],
   "source": [
    "tulips = pd.read_csv('Data/tulips.csv', sep=';')\n",
    "tulips[\"shade_c\"] = tulips[\"shade\"] - tulips[\"shade\"].mean()\n",
    "tulips[\"water_c\"] = tulips[\"water\"] - tulips[\"water\"].mean()\n",
    "tulips[\"is_bed_b\"] = np.where(tulips[\"bed\"] == \"b\", 1, 0)\n",
    "tulips[\"is_bed_c\"] = np.where(tulips[\"bed\"] == \"c\", 1, 0)\n",
    "tulips.head()"
   ]
  },
  {
   "cell_type": "code",
   "execution_count": 42,
   "metadata": {},
   "outputs": [
    {
     "name": "stderr",
     "output_type": "stream",
     "text": [
      "Auto-assigning NUTS sampler...\n",
      "Initializing NUTS using jitter+adapt_diag...\n",
      "Multiprocess sampling (2 chains in 2 jobs)\n",
      "NUTS: [a, bBc, bBb, bW, bS, bWS, sigma]\n",
      "Sampling 2 chains: 100%|██████████| 4000/4000 [00:06<00:00, 627.32draws/s]\n"
     ]
    },
    {
     "data": {
      "text/html": [
       "<div>\n",
       "<style scoped>\n",
       "    .dataframe tbody tr th:only-of-type {\n",
       "        vertical-align: middle;\n",
       "    }\n",
       "\n",
       "    .dataframe tbody tr th {\n",
       "        vertical-align: top;\n",
       "    }\n",
       "\n",
       "    .dataframe thead th {\n",
       "        text-align: right;\n",
       "    }\n",
       "</style>\n",
       "<table border=\"1\" class=\"dataframe\">\n",
       "  <thead>\n",
       "    <tr style=\"text-align: right;\">\n",
       "      <th></th>\n",
       "      <th>mean</th>\n",
       "      <th>sd</th>\n",
       "      <th>mc_error</th>\n",
       "      <th>hpd_5.5</th>\n",
       "      <th>hpd_94.5</th>\n",
       "      <th>n_eff</th>\n",
       "      <th>Rhat</th>\n",
       "    </tr>\n",
       "  </thead>\n",
       "  <tbody>\n",
       "    <tr>\n",
       "      <th>a</th>\n",
       "      <td>96.708445</td>\n",
       "      <td>14.920410</td>\n",
       "      <td>0.409546</td>\n",
       "      <td>75.028480</td>\n",
       "      <td>121.777194</td>\n",
       "      <td>1311.427954</td>\n",
       "      <td>0.999538</td>\n",
       "    </tr>\n",
       "    <tr>\n",
       "      <th>bWS</th>\n",
       "      <td>-51.665986</td>\n",
       "      <td>13.712597</td>\n",
       "      <td>0.277192</td>\n",
       "      <td>-74.051255</td>\n",
       "      <td>-30.605032</td>\n",
       "      <td>2433.097218</td>\n",
       "      <td>1.001044</td>\n",
       "    </tr>\n",
       "    <tr>\n",
       "      <th>bS</th>\n",
       "      <td>-41.064654</td>\n",
       "      <td>11.134061</td>\n",
       "      <td>0.230405</td>\n",
       "      <td>-58.924632</td>\n",
       "      <td>-23.731294</td>\n",
       "      <td>2163.211132</td>\n",
       "      <td>0.999510</td>\n",
       "    </tr>\n",
       "    <tr>\n",
       "      <th>bW</th>\n",
       "      <td>74.725858</td>\n",
       "      <td>11.073362</td>\n",
       "      <td>0.206912</td>\n",
       "      <td>56.448859</td>\n",
       "      <td>91.579348</td>\n",
       "      <td>2170.429330</td>\n",
       "      <td>0.999707</td>\n",
       "    </tr>\n",
       "    <tr>\n",
       "      <th>bBb</th>\n",
       "      <td>44.763495</td>\n",
       "      <td>20.654619</td>\n",
       "      <td>0.539618</td>\n",
       "      <td>13.073246</td>\n",
       "      <td>77.216407</td>\n",
       "      <td>1465.365515</td>\n",
       "      <td>0.999503</td>\n",
       "    </tr>\n",
       "    <tr>\n",
       "      <th>bBc</th>\n",
       "      <td>49.290426</td>\n",
       "      <td>21.189880</td>\n",
       "      <td>0.523541</td>\n",
       "      <td>15.646894</td>\n",
       "      <td>82.744057</td>\n",
       "      <td>1507.156258</td>\n",
       "      <td>0.999563</td>\n",
       "    </tr>\n",
       "  </tbody>\n",
       "</table>\n",
       "</div>"
      ],
      "text/plain": [
       "          mean         sd  mc_error    hpd_5.5    hpd_94.5        n_eff  \\\n",
       "a    96.708445  14.920410  0.409546  75.028480  121.777194  1311.427954   \n",
       "bWS -51.665986  13.712597  0.277192 -74.051255  -30.605032  2433.097218   \n",
       "bS  -41.064654  11.134061  0.230405 -58.924632  -23.731294  2163.211132   \n",
       "bW   74.725858  11.073362  0.206912  56.448859   91.579348  2170.429330   \n",
       "bBb  44.763495  20.654619  0.539618  13.073246   77.216407  1465.365515   \n",
       "bBc  49.290426  21.189880  0.523541  15.646894   82.744057  1507.156258   \n",
       "\n",
       "         Rhat  \n",
       "a    0.999538  \n",
       "bWS  1.001044  \n",
       "bS   0.999510  \n",
       "bW   0.999707  \n",
       "bBb  0.999503  \n",
       "bBc  0.999563  "
      ]
     },
     "execution_count": 42,
     "metadata": {},
     "output_type": "execute_result"
    }
   ],
   "source": [
    "with pm.Model() as m7h_1:\n",
    "    sigma = pm.Uniform(\"sigma\", 0, 100)\n",
    "    bWS = pm.Normal(\"bWS\", mu=0, sd=100) \n",
    "    bS = pm.Normal(\"bS\", mu=0, sd=100)\n",
    "    bW = pm.Normal(\"bW\", mu=0, sd=100)\n",
    "    bBb = pm.Normal(\"bBb\", mu=0, sd=100)\n",
    "    bBc = pm.Normal(\"bBc\", mu=0, sd=100)\n",
    "    a = pm.Normal(\"a\", mu=0, sd=100)\n",
    "    mu = pm.Deterministic(\"mu\", a +\\\n",
    "                                bW*tulips[\"water_c\"] +\\\n",
    "                                bS*tulips[\"shade_c\"] +\\\n",
    "                                bWS*tulips[\"water_c\"]*tulips[\"shade_c\"] +\\\n",
    "                                bBb*tulips[\"is_bed_b\"] +\\\n",
    "                                bBc*tulips[\"is_bed_c\"])\n",
    "    blooms = pm.Normal(\"blooms\", mu=mu, sd=sigma, observed=d[\"blooms\"])\n",
    "    trace7h_1 = pm.sample(draws=1000, tune=1000)\n",
    "    \n",
    "pm.summary(trace7h_1, varnames=[\"a\", \"bWS\", \"bS\", \"bW\", \"bBb\", \"bBc\"], alpha=0.11)"
   ]
  },
  {
   "cell_type": "code",
   "execution_count": 43,
   "metadata": {},
   "outputs": [
    {
     "data": {
      "image/png": "[encoded data removed]",
      "text/plain": [
       "<Figure size 972x648 with 1 Axes>"
      ]
     },
     "metadata": {},
     "output_type": "display_data"
    }
   ],
   "source": [
    "f, ax = plt.subplots(1, 1)\n",
    "f.set_size_inches(13.5, 9)\n",
    "data = (pm.summary(trace7h_1, varnames=[\"a\", \"bWS\", \"bS\", \"bW\", \"bBb\", \"bBc\"], alpha=0.11)\n",
    "        .assign(hpd_minus=lambda df: df[\"mean\"] - df[\"hpd_5.5\"])\n",
    "        .assign(hpd_plus=lambda df: df[\"hpd_94.5\"]- df[\"mean\"]))\n",
    "ax.errorbar(data[\"mean\"], data.index, fmt=\"o\", xerr=data[[\"hpd_minus\", \"hpd_plus\"]].T.values, \n",
    "            mew=1, mfc=\"None\")\n",
    "ax.vlines(0, ymin=-1, ymax=6, alpha=0.2);\n",
    "ax.set_ylim(-0.5, 5.5)\n",
    "ax.invert_yaxis()\n",
    "ax.set_title(\"89% Credible Intervals\");"
   ]
  },
  {
   "cell_type": "markdown",
   "metadata": {},
   "source": [
    "#### 7H2."
   ]
  },
  {
   "cell_type": "code",
   "execution_count": 44,
   "metadata": {},
   "outputs": [
    {
     "name": "stderr",
     "output_type": "stream",
     "text": [
      "Auto-assigning NUTS sampler...\n",
      "Initializing NUTS using jitter+adapt_diag...\n",
      "Multiprocess sampling (2 chains in 2 jobs)\n",
      "NUTS: [a, bW, bS, bWS, sigma]\n",
      "Sampling 2 chains: 100%|██████████| 4000/4000 [00:04<00:00, 911.13draws/s] \n",
      "The acceptance probability does not match the target. It is 0.6752516397725246, but should be close to 0.8. Try to increase the number of tuning steps.\n"
     ]
    }
   ],
   "source": [
    "# retraining m7_9 as m7h_2 \n",
    "with pm.Model() as m7h_2:\n",
    "    sigma = pm.Uniform(\"sigma\", 0, 100)\n",
    "    bWS = pm.Normal(\"bWS\", mu=0, sd=100) \n",
    "    bS = pm.Normal(\"bS\", mu=0, sd=100)\n",
    "    bW = pm.Normal(\"bW\", mu=0, sd=100)\n",
    "    a = pm.Normal(\"a\", mu=0, sd=100)\n",
    "    mu = pm.Deterministic(\"mu\", a +\\\n",
    "                                bW*tulips[\"water_c\"] +\\\n",
    "                                bS*tulips[\"shade_c\"] +\\\n",
    "                                bWS*tulips[\"water_c\"]*tulips[\"shade_c\"])\n",
    "    blooms = pm.Normal(\"blooms\", mu=mu, sd=sigma, observed=d[\"blooms\"])\n",
    "    trace7h_2 = pm.sample(draws=1000, tune=1000)"
   ]
  },
  {
   "cell_type": "code",
   "execution_count": 45,
   "metadata": {},
   "outputs": [
    {
     "name": "stderr",
     "output_type": "stream",
     "text": [
      "/Users/sgodiwala/anaconda3/lib/python3.6/site-packages/pymc3/stats.py:211: UserWarning: For one or more samples the posterior variance of the\n",
      "        log predictive densities exceeds 0.4. This could be indication of\n",
      "        WAIC starting to fail see http://arxiv.org/abs/1507.04544 for details\n",
      "        \n",
      "  \"\"\")\n",
      "/Users/sgodiwala/anaconda3/lib/python3.6/site-packages/pymc3/stats.py:211: UserWarning: For one or more samples the posterior variance of the\n",
      "        log predictive densities exceeds 0.4. This could be indication of\n",
      "        WAIC starting to fail see http://arxiv.org/abs/1507.04544 for details\n",
      "        \n",
      "  \"\"\")\n"
     ]
    },
    {
     "data": {
      "text/html": [
       "<div>\n",
       "<style scoped>\n",
       "    .dataframe tbody tr th:only-of-type {\n",
       "        vertical-align: middle;\n",
       "    }\n",
       "\n",
       "    .dataframe tbody tr th {\n",
       "        vertical-align: top;\n",
       "    }\n",
       "\n",
       "    .dataframe thead th {\n",
       "        text-align: right;\n",
       "    }\n",
       "</style>\n",
       "<table border=\"1\" class=\"dataframe\">\n",
       "  <thead>\n",
       "    <tr style=\"text-align: right;\">\n",
       "      <th></th>\n",
       "      <th>WAIC</th>\n",
       "      <th>pWAIC</th>\n",
       "      <th>dWAIC</th>\n",
       "      <th>weight</th>\n",
       "      <th>SE</th>\n",
       "      <th>dSE</th>\n",
       "      <th>var_warn</th>\n",
       "    </tr>\n",
       "    <tr>\n",
       "      <th>model</th>\n",
       "      <th></th>\n",
       "      <th></th>\n",
       "      <th></th>\n",
       "      <th></th>\n",
       "      <th></th>\n",
       "      <th></th>\n",
       "      <th></th>\n",
       "    </tr>\n",
       "  </thead>\n",
       "  <tbody>\n",
       "    <tr>\n",
       "      <th>m7h_1</th>\n",
       "      <td>289.82</td>\n",
       "      <td>5.89</td>\n",
       "      <td>0</td>\n",
       "      <td>0.84</td>\n",
       "      <td>6.42</td>\n",
       "      <td>0</td>\n",
       "      <td>1</td>\n",
       "    </tr>\n",
       "    <tr>\n",
       "      <th>m7h_2</th>\n",
       "      <td>293.12</td>\n",
       "      <td>4.33</td>\n",
       "      <td>3.3</td>\n",
       "      <td>0.16</td>\n",
       "      <td>7.22</td>\n",
       "      <td>5.39</td>\n",
       "      <td>1</td>\n",
       "    </tr>\n",
       "  </tbody>\n",
       "</table>\n",
       "</div>"
      ],
      "text/plain": [
       "         WAIC pWAIC dWAIC weight    SE   dSE var_warn\n",
       "model                                                \n",
       "m7h_1  289.82  5.89     0   0.84  6.42     0        1\n",
       "m7h_2  293.12  4.33   3.3   0.16  7.22  5.39        1"
      ]
     },
     "execution_count": 45,
     "metadata": {},
     "output_type": "execute_result"
    }
   ],
   "source": [
    "(pm.compare({m7h_1: trace7h_1,\n",
    "             m7h_2: trace7h_2},\n",
    "            method='pseudo-BMA')\n",
    "            .join(pd.Series([\"m7h_1\", \"m7h_2\"], name=\"model\"))\n",
    "            .set_index(\"model\")\n",
    "            .sort_values(\"WAIC\"))"
   ]
  },
  {
   "cell_type": "markdown",
   "metadata": {},
   "source": [
    "WAIC does give more weight to the model with the added `bed` feature, this also shows from the posterior distribution of coefficients where `bBb` and `bBc` had distributions that didn't overlap with 0, i.e. they were informative."
   ]
  },
  {
   "cell_type": "markdown",
   "metadata": {},
   "source": [
    "#### 7H3."
   ]
  },
  {
   "cell_type": "code",
   "execution_count": 46,
   "metadata": {},
   "outputs": [
    {
     "name": "stdout",
     "output_type": "stream",
     "text": [
      "170\n",
      "169\n"
     ]
    },
    {
     "data": {
      "text/html": [
       "<div>\n",
       "<style scoped>\n",
       "    .dataframe tbody tr th:only-of-type {\n",
       "        vertical-align: middle;\n",
       "    }\n",
       "\n",
       "    .dataframe tbody tr th {\n",
       "        vertical-align: top;\n",
       "    }\n",
       "\n",
       "    .dataframe thead th {\n",
       "        text-align: right;\n",
       "    }\n",
       "</style>\n",
       "<table border=\"1\" class=\"dataframe\">\n",
       "  <thead>\n",
       "    <tr style=\"text-align: right;\">\n",
       "      <th></th>\n",
       "      <th>isocode</th>\n",
       "      <th>isonum</th>\n",
       "      <th>country</th>\n",
       "      <th>rugged</th>\n",
       "      <th>rugged_popw</th>\n",
       "      <th>rugged_slope</th>\n",
       "      <th>rugged_lsd</th>\n",
       "      <th>rugged_pc</th>\n",
       "      <th>land_area</th>\n",
       "      <th>lat</th>\n",
       "      <th>...</th>\n",
       "      <th>africa_region_e</th>\n",
       "      <th>africa_region_c</th>\n",
       "      <th>slave_exports</th>\n",
       "      <th>dist_slavemkt_atlantic</th>\n",
       "      <th>dist_slavemkt_indian</th>\n",
       "      <th>dist_slavemkt_saharan</th>\n",
       "      <th>dist_slavemkt_redsea</th>\n",
       "      <th>pop_1400</th>\n",
       "      <th>european_descent</th>\n",
       "      <th>log_rgdppc_2000</th>\n",
       "    </tr>\n",
       "  </thead>\n",
       "  <tbody>\n",
       "    <tr>\n",
       "      <th>2</th>\n",
       "      <td>AGO</td>\n",
       "      <td>24</td>\n",
       "      <td>Angola</td>\n",
       "      <td>0.858</td>\n",
       "      <td>0.714</td>\n",
       "      <td>2.274</td>\n",
       "      <td>0.228</td>\n",
       "      <td>4.906</td>\n",
       "      <td>124670.0</td>\n",
       "      <td>-12.299</td>\n",
       "      <td>...</td>\n",
       "      <td>0</td>\n",
       "      <td>1</td>\n",
       "      <td>3610000.0</td>\n",
       "      <td>5.669</td>\n",
       "      <td>6.981</td>\n",
       "      <td>4.926</td>\n",
       "      <td>3.872</td>\n",
       "      <td>1223208.0</td>\n",
       "      <td>2.000</td>\n",
       "      <td>7.492609</td>\n",
       "    </tr>\n",
       "    <tr>\n",
       "      <th>4</th>\n",
       "      <td>ALB</td>\n",
       "      <td>8</td>\n",
       "      <td>Albania</td>\n",
       "      <td>3.427</td>\n",
       "      <td>1.597</td>\n",
       "      <td>10.451</td>\n",
       "      <td>1.006</td>\n",
       "      <td>62.133</td>\n",
       "      <td>2740.0</td>\n",
       "      <td>41.143</td>\n",
       "      <td>...</td>\n",
       "      <td>0</td>\n",
       "      <td>0</td>\n",
       "      <td>0.0</td>\n",
       "      <td>NaN</td>\n",
       "      <td>NaN</td>\n",
       "      <td>NaN</td>\n",
       "      <td>NaN</td>\n",
       "      <td>200000.0</td>\n",
       "      <td>100.000</td>\n",
       "      <td>8.216929</td>\n",
       "    </tr>\n",
       "    <tr>\n",
       "      <th>7</th>\n",
       "      <td>ARE</td>\n",
       "      <td>784</td>\n",
       "      <td>United Arab Emirates</td>\n",
       "      <td>0.769</td>\n",
       "      <td>0.316</td>\n",
       "      <td>2.112</td>\n",
       "      <td>0.191</td>\n",
       "      <td>6.142</td>\n",
       "      <td>8360.0</td>\n",
       "      <td>23.913</td>\n",
       "      <td>...</td>\n",
       "      <td>0</td>\n",
       "      <td>0</td>\n",
       "      <td>0.0</td>\n",
       "      <td>NaN</td>\n",
       "      <td>NaN</td>\n",
       "      <td>NaN</td>\n",
       "      <td>NaN</td>\n",
       "      <td>19200.0</td>\n",
       "      <td>0.000</td>\n",
       "      <td>9.933263</td>\n",
       "    </tr>\n",
       "    <tr>\n",
       "      <th>8</th>\n",
       "      <td>ARG</td>\n",
       "      <td>32</td>\n",
       "      <td>Argentina</td>\n",
       "      <td>0.775</td>\n",
       "      <td>0.220</td>\n",
       "      <td>2.268</td>\n",
       "      <td>0.226</td>\n",
       "      <td>9.407</td>\n",
       "      <td>273669.0</td>\n",
       "      <td>-35.396</td>\n",
       "      <td>...</td>\n",
       "      <td>0</td>\n",
       "      <td>0</td>\n",
       "      <td>0.0</td>\n",
       "      <td>NaN</td>\n",
       "      <td>NaN</td>\n",
       "      <td>NaN</td>\n",
       "      <td>NaN</td>\n",
       "      <td>276632.0</td>\n",
       "      <td>89.889</td>\n",
       "      <td>9.407032</td>\n",
       "    </tr>\n",
       "    <tr>\n",
       "      <th>9</th>\n",
       "      <td>ARM</td>\n",
       "      <td>51</td>\n",
       "      <td>Armenia</td>\n",
       "      <td>2.688</td>\n",
       "      <td>0.934</td>\n",
       "      <td>8.178</td>\n",
       "      <td>0.799</td>\n",
       "      <td>50.556</td>\n",
       "      <td>2820.0</td>\n",
       "      <td>40.294</td>\n",
       "      <td>...</td>\n",
       "      <td>0</td>\n",
       "      <td>0</td>\n",
       "      <td>0.0</td>\n",
       "      <td>NaN</td>\n",
       "      <td>NaN</td>\n",
       "      <td>NaN</td>\n",
       "      <td>NaN</td>\n",
       "      <td>105743.0</td>\n",
       "      <td>0.500</td>\n",
       "      <td>7.792343</td>\n",
       "    </tr>\n",
       "  </tbody>\n",
       "</table>\n",
       "<p>5 rows × 52 columns</p>\n",
       "</div>"
      ],
      "text/plain": [
       "  isocode  isonum               country  rugged  rugged_popw  rugged_slope  \\\n",
       "2     AGO      24                Angola   0.858        0.714         2.274   \n",
       "4     ALB       8               Albania   3.427        1.597        10.451   \n",
       "7     ARE     784  United Arab Emirates   0.769        0.316         2.112   \n",
       "8     ARG      32             Argentina   0.775        0.220         2.268   \n",
       "9     ARM      51               Armenia   2.688        0.934         8.178   \n",
       "\n",
       "   rugged_lsd  rugged_pc  land_area     lat       ...         africa_region_e  \\\n",
       "2       0.228      4.906   124670.0 -12.299       ...                       0   \n",
       "4       1.006     62.133     2740.0  41.143       ...                       0   \n",
       "7       0.191      6.142     8360.0  23.913       ...                       0   \n",
       "8       0.226      9.407   273669.0 -35.396       ...                       0   \n",
       "9       0.799     50.556     2820.0  40.294       ...                       0   \n",
       "\n",
       "   africa_region_c  slave_exports  dist_slavemkt_atlantic  \\\n",
       "2                1      3610000.0                   5.669   \n",
       "4                0            0.0                     NaN   \n",
       "7                0            0.0                     NaN   \n",
       "8                0            0.0                     NaN   \n",
       "9                0            0.0                     NaN   \n",
       "\n",
       "   dist_slavemkt_indian  dist_slavemkt_saharan  dist_slavemkt_redsea  \\\n",
       "2                 6.981                  4.926                 3.872   \n",
       "4                   NaN                    NaN                   NaN   \n",
       "7                   NaN                    NaN                   NaN   \n",
       "8                   NaN                    NaN                   NaN   \n",
       "9                   NaN                    NaN                   NaN   \n",
       "\n",
       "    pop_1400  european_descent  log_rgdppc_2000  \n",
       "2  1223208.0             2.000         7.492609  \n",
       "4   200000.0           100.000         8.216929  \n",
       "7    19200.0             0.000         9.933263  \n",
       "8   276632.0            89.889         9.407032  \n",
       "9   105743.0             0.500         7.792343  \n",
       "\n",
       "[5 rows x 52 columns]"
      ]
     },
     "execution_count": 46,
     "metadata": {},
     "output_type": "execute_result"
    }
   ],
   "source": [
    "rugged_seych = (pd.read_csv('Data/rugged.csv', sep=';')\n",
    "                .loc[lambda df: np.isfinite(df[\"rgdppc_2000\"])]\n",
    "                .assign(log_rgdppc_2000=lambda df: np.log(df[\"rgdppc_2000\"])))\n",
    "\n",
    "rugged_nonch = (rugged_seych\n",
    "                .loc[lambda df: df[\"country\"] != \"Seychelles\"])\n",
    "\n",
    "print(len(rugged_seych))\n",
    "print(len(rugged_nonch))\n",
    "rugged_seych.head()"
   ]
  },
  {
   "cell_type": "markdown",
   "metadata": {},
   "source": [
    "##### (a)"
   ]
  },
  {
   "cell_type": "code",
   "execution_count": 47,
   "metadata": {},
   "outputs": [],
   "source": [
    "model_rugged = theano.shared(rugged_nonch[\"rugged\"].values)\n",
    "model_cont_africa = theano.shared(rugged_nonch[\"cont_africa\"].values)"
   ]
  },
  {
   "cell_type": "code",
   "execution_count": 48,
   "metadata": {},
   "outputs": [
    {
     "name": "stderr",
     "output_type": "stream",
     "text": [
      "Auto-assigning NUTS sampler...\n",
      "Initializing NUTS using jitter+adapt_diag...\n",
      "Multiprocess sampling (2 chains in 2 jobs)\n",
      "NUTS: [a, bAR, bR, bA, sigma]\n",
      "Sampling 2 chains: 100%|██████████| 4000/4000 [00:07<00:00, 567.29draws/s]\n"
     ]
    },
    {
     "data": {
      "text/html": [
       "<div>\n",
       "<style scoped>\n",
       "    .dataframe tbody tr th:only-of-type {\n",
       "        vertical-align: middle;\n",
       "    }\n",
       "\n",
       "    .dataframe tbody tr th {\n",
       "        vertical-align: top;\n",
       "    }\n",
       "\n",
       "    .dataframe thead th {\n",
       "        text-align: right;\n",
       "    }\n",
       "</style>\n",
       "<table border=\"1\" class=\"dataframe\">\n",
       "  <thead>\n",
       "    <tr style=\"text-align: right;\">\n",
       "      <th></th>\n",
       "      <th>mean</th>\n",
       "      <th>sd</th>\n",
       "      <th>mc_error</th>\n",
       "      <th>hpd_5.5</th>\n",
       "      <th>hpd_94.5</th>\n",
       "      <th>n_eff</th>\n",
       "      <th>Rhat</th>\n",
       "    </tr>\n",
       "  </thead>\n",
       "  <tbody>\n",
       "    <tr>\n",
       "      <th>a</th>\n",
       "      <td>9.195706</td>\n",
       "      <td>0.139794</td>\n",
       "      <td>0.004600</td>\n",
       "      <td>8.955724</td>\n",
       "      <td>9.406961</td>\n",
       "      <td>851.660721</td>\n",
       "      <td>1.004180</td>\n",
       "    </tr>\n",
       "    <tr>\n",
       "      <th>bAR</th>\n",
       "      <td>0.261704</td>\n",
       "      <td>0.137576</td>\n",
       "      <td>0.004146</td>\n",
       "      <td>0.051106</td>\n",
       "      <td>0.484170</td>\n",
       "      <td>1065.820328</td>\n",
       "      <td>0.999633</td>\n",
       "    </tr>\n",
       "    <tr>\n",
       "      <th>bA</th>\n",
       "      <td>-1.798250</td>\n",
       "      <td>0.222453</td>\n",
       "      <td>0.006529</td>\n",
       "      <td>-2.141716</td>\n",
       "      <td>-1.450404</td>\n",
       "      <td>1092.965339</td>\n",
       "      <td>1.000458</td>\n",
       "    </tr>\n",
       "    <tr>\n",
       "      <th>bR</th>\n",
       "      <td>-0.190998</td>\n",
       "      <td>0.075709</td>\n",
       "      <td>0.002616</td>\n",
       "      <td>-0.305827</td>\n",
       "      <td>-0.063986</td>\n",
       "      <td>833.179833</td>\n",
       "      <td>1.000690</td>\n",
       "    </tr>\n",
       "  </tbody>\n",
       "</table>\n",
       "</div>"
      ],
      "text/plain": [
       "         mean        sd  mc_error   hpd_5.5  hpd_94.5        n_eff      Rhat\n",
       "a    9.195706  0.139794  0.004600  8.955724  9.406961   851.660721  1.004180\n",
       "bAR  0.261704  0.137576  0.004146  0.051106  0.484170  1065.820328  0.999633\n",
       "bA  -1.798250  0.222453  0.006529 -2.141716 -1.450404  1092.965339  1.000458\n",
       "bR  -0.190998  0.075709  0.002616 -0.305827 -0.063986   833.179833  1.000690"
      ]
     },
     "execution_count": 48,
     "metadata": {},
     "output_type": "execute_result"
    }
   ],
   "source": [
    "with pm.Model() as m7h_3:\n",
    "    sigma = pm.Uniform(\"sigma\", 0, 10)\n",
    "    bA = pm.Normal(\"bA\", mu=0, sd=1)\n",
    "    bR = pm.Normal(\"bR\", mu=0, sd=1)\n",
    "    bAR = pm.Normal(\"bAR\", mu=0, sd=1)\n",
    "    a = pm.Normal(\"a\", mu=8, sd=100)\n",
    "    mu = pm.Deterministic(\"mu\", a +\\\n",
    "                                bA*model_cont_africa +\\\n",
    "                                bR*model_rugged +\\\n",
    "                                bAR*model_cont_africa*model_rugged)\n",
    "    log_rgdppc_2000 = pm.Normal(\"log_rgdppc_2000\", mu=mu, sd=sigma, observed=rugged_nonch[\"log_rgdppc_2000\"])\n",
    "    trace7h_3 = pm.sample(draws=1000, tune=1000)\n",
    "\n",
    "pm.summary(trace7h_3, varnames=[\"a\", \"bAR\", \"bA\", \"bR\"], alpha=0.11)"
   ]
  },
  {
   "cell_type": "code",
   "execution_count": 49,
   "metadata": {},
   "outputs": [],
   "source": [
    "model_rugged.set_value(rugged_seych[\"rugged\"].values)\n",
    "model_cont_africa.set_value(rugged_seych[\"cont_africa\"].values)"
   ]
  },
  {
   "cell_type": "code",
   "execution_count": 50,
   "metadata": {},
   "outputs": [
    {
     "name": "stderr",
     "output_type": "stream",
     "text": [
      "Auto-assigning NUTS sampler...\n",
      "Initializing NUTS using jitter+adapt_diag...\n",
      "Multiprocess sampling (2 chains in 2 jobs)\n",
      "NUTS: [a, bA, bR, bAR, sigma]\n",
      "Sampling 2 chains: 100%|██████████| 4000/4000 [00:05<00:00, 776.44draws/s]\n"
     ]
    },
    {
     "data": {
      "text/html": [
       "<div>\n",
       "<style scoped>\n",
       "    .dataframe tbody tr th:only-of-type {\n",
       "        vertical-align: middle;\n",
       "    }\n",
       "\n",
       "    .dataframe tbody tr th {\n",
       "        vertical-align: top;\n",
       "    }\n",
       "\n",
       "    .dataframe thead th {\n",
       "        text-align: right;\n",
       "    }\n",
       "</style>\n",
       "<table border=\"1\" class=\"dataframe\">\n",
       "  <thead>\n",
       "    <tr style=\"text-align: right;\">\n",
       "      <th></th>\n",
       "      <th>mean</th>\n",
       "      <th>sd</th>\n",
       "      <th>mc_error</th>\n",
       "      <th>hpd_5.5</th>\n",
       "      <th>hpd_94.5</th>\n",
       "      <th>n_eff</th>\n",
       "      <th>Rhat</th>\n",
       "    </tr>\n",
       "  </thead>\n",
       "  <tbody>\n",
       "    <tr>\n",
       "      <th>a</th>\n",
       "      <td>9.180432</td>\n",
       "      <td>0.135494</td>\n",
       "      <td>0.004340</td>\n",
       "      <td>8.969341</td>\n",
       "      <td>9.389103</td>\n",
       "      <td>861.999854</td>\n",
       "      <td>0.999611</td>\n",
       "    </tr>\n",
       "    <tr>\n",
       "      <th>bAR</th>\n",
       "      <td>0.344513</td>\n",
       "      <td>0.126285</td>\n",
       "      <td>0.004259</td>\n",
       "      <td>0.143619</td>\n",
       "      <td>0.542572</td>\n",
       "      <td>925.364201</td>\n",
       "      <td>0.999743</td>\n",
       "    </tr>\n",
       "    <tr>\n",
       "      <th>bA</th>\n",
       "      <td>-1.835962</td>\n",
       "      <td>0.220261</td>\n",
       "      <td>0.006859</td>\n",
       "      <td>-2.135082</td>\n",
       "      <td>-1.438568</td>\n",
       "      <td>1005.633836</td>\n",
       "      <td>1.000642</td>\n",
       "    </tr>\n",
       "    <tr>\n",
       "      <th>bR</th>\n",
       "      <td>-0.182912</td>\n",
       "      <td>0.076855</td>\n",
       "      <td>0.002624</td>\n",
       "      <td>-0.309737</td>\n",
       "      <td>-0.066196</td>\n",
       "      <td>767.212711</td>\n",
       "      <td>1.000238</td>\n",
       "    </tr>\n",
       "  </tbody>\n",
       "</table>\n",
       "</div>"
      ],
      "text/plain": [
       "         mean        sd  mc_error   hpd_5.5  hpd_94.5        n_eff      Rhat\n",
       "a    9.180432  0.135494  0.004340  8.969341  9.389103   861.999854  0.999611\n",
       "bAR  0.344513  0.126285  0.004259  0.143619  0.542572   925.364201  0.999743\n",
       "bA  -1.835962  0.220261  0.006859 -2.135082 -1.438568  1005.633836  1.000642\n",
       "bR  -0.182912  0.076855  0.002624 -0.309737 -0.066196   767.212711  1.000238"
      ]
     },
     "execution_count": 50,
     "metadata": {},
     "output_type": "execute_result"
    }
   ],
   "source": [
    "# retraining m7_5b as m7h_4 \n",
    "with pm.Model() as m7h_4:\n",
    "    sigma = pm.Uniform(\"sigma\", 0, 10)\n",
    "    bAR = pm.Normal(\"bAR\", mu=0, sd=1)\n",
    "    bR = pm.Normal(\"bR\", mu=0, sd=1)\n",
    "    bA = pm.Normal(\"bA\", mu=0, sd=1)\n",
    "    a = pm.Normal(\"a\", mu=8, sd=100)\n",
    "    mu = pm.Deterministic(\"mu\", a +\\\n",
    "                                bA*model_cont_africa +\\\n",
    "                                bR*model_rugged +\\\n",
    "                                bAR*model_cont_africa*model_rugged)\n",
    "    log_rgdppc_2000 = pm.Normal(\"log_rgdppc_2000\", mu=mu, sd=sigma, observed=rugged_seych[\"log_rgdppc_2000\"])\n",
    "    trace7h_4 = pm.sample(draws=1000, tune=1000)\n",
    "    \n",
    "pm.summary(trace7h_4, varnames=[\"a\", \"bAR\", \"bA\", \"bR\"], alpha=0.11)"
   ]
  },
  {
   "cell_type": "markdown",
   "metadata": {},
   "source": [
    "Without Seychelles, the posterior distribution of `bAR` almost overlaps 0 (89%) and the mean of the coefficient has dropped from 0.35 to 0.25, the effect of Seychelles on Africa's resilience to ruggedness is quite large."
   ]
  },
  {
   "cell_type": "markdown",
   "metadata": {},
   "source": [
    "##### (b)"
   ]
  },
  {
   "cell_type": "code",
   "execution_count": 51,
   "metadata": {},
   "outputs": [
    {
     "name": "stderr",
     "output_type": "stream",
     "text": [
      "100%|██████████| 10000/10000 [00:01<00:00, 6285.56it/s]\n",
      "100%|██████████| 10000/10000 [00:01<00:00, 6540.35it/s]\n",
      "100%|██████████| 10000/10000 [00:01<00:00, 6615.73it/s]\n",
      "100%|██████████| 10000/10000 [00:01<00:00, 6739.63it/s]\n"
     ]
    }
   ],
   "source": [
    "rugged_seq = np.arange(-1, 8, 0.25)\n",
    "model_rugged.set_value(rugged_seq)\n",
    "\n",
    "model_cont_africa.set_value(np.repeat(0, len(rugged_seq)))\n",
    "\n",
    "mu_nans = pm.sample_ppc(trace7h_3, samples=10000, model=m7h_3, vars=[m7h_3.mu])[\"mu\"]\n",
    "mu_nans_mean = mu_nans.mean(0)\n",
    "mu_nans_pi = pm.hpd(mu_nans, alpha=0.11)\n",
    "\n",
    "mu_naws = pm.sample_ppc(trace7h_4, samples=10000, model=m7h_4, vars=[m7h_4.mu])[\"mu\"]\n",
    "mu_naws_mean = mu_naws.mean(0)\n",
    "mu_naws_pi = pm.hpd(mu_naws, alpha=0.11)\n",
    "\n",
    "model_cont_africa.set_value(np.repeat(1, len(rugged_seq)))\n",
    "\n",
    "mu_wans = pm.sample_ppc(trace7h_3, samples=10000, model=m7h_3, vars=[m7h_3.mu])[\"mu\"]\n",
    "mu_wans_mean = mu_wans.mean(0)\n",
    "mu_wans_pi = pm.hpd(mu_wans, alpha=0.11)\n",
    "\n",
    "mu_waws = pm.sample_ppc(trace7h_4, samples=10000, model=m7h_4, vars=[m7h_4.mu])[\"mu\"]\n",
    "mu_waws_mean = mu_waws.mean(0)\n",
    "mu_waws_pi = pm.hpd(mu_waws, alpha=0.11)"
   ]
  },
  {
   "cell_type": "code",
   "execution_count": 52,
   "metadata": {},
   "outputs": [
    {
     "data": {
      "image/png": "[encoded data removed]",
      "text/plain": [
       "<Figure size 1440x648 with 2 Axes>"
      ]
     },
     "metadata": {},
     "output_type": "display_data"
    }
   ],
   "source": [
    "f, axs = plt.subplots(1, 2, sharey=True)\n",
    "f.set_size_inches(20, 9)\n",
    "\n",
    "axs[0].plot(rugged_nonch.loc[lambda df: df[\"cont_africa\"] == 0][\"rugged\"], \n",
    "            rugged_nonch.loc[lambda df: df[\"cont_africa\"] == 0][\"log_rgdppc_2000\"], \n",
    "            \"o\", mew=1, mec=\"C0\", mfc=\"None\")\n",
    "axs[0].plot(rugged_nonch.loc[lambda df: df[\"cont_africa\"] == 1][\"rugged\"], \n",
    "            rugged_nonch.loc[lambda df: df[\"cont_africa\"] == 1][\"log_rgdppc_2000\"], \n",
    "            \"o\", mew=1, mec=\"C1\", mfc=\"None\")\n",
    "axs[0].plot(rugged_seq, mu_nans_mean, color=\"C0\")\n",
    "axs[0].plot(rugged_seq, mu_wans_mean, color=\"C1\")\n",
    "axs[0].fill_between(rugged_seq, mu_nans_pi[:,0], mu_nans_pi[:,1], alpha=0.25, color=\"C0\")\n",
    "axs[0].fill_between(rugged_seq, mu_wans_pi[:,0], mu_wans_pi[:,1], alpha=0.25, color=\"C1\")\n",
    "axs[0].set_title(\"Non-African vs African Nations without Seychelles\")\n",
    "axs[0].set_xlabel(\"Terrain Ruggedness Index\")\n",
    "\n",
    "data_seych = rugged_seych.loc[lambda df: df[\"country\"] == \"Seychelles\"]\n",
    "axs[1].plot(rugged_seych.loc[lambda df: df[\"cont_africa\"] == 0][\"rugged\"], \n",
    "            rugged_seych.loc[lambda df: df[\"cont_africa\"] == 0][\"log_rgdppc_2000\"], \n",
    "            \"o\", mew=1, mec=\"C0\", mfc=\"None\")\n",
    "axs[1].plot(rugged_seych.loc[lambda df: df[\"cont_africa\"] == 1][\"rugged\"], \n",
    "            rugged_seych.loc[lambda df: df[\"cont_africa\"] == 1][\"log_rgdppc_2000\"], \n",
    "            \"o\", mew=1, mec=\"C1\", mfc=\"None\")\n",
    "axs[1].plot(data_seych[\"rugged\"], data_seych[\"log_rgdppc_2000\"],\n",
    "            \"o\", mew=1, mec=\"C2\")\n",
    "axs[1].plot(rugged_seq, mu_naws_mean, color=\"C0\")\n",
    "axs[1].plot(rugged_seq, mu_waws_mean, color=\"C1\")\n",
    "axs[1].fill_between(rugged_seq, mu_naws_pi[:,0], mu_naws_pi[:,1], alpha=0.25, color=\"C0\")\n",
    "axs[1].fill_between(rugged_seq, mu_waws_pi[:,0], mu_waws_pi[:,1], alpha=0.25, color=\"C1\")\n",
    "axs[1].set_title(\"Non-African vs African Nations with Seychelles\")\n",
    "axs[1].set_xlabel(\"Terrain Ruggedness Index\")\n",
    "\n",
    "axs[0].set_xlim((-1, 7.75))\n",
    "axs[1].set_xlim((-1, 7.75))\n",
    "axs[0].set_ylabel(\"log GDP year 2000\");"
   ]
  },
  {
   "cell_type": "markdown",
   "metadata": {},
   "source": [
    "Even without Seychelles, it does look like the effect of ruggedness on GDP is mildly positive in African Nations compared to quite negative in Non African ones, while the effect is greatly diminished, it hasn't reversed to match the slope for Non-African Nations."
   ]
  },
  {
   "cell_type": "markdown",
   "metadata": {},
   "source": [
    "##### (c)"
   ]
  },
  {
   "cell_type": "code",
   "execution_count": 53,
   "metadata": {},
   "outputs": [],
   "source": [
    "model_rugged = theano.shared(rugged_nonch[\"rugged\"].values)\n",
    "model_cont_africa = theano.shared(rugged_nonch[\"cont_africa\"].values)"
   ]
  },
  {
   "cell_type": "code",
   "execution_count": 54,
   "metadata": {},
   "outputs": [
    {
     "name": "stderr",
     "output_type": "stream",
     "text": [
      "Auto-assigning NUTS sampler...\n",
      "Initializing NUTS using jitter+adapt_diag...\n",
      "Multiprocess sampling (2 chains in 2 jobs)\n",
      "NUTS: [a, bR, sigma]\n",
      "Sampling 2 chains: 100%|██████████| 4000/4000 [00:03<00:00, 1182.46draws/s]\n",
      "Auto-assigning NUTS sampler...\n",
      "Initializing NUTS using jitter+adapt_diag...\n",
      "Multiprocess sampling (2 chains in 2 jobs)\n",
      "NUTS: [a, bA, bR, sigma]\n",
      "Sampling 2 chains: 100%|██████████| 4000/4000 [00:04<00:00, 950.21draws/s] \n",
      "Auto-assigning NUTS sampler...\n",
      "Initializing NUTS using jitter+adapt_diag...\n",
      "Multiprocess sampling (2 chains in 2 jobs)\n",
      "NUTS: [a, bAR, bA, bR, sigma]\n",
      "Sampling 2 chains: 100%|██████████| 4000/4000 [00:05<00:00, 717.87draws/s]\n"
     ]
    }
   ],
   "source": [
    "with pm.Model() as m7h_5:\n",
    "    sigma = pm.Uniform(\"sigma\", 0, 10)\n",
    "    bR = pm.Normal(\"bR\", mu=0, sd=1)\n",
    "    a = pm.Normal(\"a\", mu=8, sd=100)\n",
    "    mu = pm.Deterministic(\"mu\", a +\\\n",
    "                                bR*model_rugged)\n",
    "    log_rgdppc_2000 = pm.Normal(\"log_rgdppc_2000\", mu=mu, sd=sigma, observed=rugged_nonch[\"log_rgdppc_2000\"])\n",
    "    trace7h_5 = pm.sample(draws=1000, tune=1000)\n",
    "    \n",
    "with pm.Model() as m7h_6:\n",
    "    sigma = pm.Uniform(\"sigma\", 0, 10)\n",
    "    bR = pm.Normal(\"bR\", mu=0, sd=1)\n",
    "    bA = pm.Normal(\"bA\", mu=0, sd=1)\n",
    "    a = pm.Normal(\"a\", mu=8, sd=100)\n",
    "    mu = pm.Deterministic(\"mu\", a +\\\n",
    "                                bR*model_rugged +\\\n",
    "                                bA*model_cont_africa)\n",
    "    log_rgdppc_2000 = pm.Normal(\"log_rgdppc_2000\", mu=mu, sd=sigma, observed=rugged_nonch[\"log_rgdppc_2000\"])\n",
    "    trace7h_6 = pm.sample(draws=1000, tune=1000)\n",
    "    \n",
    "with pm.Model() as m7h_7:\n",
    "    sigma = pm.Uniform(\"sigma\", 0, 10)\n",
    "    bR = pm.Normal(\"bR\", mu=0, sd=1)\n",
    "    bA = pm.Normal(\"bA\", mu=0, sd=1)\n",
    "    bAR = pm.Normal(\"bAR\", mu=0, sd=1)\n",
    "    a = pm.Normal(\"a\", mu=8, sd=100)\n",
    "    mu = pm.Deterministic(\"mu\", a +\\\n",
    "                                bR*model_rugged +\\\n",
    "                                bA*model_cont_africa +\\\n",
    "                                bAR*model_cont_africa*model_rugged)\n",
    "    log_rgdppc_2000 = pm.Normal(\"log_rgdppc_2000\", mu=mu, sd=sigma, observed=rugged_nonch[\"log_rgdppc_2000\"])\n",
    "    trace7h_7 = pm.sample(draws=1000, tune=1000)"
   ]
  },
  {
   "cell_type": "code",
   "execution_count": 55,
   "metadata": {},
   "outputs": [
    {
     "name": "stderr",
     "output_type": "stream",
     "text": [
      "/Users/sgodiwala/anaconda3/lib/python3.6/site-packages/pymc3/stats.py:211: UserWarning: For one or more samples the posterior variance of the\n",
      "        log predictive densities exceeds 0.4. This could be indication of\n",
      "        WAIC starting to fail see http://arxiv.org/abs/1507.04544 for details\n",
      "        \n",
      "  \"\"\")\n"
     ]
    },
    {
     "data": {
      "text/html": [
       "<div>\n",
       "<style scoped>\n",
       "    .dataframe tbody tr th:only-of-type {\n",
       "        vertical-align: middle;\n",
       "    }\n",
       "\n",
       "    .dataframe tbody tr th {\n",
       "        vertical-align: top;\n",
       "    }\n",
       "\n",
       "    .dataframe thead th {\n",
       "        text-align: right;\n",
       "    }\n",
       "</style>\n",
       "<table border=\"1\" class=\"dataframe\">\n",
       "  <thead>\n",
       "    <tr style=\"text-align: right;\">\n",
       "      <th></th>\n",
       "      <th>WAIC</th>\n",
       "      <th>pWAIC</th>\n",
       "      <th>dWAIC</th>\n",
       "      <th>weight</th>\n",
       "      <th>SE</th>\n",
       "      <th>dSE</th>\n",
       "      <th>var_warn</th>\n",
       "    </tr>\n",
       "    <tr>\n",
       "      <th>model</th>\n",
       "      <th></th>\n",
       "      <th></th>\n",
       "      <th></th>\n",
       "      <th></th>\n",
       "      <th></th>\n",
       "      <th></th>\n",
       "      <th></th>\n",
       "    </tr>\n",
       "  </thead>\n",
       "  <tbody>\n",
       "    <tr>\n",
       "      <th>m7h_7</th>\n",
       "      <td>463.06</td>\n",
       "      <td>4.29</td>\n",
       "      <td>0</td>\n",
       "      <td>0.81</td>\n",
       "      <td>14.41</td>\n",
       "      <td>0</td>\n",
       "      <td>1</td>\n",
       "    </tr>\n",
       "    <tr>\n",
       "      <th>m7h_6</th>\n",
       "      <td>465.96</td>\n",
       "      <td>3.75</td>\n",
       "      <td>2.91</td>\n",
       "      <td>0.19</td>\n",
       "      <td>13.73</td>\n",
       "      <td>3.15</td>\n",
       "      <td>0</td>\n",
       "    </tr>\n",
       "    <tr>\n",
       "      <th>m7h_5</th>\n",
       "      <td>536.18</td>\n",
       "      <td>2.64</td>\n",
       "      <td>73.13</td>\n",
       "      <td>0</td>\n",
       "      <td>12.95</td>\n",
       "      <td>14.6</td>\n",
       "      <td>0</td>\n",
       "    </tr>\n",
       "  </tbody>\n",
       "</table>\n",
       "</div>"
      ],
      "text/plain": [
       "         WAIC pWAIC  dWAIC weight     SE   dSE var_warn\n",
       "model                                                  \n",
       "m7h_7  463.06  4.29      0   0.81  14.41     0        1\n",
       "m7h_6  465.96  3.75   2.91   0.19  13.73  3.15        0\n",
       "m7h_5  536.18  2.64  73.13      0  12.95  14.6        0"
      ]
     },
     "execution_count": 55,
     "metadata": {},
     "output_type": "execute_result"
    }
   ],
   "source": [
    "rugged_models = (pm.compare({m7h_5: trace7h_5,\n",
    "                             m7h_6: trace7h_6,\n",
    "                             m7h_7: trace7h_7},\n",
    "                            method='pseudo-BMA')\n",
    "                .join(pd.Series([\"m7h_5\", \"m7h_6\", \"m7h_7\"], name=\"model\"))\n",
    "                .set_index(\"model\")\n",
    "                .sort_values(\"WAIC\"))\n",
    "rugged_models"
   ]
  },
  {
   "cell_type": "code",
   "execution_count": 56,
   "metadata": {},
   "outputs": [],
   "source": [
    "models = {\"m7h_5\": {\"trace\": trace7h_5,\n",
    "                    \"model\": m7h_5,\n",
    "                    \"weight\": rugged_models.loc[\"m7h_5\"][\"weight\"]},\n",
    "          \"m7h_6\": {\"trace\": trace7h_6,\n",
    "                    \"model\": m7h_6,\n",
    "                    \"weight\": rugged_models.loc[\"m7h_6\"][\"weight\"]},\n",
    "          \"m7h_7\": {\"trace\": trace7h_7,\n",
    "                     \"model\": m7h_7,\n",
    "                     \"weight\": rugged_models.loc[\"m7h_7\"][\"weight\"]}}"
   ]
  },
  {
   "cell_type": "code",
   "execution_count": 57,
   "metadata": {},
   "outputs": [
    {
     "name": "stderr",
     "output_type": "stream",
     "text": [
      "0it [00:00, ?it/s]\n",
      "100%|██████████| 1900/1900 [00:00<00:00, 5678.13it/s]\n",
      "100%|██████████| 8100/8100 [00:01<00:00, 6240.67it/s]\n",
      "0it [00:00, ?it/s]\n",
      "100%|██████████| 1900/1900 [00:00<00:00, 7267.36it/s]\n",
      "100%|██████████| 8100/8100 [00:01<00:00, 6679.49it/s]\n"
     ]
    }
   ],
   "source": [
    "num_samples = 10000\n",
    "rugged_seq = np.arange(-1, 8, 0.25)\n",
    "model_rugged.set_value(rugged_seq)\n",
    "\n",
    "model_cont_africa.set_value(np.repeat(0, len(rugged_seq)))\n",
    "acc = []\n",
    "for (_, mdata) in models.items():\n",
    "    pred = pm.sample_ppc(mdata[\"trace\"], \n",
    "                         samples=int(mdata[\"weight\"]*num_samples),\n",
    "                         model=mdata[\"model\"],\n",
    "                         vars=[mdata[\"model\"].mu])\n",
    "    acc.append(pred[\"mu\"])\n",
    "wmu_na = np.vstack(acc)\n",
    "wmu_na_mean = wmu_na.mean(0)\n",
    "wmu_na_pi = pm.hpd(wmu_na, alpha=0.11)\n",
    "\n",
    "model_cont_africa.set_value(np.repeat(1, len(rugged_seq)))\n",
    "acc = []\n",
    "for (_, mdata) in models.items():\n",
    "    pred = pm.sample_ppc(mdata[\"trace\"], \n",
    "                         samples=int(mdata[\"weight\"]*num_samples),\n",
    "                         model=mdata[\"model\"],\n",
    "                         vars=[mdata[\"model\"].mu])\n",
    "    acc.append(pred[\"mu\"])\n",
    "wmu_wa = np.vstack(acc)\n",
    "wmu_wa_mean = wmu_wa.mean(0)\n",
    "wmu_wa_pi = pm.hpd(wmu_wa, alpha=0.11)"
   ]
  },
  {
   "cell_type": "code",
   "execution_count": 58,
   "metadata": {},
   "outputs": [
    {
     "data": {
      "image/png": "[encoded data removed]",
      "text/plain": [
       "<Figure size 972x648 with 1 Axes>"
      ]
     },
     "metadata": {},
     "output_type": "display_data"
    }
   ],
   "source": [
    "f, ax = plt.subplots(1, 1)\n",
    "f.set_size_inches(13.5, 9)\n",
    "\n",
    "ax.plot(rugged_nonch.loc[lambda df: df[\"cont_africa\"] == 0][\"rugged\"], \n",
    "        rugged_nonch.loc[lambda df: df[\"cont_africa\"] == 0][\"log_rgdppc_2000\"], \n",
    "        \"o\", mew=1, mec=\"C0\", mfc=\"None\")\n",
    "ax.plot(rugged_nonch.loc[lambda df: df[\"cont_africa\"] == 1][\"rugged\"], \n",
    "        rugged_nonch.loc[lambda df: df[\"cont_africa\"] == 1][\"log_rgdppc_2000\"], \n",
    "        \"o\", mew=1, mec=\"C1\", mfc=\"None\")\n",
    "ax.plot(rugged_seq, wmu_na_mean, color=\"C0\")\n",
    "ax.plot(rugged_seq, wmu_wa_mean, color=\"C1\")\n",
    "ax.fill_between(rugged_seq, wmu_na_pi[:,0], wmu_na_pi[:,1], alpha=0.25, color=\"C0\")\n",
    "ax.fill_between(rugged_seq, wmu_wa_pi[:,0], wmu_wa_pi[:,1], alpha=0.25, color=\"C1\")\n",
    "ax.set_title(\"Non-African vs African Nations, Weighted Predictions\")\n",
    "ax.set_xlabel(\"Terrain Ruggedness Index\")\n",
    "ax.set_xlim((-1, 7.75))\n",
    "ax.set_ylabel(\"log GDP year 2000\");"
   ]
  },
  {
   "cell_type": "markdown",
   "metadata": {},
   "source": [
    "My inferences haven't changed since the model with the interaction has the highest weight (80%), this implies that the slope of ruggedness to log GDP does depend on continent."
   ]
  },
  {
   "cell_type": "markdown",
   "metadata": {},
   "source": [
    "#### 7H4."
   ]
  },
  {
   "cell_type": "code",
   "execution_count": 59,
   "metadata": {},
   "outputs": [],
   "source": [
    "d = pd.read_csv(\"data/nettle.csv\", sep=\";\")"
   ]
  },
  {
   "cell_type": "markdown",
   "metadata": {},
   "source": [
    "### 7.34"
   ]
  },
  {
   "cell_type": "code",
   "execution_count": 60,
   "metadata": {},
   "outputs": [],
   "source": [
    "d[\"lang.per.cap\"] = d[\"num.lang\"]/d[\"k.pop\"]"
   ]
  },
  {
   "cell_type": "markdown",
   "metadata": {},
   "source": [
    "##### (a)"
   ]
  },
  {
   "cell_type": "code",
   "execution_count": 61,
   "metadata": {},
   "outputs": [],
   "source": [
    "d[\"mean.growing.season_s\"] = (d[\"mean.growing.season\"] - d[\"mean.growing.season\"].mean())/d[\"mean.growing.season\"].std()\n",
    "d[\"log_area\"] = np.log(d[\"area\"])\n",
    "d[\"log_area_s\"] = (d[\"log_area\"] - d[\"log_area\"].mean())/d[\"log_area\"].std()"
   ]
  },
  {
   "cell_type": "code",
   "execution_count": 62,
   "metadata": {},
   "outputs": [
    {
     "name": "stderr",
     "output_type": "stream",
     "text": [
      "Auto-assigning NUTS sampler...\n",
      "Initializing NUTS using jitter+adapt_diag...\n",
      "Multiprocess sampling (2 chains in 2 jobs)\n",
      "NUTS: [a, bA, bM, sigma]\n",
      "Sampling 2 chains: 100%|██████████| 4000/4000 [00:03<00:00, 1193.04draws/s]\n"
     ]
    }
   ],
   "source": [
    "with pm.Model() as m7h_8:\n",
    "    sigma = pm.Uniform(\"sigma\", 0, 10)\n",
    "    bM = pm.Normal(\"bM\", mu=0, sd=1)\n",
    "    bA = pm.Normal(\"bA\", mu=0, sd=1)\n",
    "    a = pm.Normal(\"a\", mu=0, sd=100)\n",
    "    mu = pm.Deterministic(\"mu\", a +\\\n",
    "                                bM*d[\"mean.growing.season_s\"] +\\\n",
    "                                bA*d[\"log_area_s\"])\n",
    "    log_lang_per_cap = pm.Normal(\"log_lang_per_cap\", mu=mu, sd=sigma, \n",
    "                                 observed=np.log(d[\"lang.per.cap\"]))\n",
    "    trace7h_8 = pm.sample(draws=1000, tune=1000)"
   ]
  },
  {
   "cell_type": "code",
   "execution_count": 63,
   "metadata": {},
   "outputs": [
    {
     "data": {
      "text/html": [
       "<div>\n",
       "<style scoped>\n",
       "    .dataframe tbody tr th:only-of-type {\n",
       "        vertical-align: middle;\n",
       "    }\n",
       "\n",
       "    .dataframe tbody tr th {\n",
       "        vertical-align: top;\n",
       "    }\n",
       "\n",
       "    .dataframe thead th {\n",
       "        text-align: right;\n",
       "    }\n",
       "</style>\n",
       "<table border=\"1\" class=\"dataframe\">\n",
       "  <thead>\n",
       "    <tr style=\"text-align: right;\">\n",
       "      <th></th>\n",
       "      <th>mean</th>\n",
       "      <th>sd</th>\n",
       "      <th>mc_error</th>\n",
       "      <th>hpd_5.5</th>\n",
       "      <th>hpd_94.5</th>\n",
       "      <th>n_eff</th>\n",
       "      <th>Rhat</th>\n",
       "    </tr>\n",
       "  </thead>\n",
       "  <tbody>\n",
       "    <tr>\n",
       "      <th>a</th>\n",
       "      <td>-5.455807</td>\n",
       "      <td>0.174250</td>\n",
       "      <td>0.003102</td>\n",
       "      <td>-5.724990</td>\n",
       "      <td>-5.180493</td>\n",
       "      <td>3108.118508</td>\n",
       "      <td>0.999583</td>\n",
       "    </tr>\n",
       "    <tr>\n",
       "      <th>bM</th>\n",
       "      <td>0.440825</td>\n",
       "      <td>0.182439</td>\n",
       "      <td>0.004223</td>\n",
       "      <td>0.143589</td>\n",
       "      <td>0.711513</td>\n",
       "      <td>1934.423968</td>\n",
       "      <td>0.999503</td>\n",
       "    </tr>\n",
       "    <tr>\n",
       "      <th>bA</th>\n",
       "      <td>-0.258537</td>\n",
       "      <td>0.185454</td>\n",
       "      <td>0.003816</td>\n",
       "      <td>-0.565560</td>\n",
       "      <td>0.020741</td>\n",
       "      <td>1962.979976</td>\n",
       "      <td>0.999540</td>\n",
       "    </tr>\n",
       "    <tr>\n",
       "      <th>sigma</th>\n",
       "      <td>1.448175</td>\n",
       "      <td>0.129845</td>\n",
       "      <td>0.002489</td>\n",
       "      <td>1.232914</td>\n",
       "      <td>1.633848</td>\n",
       "      <td>2703.770065</td>\n",
       "      <td>0.999526</td>\n",
       "    </tr>\n",
       "  </tbody>\n",
       "</table>\n",
       "</div>"
      ],
      "text/plain": [
       "           mean        sd  mc_error   hpd_5.5  hpd_94.5        n_eff      Rhat\n",
       "a     -5.455807  0.174250  0.003102 -5.724990 -5.180493  3108.118508  0.999583\n",
       "bM     0.440825  0.182439  0.004223  0.143589  0.711513  1934.423968  0.999503\n",
       "bA    -0.258537  0.185454  0.003816 -0.565560  0.020741  1962.979976  0.999540\n",
       "sigma  1.448175  0.129845  0.002489  1.232914  1.633848  2703.770065  0.999526"
      ]
     },
     "execution_count": 63,
     "metadata": {},
     "output_type": "execute_result"
    }
   ],
   "source": [
    "pm.summary(trace7h_8, varnames=[\"a\", \"bM\", \"bA\", \"sigma\"], alpha=0.11)"
   ]
  },
  {
   "cell_type": "code",
   "execution_count": 64,
   "metadata": {},
   "outputs": [
    {
     "data": {
      "image/png": "[encoded data removed]",
      "text/plain": [
       "<Figure size 972x648 with 1 Axes>"
      ]
     },
     "metadata": {},
     "output_type": "display_data"
    }
   ],
   "source": [
    "f, ax = plt.subplots(1, 1)\n",
    "f.set_size_inches(13.5, 9)\n",
    "data = (pm.summary(trace7h_8, varnames=[\"a\", \"bM\", \"bA\", \"sigma\"], alpha=0.11)\n",
    "        .assign(hpd_minus=lambda df: df[\"mean\"] - df[\"hpd_5.5\"])\n",
    "        .assign(hpd_plus=lambda df: df[\"hpd_94.5\"]- df[\"mean\"]))\n",
    "ax.errorbar(data[\"mean\"], data.index, fmt=\"o\", xerr=data[[\"hpd_minus\", \"hpd_plus\"]].T.values, \n",
    "            mew=1, mfc=\"None\")\n",
    "ax.vlines(0, ymin=-1, ymax=6, alpha=0.2);\n",
    "ax.set_ylim(-0.5, 5.5)\n",
    "ax.invert_yaxis()\n",
    "ax.set_title(\"89% Credible Intervals\");"
   ]
  },
  {
   "cell_type": "markdown",
   "metadata": {},
   "source": [
    "The average length of the growing season does seem to have a positive effect on log(lang.per.cap), log(Area) doesn't seem to have an effect in this model."
   ]
  },
  {
   "cell_type": "markdown",
   "metadata": {},
   "source": [
    "##### (b)"
   ]
  },
  {
   "cell_type": "code",
   "execution_count": 65,
   "metadata": {},
   "outputs": [],
   "source": [
    "d[\"sd.growing.season_s\"] = (d[\"sd.growing.season\"] - d[\"sd.growing.season\"].mean())/d[\"sd.growing.season\"].std()"
   ]
  },
  {
   "cell_type": "code",
   "execution_count": 66,
   "metadata": {},
   "outputs": [
    {
     "name": "stderr",
     "output_type": "stream",
     "text": [
      "Auto-assigning NUTS sampler...\n",
      "Initializing NUTS using jitter+adapt_diag...\n",
      "Multiprocess sampling (2 chains in 2 jobs)\n",
      "NUTS: [a, bA, bS, sigma]\n",
      "Sampling 2 chains: 100%|██████████| 4000/4000 [00:04<00:00, 886.54draws/s] \n"
     ]
    }
   ],
   "source": [
    "with pm.Model() as m7h_9:\n",
    "    sigma = pm.Uniform(\"sigma\", 0, 10)\n",
    "    bS = pm.Normal(\"bS\", mu=0, sd=1)\n",
    "    bA = pm.Normal(\"bA\", mu=0, sd=1)\n",
    "    a = pm.Normal(\"a\", mu=0, sd=100)\n",
    "    mu = pm.Deterministic(\"mu\", a +\\\n",
    "                                bS*d[\"sd.growing.season_s\"] +\\\n",
    "                                bA*d[\"log_area_s\"])\n",
    "    log_lang_per_cap = pm.Normal(\"log_lang_per_cap\", mu=mu, sd=sigma, \n",
    "                                 observed=np.log(d[\"lang.per.cap\"]))\n",
    "    trace7h_9 = pm.sample(draws=1000, tune=1000)"
   ]
  },
  {
   "cell_type": "code",
   "execution_count": 67,
   "metadata": {},
   "outputs": [
    {
     "data": {
      "text/html": [
       "<div>\n",
       "<style scoped>\n",
       "    .dataframe tbody tr th:only-of-type {\n",
       "        vertical-align: middle;\n",
       "    }\n",
       "\n",
       "    .dataframe tbody tr th {\n",
       "        vertical-align: top;\n",
       "    }\n",
       "\n",
       "    .dataframe thead th {\n",
       "        text-align: right;\n",
       "    }\n",
       "</style>\n",
       "<table border=\"1\" class=\"dataframe\">\n",
       "  <thead>\n",
       "    <tr style=\"text-align: right;\">\n",
       "      <th></th>\n",
       "      <th>mean</th>\n",
       "      <th>sd</th>\n",
       "      <th>mc_error</th>\n",
       "      <th>hpd_5.5</th>\n",
       "      <th>hpd_94.5</th>\n",
       "      <th>n_eff</th>\n",
       "      <th>Rhat</th>\n",
       "    </tr>\n",
       "  </thead>\n",
       "  <tbody>\n",
       "    <tr>\n",
       "      <th>a</th>\n",
       "      <td>-5.451461</td>\n",
       "      <td>0.169972</td>\n",
       "      <td>0.003341</td>\n",
       "      <td>-5.738822</td>\n",
       "      <td>-5.194751</td>\n",
       "      <td>2272.900918</td>\n",
       "      <td>1.000089</td>\n",
       "    </tr>\n",
       "    <tr>\n",
       "      <th>bS</th>\n",
       "      <td>-0.216414</td>\n",
       "      <td>0.204740</td>\n",
       "      <td>0.005188</td>\n",
       "      <td>-0.542578</td>\n",
       "      <td>0.104893</td>\n",
       "      <td>1458.058604</td>\n",
       "      <td>1.000048</td>\n",
       "    </tr>\n",
       "    <tr>\n",
       "      <th>bA</th>\n",
       "      <td>-0.299781</td>\n",
       "      <td>0.207029</td>\n",
       "      <td>0.005455</td>\n",
       "      <td>-0.641044</td>\n",
       "      <td>0.023715</td>\n",
       "      <td>1203.365881</td>\n",
       "      <td>0.999602</td>\n",
       "    </tr>\n",
       "    <tr>\n",
       "      <th>sigma</th>\n",
       "      <td>1.498894</td>\n",
       "      <td>0.131112</td>\n",
       "      <td>0.003043</td>\n",
       "      <td>1.291215</td>\n",
       "      <td>1.699495</td>\n",
       "      <td>1824.062210</td>\n",
       "      <td>0.999644</td>\n",
       "    </tr>\n",
       "  </tbody>\n",
       "</table>\n",
       "</div>"
      ],
      "text/plain": [
       "           mean        sd  mc_error   hpd_5.5  hpd_94.5        n_eff      Rhat\n",
       "a     -5.451461  0.169972  0.003341 -5.738822 -5.194751  2272.900918  1.000089\n",
       "bS    -0.216414  0.204740  0.005188 -0.542578  0.104893  1458.058604  1.000048\n",
       "bA    -0.299781  0.207029  0.005455 -0.641044  0.023715  1203.365881  0.999602\n",
       "sigma  1.498894  0.131112  0.003043  1.291215  1.699495  1824.062210  0.999644"
      ]
     },
     "execution_count": 67,
     "metadata": {},
     "output_type": "execute_result"
    }
   ],
   "source": [
    "pm.summary(trace7h_9, varnames=[\"a\", \"bS\", \"bA\", \"sigma\"], alpha=0.11)"
   ]
  },
  {
   "cell_type": "code",
   "execution_count": 68,
   "metadata": {},
   "outputs": [
    {
     "data": {
      "image/png": "[encoded data removed]",
      "text/plain": [
       "<Figure size 972x648 with 1 Axes>"
      ]
     },
     "metadata": {},
     "output_type": "display_data"
    }
   ],
   "source": [
    "f, ax = plt.subplots(1, 1)\n",
    "f.set_size_inches(13.5, 9)\n",
    "data = (pm.summary(trace7h_9, varnames=[\"a\", \"bS\", \"bA\", \"sigma\"], alpha=0.11)\n",
    "        .assign(hpd_minus=lambda df: df[\"mean\"] - df[\"hpd_5.5\"])\n",
    "        .assign(hpd_plus=lambda df: df[\"hpd_94.5\"]- df[\"mean\"]))\n",
    "ax.errorbar(data[\"mean\"], data.index, fmt=\"o\", xerr=data[[\"hpd_minus\", \"hpd_plus\"]].T.values, \n",
    "            mew=1, mfc=\"None\")\n",
    "ax.vlines(0, ymin=-1, ymax=6, alpha=0.2);\n",
    "ax.set_ylim(-0.5, 5.5)\n",
    "ax.invert_yaxis()\n",
    "ax.set_title(\"89% Credible Intervals\");"
   ]
  },
  {
   "cell_type": "markdown",
   "metadata": {},
   "source": [
    "The standard deviation of the growing season does not seem to have an effect on log(lang.per.cap), log(Area) doesn't seem to have an effect in this model either."
   ]
  },
  {
   "cell_type": "markdown",
   "metadata": {},
   "source": [
    "##### (c)"
   ]
  },
  {
   "cell_type": "code",
   "execution_count": 69,
   "metadata": {},
   "outputs": [],
   "source": [
    "model_mg_s = theano.shared(d[\"mean.growing.season_s\"].values)\n",
    "model_sg_s = theano.shared(d[\"sd.growing.season_s\"].values)\n",
    "model_a_s = theano.shared(d[\"log_area_s\"].values)"
   ]
  },
  {
   "cell_type": "code",
   "execution_count": 70,
   "metadata": {},
   "outputs": [
    {
     "name": "stderr",
     "output_type": "stream",
     "text": [
      "Auto-assigning NUTS sampler...\n",
      "Initializing NUTS using jitter+adapt_diag...\n",
      "Multiprocess sampling (2 chains in 2 jobs)\n",
      "NUTS: [a, bA, bMS, bS, bM, sigma]\n",
      "Sampling 2 chains: 100%|██████████| 4000/4000 [00:05<00:00, 758.63draws/s] \n"
     ]
    }
   ],
   "source": [
    "with pm.Model() as m7h_10:\n",
    "    sigma = pm.Uniform(\"sigma\", 0, 10)\n",
    "    bM = pm.Normal(\"bM\", mu=0, sd=1)\n",
    "    bS = pm.Normal(\"bS\", mu=0, sd=1)\n",
    "    bMS = pm.Normal(\"bMS\", mu=0, sd=1)\n",
    "    bA = pm.Normal(\"bA\", mu=0, sd=1)\n",
    "    a = pm.Normal(\"a\", mu=0, sd=100)\n",
    "    mu = pm.Deterministic(\"mu\", a +\\\n",
    "                                bM*model_mg_s +\\\n",
    "                                bS*model_sg_s +\\\n",
    "                                bMS*model_mg_s*model_sg_s +\\\n",
    "                                bA*model_a_s)\n",
    "    log_lang_per_cap = pm.Normal(\"log_lang_per_cap\", mu=mu, sd=sigma, \n",
    "                                 observed=np.log(d[\"lang.per.cap\"]))\n",
    "    trace7h_10 = pm.sample(draws=1000, tune=1000)"
   ]
  },
  {
   "cell_type": "code",
   "execution_count": 71,
   "metadata": {},
   "outputs": [
    {
     "name": "stderr",
     "output_type": "stream",
     "text": [
      "100%|██████████| 10000/10000 [00:01<00:00, 5724.76it/s]\n",
      "100%|██████████| 10000/10000 [00:01<00:00, 5705.36it/s]\n",
      "100%|██████████| 10000/10000 [00:01<00:00, 5618.67it/s]\n"
     ]
    },
    {
     "data": {
      "image/png": "[encoded data removed]",
      "text/plain": [
       "<Figure size 1908x648 with 3 Axes>"
      ]
     },
     "metadata": {},
     "output_type": "display_data"
    }
   ],
   "source": [
    "f, axs = plt.subplots(1, 3, sharey=True)\n",
    "f.set_size_inches(26.5, 9)\n",
    "f.suptitle(\"The effect of Mean Growing Season on log(lang.per.cap)\")\n",
    "\n",
    "mg_seq = np.linspace(-3, 3, 100)\n",
    "model_mg_s.set_value(mg_seq)\n",
    "model_a_s.set_value(np.repeat(0, 100))\n",
    "\n",
    "for (sg, ax) in zip([-3, 0, 3], axs):\n",
    "    model_sg_s.set_value(np.repeat(sg, 100))\n",
    "    mu = pm.sample_ppc(trace7h_10, samples=10000, model=m7h_10, vars=[m7h_10.mu])[\"mu\"]\n",
    "    mu_mean = mu.mean(0)\n",
    "    mu_pi = pm.hpd(mu, alpha=0.11)\n",
    "    ax.plot(mg_seq, mu_mean, color=\"C0\")\n",
    "    ax.fill_between(mg_seq, mu_pi[:,0], mu_pi[:,1], alpha=0.25, color=\"C0\")\n",
    "    ax.set_title(\"sd.growing.season_s = {}\".format(sg))\n",
    "    ax.set_xlabel(\"mean.growing.season_s\")\n",
    "    ax.set_ylabel(\"log(lang.per.cap)\");"
   ]
  },
  {
   "cell_type": "markdown",
   "metadata": {},
   "source": [
    "It does look like there's a strong interaction effect between mean.growing.season and sd.growing.season with the effect reversing diretion at differet values of sd.growing.season"
   ]
  }
 ],
 "metadata": {
  "kernelspec": {
   "display_name": "Python 3",
   "language": "python",
   "name": "python3"
  },
  "language_info": {
   "codemirror_mode": {
    "name": "ipython",
    "version": 3
   },
   "file_extension": ".py",
   "mimetype": "text/x-python",
   "name": "python",
   "nbconvert_exporter": "python",
   "pygments_lexer": "ipython3",
   "version": "3.6.5"
  }
 },
 "nbformat": 4,
 "nbformat_minor": 2
}
